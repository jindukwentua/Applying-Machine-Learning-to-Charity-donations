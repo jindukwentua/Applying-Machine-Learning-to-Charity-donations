{
 "cells": [
  {
   "cell_type": "code",
   "execution_count": 1,
   "source": [
    "#Import the required libraries\r\n",
    "import pandas as pd\r\n",
    "from pandas import DataFrame\r\n",
    "import numpy as np\r\n",
    "import seaborn as sns\r\n",
    "import matplotlib.pyplot as plt\r\n",
    "\r\n",
    "from sklearn.preprocessing import LabelEncoder, OneHotEncoder, scale, StandardScaler\r\n",
    "from sklearn.linear_model import LinearRegression, RidgeCV, LassoCV, Ridge, Lasso\r\n",
    "from sklearn import preprocessing\r\n",
    "from sklearn import linear_model\r\n",
    "from sklearn.metrics import mean_squared_error, r2_score\r\n",
    "from sklearn.model_selection import cross_val_score\r\n"
   ],
   "outputs": [],
   "metadata": {}
  },
  {
   "cell_type": "code",
   "execution_count": 2,
   "source": [
    "train_data = pd.read_csv('../notebook/cleaned_data_for_regression.csv')\r\n",
    "test_data = pd.read_csv('../notebook/cleaned_test_data.csv')"
   ],
   "outputs": [],
   "metadata": {}
  },
  {
   "cell_type": "code",
   "execution_count": 3,
   "source": [
    "train_data.head()"
   ],
   "outputs": [
    {
     "output_type": "execute_result",
     "data": {
      "text/plain": [
       "   Unnamed: 0  amount_donated  control_number  months_since_origin  donor_age  \\\n",
       "0           0             0.0               5                  101       87.0   \n",
       "1           1            10.0              12                  137       79.0   \n",
       "2           2             0.0              37                  113       75.0   \n",
       "3           3             0.0              38                   92       60.0   \n",
       "4           4             0.0              41                  101       74.0   \n",
       "\n",
       "   in_house urbanicity  ses  cluster_code home_owner  ... lifetime_gift_range  \\\n",
       "0         0          X    5            54          H  ...                15.0   \n",
       "1         0          R    2            45          H  ...                20.0   \n",
       "2         0          S    1            11          H  ...                23.0   \n",
       "3         0          U    2             4          H  ...                14.0   \n",
       "4         0          R    2            49          U  ...                20.0   \n",
       "\n",
       "   lifetime_max_gift_amt  lifetime_min_gift_amt last_gift_amt  card_prom_12  \\\n",
       "0                   20.0                    5.0          15.0             5   \n",
       "1                   25.0                    5.0          17.0             7   \n",
       "2                   28.0                    5.0          19.0            11   \n",
       "3                   17.0                    3.0          15.0            11   \n",
       "4                   25.0                    5.0          25.0             6   \n",
       "\n",
       "   number_prom_12  months_since_last_gift  months_since_first_gift  \\\n",
       "0              12                      26                       92   \n",
       "1              21                       7                      122   \n",
       "2              32                       6                      105   \n",
       "3              33                       6                       92   \n",
       "4              19                      18                       92   \n",
       "\n",
       "   file_avg_gift  file_card_gift  \n",
       "0           8.49               7  \n",
       "1          14.72              12  \n",
       "2          16.75              16  \n",
       "3          11.76              12  \n",
       "4           8.83               3  \n",
       "\n",
       "[5 rows x 50 columns]"
      ],
      "text/html": [
       "<div>\n",
       "<style scoped>\n",
       "    .dataframe tbody tr th:only-of-type {\n",
       "        vertical-align: middle;\n",
       "    }\n",
       "\n",
       "    .dataframe tbody tr th {\n",
       "        vertical-align: top;\n",
       "    }\n",
       "\n",
       "    .dataframe thead th {\n",
       "        text-align: right;\n",
       "    }\n",
       "</style>\n",
       "<table border=\"1\" class=\"dataframe\">\n",
       "  <thead>\n",
       "    <tr style=\"text-align: right;\">\n",
       "      <th></th>\n",
       "      <th>Unnamed: 0</th>\n",
       "      <th>amount_donated</th>\n",
       "      <th>control_number</th>\n",
       "      <th>months_since_origin</th>\n",
       "      <th>donor_age</th>\n",
       "      <th>in_house</th>\n",
       "      <th>urbanicity</th>\n",
       "      <th>ses</th>\n",
       "      <th>cluster_code</th>\n",
       "      <th>home_owner</th>\n",
       "      <th>...</th>\n",
       "      <th>lifetime_gift_range</th>\n",
       "      <th>lifetime_max_gift_amt</th>\n",
       "      <th>lifetime_min_gift_amt</th>\n",
       "      <th>last_gift_amt</th>\n",
       "      <th>card_prom_12</th>\n",
       "      <th>number_prom_12</th>\n",
       "      <th>months_since_last_gift</th>\n",
       "      <th>months_since_first_gift</th>\n",
       "      <th>file_avg_gift</th>\n",
       "      <th>file_card_gift</th>\n",
       "    </tr>\n",
       "  </thead>\n",
       "  <tbody>\n",
       "    <tr>\n",
       "      <th>0</th>\n",
       "      <td>0</td>\n",
       "      <td>0.0</td>\n",
       "      <td>5</td>\n",
       "      <td>101</td>\n",
       "      <td>87.0</td>\n",
       "      <td>0</td>\n",
       "      <td>X</td>\n",
       "      <td>5</td>\n",
       "      <td>54</td>\n",
       "      <td>H</td>\n",
       "      <td>...</td>\n",
       "      <td>15.0</td>\n",
       "      <td>20.0</td>\n",
       "      <td>5.0</td>\n",
       "      <td>15.0</td>\n",
       "      <td>5</td>\n",
       "      <td>12</td>\n",
       "      <td>26</td>\n",
       "      <td>92</td>\n",
       "      <td>8.49</td>\n",
       "      <td>7</td>\n",
       "    </tr>\n",
       "    <tr>\n",
       "      <th>1</th>\n",
       "      <td>1</td>\n",
       "      <td>10.0</td>\n",
       "      <td>12</td>\n",
       "      <td>137</td>\n",
       "      <td>79.0</td>\n",
       "      <td>0</td>\n",
       "      <td>R</td>\n",
       "      <td>2</td>\n",
       "      <td>45</td>\n",
       "      <td>H</td>\n",
       "      <td>...</td>\n",
       "      <td>20.0</td>\n",
       "      <td>25.0</td>\n",
       "      <td>5.0</td>\n",
       "      <td>17.0</td>\n",
       "      <td>7</td>\n",
       "      <td>21</td>\n",
       "      <td>7</td>\n",
       "      <td>122</td>\n",
       "      <td>14.72</td>\n",
       "      <td>12</td>\n",
       "    </tr>\n",
       "    <tr>\n",
       "      <th>2</th>\n",
       "      <td>2</td>\n",
       "      <td>0.0</td>\n",
       "      <td>37</td>\n",
       "      <td>113</td>\n",
       "      <td>75.0</td>\n",
       "      <td>0</td>\n",
       "      <td>S</td>\n",
       "      <td>1</td>\n",
       "      <td>11</td>\n",
       "      <td>H</td>\n",
       "      <td>...</td>\n",
       "      <td>23.0</td>\n",
       "      <td>28.0</td>\n",
       "      <td>5.0</td>\n",
       "      <td>19.0</td>\n",
       "      <td>11</td>\n",
       "      <td>32</td>\n",
       "      <td>6</td>\n",
       "      <td>105</td>\n",
       "      <td>16.75</td>\n",
       "      <td>16</td>\n",
       "    </tr>\n",
       "    <tr>\n",
       "      <th>3</th>\n",
       "      <td>3</td>\n",
       "      <td>0.0</td>\n",
       "      <td>38</td>\n",
       "      <td>92</td>\n",
       "      <td>60.0</td>\n",
       "      <td>0</td>\n",
       "      <td>U</td>\n",
       "      <td>2</td>\n",
       "      <td>4</td>\n",
       "      <td>H</td>\n",
       "      <td>...</td>\n",
       "      <td>14.0</td>\n",
       "      <td>17.0</td>\n",
       "      <td>3.0</td>\n",
       "      <td>15.0</td>\n",
       "      <td>11</td>\n",
       "      <td>33</td>\n",
       "      <td>6</td>\n",
       "      <td>92</td>\n",
       "      <td>11.76</td>\n",
       "      <td>12</td>\n",
       "    </tr>\n",
       "    <tr>\n",
       "      <th>4</th>\n",
       "      <td>4</td>\n",
       "      <td>0.0</td>\n",
       "      <td>41</td>\n",
       "      <td>101</td>\n",
       "      <td>74.0</td>\n",
       "      <td>0</td>\n",
       "      <td>R</td>\n",
       "      <td>2</td>\n",
       "      <td>49</td>\n",
       "      <td>U</td>\n",
       "      <td>...</td>\n",
       "      <td>20.0</td>\n",
       "      <td>25.0</td>\n",
       "      <td>5.0</td>\n",
       "      <td>25.0</td>\n",
       "      <td>6</td>\n",
       "      <td>19</td>\n",
       "      <td>18</td>\n",
       "      <td>92</td>\n",
       "      <td>8.83</td>\n",
       "      <td>3</td>\n",
       "    </tr>\n",
       "  </tbody>\n",
       "</table>\n",
       "<p>5 rows × 50 columns</p>\n",
       "</div>"
      ]
     },
     "metadata": {},
     "execution_count": 3
    }
   ],
   "metadata": {}
  },
  {
   "cell_type": "code",
   "execution_count": 4,
   "source": [
    "test_data"
   ],
   "outputs": [
    {
     "output_type": "execute_result",
     "data": {
      "text/plain": [
       "      Unnamed: 0  control_number  months_since_origin  donor_age  in_house  \\\n",
       "0              0             139                  101       59.0         0   \n",
       "1              1             142                  137       59.0         0   \n",
       "2              2             282                   17       30.0         0   \n",
       "3              3             368                  137       75.0         0   \n",
       "4              4             387                    5       59.0         0   \n",
       "...          ...             ...                  ...        ...       ...   \n",
       "2143        2143          190842                  101       47.0         1   \n",
       "2144        2144          191056                   41       17.0         1   \n",
       "2145        2145          191164                   89       55.0         0   \n",
       "2146        2146          191484                   65       42.0         1   \n",
       "2147        2147          191710                  137       77.0         1   \n",
       "\n",
       "     urbanicity  ses  cluster_code home_owner donor_gender  ...  \\\n",
       "0             R    2            46          U            F  ...   \n",
       "1             R    2            43          U            F  ...   \n",
       "2             T    1            35          H            M  ...   \n",
       "3             U    1             2          H            M  ...   \n",
       "4             T    2            40          U            F  ...   \n",
       "...         ...  ...           ...        ...          ...  ...   \n",
       "2143          C    1            24          U            F  ...   \n",
       "2144          U    1             1          U            M  ...   \n",
       "2145          X    5            54          U            F  ...   \n",
       "2146          X    5            54          U            F  ...   \n",
       "2147          C    1            24          H            F  ...   \n",
       "\n",
       "      lifetime_gift_range  lifetime_max_gift_amt lifetime_min_gift_amt  \\\n",
       "0                    16.0                   21.0                   5.0   \n",
       "1                     9.0                   11.0                   2.0   \n",
       "2                    15.0                   20.0                   5.0   \n",
       "3                     5.0                   10.0                   5.0   \n",
       "4                     7.0                   10.0                   3.0   \n",
       "...                   ...                    ...                   ...   \n",
       "2143                 16.0                   17.0                   1.0   \n",
       "2144                 24.0                   44.0                  20.0   \n",
       "2145                  9.0                   12.0                   3.0   \n",
       "2146                  5.0                   20.0                  15.0   \n",
       "2147                  9.0                   10.0                   1.0   \n",
       "\n",
       "      last_gift_amt  card_prom_12  number_prom_12  months_since_last_gift  \\\n",
       "0              21.0             4              10                      26   \n",
       "1              10.0             9              22                      22   \n",
       "2              20.0             5              14                      20   \n",
       "3              10.0            10              24                      19   \n",
       "4               5.0             5              12                      18   \n",
       "...             ...           ...             ...                     ...   \n",
       "2143           17.0             5              10                      26   \n",
       "2144           32.0             5              18                      26   \n",
       "2145           10.0             6              13                      18   \n",
       "2146           20.0             6              13                      18   \n",
       "2147           10.0             6              13                      21   \n",
       "\n",
       "      months_since_first_gift  file_avg_gift  file_card_gift  \n",
       "0                          90          14.71               2  \n",
       "1                         129           6.00              14  \n",
       "2                          87           8.44               1  \n",
       "3                         129           6.50              22  \n",
       "4                          85           5.83               2  \n",
       "...                       ...            ...             ...  \n",
       "2143                      101          11.44               7  \n",
       "2144                       44          28.83               2  \n",
       "2145                       81           8.41               8  \n",
       "2146                       56          18.33               1  \n",
       "2147                      130           7.81              13  \n",
       "\n",
       "[2148 rows x 49 columns]"
      ],
      "text/html": [
       "<div>\n",
       "<style scoped>\n",
       "    .dataframe tbody tr th:only-of-type {\n",
       "        vertical-align: middle;\n",
       "    }\n",
       "\n",
       "    .dataframe tbody tr th {\n",
       "        vertical-align: top;\n",
       "    }\n",
       "\n",
       "    .dataframe thead th {\n",
       "        text-align: right;\n",
       "    }\n",
       "</style>\n",
       "<table border=\"1\" class=\"dataframe\">\n",
       "  <thead>\n",
       "    <tr style=\"text-align: right;\">\n",
       "      <th></th>\n",
       "      <th>Unnamed: 0</th>\n",
       "      <th>control_number</th>\n",
       "      <th>months_since_origin</th>\n",
       "      <th>donor_age</th>\n",
       "      <th>in_house</th>\n",
       "      <th>urbanicity</th>\n",
       "      <th>ses</th>\n",
       "      <th>cluster_code</th>\n",
       "      <th>home_owner</th>\n",
       "      <th>donor_gender</th>\n",
       "      <th>...</th>\n",
       "      <th>lifetime_gift_range</th>\n",
       "      <th>lifetime_max_gift_amt</th>\n",
       "      <th>lifetime_min_gift_amt</th>\n",
       "      <th>last_gift_amt</th>\n",
       "      <th>card_prom_12</th>\n",
       "      <th>number_prom_12</th>\n",
       "      <th>months_since_last_gift</th>\n",
       "      <th>months_since_first_gift</th>\n",
       "      <th>file_avg_gift</th>\n",
       "      <th>file_card_gift</th>\n",
       "    </tr>\n",
       "  </thead>\n",
       "  <tbody>\n",
       "    <tr>\n",
       "      <th>0</th>\n",
       "      <td>0</td>\n",
       "      <td>139</td>\n",
       "      <td>101</td>\n",
       "      <td>59.0</td>\n",
       "      <td>0</td>\n",
       "      <td>R</td>\n",
       "      <td>2</td>\n",
       "      <td>46</td>\n",
       "      <td>U</td>\n",
       "      <td>F</td>\n",
       "      <td>...</td>\n",
       "      <td>16.0</td>\n",
       "      <td>21.0</td>\n",
       "      <td>5.0</td>\n",
       "      <td>21.0</td>\n",
       "      <td>4</td>\n",
       "      <td>10</td>\n",
       "      <td>26</td>\n",
       "      <td>90</td>\n",
       "      <td>14.71</td>\n",
       "      <td>2</td>\n",
       "    </tr>\n",
       "    <tr>\n",
       "      <th>1</th>\n",
       "      <td>1</td>\n",
       "      <td>142</td>\n",
       "      <td>137</td>\n",
       "      <td>59.0</td>\n",
       "      <td>0</td>\n",
       "      <td>R</td>\n",
       "      <td>2</td>\n",
       "      <td>43</td>\n",
       "      <td>U</td>\n",
       "      <td>F</td>\n",
       "      <td>...</td>\n",
       "      <td>9.0</td>\n",
       "      <td>11.0</td>\n",
       "      <td>2.0</td>\n",
       "      <td>10.0</td>\n",
       "      <td>9</td>\n",
       "      <td>22</td>\n",
       "      <td>22</td>\n",
       "      <td>129</td>\n",
       "      <td>6.00</td>\n",
       "      <td>14</td>\n",
       "    </tr>\n",
       "    <tr>\n",
       "      <th>2</th>\n",
       "      <td>2</td>\n",
       "      <td>282</td>\n",
       "      <td>17</td>\n",
       "      <td>30.0</td>\n",
       "      <td>0</td>\n",
       "      <td>T</td>\n",
       "      <td>1</td>\n",
       "      <td>35</td>\n",
       "      <td>H</td>\n",
       "      <td>M</td>\n",
       "      <td>...</td>\n",
       "      <td>15.0</td>\n",
       "      <td>20.0</td>\n",
       "      <td>5.0</td>\n",
       "      <td>20.0</td>\n",
       "      <td>5</td>\n",
       "      <td>14</td>\n",
       "      <td>20</td>\n",
       "      <td>87</td>\n",
       "      <td>8.44</td>\n",
       "      <td>1</td>\n",
       "    </tr>\n",
       "    <tr>\n",
       "      <th>3</th>\n",
       "      <td>3</td>\n",
       "      <td>368</td>\n",
       "      <td>137</td>\n",
       "      <td>75.0</td>\n",
       "      <td>0</td>\n",
       "      <td>U</td>\n",
       "      <td>1</td>\n",
       "      <td>2</td>\n",
       "      <td>H</td>\n",
       "      <td>M</td>\n",
       "      <td>...</td>\n",
       "      <td>5.0</td>\n",
       "      <td>10.0</td>\n",
       "      <td>5.0</td>\n",
       "      <td>10.0</td>\n",
       "      <td>10</td>\n",
       "      <td>24</td>\n",
       "      <td>19</td>\n",
       "      <td>129</td>\n",
       "      <td>6.50</td>\n",
       "      <td>22</td>\n",
       "    </tr>\n",
       "    <tr>\n",
       "      <th>4</th>\n",
       "      <td>4</td>\n",
       "      <td>387</td>\n",
       "      <td>5</td>\n",
       "      <td>59.0</td>\n",
       "      <td>0</td>\n",
       "      <td>T</td>\n",
       "      <td>2</td>\n",
       "      <td>40</td>\n",
       "      <td>U</td>\n",
       "      <td>F</td>\n",
       "      <td>...</td>\n",
       "      <td>7.0</td>\n",
       "      <td>10.0</td>\n",
       "      <td>3.0</td>\n",
       "      <td>5.0</td>\n",
       "      <td>5</td>\n",
       "      <td>12</td>\n",
       "      <td>18</td>\n",
       "      <td>85</td>\n",
       "      <td>5.83</td>\n",
       "      <td>2</td>\n",
       "    </tr>\n",
       "    <tr>\n",
       "      <th>...</th>\n",
       "      <td>...</td>\n",
       "      <td>...</td>\n",
       "      <td>...</td>\n",
       "      <td>...</td>\n",
       "      <td>...</td>\n",
       "      <td>...</td>\n",
       "      <td>...</td>\n",
       "      <td>...</td>\n",
       "      <td>...</td>\n",
       "      <td>...</td>\n",
       "      <td>...</td>\n",
       "      <td>...</td>\n",
       "      <td>...</td>\n",
       "      <td>...</td>\n",
       "      <td>...</td>\n",
       "      <td>...</td>\n",
       "      <td>...</td>\n",
       "      <td>...</td>\n",
       "      <td>...</td>\n",
       "      <td>...</td>\n",
       "      <td>...</td>\n",
       "    </tr>\n",
       "    <tr>\n",
       "      <th>2143</th>\n",
       "      <td>2143</td>\n",
       "      <td>190842</td>\n",
       "      <td>101</td>\n",
       "      <td>47.0</td>\n",
       "      <td>1</td>\n",
       "      <td>C</td>\n",
       "      <td>1</td>\n",
       "      <td>24</td>\n",
       "      <td>U</td>\n",
       "      <td>F</td>\n",
       "      <td>...</td>\n",
       "      <td>16.0</td>\n",
       "      <td>17.0</td>\n",
       "      <td>1.0</td>\n",
       "      <td>17.0</td>\n",
       "      <td>5</td>\n",
       "      <td>10</td>\n",
       "      <td>26</td>\n",
       "      <td>101</td>\n",
       "      <td>11.44</td>\n",
       "      <td>7</td>\n",
       "    </tr>\n",
       "    <tr>\n",
       "      <th>2144</th>\n",
       "      <td>2144</td>\n",
       "      <td>191056</td>\n",
       "      <td>41</td>\n",
       "      <td>17.0</td>\n",
       "      <td>1</td>\n",
       "      <td>U</td>\n",
       "      <td>1</td>\n",
       "      <td>1</td>\n",
       "      <td>U</td>\n",
       "      <td>M</td>\n",
       "      <td>...</td>\n",
       "      <td>24.0</td>\n",
       "      <td>44.0</td>\n",
       "      <td>20.0</td>\n",
       "      <td>32.0</td>\n",
       "      <td>5</td>\n",
       "      <td>18</td>\n",
       "      <td>26</td>\n",
       "      <td>44</td>\n",
       "      <td>28.83</td>\n",
       "      <td>2</td>\n",
       "    </tr>\n",
       "    <tr>\n",
       "      <th>2145</th>\n",
       "      <td>2145</td>\n",
       "      <td>191164</td>\n",
       "      <td>89</td>\n",
       "      <td>55.0</td>\n",
       "      <td>0</td>\n",
       "      <td>X</td>\n",
       "      <td>5</td>\n",
       "      <td>54</td>\n",
       "      <td>U</td>\n",
       "      <td>F</td>\n",
       "      <td>...</td>\n",
       "      <td>9.0</td>\n",
       "      <td>12.0</td>\n",
       "      <td>3.0</td>\n",
       "      <td>10.0</td>\n",
       "      <td>6</td>\n",
       "      <td>13</td>\n",
       "      <td>18</td>\n",
       "      <td>81</td>\n",
       "      <td>8.41</td>\n",
       "      <td>8</td>\n",
       "    </tr>\n",
       "    <tr>\n",
       "      <th>2146</th>\n",
       "      <td>2146</td>\n",
       "      <td>191484</td>\n",
       "      <td>65</td>\n",
       "      <td>42.0</td>\n",
       "      <td>1</td>\n",
       "      <td>X</td>\n",
       "      <td>5</td>\n",
       "      <td>54</td>\n",
       "      <td>U</td>\n",
       "      <td>F</td>\n",
       "      <td>...</td>\n",
       "      <td>5.0</td>\n",
       "      <td>20.0</td>\n",
       "      <td>15.0</td>\n",
       "      <td>20.0</td>\n",
       "      <td>6</td>\n",
       "      <td>13</td>\n",
       "      <td>18</td>\n",
       "      <td>56</td>\n",
       "      <td>18.33</td>\n",
       "      <td>1</td>\n",
       "    </tr>\n",
       "    <tr>\n",
       "      <th>2147</th>\n",
       "      <td>2147</td>\n",
       "      <td>191710</td>\n",
       "      <td>137</td>\n",
       "      <td>77.0</td>\n",
       "      <td>1</td>\n",
       "      <td>C</td>\n",
       "      <td>1</td>\n",
       "      <td>24</td>\n",
       "      <td>H</td>\n",
       "      <td>F</td>\n",
       "      <td>...</td>\n",
       "      <td>9.0</td>\n",
       "      <td>10.0</td>\n",
       "      <td>1.0</td>\n",
       "      <td>10.0</td>\n",
       "      <td>6</td>\n",
       "      <td>13</td>\n",
       "      <td>21</td>\n",
       "      <td>130</td>\n",
       "      <td>7.81</td>\n",
       "      <td>13</td>\n",
       "    </tr>\n",
       "  </tbody>\n",
       "</table>\n",
       "<p>2148 rows × 49 columns</p>\n",
       "</div>"
      ]
     },
     "metadata": {},
     "execution_count": 4
    }
   ],
   "metadata": {}
  },
  {
   "cell_type": "code",
   "execution_count": 5,
   "source": [
    "def drop_column(column_name, data):\r\n",
    "    dropped_data = data.drop([column_name], axis = 1) \r\n",
    "    return dropped_data"
   ],
   "outputs": [],
   "metadata": {}
  },
  {
   "cell_type": "code",
   "execution_count": 6,
   "source": [
    "train_control_no = train_data.control_number\r\n",
    "train_data = drop_column('control_number',train_data)\r\n",
    "test_control_no = test_data.control_number\r\n",
    "test_data = drop_column('control_number',test_data)"
   ],
   "outputs": [],
   "metadata": {}
  },
  {
   "cell_type": "code",
   "execution_count": 7,
   "source": [
    "train_data.info()"
   ],
   "outputs": [
    {
     "output_type": "stream",
     "name": "stdout",
     "text": [
      "<class 'pandas.core.frame.DataFrame'>\n",
      "RangeIndex: 19372 entries, 0 to 19371\n",
      "Data columns (total 49 columns):\n",
      " #   Column                       Non-Null Count  Dtype  \n",
      "---  ------                       --------------  -----  \n",
      " 0   Unnamed: 0                   19372 non-null  int64  \n",
      " 1   amount_donated               19372 non-null  float64\n",
      " 2   months_since_origin          19372 non-null  int64  \n",
      " 3   donor_age                    19372 non-null  float64\n",
      " 4   in_house                     19372 non-null  int64  \n",
      " 5   urbanicity                   19372 non-null  object \n",
      " 6   ses                          19372 non-null  int64  \n",
      " 7   cluster_code                 19372 non-null  int64  \n",
      " 8   home_owner                   19372 non-null  object \n",
      " 9   donor_gender                 19372 non-null  object \n",
      " 10  income_group                 19372 non-null  float64\n",
      " 11  published_phone              19372 non-null  int64  \n",
      " 12  overlay_source               19372 non-null  object \n",
      " 13  mor_hit_rate                 19372 non-null  int64  \n",
      " 14  wealth_rating                19372 non-null  float64\n",
      " 15  median_home_value            19372 non-null  int64  \n",
      " 16  median_household_income      19372 non-null  int64  \n",
      " 17  pct_owner_occupied           19372 non-null  int64  \n",
      " 18  per_capita_income            19372 non-null  int64  \n",
      " 19  pct_attribute1               19372 non-null  int64  \n",
      " 20  pct_attribute2               19372 non-null  int64  \n",
      " 21  pct_attribute3               19372 non-null  int64  \n",
      " 22  pct_attribute4               19372 non-null  int64  \n",
      " 23  pep_star                     19372 non-null  int64  \n",
      " 24  recent_star_status           19372 non-null  int64  \n",
      " 25  recency_status_96nk          19372 non-null  object \n",
      " 26  frequency_status_97nk        19372 non-null  int64  \n",
      " 27  recent_response_prop         19372 non-null  float64\n",
      " 28  recent_avg_gift_amt          19372 non-null  float64\n",
      " 29  recent_card_response_prop    19372 non-null  float64\n",
      " 30  recent_avg_card_gift_amt     19372 non-null  float64\n",
      " 31  recent_response_count        19372 non-null  int64  \n",
      " 32  recent_card_response_count   19372 non-null  int64  \n",
      " 33  months_since_last_prom_resp  19372 non-null  float64\n",
      " 34  lifetime_card_prom           19372 non-null  int64  \n",
      " 35  lifetime_prom                19372 non-null  int64  \n",
      " 36  lifetime_gift_amount         19372 non-null  float64\n",
      " 37  lifetime_gift_count          19372 non-null  int64  \n",
      " 38  lifetime_avg_gift_amt        19372 non-null  float64\n",
      " 39  lifetime_gift_range          19372 non-null  float64\n",
      " 40  lifetime_max_gift_amt        19372 non-null  float64\n",
      " 41  lifetime_min_gift_amt        19372 non-null  float64\n",
      " 42  last_gift_amt                19372 non-null  float64\n",
      " 43  card_prom_12                 19372 non-null  int64  \n",
      " 44  number_prom_12               19372 non-null  int64  \n",
      " 45  months_since_last_gift       19372 non-null  int64  \n",
      " 46  months_since_first_gift      19372 non-null  int64  \n",
      " 47  file_avg_gift                19372 non-null  float64\n",
      " 48  file_card_gift               19372 non-null  int64  \n",
      "dtypes: float64(16), int64(28), object(5)\n",
      "memory usage: 7.2+ MB\n"
     ]
    }
   ],
   "metadata": {}
  },
  {
   "cell_type": "code",
   "execution_count": 8,
   "source": [
    "test_data.info()"
   ],
   "outputs": [
    {
     "output_type": "stream",
     "name": "stdout",
     "text": [
      "<class 'pandas.core.frame.DataFrame'>\n",
      "RangeIndex: 2148 entries, 0 to 2147\n",
      "Data columns (total 48 columns):\n",
      " #   Column                       Non-Null Count  Dtype  \n",
      "---  ------                       --------------  -----  \n",
      " 0   Unnamed: 0                   2148 non-null   int64  \n",
      " 1   months_since_origin          2148 non-null   int64  \n",
      " 2   donor_age                    2148 non-null   float64\n",
      " 3   in_house                     2148 non-null   int64  \n",
      " 4   urbanicity                   2148 non-null   object \n",
      " 5   ses                          2148 non-null   int64  \n",
      " 6   cluster_code                 2148 non-null   int64  \n",
      " 7   home_owner                   2148 non-null   object \n",
      " 8   donor_gender                 2148 non-null   object \n",
      " 9   income_group                 2148 non-null   float64\n",
      " 10  published_phone              2148 non-null   int64  \n",
      " 11  overlay_source               2148 non-null   object \n",
      " 12  mor_hit_rate                 2148 non-null   int64  \n",
      " 13  wealth_rating                2148 non-null   float64\n",
      " 14  median_home_value            2148 non-null   int64  \n",
      " 15  median_household_income      2148 non-null   int64  \n",
      " 16  pct_owner_occupied           2148 non-null   int64  \n",
      " 17  per_capita_income            2148 non-null   int64  \n",
      " 18  pct_attribute1               2148 non-null   int64  \n",
      " 19  pct_attribute2               2148 non-null   int64  \n",
      " 20  pct_attribute3               2148 non-null   int64  \n",
      " 21  pct_attribute4               2148 non-null   int64  \n",
      " 22  pep_star                     2148 non-null   int64  \n",
      " 23  recent_star_status           2148 non-null   int64  \n",
      " 24  recency_status_96nk          2148 non-null   object \n",
      " 25  frequency_status_97nk        2148 non-null   int64  \n",
      " 26  recent_response_prop         2148 non-null   float64\n",
      " 27  recent_avg_gift_amt          2148 non-null   float64\n",
      " 28  recent_card_response_prop    2148 non-null   float64\n",
      " 29  recent_avg_card_gift_amt     2148 non-null   float64\n",
      " 30  recent_response_count        2148 non-null   int64  \n",
      " 31  recent_card_response_count   2148 non-null   int64  \n",
      " 32  months_since_last_prom_resp  2148 non-null   float64\n",
      " 33  lifetime_card_prom           2148 non-null   int64  \n",
      " 34  lifetime_prom                2148 non-null   int64  \n",
      " 35  lifetime_gift_amount         2148 non-null   float64\n",
      " 36  lifetime_gift_count          2148 non-null   int64  \n",
      " 37  lifetime_avg_gift_amt        2148 non-null   float64\n",
      " 38  lifetime_gift_range          2148 non-null   float64\n",
      " 39  lifetime_max_gift_amt        2148 non-null   float64\n",
      " 40  lifetime_min_gift_amt        2148 non-null   float64\n",
      " 41  last_gift_amt                2148 non-null   float64\n",
      " 42  card_prom_12                 2148 non-null   int64  \n",
      " 43  number_prom_12               2148 non-null   int64  \n",
      " 44  months_since_last_gift       2148 non-null   int64  \n",
      " 45  months_since_first_gift      2148 non-null   int64  \n",
      " 46  file_avg_gift                2148 non-null   float64\n",
      " 47  file_card_gift               2148 non-null   int64  \n",
      "dtypes: float64(15), int64(28), object(5)\n",
      "memory usage: 805.6+ KB\n"
     ]
    }
   ],
   "metadata": {}
  },
  {
   "cell_type": "code",
   "execution_count": 9,
   "source": [
    "train_data.drop(\"Unnamed: 0\", axis=1, inplace=True)\r\n",
    "test_data.drop(\"Unnamed: 0\", axis=1, inplace=True)"
   ],
   "outputs": [],
   "metadata": {}
  },
  {
   "cell_type": "code",
   "execution_count": 10,
   "source": [
    "train_data.shape, test_data.shape"
   ],
   "outputs": [
    {
     "output_type": "execute_result",
     "data": {
      "text/plain": [
       "((19372, 48), (2148, 47))"
      ]
     },
     "metadata": {},
     "execution_count": 10
    }
   ],
   "metadata": {}
  },
  {
   "cell_type": "code",
   "execution_count": 11,
   "source": [
    "train_data = train_data[train_data.amount_donated != 0.00]"
   ],
   "outputs": [],
   "metadata": {}
  },
  {
   "cell_type": "code",
   "execution_count": 12,
   "source": [
    "# Selecting the independent variables and the target variable\r\n",
    "#\r\n",
    "y = train_data['amount_donated']\r\n",
    "X = train_data.drop('amount_donated', axis = 1)\r\n"
   ],
   "outputs": [],
   "metadata": {}
  },
  {
   "cell_type": "markdown",
   "source": [
    "* **Joining the Train and Test data to encode the categorical columns together**"
   ],
   "metadata": {}
  },
  {
   "cell_type": "code",
   "execution_count": 13,
   "source": [
    "total_data = pd.concat([X, test_data])"
   ],
   "outputs": [],
   "metadata": {}
  },
  {
   "cell_type": "code",
   "execution_count": 14,
   "source": [
    "df_numerical = total_data.select_dtypes(include = [np.number])"
   ],
   "outputs": [],
   "metadata": {}
  },
  {
   "cell_type": "code",
   "execution_count": 15,
   "source": [
    "df_categorical = total_data.select_dtypes(include = [object])"
   ],
   "outputs": [],
   "metadata": {}
  },
  {
   "cell_type": "code",
   "execution_count": 16,
   "source": [
    "df_categorical = df_categorical.apply(lambda x: x.astype('category'))"
   ],
   "outputs": [],
   "metadata": {}
  },
  {
   "cell_type": "code",
   "execution_count": 17,
   "source": [
    "df_categorical.info()"
   ],
   "outputs": [
    {
     "output_type": "stream",
     "name": "stdout",
     "text": [
      "<class 'pandas.core.frame.DataFrame'>\n",
      "Int64Index: 6991 entries, 1 to 2147\n",
      "Data columns (total 5 columns):\n",
      " #   Column               Non-Null Count  Dtype   \n",
      "---  ------               --------------  -----   \n",
      " 0   urbanicity           6991 non-null   category\n",
      " 1   home_owner           6991 non-null   category\n",
      " 2   donor_gender         6991 non-null   category\n",
      " 3   overlay_source       6991 non-null   category\n",
      " 4   recency_status_96nk  6991 non-null   category\n",
      "dtypes: category(5)\n",
      "memory usage: 89.5 KB\n"
     ]
    }
   ],
   "metadata": {}
  },
  {
   "cell_type": "markdown",
   "source": [],
   "metadata": {}
  },
  {
   "cell_type": "code",
   "execution_count": 18,
   "source": [
    "corrmatrix = train_data.corr()\r\n",
    "k = 11 #number of variables for heatmap\r\n",
    "cols = corrmatrix.nlargest(k, 'amount_donated')['amount_donated'].index\r\n",
    "cm = np.corrcoef(train_data[cols].values.T)\r\n",
    "plt.figure(figsize=(10, 10))\r\n",
    "sns.set(font_scale=1.20)\r\n",
    "hm = sns.heatmap(cm, cbar=True, annot=True, square=True, fmt='.2f', annot_kws={'size': 10}, yticklabels=cols.values, \r\n",
    "                 xticklabels=cols.values)\r\n",
    "plt.show()"
   ],
   "outputs": [
    {
     "output_type": "display_data",
     "data": {
      "text/plain": [
       "<Figure size 720x720 with 2 Axes>"
      ],
      "image/png": "[encoded data removed]"
     },
     "metadata": {
      "needs_background": "light"
     }
    }
   ],
   "metadata": {}
  },
  {
   "cell_type": "code",
   "execution_count": 19,
   "source": [
    "train_data.shape"
   ],
   "outputs": [
    {
     "output_type": "execute_result",
     "data": {
      "text/plain": [
       "(4843, 48)"
      ]
     },
     "metadata": {},
     "execution_count": 19
    }
   ],
   "metadata": {}
  },
  {
   "cell_type": "code",
   "execution_count": 20,
   "source": [
    "train_data.columns.to_list()"
   ],
   "outputs": [
    {
     "output_type": "execute_result",
     "data": {
      "text/plain": [
       "['amount_donated',\n",
       " 'months_since_origin',\n",
       " 'donor_age',\n",
       " 'in_house',\n",
       " 'urbanicity',\n",
       " 'ses',\n",
       " 'cluster_code',\n",
       " 'home_owner',\n",
       " 'donor_gender',\n",
       " 'income_group',\n",
       " 'published_phone',\n",
       " 'overlay_source',\n",
       " 'mor_hit_rate',\n",
       " 'wealth_rating',\n",
       " 'median_home_value',\n",
       " 'median_household_income',\n",
       " 'pct_owner_occupied',\n",
       " 'per_capita_income',\n",
       " 'pct_attribute1',\n",
       " 'pct_attribute2',\n",
       " 'pct_attribute3',\n",
       " 'pct_attribute4',\n",
       " 'pep_star',\n",
       " 'recent_star_status',\n",
       " 'recency_status_96nk',\n",
       " 'frequency_status_97nk',\n",
       " 'recent_response_prop',\n",
       " 'recent_avg_gift_amt',\n",
       " 'recent_card_response_prop',\n",
       " 'recent_avg_card_gift_amt',\n",
       " 'recent_response_count',\n",
       " 'recent_card_response_count',\n",
       " 'months_since_last_prom_resp',\n",
       " 'lifetime_card_prom',\n",
       " 'lifetime_prom',\n",
       " 'lifetime_gift_amount',\n",
       " 'lifetime_gift_count',\n",
       " 'lifetime_avg_gift_amt',\n",
       " 'lifetime_gift_range',\n",
       " 'lifetime_max_gift_amt',\n",
       " 'lifetime_min_gift_amt',\n",
       " 'last_gift_amt',\n",
       " 'card_prom_12',\n",
       " 'number_prom_12',\n",
       " 'months_since_last_gift',\n",
       " 'months_since_first_gift',\n",
       " 'file_avg_gift',\n",
       " 'file_card_gift']"
      ]
     },
     "metadata": {},
     "execution_count": 20
    }
   ],
   "metadata": {}
  },
  {
   "cell_type": "code",
   "execution_count": 21,
   "source": [
    "df_categorical.shape"
   ],
   "outputs": [
    {
     "output_type": "execute_result",
     "data": {
      "text/plain": [
       "(6991, 5)"
      ]
     },
     "metadata": {},
     "execution_count": 21
    }
   ],
   "metadata": {}
  },
  {
   "cell_type": "code",
   "execution_count": 22,
   "source": [
    "df_categorical.head()"
   ],
   "outputs": [
    {
     "output_type": "execute_result",
     "data": {
      "text/plain": [
       "   urbanicity home_owner donor_gender overlay_source recency_status_96nk\n",
       "1           R          H            M              P                   S\n",
       "7           C          H            F              P                   A\n",
       "9           R          H            F              B                   S\n",
       "14          R          U            F              M                   S\n",
       "16          R          U            M              B                   A"
      ],
      "text/html": [
       "<div>\n",
       "<style scoped>\n",
       "    .dataframe tbody tr th:only-of-type {\n",
       "        vertical-align: middle;\n",
       "    }\n",
       "\n",
       "    .dataframe tbody tr th {\n",
       "        vertical-align: top;\n",
       "    }\n",
       "\n",
       "    .dataframe thead th {\n",
       "        text-align: right;\n",
       "    }\n",
       "</style>\n",
       "<table border=\"1\" class=\"dataframe\">\n",
       "  <thead>\n",
       "    <tr style=\"text-align: right;\">\n",
       "      <th></th>\n",
       "      <th>urbanicity</th>\n",
       "      <th>home_owner</th>\n",
       "      <th>donor_gender</th>\n",
       "      <th>overlay_source</th>\n",
       "      <th>recency_status_96nk</th>\n",
       "    </tr>\n",
       "  </thead>\n",
       "  <tbody>\n",
       "    <tr>\n",
       "      <th>1</th>\n",
       "      <td>R</td>\n",
       "      <td>H</td>\n",
       "      <td>M</td>\n",
       "      <td>P</td>\n",
       "      <td>S</td>\n",
       "    </tr>\n",
       "    <tr>\n",
       "      <th>7</th>\n",
       "      <td>C</td>\n",
       "      <td>H</td>\n",
       "      <td>F</td>\n",
       "      <td>P</td>\n",
       "      <td>A</td>\n",
       "    </tr>\n",
       "    <tr>\n",
       "      <th>9</th>\n",
       "      <td>R</td>\n",
       "      <td>H</td>\n",
       "      <td>F</td>\n",
       "      <td>B</td>\n",
       "      <td>S</td>\n",
       "    </tr>\n",
       "    <tr>\n",
       "      <th>14</th>\n",
       "      <td>R</td>\n",
       "      <td>U</td>\n",
       "      <td>F</td>\n",
       "      <td>M</td>\n",
       "      <td>S</td>\n",
       "    </tr>\n",
       "    <tr>\n",
       "      <th>16</th>\n",
       "      <td>R</td>\n",
       "      <td>U</td>\n",
       "      <td>M</td>\n",
       "      <td>B</td>\n",
       "      <td>A</td>\n",
       "    </tr>\n",
       "  </tbody>\n",
       "</table>\n",
       "</div>"
      ]
     },
     "metadata": {},
     "execution_count": 22
    }
   ],
   "metadata": {}
  },
  {
   "cell_type": "code",
   "execution_count": 23,
   "source": [
    "\r\n",
    "total_data=pd.get_dummies(total_data,drop_first=True)"
   ],
   "outputs": [],
   "metadata": {}
  },
  {
   "cell_type": "code",
   "execution_count": 24,
   "source": [
    "total_data.head()"
   ],
   "outputs": [
    {
     "output_type": "execute_result",
     "data": {
      "text/plain": [
       "    months_since_origin  donor_age  in_house  ses  cluster_code  income_group  \\\n",
       "1                   137       79.0         0    2            45           7.0   \n",
       "7                    89       79.0         0    2            28           1.0   \n",
       "9                   101       63.0         0    2            43           4.0   \n",
       "14                  137       60.0         0    2            43           5.0   \n",
       "16                   77       81.0         0    2            45           4.0   \n",
       "\n",
       "    published_phone  mor_hit_rate  wealth_rating  median_home_value  ...  \\\n",
       "1                 0             0            3.0                334  ...   \n",
       "7                 0             0            5.0               1004  ...   \n",
       "9                 1             0            5.0                399  ...   \n",
       "14                1             0            1.0                475  ...   \n",
       "16                1            24            3.0                530  ...   \n",
       "\n",
       "    home_owner_U  donor_gender_M  donor_gender_U  overlay_source_M  \\\n",
       "1              0               1               0                 0   \n",
       "7              0               0               0                 0   \n",
       "9              0               0               0                 0   \n",
       "14             1               0               0                 1   \n",
       "16             1               1               0                 0   \n",
       "\n",
       "    overlay_source_P  recency_status_96nk_E  recency_status_96nk_F  \\\n",
       "1                  1                      0                      0   \n",
       "7                  1                      0                      0   \n",
       "9                  0                      0                      0   \n",
       "14                 0                      0                      0   \n",
       "16                 0                      0                      0   \n",
       "\n",
       "    recency_status_96nk_L  recency_status_96nk_N  recency_status_96nk_S  \n",
       "1                       0                      0                      1  \n",
       "7                       0                      0                      0  \n",
       "9                       0                      0                      1  \n",
       "14                      0                      0                      1  \n",
       "16                      0                      0                      0  \n",
       "\n",
       "[5 rows x 57 columns]"
      ],
      "text/html": [
       "<div>\n",
       "<style scoped>\n",
       "    .dataframe tbody tr th:only-of-type {\n",
       "        vertical-align: middle;\n",
       "    }\n",
       "\n",
       "    .dataframe tbody tr th {\n",
       "        vertical-align: top;\n",
       "    }\n",
       "\n",
       "    .dataframe thead th {\n",
       "        text-align: right;\n",
       "    }\n",
       "</style>\n",
       "<table border=\"1\" class=\"dataframe\">\n",
       "  <thead>\n",
       "    <tr style=\"text-align: right;\">\n",
       "      <th></th>\n",
       "      <th>months_since_origin</th>\n",
       "      <th>donor_age</th>\n",
       "      <th>in_house</th>\n",
       "      <th>ses</th>\n",
       "      <th>cluster_code</th>\n",
       "      <th>income_group</th>\n",
       "      <th>published_phone</th>\n",
       "      <th>mor_hit_rate</th>\n",
       "      <th>wealth_rating</th>\n",
       "      <th>median_home_value</th>\n",
       "      <th>...</th>\n",
       "      <th>home_owner_U</th>\n",
       "      <th>donor_gender_M</th>\n",
       "      <th>donor_gender_U</th>\n",
       "      <th>overlay_source_M</th>\n",
       "      <th>overlay_source_P</th>\n",
       "      <th>recency_status_96nk_E</th>\n",
       "      <th>recency_status_96nk_F</th>\n",
       "      <th>recency_status_96nk_L</th>\n",
       "      <th>recency_status_96nk_N</th>\n",
       "      <th>recency_status_96nk_S</th>\n",
       "    </tr>\n",
       "  </thead>\n",
       "  <tbody>\n",
       "    <tr>\n",
       "      <th>1</th>\n",
       "      <td>137</td>\n",
       "      <td>79.0</td>\n",
       "      <td>0</td>\n",
       "      <td>2</td>\n",
       "      <td>45</td>\n",
       "      <td>7.0</td>\n",
       "      <td>0</td>\n",
       "      <td>0</td>\n",
       "      <td>3.0</td>\n",
       "      <td>334</td>\n",
       "      <td>...</td>\n",
       "      <td>0</td>\n",
       "      <td>1</td>\n",
       "      <td>0</td>\n",
       "      <td>0</td>\n",
       "      <td>1</td>\n",
       "      <td>0</td>\n",
       "      <td>0</td>\n",
       "      <td>0</td>\n",
       "      <td>0</td>\n",
       "      <td>1</td>\n",
       "    </tr>\n",
       "    <tr>\n",
       "      <th>7</th>\n",
       "      <td>89</td>\n",
       "      <td>79.0</td>\n",
       "      <td>0</td>\n",
       "      <td>2</td>\n",
       "      <td>28</td>\n",
       "      <td>1.0</td>\n",
       "      <td>0</td>\n",
       "      <td>0</td>\n",
       "      <td>5.0</td>\n",
       "      <td>1004</td>\n",
       "      <td>...</td>\n",
       "      <td>0</td>\n",
       "      <td>0</td>\n",
       "      <td>0</td>\n",
       "      <td>0</td>\n",
       "      <td>1</td>\n",
       "      <td>0</td>\n",
       "      <td>0</td>\n",
       "      <td>0</td>\n",
       "      <td>0</td>\n",
       "      <td>0</td>\n",
       "    </tr>\n",
       "    <tr>\n",
       "      <th>9</th>\n",
       "      <td>101</td>\n",
       "      <td>63.0</td>\n",
       "      <td>0</td>\n",
       "      <td>2</td>\n",
       "      <td>43</td>\n",
       "      <td>4.0</td>\n",
       "      <td>1</td>\n",
       "      <td>0</td>\n",
       "      <td>5.0</td>\n",
       "      <td>399</td>\n",
       "      <td>...</td>\n",
       "      <td>0</td>\n",
       "      <td>0</td>\n",
       "      <td>0</td>\n",
       "      <td>0</td>\n",
       "      <td>0</td>\n",
       "      <td>0</td>\n",
       "      <td>0</td>\n",
       "      <td>0</td>\n",
       "      <td>0</td>\n",
       "      <td>1</td>\n",
       "    </tr>\n",
       "    <tr>\n",
       "      <th>14</th>\n",
       "      <td>137</td>\n",
       "      <td>60.0</td>\n",
       "      <td>0</td>\n",
       "      <td>2</td>\n",
       "      <td>43</td>\n",
       "      <td>5.0</td>\n",
       "      <td>1</td>\n",
       "      <td>0</td>\n",
       "      <td>1.0</td>\n",
       "      <td>475</td>\n",
       "      <td>...</td>\n",
       "      <td>1</td>\n",
       "      <td>0</td>\n",
       "      <td>0</td>\n",
       "      <td>1</td>\n",
       "      <td>0</td>\n",
       "      <td>0</td>\n",
       "      <td>0</td>\n",
       "      <td>0</td>\n",
       "      <td>0</td>\n",
       "      <td>1</td>\n",
       "    </tr>\n",
       "    <tr>\n",
       "      <th>16</th>\n",
       "      <td>77</td>\n",
       "      <td>81.0</td>\n",
       "      <td>0</td>\n",
       "      <td>2</td>\n",
       "      <td>45</td>\n",
       "      <td>4.0</td>\n",
       "      <td>1</td>\n",
       "      <td>24</td>\n",
       "      <td>3.0</td>\n",
       "      <td>530</td>\n",
       "      <td>...</td>\n",
       "      <td>1</td>\n",
       "      <td>1</td>\n",
       "      <td>0</td>\n",
       "      <td>0</td>\n",
       "      <td>0</td>\n",
       "      <td>0</td>\n",
       "      <td>0</td>\n",
       "      <td>0</td>\n",
       "      <td>0</td>\n",
       "      <td>0</td>\n",
       "    </tr>\n",
       "  </tbody>\n",
       "</table>\n",
       "<p>5 rows × 57 columns</p>\n",
       "</div>"
      ]
     },
     "metadata": {},
     "execution_count": 24
    }
   ],
   "metadata": {}
  },
  {
   "cell_type": "code",
   "execution_count": 25,
   "source": [
    "total_data.shape"
   ],
   "outputs": [
    {
     "output_type": "execute_result",
     "data": {
      "text/plain": [
       "(6991, 57)"
      ]
     },
     "metadata": {},
     "execution_count": 25
    }
   ],
   "metadata": {}
  },
  {
   "cell_type": "code",
   "execution_count": 26,
   "source": [
    "total_data.columns.to_list()"
   ],
   "outputs": [
    {
     "output_type": "execute_result",
     "data": {
      "text/plain": [
       "['months_since_origin',\n",
       " 'donor_age',\n",
       " 'in_house',\n",
       " 'ses',\n",
       " 'cluster_code',\n",
       " 'income_group',\n",
       " 'published_phone',\n",
       " 'mor_hit_rate',\n",
       " 'wealth_rating',\n",
       " 'median_home_value',\n",
       " 'median_household_income',\n",
       " 'pct_owner_occupied',\n",
       " 'per_capita_income',\n",
       " 'pct_attribute1',\n",
       " 'pct_attribute2',\n",
       " 'pct_attribute3',\n",
       " 'pct_attribute4',\n",
       " 'pep_star',\n",
       " 'recent_star_status',\n",
       " 'frequency_status_97nk',\n",
       " 'recent_response_prop',\n",
       " 'recent_avg_gift_amt',\n",
       " 'recent_card_response_prop',\n",
       " 'recent_avg_card_gift_amt',\n",
       " 'recent_response_count',\n",
       " 'recent_card_response_count',\n",
       " 'months_since_last_prom_resp',\n",
       " 'lifetime_card_prom',\n",
       " 'lifetime_prom',\n",
       " 'lifetime_gift_amount',\n",
       " 'lifetime_gift_count',\n",
       " 'lifetime_avg_gift_amt',\n",
       " 'lifetime_gift_range',\n",
       " 'lifetime_max_gift_amt',\n",
       " 'lifetime_min_gift_amt',\n",
       " 'last_gift_amt',\n",
       " 'card_prom_12',\n",
       " 'number_prom_12',\n",
       " 'months_since_last_gift',\n",
       " 'months_since_first_gift',\n",
       " 'file_avg_gift',\n",
       " 'file_card_gift',\n",
       " 'urbanicity_R',\n",
       " 'urbanicity_S',\n",
       " 'urbanicity_T',\n",
       " 'urbanicity_U',\n",
       " 'urbanicity_X',\n",
       " 'home_owner_U',\n",
       " 'donor_gender_M',\n",
       " 'donor_gender_U',\n",
       " 'overlay_source_M',\n",
       " 'overlay_source_P',\n",
       " 'recency_status_96nk_E',\n",
       " 'recency_status_96nk_F',\n",
       " 'recency_status_96nk_L',\n",
       " 'recency_status_96nk_N',\n",
       " 'recency_status_96nk_S']"
      ]
     },
     "metadata": {},
     "execution_count": 26
    }
   ],
   "metadata": {}
  },
  {
   "cell_type": "markdown",
   "source": [
    "* **Scaling makes the linear regression model perform badly**"
   ],
   "metadata": {}
  },
  {
   "cell_type": "code",
   "execution_count": 27,
   "source": [
    "# total_data[['months_since_origin',\r\n",
    "#  'donor_age',\r\n",
    "#  'in_house',\r\n",
    "#  'ses',\r\n",
    "#  'cluster_code',\r\n",
    "#  'income_group',\r\n",
    "#  'published_phone',\r\n",
    "#  'mor_hit_rate',\r\n",
    "#  'wealth_rating',\r\n",
    "#  'median_home_value',\r\n",
    "#  'median_household_income',\r\n",
    "#  'pct_owner_occupied',\r\n",
    "#  'per_capita_income',\r\n",
    "#  'pct_attribute1',\r\n",
    "#  'pct_attribute2',\r\n",
    "#  'pct_attribute3',\r\n",
    "#  'pct_attribute4',\r\n",
    "#  'pep_star',\r\n",
    "#  'recent_star_status',\r\n",
    "#  'frequency_status_97nk',\r\n",
    "#  'recent_response_prop',\r\n",
    "#  'recent_avg_gift_amt',\r\n",
    "#  'recent_card_response_prop',\r\n",
    "#  'recent_avg_card_gift_amt',\r\n",
    "#  'recent_response_count',\r\n",
    "#  'recent_card_response_count',\r\n",
    "#  'months_since_last_prom_resp',\r\n",
    "#  'lifetime_card_prom',\r\n",
    "#  'lifetime_prom',\r\n",
    "#  'lifetime_gift_amount',\r\n",
    "#  'lifetime_gift_count',\r\n",
    "#  'lifetime_avg_gift_amt',\r\n",
    "#  'lifetime_gift_range',\r\n",
    "#  'lifetime_max_gift_amt',\r\n",
    "#  'lifetime_min_gift_amt',\r\n",
    "#  'last_gift_amt',\r\n",
    "#  'card_prom_12',\r\n",
    "#  'number_prom_12',\r\n",
    "#  'months_since_last_gift',\r\n",
    "#  'months_since_first_gift',\r\n",
    "#  'file_avg_gift',\r\n",
    "#  'file_card_gift',\r\n",
    "#  'urbanicity_R',\r\n",
    "#  'urbanicity_S',\r\n",
    "#  'urbanicity_T',\r\n",
    "#  'urbanicity_U',\r\n",
    "#  'urbanicity_X',\r\n",
    "#  'home_owner_U',\r\n",
    "#  'donor_gender_M',\r\n",
    "#  'donor_gender_U',\r\n",
    "#  'overlay_source_M',\r\n",
    "#  'overlay_source_P',\r\n",
    "#  'recency_status_96nk_E',\r\n",
    "#  'recency_status_96nk_F',\r\n",
    "#  'recency_status_96nk_L',\r\n",
    "#  'recency_status_96nk_N',\r\n",
    "#  'recency_status_96nk_S']] = StandardScaler().fit_transform(total_data[['months_since_origin',\r\n",
    "#  'donor_age',\r\n",
    "#  'in_house',\r\n",
    "#  'ses',\r\n",
    "#  'cluster_code',\r\n",
    "#  'income_group',\r\n",
    "#  'published_phone',\r\n",
    "#  'mor_hit_rate',\r\n",
    "#  'wealth_rating',\r\n",
    "#  'median_home_value',\r\n",
    "#  'median_household_income',\r\n",
    "#  'pct_owner_occupied',\r\n",
    "#  'per_capita_income',\r\n",
    "#  'pct_attribute1',\r\n",
    "#  'pct_attribute2',\r\n",
    "#  'pct_attribute3',\r\n",
    "#  'pct_attribute4',\r\n",
    "#  'pep_star',\r\n",
    "#  'recent_star_status',\r\n",
    "#  'frequency_status_97nk',\r\n",
    "#  'recent_response_prop',\r\n",
    "#  'recent_avg_gift_amt',\r\n",
    "#  'recent_card_response_prop',\r\n",
    "#  'recent_avg_card_gift_amt',\r\n",
    "#  'recent_response_count',\r\n",
    "#  'recent_card_response_count',\r\n",
    "#  'months_since_last_prom_resp',\r\n",
    "#  'lifetime_card_prom',\r\n",
    "#  'lifetime_prom',\r\n",
    "#  'lifetime_gift_amount',\r\n",
    "#  'lifetime_gift_count',\r\n",
    "#  'lifetime_avg_gift_amt',\r\n",
    "#  'lifetime_gift_range',\r\n",
    "#  'lifetime_max_gift_amt',\r\n",
    "#  'lifetime_min_gift_amt',\r\n",
    "#  'last_gift_amt',\r\n",
    "#  'card_prom_12',\r\n",
    "#  'number_prom_12',\r\n",
    "#  'months_since_last_gift',\r\n",
    "#  'months_since_first_gift',\r\n",
    "#  'file_avg_gift',\r\n",
    "#  'file_card_gift',\r\n",
    "#  'urbanicity_R',\r\n",
    "#  'urbanicity_S',\r\n",
    "#  'urbanicity_T',\r\n",
    "#  'urbanicity_U',\r\n",
    "#  'urbanicity_X',\r\n",
    "#  'home_owner_U',\r\n",
    "#  'donor_gender_M',\r\n",
    "#  'donor_gender_U',\r\n",
    "#  'overlay_source_M',\r\n",
    "#  'overlay_source_P',\r\n",
    "#  'recency_status_96nk_E',\r\n",
    "#  'recency_status_96nk_F',\r\n",
    "#  'recency_status_96nk_L',\r\n",
    "#  'recency_status_96nk_N',\r\n",
    "#  'recency_status_96nk_S']])"
   ],
   "outputs": [],
   "metadata": {}
  },
  {
   "cell_type": "code",
   "execution_count": 28,
   "source": [
    "total_data.shape"
   ],
   "outputs": [
    {
     "output_type": "execute_result",
     "data": {
      "text/plain": [
       "(6991, 57)"
      ]
     },
     "metadata": {},
     "execution_count": 28
    }
   ],
   "metadata": {}
  },
  {
   "cell_type": "code",
   "execution_count": 29,
   "source": [
    "total_data.dtypes"
   ],
   "outputs": [
    {
     "output_type": "execute_result",
     "data": {
      "text/plain": [
       "months_since_origin              int64\n",
       "donor_age                      float64\n",
       "in_house                         int64\n",
       "ses                              int64\n",
       "cluster_code                     int64\n",
       "income_group                   float64\n",
       "published_phone                  int64\n",
       "mor_hit_rate                     int64\n",
       "wealth_rating                  float64\n",
       "median_home_value                int64\n",
       "median_household_income          int64\n",
       "pct_owner_occupied               int64\n",
       "per_capita_income                int64\n",
       "pct_attribute1                   int64\n",
       "pct_attribute2                   int64\n",
       "pct_attribute3                   int64\n",
       "pct_attribute4                   int64\n",
       "pep_star                         int64\n",
       "recent_star_status               int64\n",
       "frequency_status_97nk            int64\n",
       "recent_response_prop           float64\n",
       "recent_avg_gift_amt            float64\n",
       "recent_card_response_prop      float64\n",
       "recent_avg_card_gift_amt       float64\n",
       "recent_response_count            int64\n",
       "recent_card_response_count       int64\n",
       "months_since_last_prom_resp    float64\n",
       "lifetime_card_prom               int64\n",
       "lifetime_prom                    int64\n",
       "lifetime_gift_amount           float64\n",
       "lifetime_gift_count              int64\n",
       "lifetime_avg_gift_amt          float64\n",
       "lifetime_gift_range            float64\n",
       "lifetime_max_gift_amt          float64\n",
       "lifetime_min_gift_amt          float64\n",
       "last_gift_amt                  float64\n",
       "card_prom_12                     int64\n",
       "number_prom_12                   int64\n",
       "months_since_last_gift           int64\n",
       "months_since_first_gift          int64\n",
       "file_avg_gift                  float64\n",
       "file_card_gift                   int64\n",
       "urbanicity_R                     uint8\n",
       "urbanicity_S                     uint8\n",
       "urbanicity_T                     uint8\n",
       "urbanicity_U                     uint8\n",
       "urbanicity_X                     uint8\n",
       "home_owner_U                     uint8\n",
       "donor_gender_M                   uint8\n",
       "donor_gender_U                   uint8\n",
       "overlay_source_M                 uint8\n",
       "overlay_source_P                 uint8\n",
       "recency_status_96nk_E            uint8\n",
       "recency_status_96nk_F            uint8\n",
       "recency_status_96nk_L            uint8\n",
       "recency_status_96nk_N            uint8\n",
       "recency_status_96nk_S            uint8\n",
       "dtype: object"
      ]
     },
     "metadata": {},
     "execution_count": 29
    }
   ],
   "metadata": {}
  },
  {
   "cell_type": "code",
   "execution_count": 30,
   "source": [
    "independent_variables = ['months_since_origin',\r\n",
    " 'donor_age',\r\n",
    " 'in_house',\r\n",
    " 'ses',\r\n",
    " 'cluster_code',\r\n",
    " 'income_group',\r\n",
    " 'published_phone',\r\n",
    " 'mor_hit_rate',\r\n",
    " 'wealth_rating',\r\n",
    " 'median_home_value',\r\n",
    " 'median_household_income',\r\n",
    " 'pct_owner_occupied',\r\n",
    " 'per_capita_income',\r\n",
    " 'pct_attribute1',\r\n",
    " 'pct_attribute2',\r\n",
    " 'pct_attribute3',\r\n",
    " 'pct_attribute4',\r\n",
    " 'pep_star',\r\n",
    " 'recent_star_status',\r\n",
    " 'frequency_status_97nk',\r\n",
    " 'recent_response_prop',\r\n",
    " 'recent_avg_gift_amt',\r\n",
    " 'recent_card_response_prop',\r\n",
    " 'recent_avg_card_gift_amt',\r\n",
    " 'recent_response_count',\r\n",
    " 'recent_card_response_count',\r\n",
    " 'months_since_last_prom_resp',\r\n",
    " 'lifetime_card_prom',\r\n",
    " 'lifetime_prom',\r\n",
    " 'lifetime_gift_amount',\r\n",
    " 'lifetime_gift_count',\r\n",
    " 'lifetime_avg_gift_amt',\r\n",
    " 'lifetime_gift_range',\r\n",
    " 'lifetime_max_gift_amt',\r\n",
    " 'lifetime_min_gift_amt',\r\n",
    " 'last_gift_amt',\r\n",
    " 'card_prom_12',\r\n",
    " 'number_prom_12',\r\n",
    " 'months_since_last_gift',\r\n",
    " 'months_since_first_gift',\r\n",
    " 'file_avg_gift',\r\n",
    " 'file_card_gift',\r\n",
    " 'urbanicity_R',\r\n",
    " 'urbanicity_S',\r\n",
    " 'urbanicity_T',\r\n",
    " 'urbanicity_U',\r\n",
    " 'urbanicity_X',\r\n",
    " 'home_owner_U',\r\n",
    " 'donor_gender_M',\r\n",
    " 'donor_gender_U',\r\n",
    " 'overlay_source_M',\r\n",
    " 'overlay_source_P',\r\n",
    " 'recency_status_96nk_E',\r\n",
    " 'recency_status_96nk_F',\r\n",
    " 'recency_status_96nk_L',\r\n",
    " 'recency_status_96nk_N',\r\n",
    " 'recency_status_96nk_S']"
   ],
   "outputs": [],
   "metadata": {}
  },
  {
   "cell_type": "markdown",
   "source": [
    "#### Split the data into test and train data sets\r\n",
    "It is extremely important to split the data into train and test sets. Train set is used to train the model and Test set is used to test the performance of the model.\r\n",
    "\r\n",
    "Problems encountered if train test split not performed:\r\n",
    "\r\n",
    "It does not make sense to talk about the performance of the model by testing it on same data. The model learns the data pretty well and when tested on same data will produce the best score.\r\n",
    "The model becomes very specific to the training data, so far as they even get trained on the ocassional erroneous labels present in the training data. This results in Overfitting and the model might not work well outside the training data.\r\n",
    "Therefore it is advised to keep a certian portion of the data aside (test set) untouched and test our model on this data to evaluate the true performance of the model.\r\n",
    "\r\n"
   ],
   "metadata": {}
  },
  {
   "cell_type": "code",
   "execution_count": 31,
   "source": [
    "X =  total_data.iloc[:4843]\r\n",
    "X_test_cat_encoded =  total_data.iloc[4843:]\r\n",
    "X.shape, X_test_cat_encoded.shape, y.shape"
   ],
   "outputs": [
    {
     "output_type": "execute_result",
     "data": {
      "text/plain": [
       "((4843, 57), (2148, 57), (4843,))"
      ]
     },
     "metadata": {},
     "execution_count": 31
    }
   ],
   "metadata": {}
  },
  {
   "cell_type": "code",
   "execution_count": 32,
   "source": [
    "from sklearn.model_selection import train_test_split\r\n",
    "\r\n",
    "X_train, X_test, y_train, y_test  = train_test_split(X, y, test_size=0.3, random_state=101)\r\n",
    "print(X_train.shape)\r\n",
    "print(X_test.shape)\r\n",
    "print(y_train.shape)\r\n",
    "print(y_test.shape)"
   ],
   "outputs": [
    {
     "output_type": "stream",
     "name": "stdout",
     "text": [
      "(3390, 57)\n",
      "(1453, 57)\n",
      "(3390,)\n",
      "(1453,)\n"
     ]
    }
   ],
   "metadata": {}
  },
  {
   "cell_type": "code",
   "execution_count": 33,
   "source": [
    "from statsmodels.stats.outliers_influence import variance_inflation_factor"
   ],
   "outputs": [],
   "metadata": {}
  },
  {
   "cell_type": "code",
   "execution_count": 34,
   "source": [
    "thresh = 10\r\n",
    "for i in np.arange(0,len(independent_variables)):\r\n",
    "    vif = [variance_inflation_factor(X[independent_variables].values, ix) \r\n",
    "    for ix in range(X[independent_variables].shape[1])]\r\n",
    "    maxloc = vif.index(max(vif))\r\n",
    "    if max(vif) > thresh:\r\n",
    "        print (\"vif :\", vif)\r\n",
    "        print('dropping \\'' + X[independent_variables].columns[maxloc] + '\\' at index: ' + str(maxloc))\r\n",
    "        del independent_variables[maxloc]\r\n",
    "    else:\r\n",
    "        break\r\n",
    "print ('Final variables:', independent_variables)\r\n"
   ],
   "outputs": [
    {
     "output_type": "stream",
     "name": "stderr",
     "text": [
      "C:\\Users\\kwentua\\anaconda3\\lib\\site-packages\\statsmodels\\stats\\outliers_influence.py:193: RuntimeWarning: divide by zero encountered in double_scalars\n",
      "  vif = 1. / (1. - r_squared_i)\n"
     ]
    },
    {
     "output_type": "stream",
     "name": "stdout",
     "text": [
      "vif : [177.85932795111205, 21.043692048484203, 2.102847153106259, 43.4525211439357, 300.2361149164203, 9.982784452489499, 2.7627279527901076, 1.3251374928201822, 10.057484626130469, 6.767936874987146, 33.50985917874081, 24.36702911193546, 17.303669855528206, 1.119630247878016, 14.038099513118283, 7.997355875029947, 9.056886655936339, 5.044175907052987, 1.5620437948161403, 15.341614396210849, 57.50583185900312, 14.095301370950782, 37.14907611019782, 5.38188596556711, 71.94620195404474, 43.599286193670785, 67.6981984389871, 235.52663519609678, 205.41896517777278, 10.179483829363445, 34.565866116064356, inf, inf, inf, inf, 11.175245402205665, 73.6929219136622, 53.49706927429058, 52.34188791763083, 187.70917990214832, inf, 36.356273948914534, 24.347086286280085, 9.283571320614346, 10.184470492024149, 18.079834270209343, 4.3191632265323925, 3.293192942486537, 1.7972847224307935, 1.1621238157129838, 3.2653791973946977, 2.013999333006717, 1.936104919164525, 1.990280214835904, 1.0302960302866673, 1.5163690538045669, 2.7157864475868667]\n",
      "dropping 'lifetime_avg_gift_amt' at index: 31\n",
      "vif : [177.85932795111205, 21.043692048484203, 2.102847153106259, 43.4525211439357, 300.2361149164203, 9.982784452489499, 2.7627279527901067, 1.325137492820182, 10.057484626130469, 6.767936874987146, 33.50985917874081, 24.36702911193546, 17.303669855528206, 1.1196302478780158, 14.038099513118283, 7.997355875029947, 9.05688665593633, 5.044175907052987, 1.5620437948161408, 15.341614396210849, 57.50583185900312, 14.095301370950782, 37.14907611019782, 5.381885965567113, 71.94620195404474, 43.599286193670785, 67.6981984389871, 235.52663519609678, 205.41896517777278, 10.179483829363445, 34.565866116064356, inf, inf, inf, 11.175245402205665, 73.6929219136622, 53.49706927429058, 52.34188791763083, 187.70917990214832, 41.878342589239274, 36.356273948914534, 24.347086286280085, 9.283571320614355, 10.184470492024149, 18.079834270209343, 4.3191632265323925, 3.293192942486537, 1.7972847224307935, 1.1621238157129838, 3.2653791973946977, 2.013999333006717, 1.9361049191645245, 1.990280214835904, 1.0302960302866673, 1.5163690538045669, 2.7157864475868667]\n",
      "dropping 'lifetime_gift_range' at index: 31\n",
      "vif : [177.85932795111205, 21.043692048484203, 2.10284715310626, 43.4525211439357, 300.2361149164203, 9.982784452489499, 2.7627279527901067, 1.3251374928201822, 10.057484626130469, 6.767936874987146, 33.50985917874081, 24.36702911193546, 17.303669855528206, 1.119630247878016, 14.038099513118283, 7.997355875029947, 9.05688665593633, 5.044175907052987, 1.5620437948161405, 15.341614396210849, 57.50583185900312, 14.095301370950782, 37.14907611019782, 5.381885965567113, 71.94620195404474, 43.599286193670785, 67.6981984389871, 235.52663519609678, 205.41896517777278, 10.179483829363445, 34.565866116064356, 3.93136907055732, 14.5078696737374, 11.175245402205665, 73.6929219136622, 53.49706927429058, 52.34188791763083, 187.70917990214832, 41.878342589239274, 36.356273948914534, 24.347086286280085, 9.283571320614355, 10.18447049202416, 18.07983427020938, 4.319163226532395, 3.2931929424865385, 1.7972847224307935, 1.1621238157129838, 3.2653791973946977, 2.013999333006717, 1.936104919164525, 1.990280214835904, 1.030296030286667, 1.5163690538045673, 2.7157864475868667]\n",
      "dropping 'cluster_code' at index: 4\n",
      "vif : [177.8591991528956, 20.18361724308168, 2.100946887644726, 13.417332488973486, 9.710752330569258, 2.7409343748149397, 1.3242879632639986, 9.810809633822284, 6.739914939106268, 33.45941368204808, 24.14829596251914, 17.298169782563715, 1.116870849121008, 13.924514987547395, 7.782827815934109, 8.93123864411319, 5.043995564852579, 1.5611613558232977, 15.073662523516784, 57.43935564606692, 14.052925679761005, 37.052240251102845, 5.380095629099923, 71.94500417646167, 43.45756389599437, 65.87162220122731, 235.25596315684936, 205.40770152012266, 10.158833227571733, 34.5658659919632, 3.9313191283875777, 14.507284632500344, 11.172904004231684, 71.893328145057, 53.24891785770104, 50.340992552562334, 187.0572810367375, 41.85982712051969, 36.34850227165625, 2.367046911805055, 2.415312894674933, 2.107302206637681, 1.8245144285033599, 2.4749184511667344, 3.285296137398851, 1.7970792323125726, 1.1620553240119094, 3.2637903797458425, 2.0031420389694516, 1.9222588153619882, 1.9618724801492247, 1.029631504718308, 1.515491306568276, 2.7157807726727765]\n",
      "dropping 'lifetime_card_prom' at index: 26\n",
      "vif : [169.07460415869232, 20.18338982662738, 2.035171091552506, 13.409616819992957, 9.708639334214393, 2.7409338687452536, 1.3241223799597979, 9.809113242923685, 6.737382340202987, 33.4511156973497, 24.148287537427727, 17.292559147845303, 1.1168703553755706, 13.922539851062009, 7.776944640934046, 8.926967563172441, 5.013203259857182, 1.5611613484902251, 14.774127198010406, 57.036897602827466, 14.052338769748893, 36.552102537941515, 5.36316439426606, 70.12633678713858, 43.41315662941247, 65.40049659953905, 104.74867337114249, 10.116029956395938, 33.73667776646617, 3.9309884721570634, 14.503965421472223, 11.165825791075777, 42.594429721639536, 41.02126583201143, 49.736097992373715, 186.85273786467948, 41.849677217151026, 34.16810256013434, 2.366974243993972, 2.4144764728878396, 2.1068656551258256, 1.8236368794582607, 2.4734455507876794, 3.2847581664764762, 1.797040639879718, 1.1611483349949958, 3.2631286881257866, 2.003015209519434, 1.8521369618910728, 1.9486873528890185, 1.0290028227942811, 1.5133500681889036, 2.715647455294566]\n",
      "dropping 'months_since_first_gift' at index: 35\n",
      "vif : [37.14524047242794, 20.167050529866643, 2.035133312217596, 13.372658560390507, 9.703461609303238, 2.740932573886006, 1.3224304590069873, 9.786653186591023, 6.737066933419728, 33.449240803152485, 24.144517025987, 17.292400767951175, 1.1167778120324943, 13.921908769584414, 7.776602008183704, 8.926965288334562, 5.013192849061098, 1.5599899433467515, 14.76395764092823, 56.97038267156814, 14.052265756851405, 36.55080522779748, 5.362828397020966, 69.93358356677341, 43.41164063421708, 65.3058435575051, 102.05276464605828, 10.099334647161609, 33.386555714618034, 3.925250318450617, 14.502794919651551, 11.15436961837459, 42.566688849382594, 40.529873967735014, 49.731109785082786, 41.82454339320716, 34.12569065886511, 2.3669731509461385, 2.4137726854859634, 2.1065101403839672, 1.8232228281112441, 2.4722783822617456, 3.284735861084956, 1.7967080075580235, 1.1607583968311994, 3.26290197054159, 2.0030111644124458, 1.850966530585894, 1.9469442935429044, 1.0289129994833328, 1.4865155950417894, 2.7107652664703203]\n",
      "dropping 'lifetime_prom' at index: 26\n",
      "vif : [18.19580417015501, 20.164847555118556, 1.9851438018024243, 13.369620995030854, 9.697109994236682, 2.739161393891706, 1.3224187266568, 9.78309972489838, 6.736759616196907, 33.41786307005293, 24.141128296949663, 17.285584807113327, 1.1163940912932775, 13.920255628367276, 7.761164350552988, 8.925832613260992, 4.969946947691699, 1.55148258924417, 14.607399653663439, 52.39321340345961, 14.0448966664952, 36.549697744419966, 5.362653737747693, 67.18798249531413, 43.38269514235387, 65.0492893787476, 9.832624469016594, 32.04564407334686, 3.9221057713125176, 14.46331531751171, 11.106983766005492, 41.56094323542883, 28.03745173716554, 48.88054484026298, 41.719392818733944, 33.973453505744594, 2.36626521456216, 2.4137608599574207, 2.106505546648566, 1.82318549467398, 2.471116990052228, 3.284004809918898, 1.795676822351367, 1.1607210731334654, 3.2627687202596056, 2.001925950170682, 1.8206487279569878, 1.9237223167105102, 1.0267099833063724, 1.4595531695173045, 2.705713671894297]\n",
      "dropping 'recent_response_count' at index: 23\n",
      "vif : [18.180375403069075, 20.137285737148144, 1.975540380028356, 13.36962060927788, 9.696333293166328, 2.739001359041452, 1.3223801032280553, 9.782311223020246, 6.73645382019611, 33.415083023891626, 24.135399688805233, 17.28556863748914, 1.1162946644267135, 13.91678650129539, 7.760383631150384, 8.924536354705106, 4.966074777516304, 1.55148139853719, 13.905161434515106, 21.2622182835388, 13.984564246791455, 21.502690032608495, 5.323280365467328, 19.12384610201142, 64.505973423251, 9.828081632132935, 30.681094955696963, 3.919036327190888, 14.462848556644655, 11.091367379158683, 40.73274643254824, 28.03744711985656, 48.56330536162, 41.711397995929566, 32.93742909301886, 2.3660723080494357, 2.413525173103994, 2.1064670159205696, 1.822854695536579, 2.4674252246904906, 3.282474006441065, 1.7951842153316273, 1.1607210728086987, 3.262749902883632, 2.0019028690221434, 1.7505994424535598, 1.9218738793757457, 1.0265461385634485, 1.4223497996888113, 2.6951903467877374]\n",
      "dropping 'months_since_last_prom_resp' at index: 24\n",
      "vif : [18.180374874362588, 19.875705263274718, 1.9222058326850984, 13.090592812549282, 9.666098786619536, 2.7350033675603838, 1.3216480081464645, 9.724698652473638, 6.735752384607021, 33.4012655584072, 24.131543900700482, 17.28444016719852, 1.116237011494037, 13.912349253582336, 7.702273555830767, 8.895502592990914, 4.964272679891955, 1.5513021031638234, 13.843999845031613, 21.050389215403683, 13.939104888346776, 21.45202811656736, 5.321494136032303, 19.123785298117145, 9.825726964759982, 30.586493794767044, 3.9189695409021597, 14.44598856366228, 11.020256517471442, 40.66436257694379, 27.31679821162852, 23.11670457139724, 41.63410073235908, 32.89235640575856, 2.364817071817959, 2.4099869020920517, 2.1041522992600163, 1.821639035450863, 2.467423509681603, 3.2692251239677663, 1.7951833869551939, 1.1605791854453638, 3.262731477591975, 1.999904138934433, 1.746106980752191, 1.919973781554382, 1.0243300582498447, 1.4223045037925448, 2.695036195765266]\n",
      "dropping 'file_avg_gift' at index: 32\n",
      "vif : [18.165446956380556, 19.85720148216478, 1.9221095576649365, 13.090166381902023, 9.66370245207252, 2.734876035116147, 1.3215666516744906, 9.723620093541637, 6.735659920177523, 33.34023456341274, 24.117649373387557, 17.26533067592997, 1.1158781443058743, 13.91234889746378, 7.70227135045436, 8.892055291805796, 4.96235776498135, 1.5512325281091512, 13.803436782583198, 21.03437903729173, 12.972245922609332, 21.33786021917125, 5.306771144311452, 19.092182236181603, 8.623777476244847, 29.067843280247068, 3.8106904258634438, 3.394022674838394, 8.995591449353443, 40.656019855887166, 27.105499051663234, 23.11376657747745, 32.816910795735694, 2.3647174645785167, 2.409442777822574, 2.1031327475388935, 1.8213944459672495, 2.4673515734162197, 3.2660410763439405, 1.7951612718026613, 1.160564210375095, 3.257519320232713, 1.9979974822335373, 1.745860095516301, 1.8947821080707847, 1.0242750800454943, 1.4183646313749665, 2.6947450799843686]\n",
      "dropping 'card_prom_12' at index: 29\n",
      "vif : [18.160082116438588, 19.757084959862162, 1.7933126161519544, 12.905231312064286, 9.61403155869507, 2.7316906383204236, 1.3215634489588715, 9.68229227895367, 6.7341455922673905, 33.32400661774076, 24.11227859051879, 17.264152094501778, 1.1150451805419048, 13.891454258359246, 7.675245292545294, 8.88521139075854, 4.955079282946052, 1.55119528262293, 13.686387774167745, 20.87747929074946, 12.94304736079446, 20.740693360955678, 5.271231194875644, 18.559385280576837, 8.61638243585138, 28.983805870169135, 3.808719007113682, 3.3937049152401695, 8.978175759284367, 14.220578398046282, 22.866898522233726, 32.802331227726334, 2.3576706957054303, 2.40403823827404, 2.10004824406202, 1.8147861793916211, 2.4673125185727582, 3.2619465166005135, 1.7951572944846983, 1.1605599414202286, 3.2572520441557167, 1.995679492738136, 1.6341684781675232, 1.8913390730641395, 1.0242493018599546, 1.4176672052494903, 2.6892300031545506]\n",
      "dropping 'median_household_income' at index: 9\n",
      "vif : [18.154289279317293, 19.735803088672345, 1.7930302557347169, 12.693065375558007, 9.518532689060173, 2.7316902573801034, 1.3210623939704373, 9.595887014040633, 5.984006427632137, 15.989338538322068, 10.844470758677124, 1.1150359457837136, 13.751735291122184, 7.583661602274774, 8.43025778283999, 4.952865729980203, 1.5503608665936672, 13.683946572285846, 20.87747221960402, 12.9416557774983, 20.740257817822222, 5.270161389075541, 18.55717324299506, 8.616328216813727, 28.98265340233094, 3.8086912014450918, 3.3936293074152233, 8.978161967757927, 14.197447446597373, 22.83657990263287, 32.8021861056523, 2.2820696020410947, 2.375967019293198, 2.099066848775464, 1.8146307990847121, 2.466628356079349, 3.2619284417568544, 1.7931872847744383, 1.1605559135903185, 3.2545137877728085, 1.994483726770577, 1.6334307781559818, 1.8901920552110458, 1.024117107282519, 1.4168580784957374, 2.6873165075232315]\n",
      "dropping 'file_card_gift' at index: 30\n",
      "vif : [13.968021171438986, 19.735727035434643, 1.7876308187774312, 12.679505924631007, 9.517907672998174, 2.7316161688722813, 1.320927905752021, 9.59588057965918, 5.982717623006012, 15.988987880964281, 10.839007997060518, 1.1150230380967823, 13.744799543849902, 7.583515308251241, 8.430210401293909, 4.864515891485707, 1.532610098292688, 13.478460132988578, 20.243859612023957, 12.939390579533802, 20.34507581247963, 5.269611492487064, 16.493569505465455, 8.565059882681027, 15.618020572612561, 3.7928393581845112, 3.3936243137763427, 8.945988446446961, 13.641654111355502, 22.79855211163094, 2.2819999556796184, 2.3751540798741395, 2.09879144107661, 1.8144652874681126, 2.4656187041669906, 3.258972096325501, 1.7925986132365332, 1.1601692649374298, 3.253776041354897, 1.9936543007802434, 1.6171238585902494, 1.8784131355307916, 1.0238422455401808, 1.4054865777685155, 2.6272783348695774]\n",
      "dropping 'months_since_last_gift' at index: 29\n",
      "vif : [13.861750148811138, 19.011156524081038, 1.7526337039564281, 11.062078571226627, 9.164379247109158, 2.692871747541241, 1.3209264182664147, 9.295883582321336, 5.958284670923179, 15.866240577476162, 10.827516530495238, 1.113214216965928, 13.609294360095015, 7.19502629332538, 8.270321837144303, 4.859646410612854, 1.532541571814423, 13.44668175967944, 20.140627537656307, 12.807455081946825, 20.318327077787572, 5.2692333117310906, 16.325643202017933, 8.52007962619993, 15.617270606424526, 3.7887027614298936, 3.3698800102646604, 8.94237757465028, 12.28270015791201, 2.2652956147909515, 2.3484452299627763, 2.07809443335338, 1.8004473562685197, 2.440180924450169, 3.2484240916757328, 1.7923132093804774, 1.1601518627857208, 3.239283997903419, 1.968336634815541, 1.614914296405393, 1.8766755859878623, 1.0199384997458734, 1.3981617865188956, 2.6236827556911044]\n",
      "dropping 'recent_card_response_prop' at index: 20\n",
      "vif : [13.809217886121333, 19.00811236448589, 1.7449433640629448, 11.057426969214328, 9.163200675149499, 2.6911411675679693, 1.3208720493896886, 9.29557560331313, 5.958239388708816, 15.866218665512427, 10.824458082960334, 1.1132141570460097, 13.60841745458932, 7.193722658738201, 8.270058827844249, 4.856165046538905, 1.5321777727078094, 13.31835798482356, 16.393601249640156, 12.51888133685415, 4.8480840794294515, 8.224867648818753, 8.50157879669117, 15.291185829876278, 3.786742313355519, 3.3688329350560418, 8.931714096046143, 12.266015780678842, 2.2650823939549456, 2.3475917186366617, 2.0780919163420353, 1.7989707226538918, 2.4389373629753166, 3.2482657662774272, 1.79227825093596, 1.1601152322761765, 3.237417012465056, 1.9682413615971492, 1.4639131594162846, 1.5505536019252715, 1.019877908577286, 1.2946405333747175, 2.6067120037840126]\n",
      "dropping 'donor_age' at index: 1\n",
      "vif : [13.282747233556906, 1.7449277619615935, 10.37552179485554, 9.15800577523758, 2.6623250547172748, 1.3114299393712134, 9.188331201339588, 5.913876409508418, 15.851436853035244, 10.820330562039254, 1.1132081755434176, 13.456642982431303, 7.122963006875239, 8.07165764192064, 4.855792050815024, 1.530480336831908, 13.286679799275836, 16.280126277253398, 12.513372006243058, 4.83543396299652, 8.209255038953213, 8.465694746175512, 15.290809657350435, 3.7866040344009932, 3.3625235534128186, 8.931529351528877, 12.061031501650366, 2.258733295202899, 2.343263731513923, 2.0758153869691003, 1.7957539882176146, 2.436081971954164, 3.2416075886029176, 1.78957983051549, 1.1595876930564144, 3.231028049810366, 1.9620808623070816, 1.4639092779986522, 1.5492615609052243, 1.0197894084017234, 1.2916190151820284, 2.605980089954321]\n",
      "dropping 'recent_response_prop' at index: 17\n",
      "vif : [12.760288968129833, 1.743855617364772, 10.315152773623243, 9.155738138723015, 2.661304072013166, 1.3112123829522944, 9.188330393648187, 5.913345552929675, 15.850556802695436, 10.81847364840856, 1.1131286543597996, 13.426608025884418, 7.113639183776235, 8.063973716940602, 4.851712214916184, 1.5302385435554744, 9.808424241791192, 12.473728782966928, 4.779774108554086, 6.089674841343318, 8.431492492930861, 14.728487641269316, 3.786511831195994, 3.3624953827439263, 8.93152249996903, 12.052693716073607, 2.258714397710591, 2.3430187198179913, 2.075628849833088, 1.7945102508302224, 2.435123026617893, 3.2381896051457257, 1.7895400999963536, 1.1595546859269479, 3.230438610588877, 1.960100211774244, 1.1485003628561994, 1.466784780223823, 1.0195673377625882, 1.2765413803786378, 2.601389734644735]\n",
      "dropping 'pct_owner_occupied' at index: 8\n",
      "vif : [12.69594305700266, 1.7436669798841944, 10.194135569656408, 9.018845190961148, 2.6591036867721067, 1.3098418298383026, 8.93615917097944, 5.9107315859287, 10.52278305328875, 1.1013283476740732, 12.631188103254027, 6.958160921104844, 8.007770113764606, 4.8502554649435705, 1.5301307843730916, 9.797683138725727, 12.464552605435218, 4.776547722964471, 6.08835283226101, 8.418215360990887, 14.724874426495765, 3.7860845398112453, 3.360197035618066, 8.929389947592341, 12.002255640687876, 2.0959246504577083, 2.3152717680888744, 2.008569153876694, 1.785449254566189, 2.3973064508910302, 3.2254894450923084, 1.7861975388270608, 1.1591142284688571, 3.22952934445162, 1.959906151797921, 1.1483884631210193, 1.4660116019254992, 1.0187513765067806, 1.276026639959754, 2.601372998547049]\n",
      "dropping 'lifetime_gift_count' at index: 20\n",
      "vif : [8.896203686524284, 1.734862573974617, 10.19233734004441, 9.011629804413683, 2.658117690928023, 1.3086906828803926, 8.909811797253852, 5.910583844595017, 10.522582184703847, 1.101316951539172, 12.630613499340743, 6.958100768099309, 8.007420306880366, 4.848975521481619, 1.517174733571288, 9.796876937870746, 11.849242368643452, 4.687987570564609, 5.373562089327986, 5.265978832899814, 3.7151676092383186, 3.3497331697814747, 8.902233568131763, 11.902427175171693, 2.095835217237945, 2.3150876424630322, 2.004240787640446, 1.783266354969181, 2.3971716416227307, 3.2251593242973016, 1.785727517854906, 1.1574735177364068, 3.2294916264860314, 1.9598847160329187, 1.1435056988469305, 1.436304246884588, 1.0183049246148501, 1.2719646266635256, 2.4753549850942935]\n",
      "dropping 'pct_attribute2' at index: 10\n",
      "vif : [8.834608573796045, 1.7343027476066495, 10.153093461478045, 8.968020878599662, 2.6544625691895307, 1.3086167610511534, 8.872138935936285, 5.82358625924166, 10.335396129241754, 1.0973526635815425, 6.250793601611715, 5.812168714448741, 4.848337510590602, 1.5171337954529873, 9.743805688427278, 11.837481799283108, 4.68729771197181, 5.373236343064288, 5.261038605855994, 3.7148303103295968, 3.349658992322374, 8.90203820791781, 11.884580657990806, 2.094167220506476, 2.3117258696600373, 2.0028733650099837, 1.7238244926752297, 2.3278590037288898, 3.225126319643769, 1.7844625165727892, 1.15728636772227, 3.2284975478172395, 1.9577667336039377, 1.1434908870740388, 1.4344414413830477, 1.018138664681588, 1.2701141284622222, 2.4707638264820573]\n",
      "dropping 'number_prom_12' at index: 22\n",
      "vif : [8.832257900677726, 1.2970126384471043, 9.721711478366268, 8.913094987536576, 2.6435492969779215, 1.3004928301447034, 8.808942233870715, 5.816121843125794, 10.293369434922862, 1.0969288462875268, 6.1525335162661765, 5.769108278962732, 4.8434958574497236, 1.5169170189826122, 9.566730411997401, 11.811963934603261, 4.680888543037138, 5.344860764802933, 5.06477952923433, 3.7147502539220993, 3.34631646009816, 8.901932117182506, 2.0792113287695586, 2.3071377425461073, 1.9961253941531072, 1.7218239618347548, 2.325235070785622, 3.2248772579180853, 1.782440628240601, 1.1572821393249404, 3.2194522338122784, 1.9435857590116319, 1.090518723241022, 1.4340489450916014, 1.0180476675820784, 1.270001388515962, 2.450484706375303]\n",
      "dropping 'recent_avg_gift_amt' at index: 15\n",
      "vif : [8.8179275768764, 1.2969704772883177, 9.546240622332922, 8.870121838823682, 2.640161131671799, 1.3004446634090894, 8.765805796264255, 5.813033894250187, 10.25883724389224, 1.0965297794998712, 6.113793007161576, 5.745285038902656, 4.838178243518294, 1.5145154915585164, 9.494465154323843, 3.485448729550255, 5.100222536826925, 4.866174368991408, 3.714452247037055, 3.2942166596510853, 6.755471465516082, 2.0753238418262763, 2.3026373120540296, 1.9931259958065073, 1.7209984037549875, 2.321159803701767, 3.222238682129876, 1.7796604929277355, 1.1569478484663487, 3.218796987022146, 1.9411592909827948, 1.0903976093367802, 1.4163183239665, 1.017041089753485, 1.2683481674335848, 2.4465850303744374]\n",
      "dropping 'per_capita_income' at index: 8\n",
      "Final variables: ['months_since_origin', 'in_house', 'ses', 'income_group', 'published_phone', 'mor_hit_rate', 'wealth_rating', 'median_home_value', 'pct_attribute1', 'pct_attribute3', 'pct_attribute4', 'pep_star', 'recent_star_status', 'frequency_status_97nk', 'recent_avg_card_gift_amt', 'recent_card_response_count', 'lifetime_gift_amount', 'lifetime_max_gift_amt', 'lifetime_min_gift_amt', 'last_gift_amt', 'urbanicity_R', 'urbanicity_S', 'urbanicity_T', 'urbanicity_U', 'urbanicity_X', 'home_owner_U', 'donor_gender_M', 'donor_gender_U', 'overlay_source_M', 'overlay_source_P', 'recency_status_96nk_E', 'recency_status_96nk_F', 'recency_status_96nk_L', 'recency_status_96nk_N', 'recency_status_96nk_S']\n"
     ]
    }
   ],
   "metadata": {}
  },
  {
   "cell_type": "markdown",
   "source": [
    "* **We can notice that VIF analysis has elemenated several features**.\r\n",
    "* **Let’s run the first iteration of multivariate regression model with the set of independent variables that has passed the VIF analysis.**"
   ],
   "metadata": {}
  },
  {
   "cell_type": "code",
   "execution_count": 35,
   "source": [
    "print(independent_variables)"
   ],
   "outputs": [
    {
     "output_type": "stream",
     "name": "stdout",
     "text": [
      "['months_since_origin', 'in_house', 'ses', 'income_group', 'published_phone', 'mor_hit_rate', 'wealth_rating', 'median_home_value', 'pct_attribute1', 'pct_attribute3', 'pct_attribute4', 'pep_star', 'recent_star_status', 'frequency_status_97nk', 'recent_avg_card_gift_amt', 'recent_card_response_count', 'lifetime_gift_amount', 'lifetime_max_gift_amt', 'lifetime_min_gift_amt', 'last_gift_amt', 'urbanicity_R', 'urbanicity_S', 'urbanicity_T', 'urbanicity_U', 'urbanicity_X', 'home_owner_U', 'donor_gender_M', 'donor_gender_U', 'overlay_source_M', 'overlay_source_P', 'recency_status_96nk_E', 'recency_status_96nk_F', 'recency_status_96nk_L', 'recency_status_96nk_N', 'recency_status_96nk_S']\n"
     ]
    }
   ],
   "metadata": {}
  },
  {
   "cell_type": "code",
   "execution_count": 36,
   "source": [
    "# independent_variables =  ['months_since_origin', 'in_house', 'ses', 'income_group', 'published_phone', 'mor_hit_rate', \r\n",
    "# 'wealth_rating', 'median_home_value', 'pct_attribute1', 'pct_attribute3', 'pct_attribute4', 'pep_star', 'recent_star_status',\r\n",
    "# 'frequency_status_97nk', 'recent_avg_card_gift_amt', 'recent_card_response_count', 'lifetime_gift_amount', 'lifetime_max_gift_amt', \r\n",
    "# 'lifetime_min_gift_amt', 'last_gift_amt', 'urbanicity_R', 'urbanicity_S', 'urbanicity_T', 'urbanicity_U', 'urbanicity_X', \r\n",
    "# 'home_owner_U', 'donor_gender_M', 'donor_gender_U', 'overlay_source_M', 'overlay_source_P', 'recency_status_96nk_E', \r\n",
    "# 'recency_status_96nk_F', 'recency_status_96nk_L', 'recency_status_96nk_N', 'recency_status_96nk_S']\r\n",
    "# use the list to select a subset from original DataFrame\r\n",
    "X = X[independent_variables]\r\n",
    "X_test_cat_encoded = X_test_cat_encoded[independent_variables]\r\n",
    "y = y\r\n",
    "X.shape, y.shape, X_test_cat_encoded.shape"
   ],
   "outputs": [
    {
     "output_type": "execute_result",
     "data": {
      "text/plain": [
       "((4843, 35), (4843,), (2148, 35))"
      ]
     },
     "metadata": {},
     "execution_count": 36
    }
   ],
   "metadata": {}
  },
  {
   "cell_type": "code",
   "execution_count": 37,
   "source": [
    "X_train, X_test, y_train, y_test  = train_test_split(X, y, test_size=0.3, random_state=101)"
   ],
   "outputs": [],
   "metadata": {}
  },
  {
   "cell_type": "code",
   "execution_count": 38,
   "source": [
    "# Create an object lm for the LinearRegression model\r\n",
    "lm = LinearRegression()\r\n",
    "# Fit the model on the training data\r\n",
    "lm.fit(X_train, y_train)"
   ],
   "outputs": [
    {
     "output_type": "execute_result",
     "data": {
      "text/plain": [
       "LinearRegression()"
      ]
     },
     "metadata": {},
     "execution_count": 38
    }
   ],
   "metadata": {}
  },
  {
   "cell_type": "code",
   "execution_count": 39,
   "source": [
    "import statsmodels.api as sm"
   ],
   "outputs": [],
   "metadata": {}
  },
  {
   "cell_type": "code",
   "execution_count": 40,
   "source": [
    "model = sm.OLS(y, X).fit()\r\n",
    "predictions = model.predict(X)\r\n",
    "model.summary()\r\n",
    "# make predictions on the testing set\r\n"
   ],
   "outputs": [
    {
     "output_type": "execute_result",
     "data": {
      "text/plain": [
       "<class 'statsmodels.iolib.summary.Summary'>\n",
       "\"\"\"\n",
       "                                 OLS Regression Results                                \n",
       "=======================================================================================\n",
       "Dep. Variable:         amount_donated   R-squared (uncentered):                   0.812\n",
       "Model:                            OLS   Adj. R-squared (uncentered):              0.811\n",
       "Method:                 Least Squares   F-statistic:                              594.6\n",
       "Date:                Mon, 09 Aug 2021   Prob (F-statistic):                        0.00\n",
       "Time:                        22:31:09   Log-Likelihood:                         -17323.\n",
       "No. Observations:                4843   AIC:                                  3.472e+04\n",
       "Df Residuals:                    4808   BIC:                                  3.494e+04\n",
       "Df Model:                          35                                                  \n",
       "Covariance Type:            nonrobust                                                  \n",
       "==============================================================================================\n",
       "                                 coef    std err          t      P>|t|      [0.025      0.975]\n",
       "----------------------------------------------------------------------------------------------\n",
       "months_since_origin           -0.0268      0.004     -6.371      0.000      -0.035      -0.019\n",
       "in_house                      -1.3639      0.469     -2.906      0.004      -2.284      -0.444\n",
       "ses                            1.3895      0.180      7.738      0.000       1.037       1.741\n",
       "income_group                   0.3517      0.081      4.360      0.000       0.194       0.510\n",
       "published_phone                0.9917      0.287      3.453      0.001       0.429       1.555\n",
       "mor_hit_rate                  -0.0057      0.014     -0.411      0.681      -0.033       0.022\n",
       "wealth_rating                  0.3635      0.065      5.569      0.000       0.236       0.491\n",
       "median_home_value              0.0005      0.000      3.038      0.002       0.000       0.001\n",
       "pct_attribute1                 0.0221      0.028      0.793      0.428      -0.033       0.077\n",
       "pct_attribute3                 0.0504      0.009      5.391      0.000       0.032       0.069\n",
       "pct_attribute4                 0.0358      0.008      4.623      0.000       0.021       0.051\n",
       "pep_star                      -0.9325      0.356     -2.622      0.009      -1.630      -0.235\n",
       "recent_star_status            -0.1288      0.060     -2.139      0.032      -0.247      -0.011\n",
       "frequency_status_97nk         -1.0561      0.152     -6.945      0.000      -1.354      -0.758\n",
       "recent_avg_card_gift_amt       0.2441      0.015     15.768      0.000       0.214       0.274\n",
       "recent_card_response_count    -0.5711      0.106     -5.374      0.000      -0.779      -0.363\n",
       "lifetime_gift_amount           0.0126      0.002      7.250      0.000       0.009       0.016\n",
       "lifetime_max_gift_amt         -0.0027      0.009     -0.308      0.758      -0.020       0.014\n",
       "lifetime_min_gift_amt         -0.2768      0.020    -13.952      0.000      -0.316      -0.238\n",
       "last_gift_amt                  0.5316      0.016     33.312      0.000       0.500       0.563\n",
       "urbanicity_R                   0.3968      0.411      0.966      0.334      -0.409       1.202\n",
       "urbanicity_S                   0.8756      0.382      2.290      0.022       0.126       1.625\n",
       "urbanicity_T                   0.7853      0.387      2.032      0.042       0.028       1.543\n",
       "urbanicity_U                   0.6396      0.473      1.353      0.176      -0.287       1.567\n",
       "urbanicity_X                   0.0163      1.114      0.015      0.988      -2.167       2.200\n",
       "home_owner_U                   1.4826      0.337      4.397      0.000       0.822       2.144\n",
       "donor_gender_M                 1.0011      0.261      3.828      0.000       0.488       1.514\n",
       "donor_gender_U                 1.2132      0.566      2.142      0.032       0.103       2.324\n",
       "overlay_source_M              -0.3148      0.406     -0.776      0.438      -1.111       0.481\n",
       "overlay_source_P               0.9880      0.359      2.749      0.006       0.283       1.693\n",
       "recency_status_96nk_E          0.9008      0.789      1.141      0.254      -0.647       2.448\n",
       "recency_status_96nk_F          2.5208      0.645      3.911      0.000       1.257       3.785\n",
       "recency_status_96nk_L          3.1704      2.124      1.493      0.136      -0.993       7.334\n",
       "recency_status_96nk_N          0.5451      0.602      0.906      0.365      -0.635       1.725\n",
       "recency_status_96nk_S         -0.3239      0.366     -0.886      0.376      -1.041       0.393\n",
       "==============================================================================\n",
       "Omnibus:                     5089.020   Durbin-Watson:                   1.996\n",
       "Prob(Omnibus):                  0.000   Jarque-Bera (JB):          1470650.981\n",
       "Skew:                           4.679   Prob(JB):                         0.00\n",
       "Kurtosis:                      87.855   Cond. No.                     2.65e+04\n",
       "==============================================================================\n",
       "\n",
       "Notes:\n",
       "[1] R² is computed without centering (uncentered) since the model does not contain a constant.\n",
       "[2] Standard Errors assume that the covariance matrix of the errors is correctly specified.\n",
       "[3] The condition number is large, 2.65e+04. This might indicate that there are\n",
       "strong multicollinearity or other numerical problems.\n",
       "\"\"\""
      ],
      "text/html": [
       "<table class=\"simpletable\">\n",
       "<caption>OLS Regression Results</caption>\n",
       "<tr>\n",
       "  <th>Dep. Variable:</th>     <td>amount_donated</td>  <th>  R-squared (uncentered):</th>      <td>   0.812</td> \n",
       "</tr>\n",
       "<tr>\n",
       "  <th>Model:</th>                   <td>OLS</td>       <th>  Adj. R-squared (uncentered):</th> <td>   0.811</td> \n",
       "</tr>\n",
       "<tr>\n",
       "  <th>Method:</th>             <td>Least Squares</td>  <th>  F-statistic:       </th>          <td>   594.6</td> \n",
       "</tr>\n",
       "<tr>\n",
       "  <th>Date:</th>             <td>Mon, 09 Aug 2021</td> <th>  Prob (F-statistic):</th>           <td>  0.00</td>  \n",
       "</tr>\n",
       "<tr>\n",
       "  <th>Time:</th>                 <td>22:31:09</td>     <th>  Log-Likelihood:    </th>          <td> -17323.</td> \n",
       "</tr>\n",
       "<tr>\n",
       "  <th>No. Observations:</th>      <td>  4843</td>      <th>  AIC:               </th>          <td>3.472e+04</td>\n",
       "</tr>\n",
       "<tr>\n",
       "  <th>Df Residuals:</th>          <td>  4808</td>      <th>  BIC:               </th>          <td>3.494e+04</td>\n",
       "</tr>\n",
       "<tr>\n",
       "  <th>Df Model:</th>              <td>    35</td>      <th>                     </th>              <td> </td>    \n",
       "</tr>\n",
       "<tr>\n",
       "  <th>Covariance Type:</th>      <td>nonrobust</td>    <th>                     </th>              <td> </td>    \n",
       "</tr>\n",
       "</table>\n",
       "<table class=\"simpletable\">\n",
       "<tr>\n",
       "               <td></td>                 <th>coef</th>     <th>std err</th>      <th>t</th>      <th>P>|t|</th>  <th>[0.025</th>    <th>0.975]</th>  \n",
       "</tr>\n",
       "<tr>\n",
       "  <th>months_since_origin</th>        <td>   -0.0268</td> <td>    0.004</td> <td>   -6.371</td> <td> 0.000</td> <td>   -0.035</td> <td>   -0.019</td>\n",
       "</tr>\n",
       "<tr>\n",
       "  <th>in_house</th>                   <td>   -1.3639</td> <td>    0.469</td> <td>   -2.906</td> <td> 0.004</td> <td>   -2.284</td> <td>   -0.444</td>\n",
       "</tr>\n",
       "<tr>\n",
       "  <th>ses</th>                        <td>    1.3895</td> <td>    0.180</td> <td>    7.738</td> <td> 0.000</td> <td>    1.037</td> <td>    1.741</td>\n",
       "</tr>\n",
       "<tr>\n",
       "  <th>income_group</th>               <td>    0.3517</td> <td>    0.081</td> <td>    4.360</td> <td> 0.000</td> <td>    0.194</td> <td>    0.510</td>\n",
       "</tr>\n",
       "<tr>\n",
       "  <th>published_phone</th>            <td>    0.9917</td> <td>    0.287</td> <td>    3.453</td> <td> 0.001</td> <td>    0.429</td> <td>    1.555</td>\n",
       "</tr>\n",
       "<tr>\n",
       "  <th>mor_hit_rate</th>               <td>   -0.0057</td> <td>    0.014</td> <td>   -0.411</td> <td> 0.681</td> <td>   -0.033</td> <td>    0.022</td>\n",
       "</tr>\n",
       "<tr>\n",
       "  <th>wealth_rating</th>              <td>    0.3635</td> <td>    0.065</td> <td>    5.569</td> <td> 0.000</td> <td>    0.236</td> <td>    0.491</td>\n",
       "</tr>\n",
       "<tr>\n",
       "  <th>median_home_value</th>          <td>    0.0005</td> <td>    0.000</td> <td>    3.038</td> <td> 0.002</td> <td>    0.000</td> <td>    0.001</td>\n",
       "</tr>\n",
       "<tr>\n",
       "  <th>pct_attribute1</th>             <td>    0.0221</td> <td>    0.028</td> <td>    0.793</td> <td> 0.428</td> <td>   -0.033</td> <td>    0.077</td>\n",
       "</tr>\n",
       "<tr>\n",
       "  <th>pct_attribute3</th>             <td>    0.0504</td> <td>    0.009</td> <td>    5.391</td> <td> 0.000</td> <td>    0.032</td> <td>    0.069</td>\n",
       "</tr>\n",
       "<tr>\n",
       "  <th>pct_attribute4</th>             <td>    0.0358</td> <td>    0.008</td> <td>    4.623</td> <td> 0.000</td> <td>    0.021</td> <td>    0.051</td>\n",
       "</tr>\n",
       "<tr>\n",
       "  <th>pep_star</th>                   <td>   -0.9325</td> <td>    0.356</td> <td>   -2.622</td> <td> 0.009</td> <td>   -1.630</td> <td>   -0.235</td>\n",
       "</tr>\n",
       "<tr>\n",
       "  <th>recent_star_status</th>         <td>   -0.1288</td> <td>    0.060</td> <td>   -2.139</td> <td> 0.032</td> <td>   -0.247</td> <td>   -0.011</td>\n",
       "</tr>\n",
       "<tr>\n",
       "  <th>frequency_status_97nk</th>      <td>   -1.0561</td> <td>    0.152</td> <td>   -6.945</td> <td> 0.000</td> <td>   -1.354</td> <td>   -0.758</td>\n",
       "</tr>\n",
       "<tr>\n",
       "  <th>recent_avg_card_gift_amt</th>   <td>    0.2441</td> <td>    0.015</td> <td>   15.768</td> <td> 0.000</td> <td>    0.214</td> <td>    0.274</td>\n",
       "</tr>\n",
       "<tr>\n",
       "  <th>recent_card_response_count</th> <td>   -0.5711</td> <td>    0.106</td> <td>   -5.374</td> <td> 0.000</td> <td>   -0.779</td> <td>   -0.363</td>\n",
       "</tr>\n",
       "<tr>\n",
       "  <th>lifetime_gift_amount</th>       <td>    0.0126</td> <td>    0.002</td> <td>    7.250</td> <td> 0.000</td> <td>    0.009</td> <td>    0.016</td>\n",
       "</tr>\n",
       "<tr>\n",
       "  <th>lifetime_max_gift_amt</th>      <td>   -0.0027</td> <td>    0.009</td> <td>   -0.308</td> <td> 0.758</td> <td>   -0.020</td> <td>    0.014</td>\n",
       "</tr>\n",
       "<tr>\n",
       "  <th>lifetime_min_gift_amt</th>      <td>   -0.2768</td> <td>    0.020</td> <td>  -13.952</td> <td> 0.000</td> <td>   -0.316</td> <td>   -0.238</td>\n",
       "</tr>\n",
       "<tr>\n",
       "  <th>last_gift_amt</th>              <td>    0.5316</td> <td>    0.016</td> <td>   33.312</td> <td> 0.000</td> <td>    0.500</td> <td>    0.563</td>\n",
       "</tr>\n",
       "<tr>\n",
       "  <th>urbanicity_R</th>               <td>    0.3968</td> <td>    0.411</td> <td>    0.966</td> <td> 0.334</td> <td>   -0.409</td> <td>    1.202</td>\n",
       "</tr>\n",
       "<tr>\n",
       "  <th>urbanicity_S</th>               <td>    0.8756</td> <td>    0.382</td> <td>    2.290</td> <td> 0.022</td> <td>    0.126</td> <td>    1.625</td>\n",
       "</tr>\n",
       "<tr>\n",
       "  <th>urbanicity_T</th>               <td>    0.7853</td> <td>    0.387</td> <td>    2.032</td> <td> 0.042</td> <td>    0.028</td> <td>    1.543</td>\n",
       "</tr>\n",
       "<tr>\n",
       "  <th>urbanicity_U</th>               <td>    0.6396</td> <td>    0.473</td> <td>    1.353</td> <td> 0.176</td> <td>   -0.287</td> <td>    1.567</td>\n",
       "</tr>\n",
       "<tr>\n",
       "  <th>urbanicity_X</th>               <td>    0.0163</td> <td>    1.114</td> <td>    0.015</td> <td> 0.988</td> <td>   -2.167</td> <td>    2.200</td>\n",
       "</tr>\n",
       "<tr>\n",
       "  <th>home_owner_U</th>               <td>    1.4826</td> <td>    0.337</td> <td>    4.397</td> <td> 0.000</td> <td>    0.822</td> <td>    2.144</td>\n",
       "</tr>\n",
       "<tr>\n",
       "  <th>donor_gender_M</th>             <td>    1.0011</td> <td>    0.261</td> <td>    3.828</td> <td> 0.000</td> <td>    0.488</td> <td>    1.514</td>\n",
       "</tr>\n",
       "<tr>\n",
       "  <th>donor_gender_U</th>             <td>    1.2132</td> <td>    0.566</td> <td>    2.142</td> <td> 0.032</td> <td>    0.103</td> <td>    2.324</td>\n",
       "</tr>\n",
       "<tr>\n",
       "  <th>overlay_source_M</th>           <td>   -0.3148</td> <td>    0.406</td> <td>   -0.776</td> <td> 0.438</td> <td>   -1.111</td> <td>    0.481</td>\n",
       "</tr>\n",
       "<tr>\n",
       "  <th>overlay_source_P</th>           <td>    0.9880</td> <td>    0.359</td> <td>    2.749</td> <td> 0.006</td> <td>    0.283</td> <td>    1.693</td>\n",
       "</tr>\n",
       "<tr>\n",
       "  <th>recency_status_96nk_E</th>      <td>    0.9008</td> <td>    0.789</td> <td>    1.141</td> <td> 0.254</td> <td>   -0.647</td> <td>    2.448</td>\n",
       "</tr>\n",
       "<tr>\n",
       "  <th>recency_status_96nk_F</th>      <td>    2.5208</td> <td>    0.645</td> <td>    3.911</td> <td> 0.000</td> <td>    1.257</td> <td>    3.785</td>\n",
       "</tr>\n",
       "<tr>\n",
       "  <th>recency_status_96nk_L</th>      <td>    3.1704</td> <td>    2.124</td> <td>    1.493</td> <td> 0.136</td> <td>   -0.993</td> <td>    7.334</td>\n",
       "</tr>\n",
       "<tr>\n",
       "  <th>recency_status_96nk_N</th>      <td>    0.5451</td> <td>    0.602</td> <td>    0.906</td> <td> 0.365</td> <td>   -0.635</td> <td>    1.725</td>\n",
       "</tr>\n",
       "<tr>\n",
       "  <th>recency_status_96nk_S</th>      <td>   -0.3239</td> <td>    0.366</td> <td>   -0.886</td> <td> 0.376</td> <td>   -1.041</td> <td>    0.393</td>\n",
       "</tr>\n",
       "</table>\n",
       "<table class=\"simpletable\">\n",
       "<tr>\n",
       "  <th>Omnibus:</th>       <td>5089.020</td> <th>  Durbin-Watson:     </th>  <td>   1.996</td>  \n",
       "</tr>\n",
       "<tr>\n",
       "  <th>Prob(Omnibus):</th>  <td> 0.000</td>  <th>  Jarque-Bera (JB):  </th> <td>1470650.981</td>\n",
       "</tr>\n",
       "<tr>\n",
       "  <th>Skew:</th>           <td> 4.679</td>  <th>  Prob(JB):          </th>  <td>    0.00</td>  \n",
       "</tr>\n",
       "<tr>\n",
       "  <th>Kurtosis:</th>       <td>87.855</td>  <th>  Cond. No.          </th>  <td>2.65e+04</td>  \n",
       "</tr>\n",
       "</table><br/><br/>Notes:<br/>[1] R² is computed without centering (uncentered) since the model does not contain a constant.<br/>[2] Standard Errors assume that the covariance matrix of the errors is correctly specified.<br/>[3] The condition number is large, 2.65e+04. This might indicate that there are<br/>strong multicollinearity or other numerical problems."
      ]
     },
     "metadata": {},
     "execution_count": 40
    }
   ],
   "metadata": {}
  },
  {
   "cell_type": "markdown",
   "source": [
    "* **Note that variable ‘mor_hit_rate’, ‘pct_attribute1’, ‘lifetime_max_gift_amt’, ‘urbanicity_R’, ‘urbanicity_U’, ‘urbanicity_X’\r\n",
    "    ‘overlay_source_M’, ‘recency_status_96nk_E’, ‘recency_status_96nk_N’, ‘recency_status_96nk_S’ and ‘recency_status_96nk_L’ have a large p value indicating it’s insignificant. So let’s re-run the regression without this variable and look at the results**"
   ],
   "metadata": {}
  },
  {
   "cell_type": "code",
   "execution_count": 41,
   "source": [
    "rfe_independent_variables =  ['months_since_origin', 'in_house', 'ses', 'income_group', 'published_phone', \r\n",
    "'wealth_rating', 'median_home_value',  'pct_attribute3', 'pct_attribute4', 'pep_star', 'recent_star_status',\r\n",
    "'frequency_status_97nk', 'recent_avg_card_gift_amt', 'recent_card_response_count', 'lifetime_gift_amount',  \r\n",
    "'lifetime_min_gift_amt', 'last_gift_amt',  'urbanicity_S', 'urbanicity_T',  \r\n",
    "'home_owner_U', 'donor_gender_M', 'donor_gender_U', 'overlay_source_P',\r\n",
    "'recency_status_96nk_F']\r\n",
    "# use the list to select a subset from original DataFrame\r\n",
    "X = X[rfe_independent_variables]\r\n",
    "X_test_cat_encoded = X_test_cat_encoded[rfe_independent_variables]\r\n",
    "y = y\r\n",
    "X.shape, y.shape, X_test_cat_encoded.shape"
   ],
   "outputs": [
    {
     "output_type": "execute_result",
     "data": {
      "text/plain": [
       "((4843, 24), (4843,), (2148, 24))"
      ]
     },
     "metadata": {},
     "execution_count": 41
    }
   ],
   "metadata": {}
  },
  {
   "cell_type": "code",
   "execution_count": 42,
   "source": [
    "X_train, X_test, y_train, y_test  = train_test_split(X, y, test_size=0.3, random_state=101)"
   ],
   "outputs": [],
   "metadata": {}
  },
  {
   "cell_type": "code",
   "execution_count": 43,
   "source": [
    "# Create an object lm for the LinearRegression model\r\n",
    "lm = LinearRegression()\r\n",
    "# Fit the model on the training data\r\n",
    "lm.fit(X_train, y_train)"
   ],
   "outputs": [
    {
     "output_type": "execute_result",
     "data": {
      "text/plain": [
       "LinearRegression()"
      ]
     },
     "metadata": {},
     "execution_count": 43
    }
   ],
   "metadata": {}
  },
  {
   "cell_type": "code",
   "execution_count": 44,
   "source": [
    "model = sm.OLS(y, X).fit()\r\n",
    "predictions = model.predict(X)\r\n",
    "model.summary()\r\n",
    "# make predictions on the testing set\r\n"
   ],
   "outputs": [
    {
     "output_type": "execute_result",
     "data": {
      "text/plain": [
       "<class 'statsmodels.iolib.summary.Summary'>\n",
       "\"\"\"\n",
       "                                 OLS Regression Results                                \n",
       "=======================================================================================\n",
       "Dep. Variable:         amount_donated   R-squared (uncentered):                   0.812\n",
       "Model:                            OLS   Adj. R-squared (uncentered):              0.811\n",
       "Method:                 Least Squares   F-statistic:                              867.2\n",
       "Date:                Mon, 09 Aug 2021   Prob (F-statistic):                        0.00\n",
       "Time:                        22:31:25   Log-Likelihood:                         -17327.\n",
       "No. Observations:                4843   AIC:                                  3.470e+04\n",
       "Df Residuals:                    4819   BIC:                                  3.486e+04\n",
       "Df Model:                          24                                                  \n",
       "Covariance Type:            nonrobust                                                  \n",
       "==============================================================================================\n",
       "                                 coef    std err          t      P>|t|      [0.025      0.975]\n",
       "----------------------------------------------------------------------------------------------\n",
       "months_since_origin           -0.0284      0.004     -7.110      0.000      -0.036      -0.021\n",
       "in_house                      -1.4043      0.464     -3.024      0.003      -2.315      -0.494\n",
       "ses                            1.4426      0.138     10.432      0.000       1.171       1.714\n",
       "income_group                   0.3558      0.078      4.570      0.000       0.203       0.508\n",
       "published_phone                1.0868      0.273      3.979      0.000       0.551       1.622\n",
       "wealth_rating                  0.3591      0.064      5.613      0.000       0.234       0.485\n",
       "median_home_value              0.0005      0.000      3.613      0.000       0.000       0.001\n",
       "pct_attribute3                 0.0541      0.008      6.414      0.000       0.038       0.071\n",
       "pct_attribute4                 0.0376      0.007      5.510      0.000       0.024       0.051\n",
       "pep_star                      -1.0088      0.339     -2.975      0.003      -1.674      -0.344\n",
       "recent_star_status            -0.1197      0.060     -2.008      0.045      -0.237      -0.003\n",
       "frequency_status_97nk         -1.0818      0.148     -7.311      0.000      -1.372      -0.792\n",
       "recent_avg_card_gift_amt       0.2458      0.015     15.988      0.000       0.216       0.276\n",
       "recent_card_response_count    -0.5961      0.105     -5.695      0.000      -0.801      -0.391\n",
       "lifetime_gift_amount           0.0123      0.002      7.737      0.000       0.009       0.015\n",
       "lifetime_min_gift_amt         -0.2733      0.019    -14.167      0.000      -0.311      -0.235\n",
       "last_gift_amt                  0.5283      0.015     35.904      0.000       0.499       0.557\n",
       "urbanicity_S                   0.6204      0.326      1.901      0.057      -0.020       1.260\n",
       "urbanicity_T                   0.5688      0.329      1.730      0.084      -0.076       1.213\n",
       "home_owner_U                   1.4472      0.264      5.475      0.000       0.929       1.965\n",
       "donor_gender_M                 1.0155      0.260      3.900      0.000       0.505       1.526\n",
       "donor_gender_U                 1.1977      0.563      2.128      0.033       0.094       2.301\n",
       "overlay_source_P               1.1829      0.315      3.755      0.000       0.565       1.800\n",
       "recency_status_96nk_F          2.3166      0.624      3.715      0.000       1.094       3.539\n",
       "==============================================================================\n",
       "Omnibus:                     5062.101   Durbin-Watson:                   1.998\n",
       "Prob(Omnibus):                  0.000   Jarque-Bera (JB):          1453991.359\n",
       "Skew:                           4.635   Prob(JB):                         0.00\n",
       "Kurtosis:                      87.377   Cond. No.                     7.81e+03\n",
       "==============================================================================\n",
       "\n",
       "Notes:\n",
       "[1] R² is computed without centering (uncentered) since the model does not contain a constant.\n",
       "[2] Standard Errors assume that the covariance matrix of the errors is correctly specified.\n",
       "[3] The condition number is large, 7.81e+03. This might indicate that there are\n",
       "strong multicollinearity or other numerical problems.\n",
       "\"\"\""
      ],
      "text/html": [
       "<table class=\"simpletable\">\n",
       "<caption>OLS Regression Results</caption>\n",
       "<tr>\n",
       "  <th>Dep. Variable:</th>     <td>amount_donated</td>  <th>  R-squared (uncentered):</th>      <td>   0.812</td> \n",
       "</tr>\n",
       "<tr>\n",
       "  <th>Model:</th>                   <td>OLS</td>       <th>  Adj. R-squared (uncentered):</th> <td>   0.811</td> \n",
       "</tr>\n",
       "<tr>\n",
       "  <th>Method:</th>             <td>Least Squares</td>  <th>  F-statistic:       </th>          <td>   867.2</td> \n",
       "</tr>\n",
       "<tr>\n",
       "  <th>Date:</th>             <td>Mon, 09 Aug 2021</td> <th>  Prob (F-statistic):</th>           <td>  0.00</td>  \n",
       "</tr>\n",
       "<tr>\n",
       "  <th>Time:</th>                 <td>22:31:25</td>     <th>  Log-Likelihood:    </th>          <td> -17327.</td> \n",
       "</tr>\n",
       "<tr>\n",
       "  <th>No. Observations:</th>      <td>  4843</td>      <th>  AIC:               </th>          <td>3.470e+04</td>\n",
       "</tr>\n",
       "<tr>\n",
       "  <th>Df Residuals:</th>          <td>  4819</td>      <th>  BIC:               </th>          <td>3.486e+04</td>\n",
       "</tr>\n",
       "<tr>\n",
       "  <th>Df Model:</th>              <td>    24</td>      <th>                     </th>              <td> </td>    \n",
       "</tr>\n",
       "<tr>\n",
       "  <th>Covariance Type:</th>      <td>nonrobust</td>    <th>                     </th>              <td> </td>    \n",
       "</tr>\n",
       "</table>\n",
       "<table class=\"simpletable\">\n",
       "<tr>\n",
       "               <td></td>                 <th>coef</th>     <th>std err</th>      <th>t</th>      <th>P>|t|</th>  <th>[0.025</th>    <th>0.975]</th>  \n",
       "</tr>\n",
       "<tr>\n",
       "  <th>months_since_origin</th>        <td>   -0.0284</td> <td>    0.004</td> <td>   -7.110</td> <td> 0.000</td> <td>   -0.036</td> <td>   -0.021</td>\n",
       "</tr>\n",
       "<tr>\n",
       "  <th>in_house</th>                   <td>   -1.4043</td> <td>    0.464</td> <td>   -3.024</td> <td> 0.003</td> <td>   -2.315</td> <td>   -0.494</td>\n",
       "</tr>\n",
       "<tr>\n",
       "  <th>ses</th>                        <td>    1.4426</td> <td>    0.138</td> <td>   10.432</td> <td> 0.000</td> <td>    1.171</td> <td>    1.714</td>\n",
       "</tr>\n",
       "<tr>\n",
       "  <th>income_group</th>               <td>    0.3558</td> <td>    0.078</td> <td>    4.570</td> <td> 0.000</td> <td>    0.203</td> <td>    0.508</td>\n",
       "</tr>\n",
       "<tr>\n",
       "  <th>published_phone</th>            <td>    1.0868</td> <td>    0.273</td> <td>    3.979</td> <td> 0.000</td> <td>    0.551</td> <td>    1.622</td>\n",
       "</tr>\n",
       "<tr>\n",
       "  <th>wealth_rating</th>              <td>    0.3591</td> <td>    0.064</td> <td>    5.613</td> <td> 0.000</td> <td>    0.234</td> <td>    0.485</td>\n",
       "</tr>\n",
       "<tr>\n",
       "  <th>median_home_value</th>          <td>    0.0005</td> <td>    0.000</td> <td>    3.613</td> <td> 0.000</td> <td>    0.000</td> <td>    0.001</td>\n",
       "</tr>\n",
       "<tr>\n",
       "  <th>pct_attribute3</th>             <td>    0.0541</td> <td>    0.008</td> <td>    6.414</td> <td> 0.000</td> <td>    0.038</td> <td>    0.071</td>\n",
       "</tr>\n",
       "<tr>\n",
       "  <th>pct_attribute4</th>             <td>    0.0376</td> <td>    0.007</td> <td>    5.510</td> <td> 0.000</td> <td>    0.024</td> <td>    0.051</td>\n",
       "</tr>\n",
       "<tr>\n",
       "  <th>pep_star</th>                   <td>   -1.0088</td> <td>    0.339</td> <td>   -2.975</td> <td> 0.003</td> <td>   -1.674</td> <td>   -0.344</td>\n",
       "</tr>\n",
       "<tr>\n",
       "  <th>recent_star_status</th>         <td>   -0.1197</td> <td>    0.060</td> <td>   -2.008</td> <td> 0.045</td> <td>   -0.237</td> <td>   -0.003</td>\n",
       "</tr>\n",
       "<tr>\n",
       "  <th>frequency_status_97nk</th>      <td>   -1.0818</td> <td>    0.148</td> <td>   -7.311</td> <td> 0.000</td> <td>   -1.372</td> <td>   -0.792</td>\n",
       "</tr>\n",
       "<tr>\n",
       "  <th>recent_avg_card_gift_amt</th>   <td>    0.2458</td> <td>    0.015</td> <td>   15.988</td> <td> 0.000</td> <td>    0.216</td> <td>    0.276</td>\n",
       "</tr>\n",
       "<tr>\n",
       "  <th>recent_card_response_count</th> <td>   -0.5961</td> <td>    0.105</td> <td>   -5.695</td> <td> 0.000</td> <td>   -0.801</td> <td>   -0.391</td>\n",
       "</tr>\n",
       "<tr>\n",
       "  <th>lifetime_gift_amount</th>       <td>    0.0123</td> <td>    0.002</td> <td>    7.737</td> <td> 0.000</td> <td>    0.009</td> <td>    0.015</td>\n",
       "</tr>\n",
       "<tr>\n",
       "  <th>lifetime_min_gift_amt</th>      <td>   -0.2733</td> <td>    0.019</td> <td>  -14.167</td> <td> 0.000</td> <td>   -0.311</td> <td>   -0.235</td>\n",
       "</tr>\n",
       "<tr>\n",
       "  <th>last_gift_amt</th>              <td>    0.5283</td> <td>    0.015</td> <td>   35.904</td> <td> 0.000</td> <td>    0.499</td> <td>    0.557</td>\n",
       "</tr>\n",
       "<tr>\n",
       "  <th>urbanicity_S</th>               <td>    0.6204</td> <td>    0.326</td> <td>    1.901</td> <td> 0.057</td> <td>   -0.020</td> <td>    1.260</td>\n",
       "</tr>\n",
       "<tr>\n",
       "  <th>urbanicity_T</th>               <td>    0.5688</td> <td>    0.329</td> <td>    1.730</td> <td> 0.084</td> <td>   -0.076</td> <td>    1.213</td>\n",
       "</tr>\n",
       "<tr>\n",
       "  <th>home_owner_U</th>               <td>    1.4472</td> <td>    0.264</td> <td>    5.475</td> <td> 0.000</td> <td>    0.929</td> <td>    1.965</td>\n",
       "</tr>\n",
       "<tr>\n",
       "  <th>donor_gender_M</th>             <td>    1.0155</td> <td>    0.260</td> <td>    3.900</td> <td> 0.000</td> <td>    0.505</td> <td>    1.526</td>\n",
       "</tr>\n",
       "<tr>\n",
       "  <th>donor_gender_U</th>             <td>    1.1977</td> <td>    0.563</td> <td>    2.128</td> <td> 0.033</td> <td>    0.094</td> <td>    2.301</td>\n",
       "</tr>\n",
       "<tr>\n",
       "  <th>overlay_source_P</th>           <td>    1.1829</td> <td>    0.315</td> <td>    3.755</td> <td> 0.000</td> <td>    0.565</td> <td>    1.800</td>\n",
       "</tr>\n",
       "<tr>\n",
       "  <th>recency_status_96nk_F</th>      <td>    2.3166</td> <td>    0.624</td> <td>    3.715</td> <td> 0.000</td> <td>    1.094</td> <td>    3.539</td>\n",
       "</tr>\n",
       "</table>\n",
       "<table class=\"simpletable\">\n",
       "<tr>\n",
       "  <th>Omnibus:</th>       <td>5062.101</td> <th>  Durbin-Watson:     </th>  <td>   1.998</td>  \n",
       "</tr>\n",
       "<tr>\n",
       "  <th>Prob(Omnibus):</th>  <td> 0.000</td>  <th>  Jarque-Bera (JB):  </th> <td>1453991.359</td>\n",
       "</tr>\n",
       "<tr>\n",
       "  <th>Skew:</th>           <td> 4.635</td>  <th>  Prob(JB):          </th>  <td>    0.00</td>  \n",
       "</tr>\n",
       "<tr>\n",
       "  <th>Kurtosis:</th>       <td>87.377</td>  <th>  Cond. No.          </th>  <td>7.81e+03</td>  \n",
       "</tr>\n",
       "</table><br/><br/>Notes:<br/>[1] R² is computed without centering (uncentered) since the model does not contain a constant.<br/>[2] Standard Errors assume that the covariance matrix of the errors is correctly specified.<br/>[3] The condition number is large, 7.81e+03. This might indicate that there are<br/>strong multicollinearity or other numerical problems."
      ]
     },
     "metadata": {},
     "execution_count": 44
    }
   ],
   "metadata": {}
  },
  {
   "cell_type": "code",
   "execution_count": 45,
   "source": [
    "# Features and their respective coefficients\r\n",
    "coeffs_df = pd.DataFrame(list(zip(X.columns, lm.coef_)), columns = ['Features', 'Estimated_Coefficients'])\r\n",
    "coeffs_df.sort_values(by='Estimated_Coefficients', ascending=False)"
   ],
   "outputs": [
    {
     "output_type": "execute_result",
     "data": {
      "text/plain": [
       "                      Features  Estimated_Coefficients\n",
       "21              donor_gender_U                1.655532\n",
       "20              donor_gender_M                1.088191\n",
       "19                home_owner_U                1.013883\n",
       "22            overlay_source_P                0.794591\n",
       "23       recency_status_96nk_F                0.696094\n",
       "2                          ses                0.618006\n",
       "4              published_phone                0.598794\n",
       "16               last_gift_amt                0.492621\n",
       "17                urbanicity_S                0.356715\n",
       "12    recent_avg_card_gift_amt                0.262472\n",
       "5                wealth_rating                0.217181\n",
       "3                 income_group                0.084236\n",
       "18                urbanicity_T                0.069657\n",
       "7               pct_attribute3                0.018234\n",
       "14        lifetime_gift_amount                0.014755\n",
       "8               pct_attribute4                0.011083\n",
       "6            median_home_value                0.000309\n",
       "0          months_since_origin               -0.040527\n",
       "10          recent_star_status               -0.146246\n",
       "15       lifetime_min_gift_amt               -0.299234\n",
       "13  recent_card_response_count               -0.604428\n",
       "9                     pep_star               -1.220571\n",
       "11       frequency_status_97nk               -1.440004\n",
       "1                     in_house               -1.486056"
      ],
      "text/html": [
       "<div>\n",
       "<style scoped>\n",
       "    .dataframe tbody tr th:only-of-type {\n",
       "        vertical-align: middle;\n",
       "    }\n",
       "\n",
       "    .dataframe tbody tr th {\n",
       "        vertical-align: top;\n",
       "    }\n",
       "\n",
       "    .dataframe thead th {\n",
       "        text-align: right;\n",
       "    }\n",
       "</style>\n",
       "<table border=\"1\" class=\"dataframe\">\n",
       "  <thead>\n",
       "    <tr style=\"text-align: right;\">\n",
       "      <th></th>\n",
       "      <th>Features</th>\n",
       "      <th>Estimated_Coefficients</th>\n",
       "    </tr>\n",
       "  </thead>\n",
       "  <tbody>\n",
       "    <tr>\n",
       "      <th>21</th>\n",
       "      <td>donor_gender_U</td>\n",
       "      <td>1.655532</td>\n",
       "    </tr>\n",
       "    <tr>\n",
       "      <th>20</th>\n",
       "      <td>donor_gender_M</td>\n",
       "      <td>1.088191</td>\n",
       "    </tr>\n",
       "    <tr>\n",
       "      <th>19</th>\n",
       "      <td>home_owner_U</td>\n",
       "      <td>1.013883</td>\n",
       "    </tr>\n",
       "    <tr>\n",
       "      <th>22</th>\n",
       "      <td>overlay_source_P</td>\n",
       "      <td>0.794591</td>\n",
       "    </tr>\n",
       "    <tr>\n",
       "      <th>23</th>\n",
       "      <td>recency_status_96nk_F</td>\n",
       "      <td>0.696094</td>\n",
       "    </tr>\n",
       "    <tr>\n",
       "      <th>2</th>\n",
       "      <td>ses</td>\n",
       "      <td>0.618006</td>\n",
       "    </tr>\n",
       "    <tr>\n",
       "      <th>4</th>\n",
       "      <td>published_phone</td>\n",
       "      <td>0.598794</td>\n",
       "    </tr>\n",
       "    <tr>\n",
       "      <th>16</th>\n",
       "      <td>last_gift_amt</td>\n",
       "      <td>0.492621</td>\n",
       "    </tr>\n",
       "    <tr>\n",
       "      <th>17</th>\n",
       "      <td>urbanicity_S</td>\n",
       "      <td>0.356715</td>\n",
       "    </tr>\n",
       "    <tr>\n",
       "      <th>12</th>\n",
       "      <td>recent_avg_card_gift_amt</td>\n",
       "      <td>0.262472</td>\n",
       "    </tr>\n",
       "    <tr>\n",
       "      <th>5</th>\n",
       "      <td>wealth_rating</td>\n",
       "      <td>0.217181</td>\n",
       "    </tr>\n",
       "    <tr>\n",
       "      <th>3</th>\n",
       "      <td>income_group</td>\n",
       "      <td>0.084236</td>\n",
       "    </tr>\n",
       "    <tr>\n",
       "      <th>18</th>\n",
       "      <td>urbanicity_T</td>\n",
       "      <td>0.069657</td>\n",
       "    </tr>\n",
       "    <tr>\n",
       "      <th>7</th>\n",
       "      <td>pct_attribute3</td>\n",
       "      <td>0.018234</td>\n",
       "    </tr>\n",
       "    <tr>\n",
       "      <th>14</th>\n",
       "      <td>lifetime_gift_amount</td>\n",
       "      <td>0.014755</td>\n",
       "    </tr>\n",
       "    <tr>\n",
       "      <th>8</th>\n",
       "      <td>pct_attribute4</td>\n",
       "      <td>0.011083</td>\n",
       "    </tr>\n",
       "    <tr>\n",
       "      <th>6</th>\n",
       "      <td>median_home_value</td>\n",
       "      <td>0.000309</td>\n",
       "    </tr>\n",
       "    <tr>\n",
       "      <th>0</th>\n",
       "      <td>months_since_origin</td>\n",
       "      <td>-0.040527</td>\n",
       "    </tr>\n",
       "    <tr>\n",
       "      <th>10</th>\n",
       "      <td>recent_star_status</td>\n",
       "      <td>-0.146246</td>\n",
       "    </tr>\n",
       "    <tr>\n",
       "      <th>15</th>\n",
       "      <td>lifetime_min_gift_amt</td>\n",
       "      <td>-0.299234</td>\n",
       "    </tr>\n",
       "    <tr>\n",
       "      <th>13</th>\n",
       "      <td>recent_card_response_count</td>\n",
       "      <td>-0.604428</td>\n",
       "    </tr>\n",
       "    <tr>\n",
       "      <th>9</th>\n",
       "      <td>pep_star</td>\n",
       "      <td>-1.220571</td>\n",
       "    </tr>\n",
       "    <tr>\n",
       "      <th>11</th>\n",
       "      <td>frequency_status_97nk</td>\n",
       "      <td>-1.440004</td>\n",
       "    </tr>\n",
       "    <tr>\n",
       "      <th>1</th>\n",
       "      <td>in_house</td>\n",
       "      <td>-1.486056</td>\n",
       "    </tr>\n",
       "  </tbody>\n",
       "</table>\n",
       "</div>"
      ]
     },
     "metadata": {},
     "execution_count": 45
    }
   ],
   "metadata": {}
  },
  {
   "cell_type": "code",
   "execution_count": 46,
   "source": [
    "pos_coeffs_df= coeffs_df[(coeffs_df['Estimated_Coefficients'] >= 0)].sort_values(by='Estimated_Coefficients', ascending=False)\r\n",
    "#pos_coeffs_df.sort_values(by='Estimated_Coefficients', ascending=False)\r\n",
    "pos_coeffs_df"
   ],
   "outputs": [
    {
     "output_type": "execute_result",
     "data": {
      "text/plain": [
       "                    Features  Estimated_Coefficients\n",
       "21            donor_gender_U                1.655532\n",
       "20            donor_gender_M                1.088191\n",
       "19              home_owner_U                1.013883\n",
       "22          overlay_source_P                0.794591\n",
       "23     recency_status_96nk_F                0.696094\n",
       "2                        ses                0.618006\n",
       "4            published_phone                0.598794\n",
       "16             last_gift_amt                0.492621\n",
       "17              urbanicity_S                0.356715\n",
       "12  recent_avg_card_gift_amt                0.262472\n",
       "5              wealth_rating                0.217181\n",
       "3               income_group                0.084236\n",
       "18              urbanicity_T                0.069657\n",
       "7             pct_attribute3                0.018234\n",
       "14      lifetime_gift_amount                0.014755\n",
       "8             pct_attribute4                0.011083\n",
       "6          median_home_value                0.000309"
      ],
      "text/html": [
       "<div>\n",
       "<style scoped>\n",
       "    .dataframe tbody tr th:only-of-type {\n",
       "        vertical-align: middle;\n",
       "    }\n",
       "\n",
       "    .dataframe tbody tr th {\n",
       "        vertical-align: top;\n",
       "    }\n",
       "\n",
       "    .dataframe thead th {\n",
       "        text-align: right;\n",
       "    }\n",
       "</style>\n",
       "<table border=\"1\" class=\"dataframe\">\n",
       "  <thead>\n",
       "    <tr style=\"text-align: right;\">\n",
       "      <th></th>\n",
       "      <th>Features</th>\n",
       "      <th>Estimated_Coefficients</th>\n",
       "    </tr>\n",
       "  </thead>\n",
       "  <tbody>\n",
       "    <tr>\n",
       "      <th>21</th>\n",
       "      <td>donor_gender_U</td>\n",
       "      <td>1.655532</td>\n",
       "    </tr>\n",
       "    <tr>\n",
       "      <th>20</th>\n",
       "      <td>donor_gender_M</td>\n",
       "      <td>1.088191</td>\n",
       "    </tr>\n",
       "    <tr>\n",
       "      <th>19</th>\n",
       "      <td>home_owner_U</td>\n",
       "      <td>1.013883</td>\n",
       "    </tr>\n",
       "    <tr>\n",
       "      <th>22</th>\n",
       "      <td>overlay_source_P</td>\n",
       "      <td>0.794591</td>\n",
       "    </tr>\n",
       "    <tr>\n",
       "      <th>23</th>\n",
       "      <td>recency_status_96nk_F</td>\n",
       "      <td>0.696094</td>\n",
       "    </tr>\n",
       "    <tr>\n",
       "      <th>2</th>\n",
       "      <td>ses</td>\n",
       "      <td>0.618006</td>\n",
       "    </tr>\n",
       "    <tr>\n",
       "      <th>4</th>\n",
       "      <td>published_phone</td>\n",
       "      <td>0.598794</td>\n",
       "    </tr>\n",
       "    <tr>\n",
       "      <th>16</th>\n",
       "      <td>last_gift_amt</td>\n",
       "      <td>0.492621</td>\n",
       "    </tr>\n",
       "    <tr>\n",
       "      <th>17</th>\n",
       "      <td>urbanicity_S</td>\n",
       "      <td>0.356715</td>\n",
       "    </tr>\n",
       "    <tr>\n",
       "      <th>12</th>\n",
       "      <td>recent_avg_card_gift_amt</td>\n",
       "      <td>0.262472</td>\n",
       "    </tr>\n",
       "    <tr>\n",
       "      <th>5</th>\n",
       "      <td>wealth_rating</td>\n",
       "      <td>0.217181</td>\n",
       "    </tr>\n",
       "    <tr>\n",
       "      <th>3</th>\n",
       "      <td>income_group</td>\n",
       "      <td>0.084236</td>\n",
       "    </tr>\n",
       "    <tr>\n",
       "      <th>18</th>\n",
       "      <td>urbanicity_T</td>\n",
       "      <td>0.069657</td>\n",
       "    </tr>\n",
       "    <tr>\n",
       "      <th>7</th>\n",
       "      <td>pct_attribute3</td>\n",
       "      <td>0.018234</td>\n",
       "    </tr>\n",
       "    <tr>\n",
       "      <th>14</th>\n",
       "      <td>lifetime_gift_amount</td>\n",
       "      <td>0.014755</td>\n",
       "    </tr>\n",
       "    <tr>\n",
       "      <th>8</th>\n",
       "      <td>pct_attribute4</td>\n",
       "      <td>0.011083</td>\n",
       "    </tr>\n",
       "    <tr>\n",
       "      <th>6</th>\n",
       "      <td>median_home_value</td>\n",
       "      <td>0.000309</td>\n",
       "    </tr>\n",
       "  </tbody>\n",
       "</table>\n",
       "</div>"
      ]
     },
     "metadata": {},
     "execution_count": 46
    }
   ],
   "metadata": {}
  },
  {
   "cell_type": "code",
   "execution_count": 47,
   "source": [
    "neg_coeffs_df = coeffs_df[(coeffs_df['Estimated_Coefficients'] < 0)].sort_values(by='Estimated_Coefficients', ascending = True)\r\n",
    "neg_coeffs_df"
   ],
   "outputs": [
    {
     "output_type": "execute_result",
     "data": {
      "text/plain": [
       "                      Features  Estimated_Coefficients\n",
       "1                     in_house               -1.486056\n",
       "11       frequency_status_97nk               -1.440004\n",
       "9                     pep_star               -1.220571\n",
       "13  recent_card_response_count               -0.604428\n",
       "15       lifetime_min_gift_amt               -0.299234\n",
       "10          recent_star_status               -0.146246\n",
       "0          months_since_origin               -0.040527"
      ],
      "text/html": [
       "<div>\n",
       "<style scoped>\n",
       "    .dataframe tbody tr th:only-of-type {\n",
       "        vertical-align: middle;\n",
       "    }\n",
       "\n",
       "    .dataframe tbody tr th {\n",
       "        vertical-align: top;\n",
       "    }\n",
       "\n",
       "    .dataframe thead th {\n",
       "        text-align: right;\n",
       "    }\n",
       "</style>\n",
       "<table border=\"1\" class=\"dataframe\">\n",
       "  <thead>\n",
       "    <tr style=\"text-align: right;\">\n",
       "      <th></th>\n",
       "      <th>Features</th>\n",
       "      <th>Estimated_Coefficients</th>\n",
       "    </tr>\n",
       "  </thead>\n",
       "  <tbody>\n",
       "    <tr>\n",
       "      <th>1</th>\n",
       "      <td>in_house</td>\n",
       "      <td>-1.486056</td>\n",
       "    </tr>\n",
       "    <tr>\n",
       "      <th>11</th>\n",
       "      <td>frequency_status_97nk</td>\n",
       "      <td>-1.440004</td>\n",
       "    </tr>\n",
       "    <tr>\n",
       "      <th>9</th>\n",
       "      <td>pep_star</td>\n",
       "      <td>-1.220571</td>\n",
       "    </tr>\n",
       "    <tr>\n",
       "      <th>13</th>\n",
       "      <td>recent_card_response_count</td>\n",
       "      <td>-0.604428</td>\n",
       "    </tr>\n",
       "    <tr>\n",
       "      <th>15</th>\n",
       "      <td>lifetime_min_gift_amt</td>\n",
       "      <td>-0.299234</td>\n",
       "    </tr>\n",
       "    <tr>\n",
       "      <th>10</th>\n",
       "      <td>recent_star_status</td>\n",
       "      <td>-0.146246</td>\n",
       "    </tr>\n",
       "    <tr>\n",
       "      <th>0</th>\n",
       "      <td>months_since_origin</td>\n",
       "      <td>-0.040527</td>\n",
       "    </tr>\n",
       "  </tbody>\n",
       "</table>\n",
       "</div>"
      ]
     },
     "metadata": {},
     "execution_count": 47
    }
   ],
   "metadata": {}
  },
  {
   "cell_type": "code",
   "execution_count": 48,
   "source": [
    "g = sns.regplot(x=lm.predict(X_test), y=y_test, fit_reg=True)\r\n",
    "g.set(xlabel='Predicted Donors($)', ylabel='Actual Donors($)', title='Model Predictions')\r\n",
    "plt.title('Regression Plot for Actual vs Predicted Values')"
   ],
   "outputs": [
    {
     "output_type": "execute_result",
     "data": {
      "text/plain": [
       "Text(0.5, 1.0, 'Regression Plot for Actual vs Predicted Values')"
      ]
     },
     "metadata": {},
     "execution_count": 48
    },
    {
     "output_type": "display_data",
     "data": {
      "text/plain": [
       "<Figure size 432x288 with 1 Axes>"
      ],
      "image/png": "[encoded data removed]"
     },
     "metadata": {}
    }
   ],
   "metadata": {}
  },
  {
   "cell_type": "markdown",
   "source": [
    "From the graph above the model seems to be a good fit for the data, except for a few outliers.\r\n",
    "\r\n",
    "Let us calcualte $R^2$ and RMSE (Root Mean Square Error) for the train and test sets to further assess the model.\r\n",
    "\r\n",
    "$R^2$: It is the percentage of the response variable variation that is explained by a linear model\r\n",
    "\r\n",
    "RMSE: It is the square root of the mean of squared errors. Squared errors are the difference of actual and predicted values sqaured."
   ],
   "metadata": {}
  },
  {
   "cell_type": "code",
   "execution_count": 49,
   "source": [
    "# R2 for train and test data\r\n",
    "R2_reg_train = lm.score(X_train,y_train)\r\n",
    "R2_reg_test = lm.score(X_test,y_test)\r\n",
    "print('R squared for train data is: %.3f' %(R2_reg_train))\r\n",
    "print('R squared for test data is: %.3f' %(R2_reg_test))"
   ],
   "outputs": [
    {
     "output_type": "stream",
     "name": "stdout",
     "text": [
      "R squared for train data is: 0.465\n",
      "R squared for test data is: 0.647\n"
     ]
    }
   ],
   "metadata": {}
  },
  {
   "cell_type": "markdown",
   "source": [
    "The train set experiences more variance than the test set. This is quite common because the model is trained on training data, training set's $R^2$ is always greater than the test set's $R^2$.\r\n",
    "Since the test score is more than train score, let us see if it is a case of Overfitting or Underfitting by plotting a Residual Plot"
   ],
   "metadata": {}
  },
  {
   "cell_type": "code",
   "execution_count": 50,
   "source": [
    "from math import sqrt\r\n",
    "RMSE_reg_train = sqrt(np.mean((y_train - lm.predict(X_train))**2))\r\n",
    "RMSE_reg_test = sqrt(np.mean((y_test - lm.predict(X_test))**2))\r\n",
    "print('Root mean squared error for train data is: %.3f' %(RMSE_reg_train))\r\n",
    "print('Root mean sqaured error for test data is: %.3f' %(RMSE_reg_test))"
   ],
   "outputs": [
    {
     "output_type": "stream",
     "name": "stdout",
     "text": [
      "Root mean squared error for train data is: 9.068\n",
      "Root mean sqaured error for test data is: 7.462\n"
     ]
    }
   ],
   "metadata": {}
  },
  {
   "cell_type": "code",
   "execution_count": 51,
   "source": [
    "sns.residplot(x=lm.predict(X_train), y=y_train, lowess=True)\r\n",
    "plt.title('Residual Plot using train data')\r\n"
   ],
   "outputs": [
    {
     "output_type": "execute_result",
     "data": {
      "text/plain": [
       "Text(0.5, 1.0, 'Residual Plot using train data')"
      ]
     },
     "metadata": {},
     "execution_count": 51
    },
    {
     "output_type": "display_data",
     "data": {
      "text/plain": [
       "<Figure size 432x288 with 1 Axes>"
      ],
      "image/png": "[encoded data removed]"
     },
     "metadata": {}
    }
   ],
   "metadata": {}
  },
  {
   "cell_type": "markdown",
   "source": [],
   "metadata": {}
  },
  {
   "cell_type": "code",
   "execution_count": 52,
   "source": [
    "sns.residplot(x=lm.predict(X_test), y=y_test, lowess=True)\r\n",
    "plt.title('Residual Plot using test data')"
   ],
   "outputs": [
    {
     "output_type": "execute_result",
     "data": {
      "text/plain": [
       "Text(0.5, 1.0, 'Residual Plot using test data')"
      ]
     },
     "metadata": {},
     "execution_count": 52
    },
    {
     "output_type": "display_data",
     "data": {
      "text/plain": [
       "<Figure size 432x288 with 1 Axes>"
      ],
      "image/png": "[encoded data removed]"
     },
     "metadata": {}
    }
   ],
   "metadata": {}
  },
  {
   "cell_type": "code",
   "execution_count": 53,
   "source": [
    "plt.scatter(lm.predict(X_train), lm.predict(X_train) - y_train, c='b', s=40, alpha=0.5)\r\n",
    "plt.scatter(lm.predict(X_test), lm.predict(X_test) - y_test, c='g', s=40)\r\n",
    "plt.hlines(y = 0, xmin=0, xmax = 50)\r\n",
    "plt.title('Residual Plot using training (blue) and test (green) data')\r\n",
    "plt.ylabel('Residuals')"
   ],
   "outputs": [
    {
     "output_type": "execute_result",
     "data": {
      "text/plain": [
       "Text(0, 0.5, 'Residuals')"
      ]
     },
     "metadata": {},
     "execution_count": 53
    },
    {
     "output_type": "display_data",
     "data": {
      "text/plain": [
       "<Figure size 432x288 with 1 Axes>"
      ],
      "image/png": "[encoded data removed]"
     },
     "metadata": {}
    }
   ],
   "metadata": {}
  },
  {
   "cell_type": "markdown",
   "source": [
    "Analysis:\r\n",
    "\r\n",
    "The regression line appears to be a good fit for the data.\r\n",
    "The train and test scores not being too different form each other, indiactes that there is no Overfitting.\r\n",
    "The distribution of test and train data looks similar in the residual plot, which says that there is no big difference in residuals."
   ],
   "metadata": {}
  },
  {
   "cell_type": "markdown",
   "source": [
    "#### Regularization\r\n",
    "With as many as 48 features in the model it is natural for the model to get quite complex. The model sticks too much to the data and the model has probably learned the background noise which results in high variance while being fit, which leads to Overfitting. This results in poor prediction and generalization power when applied o data outside the training set. To overcome this problem regularization technique is used.\r\n",
    "\r\n",
    "To find the best model, the common method in machine learning is to define a loss or cost function that describes how well the model fits the data. The goal is to find the model that minimzes this loss function. The idea is to penalize this loss function by adding a complexity term that would give a bigger loss for more complex models.\r\n",
    "\r\n",
    "Regularization allows to shrink the coefficients to zero by introducing a tuning parameter 'lambda' or 'alpha'. This ensures:\r\n",
    "\r\n",
    "Shrinking of parameters, therefore it is mostly used to prevent multicollinearity.\r\n",
    "Reduces the model complexity by coefficient shrinkage.\r\n",
    "The two popular methods used to regularize parameters are:\r\n",
    "\r\n",
    "Ridge Regression\r\n",
    "Lasso Regression\r\n",
    "Ridge Regression: Ridge regression uses L2 penalty to penalize coefficients. L2 penalty is the penalty equivalent to square of the magnitude of coefficients\r\n",
    "\r\n",
    "Lasso Regression: Lasso regression uses L1 penalty which is the absolute value of the magnitude of coefficients\r\n",
    "\r\n",
    "Let us apply Ridge and Lasso models to our data\r\n",
    "\r\n"
   ],
   "metadata": {}
  },
  {
   "cell_type": "code",
   "execution_count": 54,
   "source": [
    "independent_variables =  ['months_since_origin', 'in_house', 'ses', 'income_group', 'published_phone', 'mor_hit_rate', \r\n",
    "'wealth_rating', 'median_home_value', 'pct_attribute1', 'pct_attribute3', 'pct_attribute4', 'pep_star', 'recent_star_status',\r\n",
    "'frequency_status_97nk', 'recent_avg_card_gift_amt', 'recent_card_response_count', 'lifetime_gift_amount', 'lifetime_max_gift_amt', \r\n",
    "'lifetime_min_gift_amt', 'last_gift_amt', 'urbanicity_R', 'urbanicity_S', 'urbanicity_T', 'urbanicity_U', 'urbanicity_X', \r\n",
    "'home_owner_U', 'donor_gender_M', 'donor_gender_U', 'overlay_source_M', 'overlay_source_P', 'recency_status_96nk_E', \r\n",
    "'recency_status_96nk_F', 'recency_status_96nk_L', 'recency_status_96nk_N', 'recency_status_96nk_S']\r\n",
    "# use the list to select a subset from original DataFrame\r\n"
   ],
   "outputs": [],
   "metadata": {}
  },
  {
   "cell_type": "code",
   "execution_count": 55,
   "source": [
    "X =  total_data.iloc[:4843]\r\n",
    "X_test_cat_encoded =  total_data.iloc[4843:]\r\n",
    "X.shape, X_test_cat_encoded.shape, y.shape"
   ],
   "outputs": [
    {
     "output_type": "execute_result",
     "data": {
      "text/plain": [
       "((4843, 57), (2148, 57), (4843,))"
      ]
     },
     "metadata": {},
     "execution_count": 55
    }
   ],
   "metadata": {}
  },
  {
   "cell_type": "code",
   "execution_count": 56,
   "source": [
    "X = X[independent_variables]\r\n",
    "X_test_cat_encoded = X_test_cat_encoded[independent_variables]\r\n",
    "y = y\r\n",
    "X.shape, X_test_cat_encoded.shape,y.shape"
   ],
   "outputs": [
    {
     "output_type": "execute_result",
     "data": {
      "text/plain": [
       "((4843, 35), (2148, 35), (4843,))"
      ]
     },
     "metadata": {},
     "execution_count": 56
    }
   ],
   "metadata": {}
  },
  {
   "cell_type": "code",
   "execution_count": 57,
   "source": [
    "X_train, X_test, y_train, y_test  = train_test_split(X, y, test_size=0.3, random_state=101)"
   ],
   "outputs": [],
   "metadata": {}
  },
  {
   "cell_type": "markdown",
   "source": [
    "#### 1. Ridge Regression"
   ],
   "metadata": {}
  },
  {
   "cell_type": "code",
   "execution_count": 58,
   "source": [
    "# Define the alphas \r\n",
    "alphas = [1e-15, 1e-10, 1e-8, 1e-5,1e-4, 1e-3,1e-2, 1, 5, 10]\r\n",
    "# Create an object for RidgeCV\r\n",
    "ridge_reg = RidgeCV(alphas=alphas, cv=None, store_cv_values=True)\r\n",
    "# Fit the model to our training data\r\n",
    "ridge_reg.fit(X_train,y_train)"
   ],
   "outputs": [
    {
     "output_type": "execute_result",
     "data": {
      "text/plain": [
       "RidgeCV(alphas=array([1.e-15, 1.e-10, 1.e-08, 1.e-05, 1.e-04, 1.e-03, 1.e-02, 1.e+00,\n",
       "       5.e+00, 1.e+01]),\n",
       "        store_cv_values=True)"
      ]
     },
     "metadata": {},
     "execution_count": 58
    }
   ],
   "metadata": {}
  },
  {
   "cell_type": "markdown",
   "source": [
    "Let us calculate the $R^2$ on both train and test sets to assess the performance of our model."
   ],
   "metadata": {}
  },
  {
   "cell_type": "code",
   "execution_count": 59,
   "source": [
    "# R2 for train and test data respectively\r\n",
    "R2_ridge_train = (ridge_reg.score(X_train, y_train))\r\n",
    "R2_ridge_test = (ridge_reg.score(X_test,y_test))\r\n",
    "print('R squared for train data is: %.3f' %(R2_ridge_train))\r\n",
    "print('R squared for test data is: %.3f' %(R2_ridge_test))"
   ],
   "outputs": [
    {
     "output_type": "stream",
     "name": "stdout",
     "text": [
      "R squared for train data is: 0.466\n",
      "R squared for test data is: 0.646\n"
     ]
    }
   ],
   "metadata": {}
  },
  {
   "cell_type": "markdown",
   "source": [
    "The train set obtained an $R^2$ of 0.466 and test set got an $R^2$ of 0.646.\r\n",
    "There is very little difference between train and test set, this signifies that the model is a good fit for data."
   ],
   "metadata": {}
  },
  {
   "cell_type": "markdown",
   "source": [
    "Let us calculate the RMSE values for train and test data sets"
   ],
   "metadata": {}
  },
  {
   "cell_type": "code",
   "execution_count": 60,
   "source": [
    "RMSE_ridge_train = sqrt(np.mean((y_train - ridge_reg.predict(X_train))**2))\r\n",
    "RMSE_ridge_test = sqrt(np.mean((y_test - ridge_reg.predict(X_test))**2))\r\n",
    "print('Root mean squared error for train data is: %.3f' %(RMSE_ridge_train))\r\n",
    "print('Root mean sqaured error for test data is: %.3f' %(RMSE_ridge_test))"
   ],
   "outputs": [
    {
     "output_type": "stream",
     "name": "stdout",
     "text": [
      "Root mean squared error for train data is: 9.058\n",
      "Root mean sqaured error for test data is: 7.474\n"
     ]
    }
   ],
   "metadata": {}
  },
  {
   "cell_type": "markdown",
   "source": [
    "### Overfitting observed"
   ],
   "metadata": {}
  },
  {
   "cell_type": "markdown",
   "source": [
    "Let us see the best alpha parameter for Ridge Regression"
   ],
   "metadata": {}
  },
  {
   "cell_type": "code",
   "execution_count": 61,
   "source": [
    "alpha_ridge_cv = ridge_reg.alpha_\r\n",
    "print('The estimated best regularization parameter is: %.1f' %(alpha_ridge_cv))"
   ],
   "outputs": [
    {
     "output_type": "stream",
     "name": "stdout",
     "text": [
      "The estimated best regularization parameter is: 10.0\n"
     ]
    }
   ],
   "metadata": {}
  },
  {
   "cell_type": "markdown",
   "source": [
    "#### Regression Plot"
   ],
   "metadata": {}
  },
  {
   "cell_type": "markdown",
   "source": [
    "Let us draw a regression plot between the actual and predicted amount donated to see how well the regresssion line fits tha data."
   ],
   "metadata": {}
  },
  {
   "cell_type": "code",
   "execution_count": 62,
   "source": [
    "# Regression plot between actual and predicted prices \r\n",
    "g = sns.regplot(x=ridge_reg.predict(X_test), y=y_test, fit_reg=True)\r\n",
    "g.set(xlabel='Predicted amount donated($)', ylabel='Actual amount donated($)', title='Model Predictions')\r\n",
    "plt.title('Regression Plot for Actual vs Predicted Values')"
   ],
   "outputs": [
    {
     "output_type": "execute_result",
     "data": {
      "text/plain": [
       "Text(0.5, 1.0, 'Regression Plot for Actual vs Predicted Values')"
      ]
     },
     "metadata": {},
     "execution_count": 62
    },
    {
     "output_type": "display_data",
     "data": {
      "text/plain": [
       "<Figure size 432x288 with 1 Axes>"
      ],
      "image/png": "[encoded data removed]"
     },
     "metadata": {}
    }
   ],
   "metadata": {}
  },
  {
   "cell_type": "markdown",
   "source": [
    "The regression line looks like a good fit to the data, except for a few outliers"
   ],
   "metadata": {}
  },
  {
   "cell_type": "markdown",
   "source": [
    "#### Residual Plots\n",
    "\n"
   ],
   "metadata": {}
  },
  {
   "cell_type": "markdown",
   "source": [
    "To drill down further let us plot some residual plots which helps giving better idea about the data. I decided to plot residual plots for train and test data seperately and another plot depicting train and test data points to get a better visual on data.\n",
    "\n"
   ],
   "metadata": {}
  },
  {
   "cell_type": "markdown",
   "source": [
    "#### Residual Plot - Train data"
   ],
   "metadata": {}
  },
  {
   "cell_type": "code",
   "execution_count": 63,
   "source": [
    "sns.residplot(x=ridge_reg.predict(X_train), y=y_train, lowess=True)\r\n",
    "plt.title('Residual Plot for train data')"
   ],
   "outputs": [
    {
     "output_type": "execute_result",
     "data": {
      "text/plain": [
       "Text(0.5, 1.0, 'Residual Plot for train data')"
      ]
     },
     "metadata": {},
     "execution_count": 63
    },
    {
     "output_type": "display_data",
     "data": {
      "text/plain": [
       "<Figure size 432x288 with 1 Axes>"
      ],
      "image/png": "[encoded data removed]"
     },
     "metadata": {}
    }
   ],
   "metadata": {}
  },
  {
   "cell_type": "markdown",
   "source": [
    "Residual Plot - Test data"
   ],
   "metadata": {}
  },
  {
   "cell_type": "code",
   "execution_count": 64,
   "source": [
    "sns.residplot(x=ridge_reg.predict(X_test), y=y_test, lowess=True)\r\n",
    "plt.title('Residual Plot for test data')"
   ],
   "outputs": [
    {
     "output_type": "execute_result",
     "data": {
      "text/plain": [
       "Text(0.5, 1.0, 'Residual Plot for test data')"
      ]
     },
     "metadata": {},
     "execution_count": 64
    },
    {
     "output_type": "display_data",
     "data": {
      "text/plain": [
       "<Figure size 432x288 with 1 Axes>"
      ],
      "image/png": "[encoded data removed]"
     },
     "metadata": {}
    }
   ],
   "metadata": {}
  },
  {
   "cell_type": "markdown",
   "source": [
    "The residual plot for test data looks similar to the train data which is a good sign. There are a few outliers which is natural when the model is exposed to data outside the training data set."
   ],
   "metadata": {}
  },
  {
   "cell_type": "markdown",
   "source": [
    "##### Residual Plot - Train and Test data"
   ],
   "metadata": {}
  },
  {
   "cell_type": "code",
   "execution_count": 65,
   "source": [
    "plt.scatter(ridge_reg.predict(X_train), ridge_reg.predict(X_train) - y_train, c='b', s=40, alpha=0.5)\r\n",
    "plt.scatter(ridge_reg.predict(X_test), ridge_reg.predict(X_test) - y_test, c='g', s=40)\r\n",
    "plt.hlines(y = 0, xmin=0, xmax = 50)\r\n",
    "plt.title(\"Linear regression with Ridge regularization for train (blue) and test (green) data\")\r\n",
    "plt.xlabel(\"Predicted values\")\r\n",
    "plt.ylabel('Residuals')"
   ],
   "outputs": [
    {
     "output_type": "execute_result",
     "data": {
      "text/plain": [
       "Text(0, 0.5, 'Residuals')"
      ]
     },
     "metadata": {},
     "execution_count": 65
    },
    {
     "output_type": "display_data",
     "data": {
      "text/plain": [
       "<Figure size 432x288 with 1 Axes>"
      ],
      "image/png": "[encoded data removed]"
     },
     "metadata": {}
    }
   ],
   "metadata": {}
  },
  {
   "cell_type": "markdown",
   "source": [
    "The residual plot clearly explians how similar the train and test data are in the graph. This tells that the model provides good results on the test data too.\n",
    "\n",
    "Let us look at the features and thier respective coefficients to know which features have positive and negative correlation with the target variable 'AMOUNT DONATED'"
   ],
   "metadata": {}
  },
  {
   "cell_type": "code",
   "execution_count": 66,
   "source": [
    "# Features and thier respective coefficients\r\n",
    "ridge_coeffs_df = pd.DataFrame(list(zip(X.columns, ridge_reg.coef_)), columns = ['Features', 'Estimated_Coefficients'])\r\n",
    "ridge_coeffs_df.sort_values(by='Estimated_Coefficients', ascending=False)"
   ],
   "outputs": [
    {
     "output_type": "execute_result",
     "data": {
      "text/plain": [
       "                      Features  Estimated_Coefficients\n",
       "27              donor_gender_U                1.605481\n",
       "32       recency_status_96nk_L                1.221595\n",
       "25                home_owner_U                1.158831\n",
       "26              donor_gender_M                1.069098\n",
       "24                urbanicity_X                0.882457\n",
       "31       recency_status_96nk_F                0.605724\n",
       "4              published_phone                0.522738\n",
       "29            overlay_source_P                0.503615\n",
       "19               last_gift_amt                0.499010\n",
       "2                          ses                0.467140\n",
       "21                urbanicity_S                0.357197\n",
       "30       recency_status_96nk_E                0.294422\n",
       "23                urbanicity_U                0.280803\n",
       "14    recent_avg_card_gift_amt                0.263352\n",
       "6                wealth_rating                0.188248\n",
       "3                 income_group                0.083452\n",
       "22                urbanicity_T                0.027068\n",
       "9               pct_attribute3                0.020115\n",
       "16        lifetime_gift_amount                0.015911\n",
       "10              pct_attribute4                0.012907\n",
       "7            median_home_value                0.000227\n",
       "8               pct_attribute1               -0.009763\n",
       "17       lifetime_max_gift_amt               -0.012509\n",
       "5                 mor_hit_rate               -0.026916\n",
       "0          months_since_origin               -0.041459\n",
       "34       recency_status_96nk_S               -0.073816\n",
       "12          recent_star_status               -0.144937\n",
       "33       recency_status_96nk_N               -0.219392\n",
       "18       lifetime_min_gift_amt               -0.294939\n",
       "20                urbanicity_R               -0.297374\n",
       "28            overlay_source_M               -0.527961\n",
       "15  recent_card_response_count               -0.620246\n",
       "11                    pep_star               -1.225691\n",
       "13       frequency_status_97nk               -1.412165\n",
       "1                     in_house               -1.455618"
      ],
      "text/html": [
       "<div>\n",
       "<style scoped>\n",
       "    .dataframe tbody tr th:only-of-type {\n",
       "        vertical-align: middle;\n",
       "    }\n",
       "\n",
       "    .dataframe tbody tr th {\n",
       "        vertical-align: top;\n",
       "    }\n",
       "\n",
       "    .dataframe thead th {\n",
       "        text-align: right;\n",
       "    }\n",
       "</style>\n",
       "<table border=\"1\" class=\"dataframe\">\n",
       "  <thead>\n",
       "    <tr style=\"text-align: right;\">\n",
       "      <th></th>\n",
       "      <th>Features</th>\n",
       "      <th>Estimated_Coefficients</th>\n",
       "    </tr>\n",
       "  </thead>\n",
       "  <tbody>\n",
       "    <tr>\n",
       "      <th>27</th>\n",
       "      <td>donor_gender_U</td>\n",
       "      <td>1.605481</td>\n",
       "    </tr>\n",
       "    <tr>\n",
       "      <th>32</th>\n",
       "      <td>recency_status_96nk_L</td>\n",
       "      <td>1.221595</td>\n",
       "    </tr>\n",
       "    <tr>\n",
       "      <th>25</th>\n",
       "      <td>home_owner_U</td>\n",
       "      <td>1.158831</td>\n",
       "    </tr>\n",
       "    <tr>\n",
       "      <th>26</th>\n",
       "      <td>donor_gender_M</td>\n",
       "      <td>1.069098</td>\n",
       "    </tr>\n",
       "    <tr>\n",
       "      <th>24</th>\n",
       "      <td>urbanicity_X</td>\n",
       "      <td>0.882457</td>\n",
       "    </tr>\n",
       "    <tr>\n",
       "      <th>31</th>\n",
       "      <td>recency_status_96nk_F</td>\n",
       "      <td>0.605724</td>\n",
       "    </tr>\n",
       "    <tr>\n",
       "      <th>4</th>\n",
       "      <td>published_phone</td>\n",
       "      <td>0.522738</td>\n",
       "    </tr>\n",
       "    <tr>\n",
       "      <th>29</th>\n",
       "      <td>overlay_source_P</td>\n",
       "      <td>0.503615</td>\n",
       "    </tr>\n",
       "    <tr>\n",
       "      <th>19</th>\n",
       "      <td>last_gift_amt</td>\n",
       "      <td>0.499010</td>\n",
       "    </tr>\n",
       "    <tr>\n",
       "      <th>2</th>\n",
       "      <td>ses</td>\n",
       "      <td>0.467140</td>\n",
       "    </tr>\n",
       "    <tr>\n",
       "      <th>21</th>\n",
       "      <td>urbanicity_S</td>\n",
       "      <td>0.357197</td>\n",
       "    </tr>\n",
       "    <tr>\n",
       "      <th>30</th>\n",
       "      <td>recency_status_96nk_E</td>\n",
       "      <td>0.294422</td>\n",
       "    </tr>\n",
       "    <tr>\n",
       "      <th>23</th>\n",
       "      <td>urbanicity_U</td>\n",
       "      <td>0.280803</td>\n",
       "    </tr>\n",
       "    <tr>\n",
       "      <th>14</th>\n",
       "      <td>recent_avg_card_gift_amt</td>\n",
       "      <td>0.263352</td>\n",
       "    </tr>\n",
       "    <tr>\n",
       "      <th>6</th>\n",
       "      <td>wealth_rating</td>\n",
       "      <td>0.188248</td>\n",
       "    </tr>\n",
       "    <tr>\n",
       "      <th>3</th>\n",
       "      <td>income_group</td>\n",
       "      <td>0.083452</td>\n",
       "    </tr>\n",
       "    <tr>\n",
       "      <th>22</th>\n",
       "      <td>urbanicity_T</td>\n",
       "      <td>0.027068</td>\n",
       "    </tr>\n",
       "    <tr>\n",
       "      <th>9</th>\n",
       "      <td>pct_attribute3</td>\n",
       "      <td>0.020115</td>\n",
       "    </tr>\n",
       "    <tr>\n",
       "      <th>16</th>\n",
       "      <td>lifetime_gift_amount</td>\n",
       "      <td>0.015911</td>\n",
       "    </tr>\n",
       "    <tr>\n",
       "      <th>10</th>\n",
       "      <td>pct_attribute4</td>\n",
       "      <td>0.012907</td>\n",
       "    </tr>\n",
       "    <tr>\n",
       "      <th>7</th>\n",
       "      <td>median_home_value</td>\n",
       "      <td>0.000227</td>\n",
       "    </tr>\n",
       "    <tr>\n",
       "      <th>8</th>\n",
       "      <td>pct_attribute1</td>\n",
       "      <td>-0.009763</td>\n",
       "    </tr>\n",
       "    <tr>\n",
       "      <th>17</th>\n",
       "      <td>lifetime_max_gift_amt</td>\n",
       "      <td>-0.012509</td>\n",
       "    </tr>\n",
       "    <tr>\n",
       "      <th>5</th>\n",
       "      <td>mor_hit_rate</td>\n",
       "      <td>-0.026916</td>\n",
       "    </tr>\n",
       "    <tr>\n",
       "      <th>0</th>\n",
       "      <td>months_since_origin</td>\n",
       "      <td>-0.041459</td>\n",
       "    </tr>\n",
       "    <tr>\n",
       "      <th>34</th>\n",
       "      <td>recency_status_96nk_S</td>\n",
       "      <td>-0.073816</td>\n",
       "    </tr>\n",
       "    <tr>\n",
       "      <th>12</th>\n",
       "      <td>recent_star_status</td>\n",
       "      <td>-0.144937</td>\n",
       "    </tr>\n",
       "    <tr>\n",
       "      <th>33</th>\n",
       "      <td>recency_status_96nk_N</td>\n",
       "      <td>-0.219392</td>\n",
       "    </tr>\n",
       "    <tr>\n",
       "      <th>18</th>\n",
       "      <td>lifetime_min_gift_amt</td>\n",
       "      <td>-0.294939</td>\n",
       "    </tr>\n",
       "    <tr>\n",
       "      <th>20</th>\n",
       "      <td>urbanicity_R</td>\n",
       "      <td>-0.297374</td>\n",
       "    </tr>\n",
       "    <tr>\n",
       "      <th>28</th>\n",
       "      <td>overlay_source_M</td>\n",
       "      <td>-0.527961</td>\n",
       "    </tr>\n",
       "    <tr>\n",
       "      <th>15</th>\n",
       "      <td>recent_card_response_count</td>\n",
       "      <td>-0.620246</td>\n",
       "    </tr>\n",
       "    <tr>\n",
       "      <th>11</th>\n",
       "      <td>pep_star</td>\n",
       "      <td>-1.225691</td>\n",
       "    </tr>\n",
       "    <tr>\n",
       "      <th>13</th>\n",
       "      <td>frequency_status_97nk</td>\n",
       "      <td>-1.412165</td>\n",
       "    </tr>\n",
       "    <tr>\n",
       "      <th>1</th>\n",
       "      <td>in_house</td>\n",
       "      <td>-1.455618</td>\n",
       "    </tr>\n",
       "  </tbody>\n",
       "</table>\n",
       "</div>"
      ]
     },
     "metadata": {},
     "execution_count": 66
    }
   ],
   "metadata": {}
  },
  {
   "cell_type": "markdown",
   "source": [
    "Let us look a the positive and negative coefficients seperately"
   ],
   "metadata": {}
  },
  {
   "cell_type": "code",
   "execution_count": 67,
   "source": [
    "ridge_pos_coeffs_df = ridge_coeffs_df[(ridge_coeffs_df['Estimated_Coefficients'])>=0].sort_values(by='Estimated_Coefficients', ascending=False)\r\n",
    "ridge_pos_coeffs_df"
   ],
   "outputs": [
    {
     "output_type": "execute_result",
     "data": {
      "text/plain": [
       "                    Features  Estimated_Coefficients\n",
       "27            donor_gender_U                1.605481\n",
       "32     recency_status_96nk_L                1.221595\n",
       "25              home_owner_U                1.158831\n",
       "26            donor_gender_M                1.069098\n",
       "24              urbanicity_X                0.882457\n",
       "31     recency_status_96nk_F                0.605724\n",
       "4            published_phone                0.522738\n",
       "29          overlay_source_P                0.503615\n",
       "19             last_gift_amt                0.499010\n",
       "2                        ses                0.467140\n",
       "21              urbanicity_S                0.357197\n",
       "30     recency_status_96nk_E                0.294422\n",
       "23              urbanicity_U                0.280803\n",
       "14  recent_avg_card_gift_amt                0.263352\n",
       "6              wealth_rating                0.188248\n",
       "3               income_group                0.083452\n",
       "22              urbanicity_T                0.027068\n",
       "9             pct_attribute3                0.020115\n",
       "16      lifetime_gift_amount                0.015911\n",
       "10            pct_attribute4                0.012907\n",
       "7          median_home_value                0.000227"
      ],
      "text/html": [
       "<div>\n",
       "<style scoped>\n",
       "    .dataframe tbody tr th:only-of-type {\n",
       "        vertical-align: middle;\n",
       "    }\n",
       "\n",
       "    .dataframe tbody tr th {\n",
       "        vertical-align: top;\n",
       "    }\n",
       "\n",
       "    .dataframe thead th {\n",
       "        text-align: right;\n",
       "    }\n",
       "</style>\n",
       "<table border=\"1\" class=\"dataframe\">\n",
       "  <thead>\n",
       "    <tr style=\"text-align: right;\">\n",
       "      <th></th>\n",
       "      <th>Features</th>\n",
       "      <th>Estimated_Coefficients</th>\n",
       "    </tr>\n",
       "  </thead>\n",
       "  <tbody>\n",
       "    <tr>\n",
       "      <th>27</th>\n",
       "      <td>donor_gender_U</td>\n",
       "      <td>1.605481</td>\n",
       "    </tr>\n",
       "    <tr>\n",
       "      <th>32</th>\n",
       "      <td>recency_status_96nk_L</td>\n",
       "      <td>1.221595</td>\n",
       "    </tr>\n",
       "    <tr>\n",
       "      <th>25</th>\n",
       "      <td>home_owner_U</td>\n",
       "      <td>1.158831</td>\n",
       "    </tr>\n",
       "    <tr>\n",
       "      <th>26</th>\n",
       "      <td>donor_gender_M</td>\n",
       "      <td>1.069098</td>\n",
       "    </tr>\n",
       "    <tr>\n",
       "      <th>24</th>\n",
       "      <td>urbanicity_X</td>\n",
       "      <td>0.882457</td>\n",
       "    </tr>\n",
       "    <tr>\n",
       "      <th>31</th>\n",
       "      <td>recency_status_96nk_F</td>\n",
       "      <td>0.605724</td>\n",
       "    </tr>\n",
       "    <tr>\n",
       "      <th>4</th>\n",
       "      <td>published_phone</td>\n",
       "      <td>0.522738</td>\n",
       "    </tr>\n",
       "    <tr>\n",
       "      <th>29</th>\n",
       "      <td>overlay_source_P</td>\n",
       "      <td>0.503615</td>\n",
       "    </tr>\n",
       "    <tr>\n",
       "      <th>19</th>\n",
       "      <td>last_gift_amt</td>\n",
       "      <td>0.499010</td>\n",
       "    </tr>\n",
       "    <tr>\n",
       "      <th>2</th>\n",
       "      <td>ses</td>\n",
       "      <td>0.467140</td>\n",
       "    </tr>\n",
       "    <tr>\n",
       "      <th>21</th>\n",
       "      <td>urbanicity_S</td>\n",
       "      <td>0.357197</td>\n",
       "    </tr>\n",
       "    <tr>\n",
       "      <th>30</th>\n",
       "      <td>recency_status_96nk_E</td>\n",
       "      <td>0.294422</td>\n",
       "    </tr>\n",
       "    <tr>\n",
       "      <th>23</th>\n",
       "      <td>urbanicity_U</td>\n",
       "      <td>0.280803</td>\n",
       "    </tr>\n",
       "    <tr>\n",
       "      <th>14</th>\n",
       "      <td>recent_avg_card_gift_amt</td>\n",
       "      <td>0.263352</td>\n",
       "    </tr>\n",
       "    <tr>\n",
       "      <th>6</th>\n",
       "      <td>wealth_rating</td>\n",
       "      <td>0.188248</td>\n",
       "    </tr>\n",
       "    <tr>\n",
       "      <th>3</th>\n",
       "      <td>income_group</td>\n",
       "      <td>0.083452</td>\n",
       "    </tr>\n",
       "    <tr>\n",
       "      <th>22</th>\n",
       "      <td>urbanicity_T</td>\n",
       "      <td>0.027068</td>\n",
       "    </tr>\n",
       "    <tr>\n",
       "      <th>9</th>\n",
       "      <td>pct_attribute3</td>\n",
       "      <td>0.020115</td>\n",
       "    </tr>\n",
       "    <tr>\n",
       "      <th>16</th>\n",
       "      <td>lifetime_gift_amount</td>\n",
       "      <td>0.015911</td>\n",
       "    </tr>\n",
       "    <tr>\n",
       "      <th>10</th>\n",
       "      <td>pct_attribute4</td>\n",
       "      <td>0.012907</td>\n",
       "    </tr>\n",
       "    <tr>\n",
       "      <th>7</th>\n",
       "      <td>median_home_value</td>\n",
       "      <td>0.000227</td>\n",
       "    </tr>\n",
       "  </tbody>\n",
       "</table>\n",
       "</div>"
      ]
     },
     "metadata": {},
     "execution_count": 67
    }
   ],
   "metadata": {}
  },
  {
   "cell_type": "markdown",
   "source": [
    "Let us look at the top five important coefficients having linear correlation with the target variable 'AMOUNT PRICE'.\n"
   ],
   "metadata": {}
  },
  {
   "cell_type": "code",
   "execution_count": 68,
   "source": [
    "ridge_neg_coeffs_df = ridge_coeffs_df[(ridge_coeffs_df['Estimated_Coefficients'])<0].sort_values(by='Estimated_Coefficients',ascending = True)\r\n",
    "ridge_neg_coeffs_df"
   ],
   "outputs": [
    {
     "output_type": "execute_result",
     "data": {
      "text/plain": [
       "                      Features  Estimated_Coefficients\n",
       "1                     in_house               -1.455618\n",
       "13       frequency_status_97nk               -1.412165\n",
       "11                    pep_star               -1.225691\n",
       "15  recent_card_response_count               -0.620246\n",
       "28            overlay_source_M               -0.527961\n",
       "20                urbanicity_R               -0.297374\n",
       "18       lifetime_min_gift_amt               -0.294939\n",
       "33       recency_status_96nk_N               -0.219392\n",
       "12          recent_star_status               -0.144937\n",
       "34       recency_status_96nk_S               -0.073816\n",
       "0          months_since_origin               -0.041459\n",
       "5                 mor_hit_rate               -0.026916\n",
       "17       lifetime_max_gift_amt               -0.012509\n",
       "8               pct_attribute1               -0.009763"
      ],
      "text/html": [
       "<div>\n",
       "<style scoped>\n",
       "    .dataframe tbody tr th:only-of-type {\n",
       "        vertical-align: middle;\n",
       "    }\n",
       "\n",
       "    .dataframe tbody tr th {\n",
       "        vertical-align: top;\n",
       "    }\n",
       "\n",
       "    .dataframe thead th {\n",
       "        text-align: right;\n",
       "    }\n",
       "</style>\n",
       "<table border=\"1\" class=\"dataframe\">\n",
       "  <thead>\n",
       "    <tr style=\"text-align: right;\">\n",
       "      <th></th>\n",
       "      <th>Features</th>\n",
       "      <th>Estimated_Coefficients</th>\n",
       "    </tr>\n",
       "  </thead>\n",
       "  <tbody>\n",
       "    <tr>\n",
       "      <th>1</th>\n",
       "      <td>in_house</td>\n",
       "      <td>-1.455618</td>\n",
       "    </tr>\n",
       "    <tr>\n",
       "      <th>13</th>\n",
       "      <td>frequency_status_97nk</td>\n",
       "      <td>-1.412165</td>\n",
       "    </tr>\n",
       "    <tr>\n",
       "      <th>11</th>\n",
       "      <td>pep_star</td>\n",
       "      <td>-1.225691</td>\n",
       "    </tr>\n",
       "    <tr>\n",
       "      <th>15</th>\n",
       "      <td>recent_card_response_count</td>\n",
       "      <td>-0.620246</td>\n",
       "    </tr>\n",
       "    <tr>\n",
       "      <th>28</th>\n",
       "      <td>overlay_source_M</td>\n",
       "      <td>-0.527961</td>\n",
       "    </tr>\n",
       "    <tr>\n",
       "      <th>20</th>\n",
       "      <td>urbanicity_R</td>\n",
       "      <td>-0.297374</td>\n",
       "    </tr>\n",
       "    <tr>\n",
       "      <th>18</th>\n",
       "      <td>lifetime_min_gift_amt</td>\n",
       "      <td>-0.294939</td>\n",
       "    </tr>\n",
       "    <tr>\n",
       "      <th>33</th>\n",
       "      <td>recency_status_96nk_N</td>\n",
       "      <td>-0.219392</td>\n",
       "    </tr>\n",
       "    <tr>\n",
       "      <th>12</th>\n",
       "      <td>recent_star_status</td>\n",
       "      <td>-0.144937</td>\n",
       "    </tr>\n",
       "    <tr>\n",
       "      <th>34</th>\n",
       "      <td>recency_status_96nk_S</td>\n",
       "      <td>-0.073816</td>\n",
       "    </tr>\n",
       "    <tr>\n",
       "      <th>0</th>\n",
       "      <td>months_since_origin</td>\n",
       "      <td>-0.041459</td>\n",
       "    </tr>\n",
       "    <tr>\n",
       "      <th>5</th>\n",
       "      <td>mor_hit_rate</td>\n",
       "      <td>-0.026916</td>\n",
       "    </tr>\n",
       "    <tr>\n",
       "      <th>17</th>\n",
       "      <td>lifetime_max_gift_amt</td>\n",
       "      <td>-0.012509</td>\n",
       "    </tr>\n",
       "    <tr>\n",
       "      <th>8</th>\n",
       "      <td>pct_attribute1</td>\n",
       "      <td>-0.009763</td>\n",
       "    </tr>\n",
       "  </tbody>\n",
       "</table>\n",
       "</div>"
      ]
     },
     "metadata": {},
     "execution_count": 68
    }
   ],
   "metadata": {}
  },
  {
   "cell_type": "markdown",
   "source": [
    "Now let us look at the negative coefficients. "
   ],
   "metadata": {}
  },
  {
   "cell_type": "markdown",
   "source": [
    "#### Cross Validation\n",
    "\n",
    "When evaluating different hyperparameters for estimators, such as the alpha is this setting that must be manually set for an Ridge, there is still a risk of overfitting on the test set because the parameters can be tweaked until the estimator performs optimally. This way, knowledge about the test set can “leak” into the model and evaluation metrics no longer report on generalization performance. To solve this problem, yet another part of the dataset can be held out as a so-called “validation set”: training proceeds on the training set, after which evaluation is done on the validation set, and when the experiment seems to be successful, final evaluation can be done on the test set.Even though the model is trained exclusively on the training data, we are optimizing hyperparameters based on the test set. As such, estimate of performance can be optimistic, because we are essentially reporting best-case results.\n",
    "\n",
    "Another way to deal with this is through cross-validation (CV). In CV a test set should still be held out for final evaluation, but the validation set is no longer needed when doing CV. In the basic approach, called k-fold CV, the training set is split into k smaller sets. A model is trained using k-1 of the folds as training data; the resulting model is validated on the remaining part of the data (i.e., it is used as a test set to compute a performance measure such as accuracy)."
   ],
   "metadata": {}
  },
  {
   "cell_type": "markdown",
   "source": [
    "#### GridSearchCV\n",
    "\n",
    "Let us explore the best hyper parameter (alpha) and it's respective score using GridSearchCV"
   ],
   "metadata": {}
  },
  {
   "cell_type": "code",
   "execution_count": 69,
   "source": [
    "X = X[independent_variables]\r\n",
    "X_test_cat_encoded = X_test_cat_encoded[independent_variables]\r\n",
    "y = y\r\n",
    "X.shape, X_test_cat_encoded.shape,y.shape"
   ],
   "outputs": [
    {
     "output_type": "execute_result",
     "data": {
      "text/plain": [
       "((4843, 35), (2148, 35), (4843,))"
      ]
     },
     "metadata": {},
     "execution_count": 69
    }
   ],
   "metadata": {}
  },
  {
   "cell_type": "code",
   "execution_count": 70,
   "source": [
    "X_train, X_test, y_train, y_test  = train_test_split(X, y, test_size=0.3, random_state=101)"
   ],
   "outputs": [],
   "metadata": {}
  },
  {
   "cell_type": "code",
   "execution_count": 71,
   "source": [
    "# Create an object of type Ridge()\r\n",
    "ridge = Ridge()\r\n",
    "# Fit the model on the trainng data.\r\n",
    "ridge.fit(X_train, y_train)"
   ],
   "outputs": [
    {
     "output_type": "execute_result",
     "data": {
      "text/plain": [
       "Ridge()"
      ]
     },
     "metadata": {},
     "execution_count": 71
    }
   ],
   "metadata": {}
  },
  {
   "cell_type": "markdown",
   "source": [
    "#### Apply GridSearchCV to Ridge Regression find out the alpha value and respective R square"
   ],
   "metadata": {}
  },
  {
   "cell_type": "code",
   "execution_count": 72,
   "source": [
    "# Import library to find out score (R2)\r\n",
    "from sklearn.model_selection import GridSearchCV\r\n",
    "from sklearn.metrics import r2_score\r\n",
    "\r\n",
    "# Define an array of alpha values\r\n",
    "alphas = [1e-15, 1e-10, 1e-8, 1e-5,1e-4, 1e-3,1e-2, 1, 5, 10]\r\n",
    "\r\n",
    "# Define GridSearchCV \r\n",
    "ridge_grid = GridSearchCV(estimator=ridge, param_grid = dict(alpha=alphas), scoring = 'r2')\r\n",
    "\r\n",
    "# Fit the training model \r\n",
    "ridge_grid.fit(X_train, y_train)\r\n",
    "\r\n",
    "# Get the best alpha value and it's respective R2 score\r\n",
    "print(\"Best alpha value is: %s\" % ridge_grid.best_params_[\"alpha\"])\r\n",
    "print(\"Accuracy from alpha = %s: %s \\n\" % (ridge_grid.best_params_[\"alpha\"],r2_score(ridge_grid.predict(X_test), y_test)))"
   ],
   "outputs": [
    {
     "output_type": "stream",
     "name": "stdout",
     "text": [
      "Best alpha value is: 10\n",
      "Accuracy from alpha = 10: 0.42950191895830203 \n",
      "\n"
     ]
    }
   ],
   "metadata": {}
  },
  {
   "cell_type": "markdown",
   "source": [
    "Let us compare the R2 scores for train and test data using GridSearchCV"
   ],
   "metadata": {}
  },
  {
   "cell_type": "code",
   "execution_count": 73,
   "source": [
    "R2_ridge_grid_train = r2_score(ridge_grid.predict(X_train), y_train)\r\n",
    "R2_ridge_grid_test = r2_score(ridge_grid.predict(X_test), y_test)\r\n",
    "print('R squared for train data is: %.3f' %(R2_ridge_grid_train))\r\n",
    "print('R squared for test data is: %.3f' %(R2_ridge_grid_test))"
   ],
   "outputs": [
    {
     "output_type": "stream",
     "name": "stdout",
     "text": [
      "R squared for train data is: -0.148\n",
      "R squared for test data is: 0.430\n"
     ]
    }
   ],
   "metadata": {}
  },
  {
   "cell_type": "markdown",
   "source": [
    "#### Let us repeat the same process to find out RMSE values for train and test data sets"
   ],
   "metadata": {}
  },
  {
   "cell_type": "code",
   "execution_count": 74,
   "source": [
    "# Import library to find out score MSE\r\n",
    "from sklearn.metrics import mean_squared_error\r\n",
    "\r\n",
    "# Define an array of alpha values\r\n",
    "alphas = [1e-15, 1e-10, 1e-8, 1e-5,1e-4, 1e-3,1e-2, 1, 5, 10]\r\n",
    "\r\n",
    "# Define GridSearchCV \r\n",
    "ridge_grid = GridSearchCV(estimator=ridge, param_grid = dict(alpha=alphas), scoring = 'neg_mean_squared_error')\r\n",
    "\r\n",
    "# Fit the training model \r\n",
    "ridge_grid.fit(X_train, y_train)\r\n",
    "\r\n",
    "# Get the best alpha value and it's respective RMSE score\r\n",
    "print(\"Best alpha value is: %s\" % ridge_grid.best_params_[\"alpha\"])\r\n",
    "print(\"Accuracy from alpha = %s: %s \\n\" % (ridge_grid.best_params_[\"alpha\"],\r\n",
    "                                           sqrt(mean_squared_error(ridge_grid.predict(X_test), y_test))))"
   ],
   "outputs": [
    {
     "output_type": "stream",
     "name": "stdout",
     "text": [
      "Best alpha value is: 10\n",
      "Accuracy from alpha = 10: 7.47393921746802 \n",
      "\n"
     ]
    }
   ],
   "metadata": {}
  },
  {
   "cell_type": "markdown",
   "source": [
    "Let us compare the RMSE scores for train and test data using GridSearchCV"
   ],
   "metadata": {}
  },
  {
   "cell_type": "code",
   "execution_count": 75,
   "source": [
    "RMSE_ridge_grid_train = sqrt(mean_squared_error(ridge_grid.predict(X_train), y_train))\r\n",
    "RMSE_ridge_grid_test = sqrt(mean_squared_error(ridge_grid.predict(X_test), y_test))\r\n",
    "print('Root mean squared error for train data is: %.3f' %(RMSE_ridge_grid_train))\r\n",
    "print('Root mean sqaured error for test data is: %.3f' %(RMSE_ridge_grid_test))"
   ],
   "outputs": [
    {
     "output_type": "stream",
     "name": "stdout",
     "text": [
      "Root mean squared error for train data is: 9.058\n",
      "Root mean sqaured error for test data is: 7.474\n"
     ]
    }
   ],
   "metadata": {}
  },
  {
   "cell_type": "markdown",
   "source": [
    "We can conclude that the best alpha value is 10 for Ridge Regression"
   ],
   "metadata": {}
  },
  {
   "cell_type": "markdown",
   "source": [
    "### 2. Lasso Regression"
   ],
   "metadata": {}
  },
  {
   "cell_type": "code",
   "execution_count": 76,
   "source": [
    "X = X[independent_variables]\r\n",
    "X_test_cat_encoded = X_test_cat_encoded[independent_variables]\r\n",
    "y = y\r\n",
    "X.shape, X_test_cat_encoded.shape,y.shape"
   ],
   "outputs": [
    {
     "output_type": "execute_result",
     "data": {
      "text/plain": [
       "((4843, 35), (2148, 35), (4843,))"
      ]
     },
     "metadata": {},
     "execution_count": 76
    }
   ],
   "metadata": {}
  },
  {
   "cell_type": "code",
   "execution_count": 77,
   "source": [
    "X_train, X_test, y_train, y_test  = train_test_split(X, y, test_size=0.3, random_state=101)"
   ],
   "outputs": [],
   "metadata": {}
  },
  {
   "cell_type": "code",
   "execution_count": 78,
   "source": [
    "# Define the alphas \r\n",
    "alphas = [1e-15, 1e-10, 1e-8, 1e-5,1e-4, 1e-3,1e-2, 1, 5, 10]\r\n",
    "# Create an object for LassoCV\r\n",
    "lasso_reg = LassoCV(alphas=alphas, cv=None, max_iter=50000, tol=0.1,selection='random')\r\n",
    "# Fit the model to our training data\r\n",
    "lasso_reg.fit(X_train,y_train)"
   ],
   "outputs": [
    {
     "output_type": "execute_result",
     "data": {
      "text/plain": [
       "LassoCV(alphas=[1e-15, 1e-10, 1e-08, 1e-05, 0.0001, 0.001, 0.01, 1, 5, 10],\n",
       "        max_iter=50000, selection='random', tol=0.1)"
      ]
     },
     "metadata": {},
     "execution_count": 78
    }
   ],
   "metadata": {}
  },
  {
   "cell_type": "markdown",
   "source": [
    "Let us calculate the $R^2$ on both train and test sets to assess the performance of our model."
   ],
   "metadata": {}
  },
  {
   "cell_type": "code",
   "execution_count": 79,
   "source": [
    "# R2 for train and test data respectively\r\n",
    "R2_train = (lasso_reg.score(X_train, y_train))\r\n",
    "R2_test = (lasso_reg.score(X_test,y_test))\r\n",
    "print('R squared for train data is: %.3f' %(R2_train))\r\n",
    "print('R squared for test data is: %.3f' %(R2_test))"
   ],
   "outputs": [
    {
     "output_type": "stream",
     "name": "stdout",
     "text": [
      "R squared for train data is: 0.466\n",
      "R squared for test data is: 0.646\n"
     ]
    }
   ],
   "metadata": {}
  },
  {
   "cell_type": "markdown",
   "source": [
    "The train set explains obtained an $R^2$ of 0.466 and test set got an $R^2$ of 0.646.\r\n",
    "There is not a huge difference between train and test set, this signifies that the model is a good fit for data, because it performed well when exposed outside of the training data ."
   ],
   "metadata": {}
  },
  {
   "cell_type": "markdown",
   "source": [
    "#### Now let us calculate the RMSE scores for train and test data sets"
   ],
   "metadata": {}
  },
  {
   "cell_type": "code",
   "execution_count": 80,
   "source": [
    "RMSE_train = sqrt(np.mean((y_train - lasso_reg.predict(X_train))**2))\r\n",
    "RMSE_test = sqrt(np.mean((y_test - lasso_reg.predict(X_test))**2))\r\n",
    "print('Root mean squared error for train data is: %.3f' %(RMSE_train))\r\n",
    "print('Root mean sqaured error for test data is: %.3f' %(RMSE_test))"
   ],
   "outputs": [
    {
     "output_type": "stream",
     "name": "stdout",
     "text": [
      "Root mean squared error for train data is: 9.060\n",
      "Root mean sqaured error for test data is: 7.477\n"
     ]
    }
   ],
   "metadata": {}
  },
  {
   "cell_type": "code",
   "execution_count": 81,
   "source": [
    "alpha_lasso_cv = lasso_reg.alpha_\r\n",
    "print('The estimated best regularization parameter is: %.1f' %(alpha_lasso_cv))"
   ],
   "outputs": [
    {
     "output_type": "stream",
     "name": "stdout",
     "text": [
      "The estimated best regularization parameter is: 0.0\n"
     ]
    }
   ],
   "metadata": {}
  },
  {
   "cell_type": "markdown",
   "source": [
    "#### Regression Plot\n",
    "\n",
    "Let us plot a regression plot to see how good of a fit is our regression line on the data"
   ],
   "metadata": {}
  },
  {
   "cell_type": "code",
   "execution_count": 82,
   "source": [
    "# Regression plot\r\n",
    "g = sns.regplot(x=lasso_reg.predict(X_test), y=y_test, fit_reg=True)\r\n",
    "g.set(xlabel='Predicted amount donated$)', ylabel='Actual amount donated($)', title='Model Predictions')\r\n",
    "plt.title('Regression Plot for Actual vs Predicted Values')"
   ],
   "outputs": [
    {
     "output_type": "execute_result",
     "data": {
      "text/plain": [
       "Text(0.5, 1.0, 'Regression Plot for Actual vs Predicted Values')"
      ]
     },
     "metadata": {},
     "execution_count": 82
    },
    {
     "output_type": "display_data",
     "data": {
      "text/plain": [
       "<Figure size 432x288 with 1 Axes>"
      ],
      "image/png": "[encoded data removed]"
     },
     "metadata": {}
    }
   ],
   "metadata": {}
  },
  {
   "cell_type": "markdown",
   "source": [
    "It is quite evident that the regression line is a good fit to our data.\n",
    "\n"
   ],
   "metadata": {}
  },
  {
   "cell_type": "markdown",
   "source": [
    "#### Residual Plots\n",
    "\n",
    "I plotted residual graphs for train, test seperatley and together using lasso regression."
   ],
   "metadata": {}
  },
  {
   "cell_type": "code",
   "execution_count": 83,
   "source": [
    "sns.residplot(x=lasso_reg.predict(X_train), y=y_train, lowess=True)\r\n",
    "plt.title('Residual Plot for train data')"
   ],
   "outputs": [
    {
     "output_type": "execute_result",
     "data": {
      "text/plain": [
       "Text(0.5, 1.0, 'Residual Plot for train data')"
      ]
     },
     "metadata": {},
     "execution_count": 83
    },
    {
     "output_type": "display_data",
     "data": {
      "text/plain": [
       "<Figure size 432x288 with 1 Axes>"
      ],
      "image/png": "[encoded data removed]"
     },
     "metadata": {}
    }
   ],
   "metadata": {}
  },
  {
   "cell_type": "markdown",
   "source": [
    "The graph looks very much similar to what was produced by Linear Regression and Ridge Regression. The data lies within the -50 to +50 range where most of the data lies close to the reference line."
   ],
   "metadata": {}
  },
  {
   "cell_type": "code",
   "execution_count": 84,
   "source": [
    "sns.residplot(x=lasso_reg.predict(X_test), y=y_test, lowess=True)\r\n",
    "plt.title('Residual Plot for test data')"
   ],
   "outputs": [
    {
     "output_type": "execute_result",
     "data": {
      "text/plain": [
       "Text(0.5, 1.0, 'Residual Plot for test data')"
      ]
     },
     "metadata": {},
     "execution_count": 84
    },
    {
     "output_type": "display_data",
     "data": {
      "text/plain": [
       "<Figure size 432x288 with 1 Axes>"
      ],
      "image/png": "[encoded data removed]"
     },
     "metadata": {}
    }
   ],
   "metadata": {}
  },
  {
   "cell_type": "markdown",
   "source": [
    "The data points are scattered around the reference line. There are few outliers, but most of the data lies with the expected -20 to +20 range."
   ],
   "metadata": {}
  },
  {
   "cell_type": "code",
   "execution_count": 85,
   "source": [
    "plt.scatter(lasso_reg.predict(X_train), lasso_reg.predict(X_train) - y_train, c='b', s=40, alpha=0.5)\r\n",
    "plt.scatter(lasso_reg.predict(X_test), lasso_reg.predict(X_test) - y_test, c='g', s=40)\r\n",
    "plt.hlines(y = 0, xmin=0, xmax = 50)\r\n",
    "plt.title(\"Linear regression with Lasso regularization for train (blue) and test (green) data\")\r\n",
    "plt.xlabel(\"Predicted values\")\r\n",
    "plt.ylabel('Residuals')"
   ],
   "outputs": [
    {
     "output_type": "execute_result",
     "data": {
      "text/plain": [
       "Text(0, 0.5, 'Residuals')"
      ]
     },
     "metadata": {},
     "execution_count": 85
    },
    {
     "output_type": "display_data",
     "data": {
      "text/plain": [
       "<Figure size 432x288 with 1 Axes>"
      ],
      "image/png": "[encoded data removed]"
     },
     "metadata": {}
    }
   ],
   "metadata": {}
  },
  {
   "cell_type": "markdown",
   "source": [
    "From the graph the train and test data points are close to each other indicating that the model is performing well on the test data too.\n",
    "\n",
    "Let us see what coefficients does lasso regression produce and what are the top features that influence amount donated."
   ],
   "metadata": {}
  },
  {
   "cell_type": "code",
   "execution_count": 86,
   "source": [
    "# Features and thier respective coefficients\r\n",
    "lasso_coeffs_df = pd.DataFrame(list(zip(X.columns, lasso_reg.coef_)), columns = ['Features', 'Estimated_Coefficients'])\r\n",
    "lasso_coeffs_df.sort_values(by='Estimated_Coefficients', ascending=False)"
   ],
   "outputs": [
    {
     "output_type": "execute_result",
     "data": {
      "text/plain": [
       "                      Features  Estimated_Coefficients\n",
       "27              donor_gender_U                1.471626\n",
       "25                home_owner_U                1.066755\n",
       "26              donor_gender_M                1.022440\n",
       "2                          ses                0.513389\n",
       "19               last_gift_amt                0.498650\n",
       "4              published_phone                0.467211\n",
       "29            overlay_source_P                0.435567\n",
       "31       recency_status_96nk_F                0.417842\n",
       "24                urbanicity_X                0.307812\n",
       "14    recent_avg_card_gift_amt                0.264029\n",
       "21                urbanicity_S                0.243482\n",
       "6                wealth_rating                0.194373\n",
       "23                urbanicity_U                0.106885\n",
       "3                 income_group                0.076136\n",
       "9               pct_attribute3                0.018048\n",
       "16        lifetime_gift_amount                0.015844\n",
       "10              pct_attribute4                0.010854\n",
       "7            median_home_value                0.000260\n",
       "30       recency_status_96nk_E                0.000000\n",
       "32       recency_status_96nk_L                0.000000\n",
       "22                urbanicity_T               -0.000000\n",
       "8               pct_attribute1               -0.009085\n",
       "17       lifetime_max_gift_amt               -0.012539\n",
       "5                 mor_hit_rate               -0.027293\n",
       "34       recency_status_96nk_S               -0.037872\n",
       "0          months_since_origin               -0.041805\n",
       "33       recency_status_96nk_N               -0.047268\n",
       "12          recent_star_status               -0.144719\n",
       "20                urbanicity_R               -0.280717\n",
       "18       lifetime_min_gift_amt               -0.294064\n",
       "28            overlay_source_M               -0.434955\n",
       "15  recent_card_response_count               -0.626302\n",
       "11                    pep_star               -1.189081\n",
       "1                     in_house               -1.338205\n",
       "13       frequency_status_97nk               -1.427321"
      ],
      "text/html": [
       "<div>\n",
       "<style scoped>\n",
       "    .dataframe tbody tr th:only-of-type {\n",
       "        vertical-align: middle;\n",
       "    }\n",
       "\n",
       "    .dataframe tbody tr th {\n",
       "        vertical-align: top;\n",
       "    }\n",
       "\n",
       "    .dataframe thead th {\n",
       "        text-align: right;\n",
       "    }\n",
       "</style>\n",
       "<table border=\"1\" class=\"dataframe\">\n",
       "  <thead>\n",
       "    <tr style=\"text-align: right;\">\n",
       "      <th></th>\n",
       "      <th>Features</th>\n",
       "      <th>Estimated_Coefficients</th>\n",
       "    </tr>\n",
       "  </thead>\n",
       "  <tbody>\n",
       "    <tr>\n",
       "      <th>27</th>\n",
       "      <td>donor_gender_U</td>\n",
       "      <td>1.471626</td>\n",
       "    </tr>\n",
       "    <tr>\n",
       "      <th>25</th>\n",
       "      <td>home_owner_U</td>\n",
       "      <td>1.066755</td>\n",
       "    </tr>\n",
       "    <tr>\n",
       "      <th>26</th>\n",
       "      <td>donor_gender_M</td>\n",
       "      <td>1.022440</td>\n",
       "    </tr>\n",
       "    <tr>\n",
       "      <th>2</th>\n",
       "      <td>ses</td>\n",
       "      <td>0.513389</td>\n",
       "    </tr>\n",
       "    <tr>\n",
       "      <th>19</th>\n",
       "      <td>last_gift_amt</td>\n",
       "      <td>0.498650</td>\n",
       "    </tr>\n",
       "    <tr>\n",
       "      <th>4</th>\n",
       "      <td>published_phone</td>\n",
       "      <td>0.467211</td>\n",
       "    </tr>\n",
       "    <tr>\n",
       "      <th>29</th>\n",
       "      <td>overlay_source_P</td>\n",
       "      <td>0.435567</td>\n",
       "    </tr>\n",
       "    <tr>\n",
       "      <th>31</th>\n",
       "      <td>recency_status_96nk_F</td>\n",
       "      <td>0.417842</td>\n",
       "    </tr>\n",
       "    <tr>\n",
       "      <th>24</th>\n",
       "      <td>urbanicity_X</td>\n",
       "      <td>0.307812</td>\n",
       "    </tr>\n",
       "    <tr>\n",
       "      <th>14</th>\n",
       "      <td>recent_avg_card_gift_amt</td>\n",
       "      <td>0.264029</td>\n",
       "    </tr>\n",
       "    <tr>\n",
       "      <th>21</th>\n",
       "      <td>urbanicity_S</td>\n",
       "      <td>0.243482</td>\n",
       "    </tr>\n",
       "    <tr>\n",
       "      <th>6</th>\n",
       "      <td>wealth_rating</td>\n",
       "      <td>0.194373</td>\n",
       "    </tr>\n",
       "    <tr>\n",
       "      <th>23</th>\n",
       "      <td>urbanicity_U</td>\n",
       "      <td>0.106885</td>\n",
       "    </tr>\n",
       "    <tr>\n",
       "      <th>3</th>\n",
       "      <td>income_group</td>\n",
       "      <td>0.076136</td>\n",
       "    </tr>\n",
       "    <tr>\n",
       "      <th>9</th>\n",
       "      <td>pct_attribute3</td>\n",
       "      <td>0.018048</td>\n",
       "    </tr>\n",
       "    <tr>\n",
       "      <th>16</th>\n",
       "      <td>lifetime_gift_amount</td>\n",
       "      <td>0.015844</td>\n",
       "    </tr>\n",
       "    <tr>\n",
       "      <th>10</th>\n",
       "      <td>pct_attribute4</td>\n",
       "      <td>0.010854</td>\n",
       "    </tr>\n",
       "    <tr>\n",
       "      <th>7</th>\n",
       "      <td>median_home_value</td>\n",
       "      <td>0.000260</td>\n",
       "    </tr>\n",
       "    <tr>\n",
       "      <th>30</th>\n",
       "      <td>recency_status_96nk_E</td>\n",
       "      <td>0.000000</td>\n",
       "    </tr>\n",
       "    <tr>\n",
       "      <th>32</th>\n",
       "      <td>recency_status_96nk_L</td>\n",
       "      <td>0.000000</td>\n",
       "    </tr>\n",
       "    <tr>\n",
       "      <th>22</th>\n",
       "      <td>urbanicity_T</td>\n",
       "      <td>-0.000000</td>\n",
       "    </tr>\n",
       "    <tr>\n",
       "      <th>8</th>\n",
       "      <td>pct_attribute1</td>\n",
       "      <td>-0.009085</td>\n",
       "    </tr>\n",
       "    <tr>\n",
       "      <th>17</th>\n",
       "      <td>lifetime_max_gift_amt</td>\n",
       "      <td>-0.012539</td>\n",
       "    </tr>\n",
       "    <tr>\n",
       "      <th>5</th>\n",
       "      <td>mor_hit_rate</td>\n",
       "      <td>-0.027293</td>\n",
       "    </tr>\n",
       "    <tr>\n",
       "      <th>34</th>\n",
       "      <td>recency_status_96nk_S</td>\n",
       "      <td>-0.037872</td>\n",
       "    </tr>\n",
       "    <tr>\n",
       "      <th>0</th>\n",
       "      <td>months_since_origin</td>\n",
       "      <td>-0.041805</td>\n",
       "    </tr>\n",
       "    <tr>\n",
       "      <th>33</th>\n",
       "      <td>recency_status_96nk_N</td>\n",
       "      <td>-0.047268</td>\n",
       "    </tr>\n",
       "    <tr>\n",
       "      <th>12</th>\n",
       "      <td>recent_star_status</td>\n",
       "      <td>-0.144719</td>\n",
       "    </tr>\n",
       "    <tr>\n",
       "      <th>20</th>\n",
       "      <td>urbanicity_R</td>\n",
       "      <td>-0.280717</td>\n",
       "    </tr>\n",
       "    <tr>\n",
       "      <th>18</th>\n",
       "      <td>lifetime_min_gift_amt</td>\n",
       "      <td>-0.294064</td>\n",
       "    </tr>\n",
       "    <tr>\n",
       "      <th>28</th>\n",
       "      <td>overlay_source_M</td>\n",
       "      <td>-0.434955</td>\n",
       "    </tr>\n",
       "    <tr>\n",
       "      <th>15</th>\n",
       "      <td>recent_card_response_count</td>\n",
       "      <td>-0.626302</td>\n",
       "    </tr>\n",
       "    <tr>\n",
       "      <th>11</th>\n",
       "      <td>pep_star</td>\n",
       "      <td>-1.189081</td>\n",
       "    </tr>\n",
       "    <tr>\n",
       "      <th>1</th>\n",
       "      <td>in_house</td>\n",
       "      <td>-1.338205</td>\n",
       "    </tr>\n",
       "    <tr>\n",
       "      <th>13</th>\n",
       "      <td>frequency_status_97nk</td>\n",
       "      <td>-1.427321</td>\n",
       "    </tr>\n",
       "  </tbody>\n",
       "</table>\n",
       "</div>"
      ]
     },
     "metadata": {},
     "execution_count": 86
    }
   ],
   "metadata": {}
  },
  {
   "cell_type": "code",
   "execution_count": 87,
   "source": [
    "lasso_pos_coeffs_df = lasso_coeffs_df[(lasso_coeffs_df['Estimated_Coefficients'])>=0].sort_values(by='Estimated_Coefficients', ascending=False)\r\n",
    "lasso_pos_coeffs_df"
   ],
   "outputs": [
    {
     "output_type": "execute_result",
     "data": {
      "text/plain": [
       "                    Features  Estimated_Coefficients\n",
       "27            donor_gender_U                1.471626\n",
       "25              home_owner_U                1.066755\n",
       "26            donor_gender_M                1.022440\n",
       "2                        ses                0.513389\n",
       "19             last_gift_amt                0.498650\n",
       "4            published_phone                0.467211\n",
       "29          overlay_source_P                0.435567\n",
       "31     recency_status_96nk_F                0.417842\n",
       "24              urbanicity_X                0.307812\n",
       "14  recent_avg_card_gift_amt                0.264029\n",
       "21              urbanicity_S                0.243482\n",
       "6              wealth_rating                0.194373\n",
       "23              urbanicity_U                0.106885\n",
       "3               income_group                0.076136\n",
       "9             pct_attribute3                0.018048\n",
       "16      lifetime_gift_amount                0.015844\n",
       "10            pct_attribute4                0.010854\n",
       "7          median_home_value                0.000260\n",
       "22              urbanicity_T               -0.000000\n",
       "30     recency_status_96nk_E                0.000000\n",
       "32     recency_status_96nk_L                0.000000"
      ],
      "text/html": [
       "<div>\n",
       "<style scoped>\n",
       "    .dataframe tbody tr th:only-of-type {\n",
       "        vertical-align: middle;\n",
       "    }\n",
       "\n",
       "    .dataframe tbody tr th {\n",
       "        vertical-align: top;\n",
       "    }\n",
       "\n",
       "    .dataframe thead th {\n",
       "        text-align: right;\n",
       "    }\n",
       "</style>\n",
       "<table border=\"1\" class=\"dataframe\">\n",
       "  <thead>\n",
       "    <tr style=\"text-align: right;\">\n",
       "      <th></th>\n",
       "      <th>Features</th>\n",
       "      <th>Estimated_Coefficients</th>\n",
       "    </tr>\n",
       "  </thead>\n",
       "  <tbody>\n",
       "    <tr>\n",
       "      <th>27</th>\n",
       "      <td>donor_gender_U</td>\n",
       "      <td>1.471626</td>\n",
       "    </tr>\n",
       "    <tr>\n",
       "      <th>25</th>\n",
       "      <td>home_owner_U</td>\n",
       "      <td>1.066755</td>\n",
       "    </tr>\n",
       "    <tr>\n",
       "      <th>26</th>\n",
       "      <td>donor_gender_M</td>\n",
       "      <td>1.022440</td>\n",
       "    </tr>\n",
       "    <tr>\n",
       "      <th>2</th>\n",
       "      <td>ses</td>\n",
       "      <td>0.513389</td>\n",
       "    </tr>\n",
       "    <tr>\n",
       "      <th>19</th>\n",
       "      <td>last_gift_amt</td>\n",
       "      <td>0.498650</td>\n",
       "    </tr>\n",
       "    <tr>\n",
       "      <th>4</th>\n",
       "      <td>published_phone</td>\n",
       "      <td>0.467211</td>\n",
       "    </tr>\n",
       "    <tr>\n",
       "      <th>29</th>\n",
       "      <td>overlay_source_P</td>\n",
       "      <td>0.435567</td>\n",
       "    </tr>\n",
       "    <tr>\n",
       "      <th>31</th>\n",
       "      <td>recency_status_96nk_F</td>\n",
       "      <td>0.417842</td>\n",
       "    </tr>\n",
       "    <tr>\n",
       "      <th>24</th>\n",
       "      <td>urbanicity_X</td>\n",
       "      <td>0.307812</td>\n",
       "    </tr>\n",
       "    <tr>\n",
       "      <th>14</th>\n",
       "      <td>recent_avg_card_gift_amt</td>\n",
       "      <td>0.264029</td>\n",
       "    </tr>\n",
       "    <tr>\n",
       "      <th>21</th>\n",
       "      <td>urbanicity_S</td>\n",
       "      <td>0.243482</td>\n",
       "    </tr>\n",
       "    <tr>\n",
       "      <th>6</th>\n",
       "      <td>wealth_rating</td>\n",
       "      <td>0.194373</td>\n",
       "    </tr>\n",
       "    <tr>\n",
       "      <th>23</th>\n",
       "      <td>urbanicity_U</td>\n",
       "      <td>0.106885</td>\n",
       "    </tr>\n",
       "    <tr>\n",
       "      <th>3</th>\n",
       "      <td>income_group</td>\n",
       "      <td>0.076136</td>\n",
       "    </tr>\n",
       "    <tr>\n",
       "      <th>9</th>\n",
       "      <td>pct_attribute3</td>\n",
       "      <td>0.018048</td>\n",
       "    </tr>\n",
       "    <tr>\n",
       "      <th>16</th>\n",
       "      <td>lifetime_gift_amount</td>\n",
       "      <td>0.015844</td>\n",
       "    </tr>\n",
       "    <tr>\n",
       "      <th>10</th>\n",
       "      <td>pct_attribute4</td>\n",
       "      <td>0.010854</td>\n",
       "    </tr>\n",
       "    <tr>\n",
       "      <th>7</th>\n",
       "      <td>median_home_value</td>\n",
       "      <td>0.000260</td>\n",
       "    </tr>\n",
       "    <tr>\n",
       "      <th>22</th>\n",
       "      <td>urbanicity_T</td>\n",
       "      <td>-0.000000</td>\n",
       "    </tr>\n",
       "    <tr>\n",
       "      <th>30</th>\n",
       "      <td>recency_status_96nk_E</td>\n",
       "      <td>0.000000</td>\n",
       "    </tr>\n",
       "    <tr>\n",
       "      <th>32</th>\n",
       "      <td>recency_status_96nk_L</td>\n",
       "      <td>0.000000</td>\n",
       "    </tr>\n",
       "  </tbody>\n",
       "</table>\n",
       "</div>"
      ]
     },
     "metadata": {},
     "execution_count": 87
    }
   ],
   "metadata": {}
  },
  {
   "cell_type": "markdown",
   "source": [
    "As we can see the features changed from what we saw in Ridge rgression, Lasso results show added new features."
   ],
   "metadata": {}
  },
  {
   "cell_type": "code",
   "execution_count": 88,
   "source": [
    "lasso_neg_coeffs_df = lasso_coeffs_df[(lasso_coeffs_df['Estimated_Coefficients'])<0].sort_values(by='Estimated_Coefficients', ascending=True)\r\n",
    "lasso_neg_coeffs_df"
   ],
   "outputs": [
    {
     "output_type": "execute_result",
     "data": {
      "text/plain": [
       "                      Features  Estimated_Coefficients\n",
       "13       frequency_status_97nk               -1.427321\n",
       "1                     in_house               -1.338205\n",
       "11                    pep_star               -1.189081\n",
       "15  recent_card_response_count               -0.626302\n",
       "28            overlay_source_M               -0.434955\n",
       "18       lifetime_min_gift_amt               -0.294064\n",
       "20                urbanicity_R               -0.280717\n",
       "12          recent_star_status               -0.144719\n",
       "33       recency_status_96nk_N               -0.047268\n",
       "0          months_since_origin               -0.041805\n",
       "34       recency_status_96nk_S               -0.037872\n",
       "5                 mor_hit_rate               -0.027293\n",
       "17       lifetime_max_gift_amt               -0.012539\n",
       "8               pct_attribute1               -0.009085"
      ],
      "text/html": [
       "<div>\n",
       "<style scoped>\n",
       "    .dataframe tbody tr th:only-of-type {\n",
       "        vertical-align: middle;\n",
       "    }\n",
       "\n",
       "    .dataframe tbody tr th {\n",
       "        vertical-align: top;\n",
       "    }\n",
       "\n",
       "    .dataframe thead th {\n",
       "        text-align: right;\n",
       "    }\n",
       "</style>\n",
       "<table border=\"1\" class=\"dataframe\">\n",
       "  <thead>\n",
       "    <tr style=\"text-align: right;\">\n",
       "      <th></th>\n",
       "      <th>Features</th>\n",
       "      <th>Estimated_Coefficients</th>\n",
       "    </tr>\n",
       "  </thead>\n",
       "  <tbody>\n",
       "    <tr>\n",
       "      <th>13</th>\n",
       "      <td>frequency_status_97nk</td>\n",
       "      <td>-1.427321</td>\n",
       "    </tr>\n",
       "    <tr>\n",
       "      <th>1</th>\n",
       "      <td>in_house</td>\n",
       "      <td>-1.338205</td>\n",
       "    </tr>\n",
       "    <tr>\n",
       "      <th>11</th>\n",
       "      <td>pep_star</td>\n",
       "      <td>-1.189081</td>\n",
       "    </tr>\n",
       "    <tr>\n",
       "      <th>15</th>\n",
       "      <td>recent_card_response_count</td>\n",
       "      <td>-0.626302</td>\n",
       "    </tr>\n",
       "    <tr>\n",
       "      <th>28</th>\n",
       "      <td>overlay_source_M</td>\n",
       "      <td>-0.434955</td>\n",
       "    </tr>\n",
       "    <tr>\n",
       "      <th>18</th>\n",
       "      <td>lifetime_min_gift_amt</td>\n",
       "      <td>-0.294064</td>\n",
       "    </tr>\n",
       "    <tr>\n",
       "      <th>20</th>\n",
       "      <td>urbanicity_R</td>\n",
       "      <td>-0.280717</td>\n",
       "    </tr>\n",
       "    <tr>\n",
       "      <th>12</th>\n",
       "      <td>recent_star_status</td>\n",
       "      <td>-0.144719</td>\n",
       "    </tr>\n",
       "    <tr>\n",
       "      <th>33</th>\n",
       "      <td>recency_status_96nk_N</td>\n",
       "      <td>-0.047268</td>\n",
       "    </tr>\n",
       "    <tr>\n",
       "      <th>0</th>\n",
       "      <td>months_since_origin</td>\n",
       "      <td>-0.041805</td>\n",
       "    </tr>\n",
       "    <tr>\n",
       "      <th>34</th>\n",
       "      <td>recency_status_96nk_S</td>\n",
       "      <td>-0.037872</td>\n",
       "    </tr>\n",
       "    <tr>\n",
       "      <th>5</th>\n",
       "      <td>mor_hit_rate</td>\n",
       "      <td>-0.027293</td>\n",
       "    </tr>\n",
       "    <tr>\n",
       "      <th>17</th>\n",
       "      <td>lifetime_max_gift_amt</td>\n",
       "      <td>-0.012539</td>\n",
       "    </tr>\n",
       "    <tr>\n",
       "      <th>8</th>\n",
       "      <td>pct_attribute1</td>\n",
       "      <td>-0.009085</td>\n",
       "    </tr>\n",
       "  </tbody>\n",
       "</table>\n",
       "</div>"
      ]
     },
     "metadata": {},
     "execution_count": 88
    }
   ],
   "metadata": {}
  },
  {
   "cell_type": "markdown",
   "source": [
    "#### GridSearchCV\n",
    "\n",
    "Let us explore the best hyper parameter (alpha) and it's respective score using GridSearchCV"
   ],
   "metadata": {}
  },
  {
   "cell_type": "code",
   "execution_count": 89,
   "source": [
    "X = X[independent_variables]\r\n",
    "X_test_cat_encoded = X_test_cat_encoded[independent_variables]\r\n",
    "y = y\r\n",
    "X.shape, X_test_cat_encoded.shape,y.shape"
   ],
   "outputs": [
    {
     "output_type": "execute_result",
     "data": {
      "text/plain": [
       "((4843, 35), (2148, 35), (4843,))"
      ]
     },
     "metadata": {},
     "execution_count": 89
    }
   ],
   "metadata": {}
  },
  {
   "cell_type": "code",
   "execution_count": 90,
   "source": [
    "X_train, X_test, y_train, y_test  = train_test_split(X, y, test_size=0.3, random_state=101)"
   ],
   "outputs": [],
   "metadata": {}
  },
  {
   "cell_type": "code",
   "execution_count": 91,
   "source": [
    "# Create an object \r\n",
    "lasso = Lasso(max_iter = 500000, tol=0.1)\r\n",
    "\r\n",
    "# Fit the model on the trainng data\r\n",
    "lasso.fit(X_train, y_train)"
   ],
   "outputs": [
    {
     "output_type": "execute_result",
     "data": {
      "text/plain": [
       "Lasso(max_iter=500000, tol=0.1)"
      ]
     },
     "metadata": {},
     "execution_count": 91
    }
   ],
   "metadata": {}
  },
  {
   "cell_type": "markdown",
   "source": [
    "#### Apply GridSearchCV to Ridge Regression find out the alpha value and respective R square"
   ],
   "metadata": {}
  },
  {
   "cell_type": "code",
   "execution_count": 92,
   "source": [
    " #Import library to find out score (R2)\r\n",
    "from sklearn.metrics import r2_score\r\n",
    "\r\n",
    "# Define an array of alpha values\r\n",
    "alphas = [1e-15, 1e-10, 1e-8, 1e-5,1e-4, 1e-3,1e-2, 1, 5, 10]\r\n",
    "\r\n",
    "# Define GridSearchCV \r\n",
    "lasso_grid = GridSearchCV(estimator = lasso, param_grid = dict(alpha=alphas), scoring='r2')\r\n",
    "\r\n",
    "# Fit the training model \r\n",
    "lasso_grid.fit(X_train, y_train)\r\n",
    "\r\n",
    "# Get the best alpha value and it's respective R2 score\r\n",
    "print('Best alpha value is: %s' % lasso_grid.best_params_['alpha'])\r\n",
    "print('Score when alpha = %s: is %s \\n' % (lasso_grid.best_params_['alpha'],r2_score(lasso_grid.predict(X_test), y_test)))"
   ],
   "outputs": [
    {
     "output_type": "stream",
     "name": "stderr",
     "text": [
      "C:\\Users\\kwentua\\anaconda3\\lib\\site-packages\\sklearn\\linear_model\\_coordinate_descent.py:529: ConvergenceWarning: Objective did not converge. You might want to increase the number of iterations. Duality gap: 100839.29740020899, tolerance: 38844.640565648966\n",
      "  model = cd_fast.enet_coordinate_descent(\n",
      "C:\\Users\\kwentua\\anaconda3\\lib\\site-packages\\sklearn\\linear_model\\_coordinate_descent.py:529: ConvergenceWarning: Objective did not converge. You might want to increase the number of iterations. Duality gap: 116750.51658509686, tolerance: 44073.05241804948\n",
      "  model = cd_fast.enet_coordinate_descent(\n",
      "C:\\Users\\kwentua\\anaconda3\\lib\\site-packages\\sklearn\\linear_model\\_coordinate_descent.py:529: ConvergenceWarning: Objective did not converge. You might want to increase the number of iterations. Duality gap: 96200.09545176888, tolerance: 38697.2250929167\n",
      "  model = cd_fast.enet_coordinate_descent(\n",
      "C:\\Users\\kwentua\\anaconda3\\lib\\site-packages\\sklearn\\linear_model\\_coordinate_descent.py:529: ConvergenceWarning: Objective did not converge. You might want to increase the number of iterations. Duality gap: 102715.18796676189, tolerance: 42593.64528023231\n",
      "  model = cd_fast.enet_coordinate_descent(\n",
      "C:\\Users\\kwentua\\anaconda3\\lib\\site-packages\\sklearn\\linear_model\\_coordinate_descent.py:529: ConvergenceWarning: Objective did not converge. You might want to increase the number of iterations. Duality gap: 118055.01236643727, tolerance: 44072.62422271018\n",
      "  model = cd_fast.enet_coordinate_descent(\n"
     ]
    },
    {
     "output_type": "stream",
     "name": "stdout",
     "text": [
      "Best alpha value is: 0.01\n",
      "Score when alpha = 0.01: is 0.4271560538317106 \n",
      "\n"
     ]
    }
   ],
   "metadata": {}
  },
  {
   "cell_type": "markdown",
   "source": [
    "Let us compare the R2 scores for train and test data using GridSearchCV"
   ],
   "metadata": {}
  },
  {
   "cell_type": "code",
   "execution_count": 93,
   "source": [
    "R2_lasso_grid_train = r2_score(lasso_grid.predict(X_train), y_train)\r\n",
    "R2_lasso_grid_test = r2_score(lasso_grid.predict(X_test), y_test)\r\n",
    "print('R squared for train data is: %.3f' %(R2_lasso_grid_train))\r\n",
    "print('R squared for test data is: %.3f' %(R2_lasso_grid_test))"
   ],
   "outputs": [
    {
     "output_type": "stream",
     "name": "stdout",
     "text": [
      "R squared for train data is: -0.152\n",
      "R squared for test data is: 0.427\n"
     ]
    }
   ],
   "metadata": {}
  },
  {
   "cell_type": "markdown",
   "source": [
    "Let's repeat the same using Lasso & GridSearchCV process to find out RMSE values for train and test data sets"
   ],
   "metadata": {}
  },
  {
   "cell_type": "code",
   "execution_count": 94,
   "source": [
    "# Import library to find out score MSE\r\n",
    "from sklearn.metrics import mean_squared_error\r\n",
    "\r\n",
    "# Define an array of alpha values\r\n",
    "alphas = [1e-15, 1e-10, 1e-8, 1e-5,1e-4, 1e-3,1e-2, 1, 5, 10]\r\n",
    "\r\n",
    "# Define GridSearchCV \r\n",
    "lasso_grid = GridSearchCV(estimator = lasso, param_grid = dict(alpha=alphas), scoring='neg_mean_squared_error')\r\n",
    "\r\n",
    "# Fit the training model\r\n",
    "lasso_grid.fit(X_train, y_train)\r\n",
    "\r\n",
    "# Get the best alpha value and it's respective RMSE score\r\n",
    "print(\"Best alpha value is: %s\" % lasso_grid.best_params_[\"alpha\"])\r\n",
    "print(\"Accuracy from alpha = %s: %s \\n\" % (lasso_grid.best_params_[\"alpha\"],\r\n",
    "                                           sqrt(mean_squared_error(lasso_grid.predict(X_test), y_test))))"
   ],
   "outputs": [
    {
     "output_type": "stream",
     "name": "stderr",
     "text": [
      "C:\\Users\\kwentua\\anaconda3\\lib\\site-packages\\sklearn\\linear_model\\_coordinate_descent.py:529: ConvergenceWarning: Objective did not converge. You might want to increase the number of iterations. Duality gap: 100839.29740020899, tolerance: 38844.640565648966\n",
      "  model = cd_fast.enet_coordinate_descent(\n",
      "C:\\Users\\kwentua\\anaconda3\\lib\\site-packages\\sklearn\\linear_model\\_coordinate_descent.py:529: ConvergenceWarning: Objective did not converge. You might want to increase the number of iterations. Duality gap: 116750.51658509686, tolerance: 44073.05241804948\n",
      "  model = cd_fast.enet_coordinate_descent(\n"
     ]
    }
   ],
   "metadata": {}
  },
  {
   "cell_type": "markdown",
   "source": [
    "Let us compare the RMSE scores for train and test data using GridSearchCV"
   ],
   "metadata": {}
  },
  {
   "cell_type": "code",
   "execution_count": null,
   "source": [
    "RMSE_lasso_grid_train = sqrt(mean_squared_error(lasso_grid.predict(X_train), y_train))\r\n",
    "RMSE_lasso_grid_test = sqrt(mean_squared_error(lasso_grid.predict(X_test), y_test))\r\n",
    "print('Root mean squared error for train data is: %.3f' %(RMSE_lasso_grid_train))\r\n",
    "print('Root mean sqaured error for test data is: %.3f' %(RMSE_lasso_grid_test))"
   ],
   "outputs": [],
   "metadata": {}
  },
  {
   "cell_type": "markdown",
   "source": [
    "#### We can conclude that the best alpha value is 10 for Lasso Regression"
   ],
   "metadata": {}
  },
  {
   "cell_type": "markdown",
   "source": [
    "## Random Forest Regressor"
   ],
   "metadata": {}
  },
  {
   "cell_type": "code",
   "execution_count": 89,
   "source": [
    "X = X[independent_variables]\r\n",
    "X_test_cat_encoded = X_test_cat_encoded[independent_variables]\r\n",
    "y = y\r\n",
    "X.shape, X_test_cat_encoded.shape,y.shape"
   ],
   "outputs": [
    {
     "data": {
      "text/plain": [
       "((4843, 35), (2148, 35), (4843,))"
      ]
     },
     "metadata": {},
     "output_type": "display_data"
    }
   ],
   "metadata": {}
  },
  {
   "cell_type": "code",
   "execution_count": 90,
   "source": [
    "X_train, X_test, y_train, y_test  = train_test_split(X, y, test_size=0.3, random_state=101)"
   ],
   "outputs": [],
   "metadata": {}
  },
  {
   "cell_type": "markdown",
   "source": [
    "## Scaling"
   ],
   "metadata": {}
  },
  {
   "cell_type": "code",
   "execution_count": null,
   "source": [
    "#Now we do some Feature Scaling\r\n",
    "from sklearn.preprocessing import StandardScaler\r\n",
    "\r\n",
    "sc_X = StandardScaler()\r\n",
    "\r\n",
    "X_train2 = pd.DataFrame(sc_X.fit_transform(X_train))\r\n",
    "X_test2 = pd.DataFrame(sc_X.transform(X_test)) #we do the Feature Scaling\r\n",
    "\r\n",
    "X_train2.columns = X_train.columns.values \r\n",
    "X_test2.columns = X_test.columns.values #we give the new Scaled DataFrame column names\r\n",
    "\r\n",
    "X_train2.index = X_train.index.values\r\n",
    "X_test2.index = X_test.index.values #we give the new Scaled DataFrame each index\r\n",
    "\r\n",
    "X_train = X_train2\r\n",
    "X_test = X_test2\r\n",
    "\r\n",
    "X_train.head(1)"
   ],
   "outputs": [],
   "metadata": {}
  },
  {
   "cell_type": "markdown",
   "source": [
    "## Random Forest"
   ],
   "metadata": {}
  },
  {
   "cell_type": "code",
   "execution_count": null,
   "source": [
    "#We chose Random Forest algorith for this project\r\n",
    "#Let's do Cross Validation to check the overal score in the Training Set\r\n",
    "from sklearn.model_selection import cross_val_score\r\n",
    "from sklearn.ensemble import RandomForestRegressor\r\n",
    "\r\n",
    "scores = []\r\n",
    "forest = RandomForestRegressor(n_estimators=20, random_state=101)\r\n",
    "acc = cross_val_score(forest, X_train, y_train, scoring='r2', cv=5)\r\n",
    "scores.append(round(acc.mean()*100,2))"
   ],
   "outputs": [],
   "metadata": {}
  },
  {
   "cell_type": "code",
   "execution_count": null,
   "source": [
    "results = pd.DataFrame({\r\n",
    "    'Metrics': ['R2'],\r\n",
    "    'Accuracy': scores})\r\n",
    "results"
   ],
   "outputs": [],
   "metadata": {}
  },
  {
   "cell_type": "markdown",
   "source": [
    "## Hyper-parameter tuning"
   ],
   "metadata": {}
  },
  {
   "cell_type": "code",
   "execution_count": null,
   "source": [
    "#To improve the performance of the model, we optimise hyper-parameters\r\n",
    "from sklearn.model_selection import GridSearchCV\r\n",
    "\r\n",
    "param_grid = {'n_estimators': [100, 200, 300]}\r\n",
    "forest = RandomForestRegressor(random_state=0)\r\n",
    "grid_search = GridSearchCV(estimator = forest, param_grid = param_grid, \r\n",
    "                          cv = 3, n_jobs = -1, verbose = 2)"
   ],
   "outputs": [],
   "metadata": {}
  },
  {
   "cell_type": "code",
   "execution_count": null,
   "source": [
    "grid_search.fit(X_train, y_train)\r\n",
    "grid_search.best_params_"
   ],
   "outputs": [],
   "metadata": {}
  },
  {
   "cell_type": "code",
   "execution_count": null,
   "source": [
    "scores2 = []\r\n",
    "best_grid = grid_search.best_estimator_\r\n",
    "acc2 = cross_val_score(best_grid, X_train, y_train, scoring='r2', cv=5)\r\n",
    "scores2.append(round(acc2.mean()*100,2)"
   ],
   "outputs": [],
   "metadata": {}
  },
  {
   "cell_type": "code",
   "execution_count": null,
   "source": [
    "results = pd.DataFrame({\r\n",
    "    'Metrics': ['R2'],\r\n",
    "    'Accuracy': scores,\r\n",
    "    'Accuracy Tuned Param': scores2})\r\n",
    "results"
   ],
   "outputs": [],
   "metadata": {}
  },
  {
   "cell_type": "markdown",
   "source": [
    "## Validation"
   ],
   "metadata": {}
  },
  {
   "cell_type": "code",
   "execution_count": null,
   "source": [
    "#Finally let's check the performance on the Test Set\r\n",
    "from sklearn.metrics import r2_score\r\n",
    "\r\n",
    "best_grid = grid_search.best_estimator_\r\n",
    "y_pred = best_grid.predict(X_test)\r\n",
    "acc_test = round(r2_score(y_test,y_pred)*100,2)"
   ],
   "outputs": [],
   "metadata": {}
  },
  {
   "cell_type": "code",
   "execution_count": null,
   "source": [
    "results = pd.DataFrame({\r\n",
    "    'Metrics': ['R2'],\r\n",
    "    'Accuracy': scores,\r\n",
    "    'Accuracy Tuned Param': scores2,\r\n",
    "    'Accuracy Test Set': acc_test})\r\n",
    "results"
   ],
   "outputs": [],
   "metadata": {}
  },
  {
   "cell_type": "code",
   "execution_count": null,
   "source": [
    "#Other metrics apart from R2 \r\n",
    "from sklearn import metrics\r\n",
    "from sklearn.metrics import mean_squared_error as MSE\r\n",
    "\r\n",
    "print('Mean Absolute Error:', round(metrics.mean_absolute_error(y_test, y_pred),2))\r\n",
    "print('Mean Squared Error:', round(metrics.mean_squared_error(y_test, y_pred),2))\r\n",
    "print('Root Mean Squared Error:', round(np.sqrt(metrics.mean_squared_error(y_test, y_pred)),2))"
   ],
   "outputs": [],
   "metadata": {}
  },
  {
   "cell_type": "markdown",
   "source": [
    "## Feature importance"
   ],
   "metadata": {}
  },
  {
   "cell_type": "code",
   "execution_count": null,
   "source": [
    "#On to the second goal: feature importance when predicting prices\r\n",
    "name = []\r\n",
    "importance = []\r\n",
    "for nam, imp in zip(X, best_grid.feature_importances_):\r\n",
    "    name.append(nam)\r\n",
    "    importance.append(round(imp*100,2))"
   ],
   "outputs": [],
   "metadata": {}
  },
  {
   "cell_type": "code",
   "execution_count": null,
   "source": [
    "features = pd.DataFrame({'Features': name, \"Importance (%)\": importance})\r\n",
    "features.sort_values(by='Importance (%)', ascending = False)"
   ],
   "outputs": [],
   "metadata": {}
  },
  {
   "cell_type": "code",
   "execution_count": null,
   "source": [
    "#Finally we plot it \r\n",
    "def plot_feature_importance(importance,names,model_type):\r\n",
    "\r\n",
    "    #Create arrays from feature importance and feature names\r\n",
    "    feature_importance = np.array(importance)\r\n",
    "    feature_names = np.array(names)\r\n",
    "\r\n",
    "    #Create a DataFrame using a Dictionary\r\n",
    "    data={'feature_names':feature_names,'feature_importance':feature_importance}\r\n",
    "    fi_df = pd.DataFrame(data)\r\n",
    "\r\n",
    "    #Sort the DataFrame in order decreasing feature importance\r\n",
    "    fi_df.sort_values(by=['feature_importance'], ascending=False,inplace=True)\r\n",
    "\r\n",
    "    #Define size of bar plot\r\n",
    "    plt.figure(figsize=(10,8))\r\n",
    "    #Plot Searborn bar chart\r\n",
    "    sns.barplot(x=fi_df['feature_importance'], y=fi_df['feature_names'])\r\n",
    "    #Add chart labels\r\n",
    "    plt.title(model_type + ' FEATURE IMPORTANCE')\r\n",
    "    plt.xlabel('FEATURE IMPORTANCE')\r\n",
    "    plt.ylabel('FEATURE NAMES')\r\n",
    "\r\n",
    "\r\n",
    "plot_feature_importance(best_grid.feature_importances_,X.columns,'RANDOM FOREST')"
   ],
   "outputs": [],
   "metadata": {}
  },
  {
   "cell_type": "markdown",
   "source": [
    "#### Comparing the models\n",
    "Let us compare all the models and evaluate one model that is best suited to the data, this can be acheived by comparing the scores of train and test sets for each model."
   ],
   "metadata": {}
  },
  {
   "cell_type": "code",
   "execution_count": null,
   "source": [
    "from collections import OrderedDict\r\n",
    "# Create a dictionary to store the train and test scores, best alpha values\r\n",
    "scores = {'Index': ['Linear Reg','RidgeCV Reg','LassoCV Reg', 'Ridge_GridSearchCV', 'Lasso_GridSearchCV'],\r\n",
    "         'RMSE_train': [9.068, 9.058, 9.060, 9.058, 9.060],\r\n",
    "         'RMSE_test': [7.462, 7.474, 7.477, 7.474, 7.477],\r\n",
    "         'R2_train': [0.465, 0.466, 0.466, -0.148, -0.152 ],\r\n",
    "         'R2_test': [0.647, 0.646, 0.646, 0.430, 0.427],\r\n",
    "         'Best_alpha': ['N/A', 10.0, 0.0, 10, 0.01]}\r\n",
    "scores = OrderedDict(scores)\r\n",
    "\r\n",
    "# Create a dataframe from the dictionary\r\n",
    "reg_models_scores = pd.DataFrame.from_dict(scores)\r\n",
    "reg_models_scores"
   ],
   "outputs": [],
   "metadata": {}
  },
  {
   "cell_type": "markdown",
   "source": [
    "The scores produced by Ridge Regression doesn't vary much, both RMSE and R2 of train and test data sets are not far from each other. The same is the case with Ridge using GridSearch Cross Validation.\r\n",
    "\r\n",
    "Therefore by lookig at the scores, regression plots and residual plots I feel that Ridge Regression using Cross Validation is the best model for the data. Having said that let us look at the features that are positively and negatively correlated with the Amount Donated using Ridge Cross Validation method.\r\n",
    "\r\n",
    "The top ten important features that are positively correlated with Amount Donated are:\r\n",
    "\r\n",
    "\r\n",
    "* Donor Gender U \r\n",
    "* Recency Status 96nk L\r\n",
    "* Home Owner U\r\n",
    "* Donor Gender M\r\n",
    "* Urbanicity X\r\n",
    "* Recency Status 96nk F\r\n",
    "* Published Phone\r\n",
    "* Overlay Source P\r\n",
    "* Last Gift Amount\r\n",
    "* Ses\r\n",
    "\r\n",
    "\r\n",
    "The presence/ increase of the above features increases the amount donated to a charity\r\n",
    "\r\n",
    "The top ten important features that are negatively correlated with the amount donated are:\r\n",
    "\r\n",
    "* In-House\r\n",
    "* Frequency Status 97nk\r\n",
    "* Pep Star\r\n",
    "* Recent Card Response Count\r\n",
    "* Overlay Source M\r\n",
    "* Urbanicity R\r\n",
    "* Lifetime Min Gift Amount\r\n",
    "* Recency Status 96nk S\r\n",
    "* Months Since Origin\r\n",
    "* Mor Hit Rate\r\n",
    "\r\n",
    "The presence of the positive features may lead to an increase in the amount donated to a charity\r\n",
    "\r\n",
    "The absence of the negative features may lead to a decrease in the amount donated to a charity"
   ],
   "metadata": {}
  },
  {
   "cell_type": "code",
   "execution_count": null,
   "source": [],
   "outputs": [],
   "metadata": {}
  }
 ],
 "metadata": {
  "orig_nbformat": 4,
  "language_info": {
   "name": "python",
   "version": "3.8.5",
   "mimetype": "text/x-python",
   "codemirror_mode": {
    "name": "ipython",
    "version": 3
   },
   "pygments_lexer": "ipython3",
   "nbconvert_exporter": "python",
   "file_extension": ".py"
  },
  "kernelspec": {
   "name": "python3",
   "display_name": "Python 3.8.5 64-bit ('base': conda)"
  },
  "interpreter": {
   "hash": "8eb07b4d783c51f574b3398e25d662e9253b789236e8fa3b76d1d4089bc7b5f6"
  }
 },
 "nbformat": 4,
 "nbformat_minor": 2
}