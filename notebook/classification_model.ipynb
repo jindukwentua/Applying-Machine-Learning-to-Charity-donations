{
 "cells": [
  {
   "cell_type": "code",
   "execution_count": 1,
   "metadata": {},
   "outputs": [],
   "source": [
    "# Importing python libraries\r\n",
    "#\r\n",
    "import pandas as pd\r\n",
    "import numpy as np\r\n",
    "import matplotlib.pyplot as plt\r\n",
    "%matplotlib inline\r\n",
    "import seaborn as sns; sns.set(style = 'darkgrid')\r\n",
    "import requests\r\n",
    "from io import StringIO\r\n",
    "from sklearn.preprocessing import StandardScaler, LabelEncoder\r\n",
    "from sklearn.model_selection import train_test_split, GridSearchCV, RandomizedSearchCV, KFold, cross_val_score\r\n",
    "from sklearn.ensemble import AdaBoostClassifier, RandomForestClassifier, GradientBoostingClassifier\r\n",
    "from sklearn.svm import SVC\r\n",
    "from xgboost import XGBClassifier\r\n",
    "from sklearn.neighbors import KNeighborsClassifier\r\n",
    "from sklearn.linear_model import LogisticRegression\r\n",
    "from sklearn.tree import export_graphviz \r\n",
    "from IPython.display import Image  \r\n",
    "import pydotplus\r\n",
    "from sklearn.metrics import accuracy_score, confusion_matrix, classification_report, f1_score\r\n",
    "import warnings\r\n",
    "warnings.filterwarnings(action = 'ignore')"
   ]
  },
  {
   "cell_type": "code",
   "execution_count": 2,
   "metadata": {},
   "outputs": [],
   "source": [
    "df = pd.read_csv('../notebook/cleaned_donor_data.csv')"
   ]
  },
  {
   "cell_type": "code",
   "execution_count": 3,
   "metadata": {},
   "outputs": [
    {
     "name": "stdout",
     "output_type": "stream",
     "text": [
      "<class 'pandas.core.frame.DataFrame'>\n",
      "RangeIndex: 19372 entries, 0 to 19371\n",
      "Data columns (total 50 columns):\n",
      " #   Column                       Non-Null Count  Dtype  \n",
      "---  ------                       --------------  -----  \n",
      " 0   control_number               19372 non-null  int64  \n",
      " 1   donated                      19372 non-null  int64  \n",
      " 2   amount_donated               19372 non-null  float64\n",
      " 3   months_since_origin          19372 non-null  int64  \n",
      " 4   donor_age                    19372 non-null  int64  \n",
      " 5   in_house                     19372 non-null  int64  \n",
      " 6   urbanicity                   19372 non-null  int64  \n",
      " 7   ses                          19372 non-null  int64  \n",
      " 8   cluster_code                 19372 non-null  int64  \n",
      " 9   home_owner                   19372 non-null  int64  \n",
      " 10  donor_gender                 19372 non-null  int64  \n",
      " 11  income_group                 19372 non-null  int64  \n",
      " 12  published_phone              19372 non-null  int64  \n",
      " 13  overlay_source               19372 non-null  int64  \n",
      " 14  mor_hit_rate                 19372 non-null  int64  \n",
      " 15  wealth_rating                19372 non-null  int64  \n",
      " 16  median_home_value            19372 non-null  int64  \n",
      " 17  median_household_income      19372 non-null  int64  \n",
      " 18  pct_owner_occupied           19372 non-null  int64  \n",
      " 19  per_capita_income            19372 non-null  int64  \n",
      " 20  pct_attribute1               19372 non-null  int64  \n",
      " 21  pct_attribute2               19372 non-null  int64  \n",
      " 22  pct_attribute3               19372 non-null  int64  \n",
      " 23  pct_attribute4               19372 non-null  int64  \n",
      " 24  pep_star                     19372 non-null  int64  \n",
      " 25  recent_star_status           19372 non-null  int64  \n",
      " 26  recency_status_96nk          19372 non-null  int64  \n",
      " 27  frequency_status_97nk        19372 non-null  int64  \n",
      " 28  recent_response_prop         19372 non-null  float64\n",
      " 29  recent_avg_gift_amt          19372 non-null  float64\n",
      " 30  recent_card_response_prop    19372 non-null  float64\n",
      " 31  recent_avg_card_gift_amt     19372 non-null  float64\n",
      " 32  recent_response_count        19372 non-null  int64  \n",
      " 33  recent_card_response_count   19372 non-null  int64  \n",
      " 34  months_since_last_prom_resp  19372 non-null  int64  \n",
      " 35  lifetime_card_prom           19372 non-null  int64  \n",
      " 36  lifetime_prom                19372 non-null  int64  \n",
      " 37  lifetime_gift_amount         19372 non-null  float64\n",
      " 38  lifetime_gift_count          19372 non-null  int64  \n",
      " 39  lifetime_avg_gift_amt        19372 non-null  float64\n",
      " 40  lifetime_gift_range          19372 non-null  float64\n",
      " 41  lifetime_max_gift_amt        19372 non-null  float64\n",
      " 42  lifetime_min_gift_amt        19372 non-null  float64\n",
      " 43  last_gift_amt                19372 non-null  float64\n",
      " 44  card_prom_12                 19372 non-null  int64  \n",
      " 45  number_prom_12               19372 non-null  int64  \n",
      " 46  months_since_last_gift       19372 non-null  int64  \n",
      " 47  months_since_first_gift      19372 non-null  int64  \n",
      " 48  file_avg_gift                19372 non-null  float64\n",
      " 49  file_card_gift               19372 non-null  int64  \n",
      "dtypes: float64(12), int64(38)\n",
      "memory usage: 7.4 MB\n"
     ]
    }
   ],
   "source": [
    "df.info()"
   ]
  },
  {
   "cell_type": "code",
   "execution_count": 4,
   "metadata": {},
   "outputs": [
    {
     "data": {
      "text/html": [
       "<div>\n",
       "<style scoped>\n",
       "    .dataframe tbody tr th:only-of-type {\n",
       "        vertical-align: middle;\n",
       "    }\n",
       "\n",
       "    .dataframe tbody tr th {\n",
       "        vertical-align: top;\n",
       "    }\n",
       "\n",
       "    .dataframe thead th {\n",
       "        text-align: right;\n",
       "    }\n",
       "</style>\n",
       "<table border=\"1\" class=\"dataframe\">\n",
       "  <thead>\n",
       "    <tr style=\"text-align: right;\">\n",
       "      <th></th>\n",
       "      <th>control_number</th>\n",
       "      <th>donated</th>\n",
       "      <th>amount_donated</th>\n",
       "      <th>months_since_origin</th>\n",
       "      <th>donor_age</th>\n",
       "      <th>in_house</th>\n",
       "      <th>urbanicity</th>\n",
       "      <th>ses</th>\n",
       "      <th>cluster_code</th>\n",
       "      <th>home_owner</th>\n",
       "      <th>...</th>\n",
       "      <th>lifetime_gift_range</th>\n",
       "      <th>lifetime_max_gift_amt</th>\n",
       "      <th>lifetime_min_gift_amt</th>\n",
       "      <th>last_gift_amt</th>\n",
       "      <th>card_prom_12</th>\n",
       "      <th>number_prom_12</th>\n",
       "      <th>months_since_last_gift</th>\n",
       "      <th>months_since_first_gift</th>\n",
       "      <th>file_avg_gift</th>\n",
       "      <th>file_card_gift</th>\n",
       "    </tr>\n",
       "  </thead>\n",
       "  <tbody>\n",
       "    <tr>\n",
       "      <th>0</th>\n",
       "      <td>5</td>\n",
       "      <td>0</td>\n",
       "      <td>0.0</td>\n",
       "      <td>101</td>\n",
       "      <td>87</td>\n",
       "      <td>0</td>\n",
       "      <td>5</td>\n",
       "      <td>5</td>\n",
       "      <td>28</td>\n",
       "      <td>0</td>\n",
       "      <td>...</td>\n",
       "      <td>15.0</td>\n",
       "      <td>20.0</td>\n",
       "      <td>5.0</td>\n",
       "      <td>15.0</td>\n",
       "      <td>5</td>\n",
       "      <td>12</td>\n",
       "      <td>26</td>\n",
       "      <td>92</td>\n",
       "      <td>8.49</td>\n",
       "      <td>7</td>\n",
       "    </tr>\n",
       "    <tr>\n",
       "      <th>1</th>\n",
       "      <td>12</td>\n",
       "      <td>1</td>\n",
       "      <td>10.0</td>\n",
       "      <td>137</td>\n",
       "      <td>79</td>\n",
       "      <td>0</td>\n",
       "      <td>1</td>\n",
       "      <td>2</td>\n",
       "      <td>45</td>\n",
       "      <td>0</td>\n",
       "      <td>...</td>\n",
       "      <td>20.0</td>\n",
       "      <td>25.0</td>\n",
       "      <td>5.0</td>\n",
       "      <td>17.0</td>\n",
       "      <td>7</td>\n",
       "      <td>21</td>\n",
       "      <td>7</td>\n",
       "      <td>122</td>\n",
       "      <td>14.72</td>\n",
       "      <td>12</td>\n",
       "    </tr>\n",
       "    <tr>\n",
       "      <th>2</th>\n",
       "      <td>37</td>\n",
       "      <td>0</td>\n",
       "      <td>0.0</td>\n",
       "      <td>113</td>\n",
       "      <td>75</td>\n",
       "      <td>0</td>\n",
       "      <td>2</td>\n",
       "      <td>1</td>\n",
       "      <td>11</td>\n",
       "      <td>0</td>\n",
       "      <td>...</td>\n",
       "      <td>23.0</td>\n",
       "      <td>28.0</td>\n",
       "      <td>5.0</td>\n",
       "      <td>19.0</td>\n",
       "      <td>11</td>\n",
       "      <td>32</td>\n",
       "      <td>6</td>\n",
       "      <td>105</td>\n",
       "      <td>16.75</td>\n",
       "      <td>16</td>\n",
       "    </tr>\n",
       "    <tr>\n",
       "      <th>3</th>\n",
       "      <td>38</td>\n",
       "      <td>0</td>\n",
       "      <td>0.0</td>\n",
       "      <td>92</td>\n",
       "      <td>60</td>\n",
       "      <td>0</td>\n",
       "      <td>4</td>\n",
       "      <td>2</td>\n",
       "      <td>4</td>\n",
       "      <td>0</td>\n",
       "      <td>...</td>\n",
       "      <td>14.0</td>\n",
       "      <td>17.0</td>\n",
       "      <td>3.0</td>\n",
       "      <td>15.0</td>\n",
       "      <td>11</td>\n",
       "      <td>33</td>\n",
       "      <td>6</td>\n",
       "      <td>92</td>\n",
       "      <td>11.76</td>\n",
       "      <td>12</td>\n",
       "    </tr>\n",
       "    <tr>\n",
       "      <th>4</th>\n",
       "      <td>41</td>\n",
       "      <td>0</td>\n",
       "      <td>0.0</td>\n",
       "      <td>101</td>\n",
       "      <td>74</td>\n",
       "      <td>0</td>\n",
       "      <td>1</td>\n",
       "      <td>2</td>\n",
       "      <td>49</td>\n",
       "      <td>1</td>\n",
       "      <td>...</td>\n",
       "      <td>20.0</td>\n",
       "      <td>25.0</td>\n",
       "      <td>5.0</td>\n",
       "      <td>25.0</td>\n",
       "      <td>6</td>\n",
       "      <td>19</td>\n",
       "      <td>18</td>\n",
       "      <td>92</td>\n",
       "      <td>8.83</td>\n",
       "      <td>3</td>\n",
       "    </tr>\n",
       "  </tbody>\n",
       "</table>\n",
       "<p>5 rows × 50 columns</p>\n",
       "</div>"
      ],
      "text/plain": [
       "   control_number  donated  amount_donated  months_since_origin  donor_age  \\\n",
       "0               5        0             0.0                  101         87   \n",
       "1              12        1            10.0                  137         79   \n",
       "2              37        0             0.0                  113         75   \n",
       "3              38        0             0.0                   92         60   \n",
       "4              41        0             0.0                  101         74   \n",
       "\n",
       "   in_house  urbanicity  ses  cluster_code  home_owner  ...  \\\n",
       "0         0           5    5            28           0  ...   \n",
       "1         0           1    2            45           0  ...   \n",
       "2         0           2    1            11           0  ...   \n",
       "3         0           4    2             4           0  ...   \n",
       "4         0           1    2            49           1  ...   \n",
       "\n",
       "   lifetime_gift_range  lifetime_max_gift_amt  lifetime_min_gift_amt  \\\n",
       "0                 15.0                   20.0                    5.0   \n",
       "1                 20.0                   25.0                    5.0   \n",
       "2                 23.0                   28.0                    5.0   \n",
       "3                 14.0                   17.0                    3.0   \n",
       "4                 20.0                   25.0                    5.0   \n",
       "\n",
       "   last_gift_amt  card_prom_12  number_prom_12  months_since_last_gift  \\\n",
       "0           15.0             5              12                      26   \n",
       "1           17.0             7              21                       7   \n",
       "2           19.0            11              32                       6   \n",
       "3           15.0            11              33                       6   \n",
       "4           25.0             6              19                      18   \n",
       "\n",
       "   months_since_first_gift  file_avg_gift  file_card_gift  \n",
       "0                       92           8.49               7  \n",
       "1                      122          14.72              12  \n",
       "2                      105          16.75              16  \n",
       "3                       92          11.76              12  \n",
       "4                       92           8.83               3  \n",
       "\n",
       "[5 rows x 50 columns]"
      ]
     },
     "execution_count": 4,
     "metadata": {},
     "output_type": "execute_result"
    }
   ],
   "source": [
    "df.head()"
   ]
  },
  {
   "cell_type": "code",
   "execution_count": 5,
   "metadata": {},
   "outputs": [],
   "source": [
    "# I'm dropping these two columns as they aren't needed for the work going forward\r\n",
    "df.drop(['amount_donated'], axis=1, inplace=True)"
   ]
  },
  {
   "cell_type": "code",
   "execution_count": 6,
   "metadata": {},
   "outputs": [
    {
     "data": {
      "text/html": [
       "<div>\n",
       "<style scoped>\n",
       "    .dataframe tbody tr th:only-of-type {\n",
       "        vertical-align: middle;\n",
       "    }\n",
       "\n",
       "    .dataframe tbody tr th {\n",
       "        vertical-align: top;\n",
       "    }\n",
       "\n",
       "    .dataframe thead th {\n",
       "        text-align: right;\n",
       "    }\n",
       "</style>\n",
       "<table border=\"1\" class=\"dataframe\">\n",
       "  <thead>\n",
       "    <tr style=\"text-align: right;\">\n",
       "      <th></th>\n",
       "      <th>control_number</th>\n",
       "      <th>donated</th>\n",
       "      <th>months_since_origin</th>\n",
       "      <th>donor_age</th>\n",
       "      <th>in_house</th>\n",
       "      <th>urbanicity</th>\n",
       "      <th>ses</th>\n",
       "      <th>cluster_code</th>\n",
       "      <th>home_owner</th>\n",
       "      <th>donor_gender</th>\n",
       "      <th>...</th>\n",
       "      <th>lifetime_gift_range</th>\n",
       "      <th>lifetime_max_gift_amt</th>\n",
       "      <th>lifetime_min_gift_amt</th>\n",
       "      <th>last_gift_amt</th>\n",
       "      <th>card_prom_12</th>\n",
       "      <th>number_prom_12</th>\n",
       "      <th>months_since_last_gift</th>\n",
       "      <th>months_since_first_gift</th>\n",
       "      <th>file_avg_gift</th>\n",
       "      <th>file_card_gift</th>\n",
       "    </tr>\n",
       "  </thead>\n",
       "  <tbody>\n",
       "    <tr>\n",
       "      <th>0</th>\n",
       "      <td>5</td>\n",
       "      <td>0</td>\n",
       "      <td>101</td>\n",
       "      <td>87</td>\n",
       "      <td>0</td>\n",
       "      <td>5</td>\n",
       "      <td>5</td>\n",
       "      <td>28</td>\n",
       "      <td>0</td>\n",
       "      <td>1</td>\n",
       "      <td>...</td>\n",
       "      <td>15.0</td>\n",
       "      <td>20.0</td>\n",
       "      <td>5.0</td>\n",
       "      <td>15.0</td>\n",
       "      <td>5</td>\n",
       "      <td>12</td>\n",
       "      <td>26</td>\n",
       "      <td>92</td>\n",
       "      <td>8.49</td>\n",
       "      <td>7</td>\n",
       "    </tr>\n",
       "    <tr>\n",
       "      <th>1</th>\n",
       "      <td>12</td>\n",
       "      <td>1</td>\n",
       "      <td>137</td>\n",
       "      <td>79</td>\n",
       "      <td>0</td>\n",
       "      <td>1</td>\n",
       "      <td>2</td>\n",
       "      <td>45</td>\n",
       "      <td>0</td>\n",
       "      <td>1</td>\n",
       "      <td>...</td>\n",
       "      <td>20.0</td>\n",
       "      <td>25.0</td>\n",
       "      <td>5.0</td>\n",
       "      <td>17.0</td>\n",
       "      <td>7</td>\n",
       "      <td>21</td>\n",
       "      <td>7</td>\n",
       "      <td>122</td>\n",
       "      <td>14.72</td>\n",
       "      <td>12</td>\n",
       "    </tr>\n",
       "    <tr>\n",
       "      <th>2</th>\n",
       "      <td>37</td>\n",
       "      <td>0</td>\n",
       "      <td>113</td>\n",
       "      <td>75</td>\n",
       "      <td>0</td>\n",
       "      <td>2</td>\n",
       "      <td>1</td>\n",
       "      <td>11</td>\n",
       "      <td>0</td>\n",
       "      <td>0</td>\n",
       "      <td>...</td>\n",
       "      <td>23.0</td>\n",
       "      <td>28.0</td>\n",
       "      <td>5.0</td>\n",
       "      <td>19.0</td>\n",
       "      <td>11</td>\n",
       "      <td>32</td>\n",
       "      <td>6</td>\n",
       "      <td>105</td>\n",
       "      <td>16.75</td>\n",
       "      <td>16</td>\n",
       "    </tr>\n",
       "    <tr>\n",
       "      <th>3</th>\n",
       "      <td>38</td>\n",
       "      <td>0</td>\n",
       "      <td>92</td>\n",
       "      <td>60</td>\n",
       "      <td>0</td>\n",
       "      <td>4</td>\n",
       "      <td>2</td>\n",
       "      <td>4</td>\n",
       "      <td>0</td>\n",
       "      <td>0</td>\n",
       "      <td>...</td>\n",
       "      <td>14.0</td>\n",
       "      <td>17.0</td>\n",
       "      <td>3.0</td>\n",
       "      <td>15.0</td>\n",
       "      <td>11</td>\n",
       "      <td>33</td>\n",
       "      <td>6</td>\n",
       "      <td>92</td>\n",
       "      <td>11.76</td>\n",
       "      <td>12</td>\n",
       "    </tr>\n",
       "    <tr>\n",
       "      <th>4</th>\n",
       "      <td>41</td>\n",
       "      <td>0</td>\n",
       "      <td>101</td>\n",
       "      <td>74</td>\n",
       "      <td>0</td>\n",
       "      <td>1</td>\n",
       "      <td>2</td>\n",
       "      <td>49</td>\n",
       "      <td>1</td>\n",
       "      <td>0</td>\n",
       "      <td>...</td>\n",
       "      <td>20.0</td>\n",
       "      <td>25.0</td>\n",
       "      <td>5.0</td>\n",
       "      <td>25.0</td>\n",
       "      <td>6</td>\n",
       "      <td>19</td>\n",
       "      <td>18</td>\n",
       "      <td>92</td>\n",
       "      <td>8.83</td>\n",
       "      <td>3</td>\n",
       "    </tr>\n",
       "  </tbody>\n",
       "</table>\n",
       "<p>5 rows × 49 columns</p>\n",
       "</div>"
      ],
      "text/plain": [
       "   control_number  donated  months_since_origin  donor_age  in_house  \\\n",
       "0               5        0                  101         87         0   \n",
       "1              12        1                  137         79         0   \n",
       "2              37        0                  113         75         0   \n",
       "3              38        0                   92         60         0   \n",
       "4              41        0                  101         74         0   \n",
       "\n",
       "   urbanicity  ses  cluster_code  home_owner  donor_gender  ...  \\\n",
       "0           5    5            28           0             1  ...   \n",
       "1           1    2            45           0             1  ...   \n",
       "2           2    1            11           0             0  ...   \n",
       "3           4    2             4           0             0  ...   \n",
       "4           1    2            49           1             0  ...   \n",
       "\n",
       "   lifetime_gift_range  lifetime_max_gift_amt  lifetime_min_gift_amt  \\\n",
       "0                 15.0                   20.0                    5.0   \n",
       "1                 20.0                   25.0                    5.0   \n",
       "2                 23.0                   28.0                    5.0   \n",
       "3                 14.0                   17.0                    3.0   \n",
       "4                 20.0                   25.0                    5.0   \n",
       "\n",
       "   last_gift_amt  card_prom_12  number_prom_12  months_since_last_gift  \\\n",
       "0           15.0             5              12                      26   \n",
       "1           17.0             7              21                       7   \n",
       "2           19.0            11              32                       6   \n",
       "3           15.0            11              33                       6   \n",
       "4           25.0             6              19                      18   \n",
       "\n",
       "   months_since_first_gift  file_avg_gift  file_card_gift  \n",
       "0                       92           8.49               7  \n",
       "1                      122          14.72              12  \n",
       "2                      105          16.75              16  \n",
       "3                       92          11.76              12  \n",
       "4                       92           8.83               3  \n",
       "\n",
       "[5 rows x 49 columns]"
      ]
     },
     "execution_count": 6,
     "metadata": {},
     "output_type": "execute_result"
    }
   ],
   "source": [
    "df.head()"
   ]
  },
  {
   "cell_type": "code",
   "execution_count": 7,
   "metadata": {},
   "outputs": [],
   "source": [
    "df.set_index('control_number', inplace = True)"
   ]
  },
  {
   "cell_type": "markdown",
   "metadata": {},
   "source": [
    "# Data Modelling"
   ]
  },
  {
   "cell_type": "markdown",
   "metadata": {},
   "source": [
    "## RandomForest Classifier"
   ]
  },
  {
   "cell_type": "code",
   "execution_count": 8,
   "metadata": {},
   "outputs": [
    {
     "name": "stdout",
     "output_type": "stream",
     "text": [
      "The accuracy score is: 0.7465588437715073 and the f1 score is 0.06713109563014566\n",
      "\n",
      "\n",
      "              precision    recall  f1-score   support\n",
      "\n",
      "           0       0.75      0.99      0.85      4336\n",
      "           1       0.51      0.04      0.07      1476\n",
      "\n",
      "    accuracy                           0.75      5812\n",
      "   macro avg       0.63      0.51      0.46      5812\n",
      "weighted avg       0.69      0.75      0.65      5812\n",
      "\n"
     ]
    },
    {
     "data": {
      "text/plain": [
       "array([[4286,   50],\n",
       "       [1423,   53]], dtype=int64)"
      ]
     },
     "execution_count": 8,
     "metadata": {},
     "output_type": "execute_result"
    }
   ],
   "source": [
    "# Selecting the independent variables and the target variable\r\n",
    "#\r\n",
    "y = df['donated']\r\n",
    "X = df.drop('donated', axis = 1)\r\n",
    "\r\n",
    "\r\n",
    "# Splitting the data into training and testing sets\r\n",
    "#\r\n",
    "X_train, X_test, y_train, y_test = train_test_split(X, y, test_size = 0.3, random_state = 0)\r\n",
    "\r\n",
    "# Standardising the data\r\n",
    "sc = StandardScaler()\r\n",
    "X_train = sc.fit_transform(X_train)\r\n",
    "X_test = sc.transform(X_test)\r\n",
    "\r\n",
    "# Instantiating the model\r\n",
    "#\r\n",
    "rf = RandomForestClassifier(random_state = 0)\r\n",
    "rf.fit(X_train, y_train)\r\n",
    "\r\n",
    "# Making predictions\r\n",
    "#\r\n",
    "y_pred = rf.predict(X_test)\r\n",
    "\r\n",
    "# Measuring the accuracy of the model\r\n",
    "#\r\n",
    "print(f'The accuracy score is: {accuracy_score(y_test, y_pred)} and the f1 score is {f1_score(y_test, y_pred)}')\r\n",
    "print('\\n')\r\n",
    "print(f'{classification_report(y_test, y_pred)}')\r\n",
    "confusion_matrix(y_test, y_pred)"
   ]
  },
  {
   "cell_type": "markdown",
   "metadata": {},
   "source": [
    "## Feature Importance"
   ]
  },
  {
   "cell_type": "code",
   "execution_count": null,
   "metadata": {},
   "outputs": [],
   "source": [
    "# Checking for the most important features that contribute most in predicting the target\r\n",
    "# Creating a dataframe of features and their respective importances\r\n",
    "#\r\n",
    "impo_df = pd.DataFrame({'feature': X.columns, 'importance': np.round(rf.feature_importances_, 4)}).set_index('feature').sort_values(by = 'importance', ascending = False)\r\n",
    "impo_df"
   ]
  },
  {
   "cell_type": "markdown",
   "metadata": {},
   "source": [
    "### Visualising the most important features"
   ]
  },
  {
   "cell_type": "code",
   "execution_count": null,
   "metadata": {},
   "outputs": [],
   "source": [
    "# Creating a bar chart of feature importance in descending order\r\n",
    "#\r\n",
    "impo_df = impo_df[:20].sort_values(by = 'importance', ascending = True)\r\n",
    "impo_df.plot(kind = 'barh', figsize = (10, 10), color = 'purple')\r\n",
    "plt.legend(loc = 'center right')\r\n",
    "plt.title('Bar chart showing feature importance', color = 'indigo', fontsize = 14)\r\n",
    "plt.xlabel('Features', fontsize = 12, color = 'indigo')\r\n",
    "plt.show()"
   ]
  },
  {
   "cell_type": "markdown",
   "metadata": {},
   "source": [
    "*From the above feature importance barchart, it can be observed that:*\r\n",
    "\r\n",
    "*   The most important feature in predicting whether a person will donate or not is **median home value**\r\n"
   ]
  },
  {
   "cell_type": "markdown",
   "metadata": {},
   "source": [
    "### Remodelling with the most important features only"
   ]
  },
  {
   "cell_type": "code",
   "execution_count": null,
   "metadata": {},
   "outputs": [],
   "source": [
    "print(impo_df)"
   ]
  },
  {
   "cell_type": "code",
   "execution_count": null,
   "metadata": {},
   "outputs": [],
   "source": [
    "# Selecting only important features and the y variable\r\n",
    "#\r\n",
    "\r\n",
    "y = df['donated']\r\n",
    "X = df[['recent_avg_card_gift_amt','months_since_last_gift','number_prom_12','lifetime_card_prom', 'recent_avg_gift_amt',\r\n",
    "'months_since_first_gift', 'lifetime_prom', 'recent_response_prop', 'cluster_code', 'lifetime_gift_amount', 'lifetime_avg_gift_amt', \r\n",
    "'file_avg_gift', 'pct_attribute3', 'pct_attribute2', 'donor_age', 'pct_attribute4', 'pct_owner_occupied', 'median_household_income', \r\n",
    "'per_capita_income', 'median_home_value']]\r\n",
    "\r\n",
    "# Splitting the data into training and testing sets\r\n",
    "#\r\n",
    "X_train, X_test, y_train, y_test = train_test_split(X, y, test_size = 0.3, random_state = 0)\r\n",
    "\r\n",
    "# Instantiating the model\r\n",
    "#\r\n",
    "rf = RandomForestClassifier(random_state = 0)\r\n",
    "rf.fit(X_train, y_train)\r\n",
    "\r\n",
    "# Making predictions\r\n",
    "#\r\n",
    "y_pred = rf.predict(X_test)\r\n",
    "\r\n",
    "# Measuring the accuracy of the model\r\n",
    "#\r\n",
    "print(f'The accuracy score is: {accuracy_score(y_test, y_pred)} and the f1 score is {f1_score(y_test, y_pred)}')\r\n",
    "print('\\n')\r\n",
    "print(f'{classification_report(y_test, y_pred)}')\r\n",
    "confusion_matrix(y_test, y_pred)"
   ]
  },
  {
   "cell_type": "markdown",
   "metadata": {},
   "source": [
    "*There is no  marginal decrease in f1 score*"
   ]
  },
  {
   "cell_type": "markdown",
   "metadata": {},
   "source": [
    "### Parameter Tuning"
   ]
  },
  {
   "cell_type": "code",
   "execution_count": null,
   "metadata": {},
   "outputs": [],
   "source": [
    "# Previewing the parameters to tune\r\n",
    "#\r\n",
    "RandomForestClassifier()"
   ]
  },
  {
   "cell_type": "code",
   "execution_count": null,
   "metadata": {},
   "outputs": [],
   "source": [
    "# Creating a dictionary of parameters to tune\r\n",
    "#\r\n",
    "params = {'n_estimators': [10, 20, 30, 50, 100],\r\n",
    "         'max_depth': [1, 2, 3, 4, 5]}\r\n",
    "\r\n",
    "# Setting the number of folds to 10 and instantiating the model\r\n",
    "# \r\n",
    "kfold = KFold(n_splits=10, shuffle=True)\r\n",
    "model = RandomForestClassifier()\r\n",
    "\r\n",
    "search = GridSearchCV(model, param_grid=params, scoring = 'f1', cv = kfold)\r\n",
    "\r\n",
    "# Fitting the grid search with the X and the y variables\r\n",
    "#\r\n",
    "search.fit(X, y)\r\n",
    "\r\n",
    "# Checking for the best parameters\r\n",
    "#\r\n",
    "print(f'The best parameters are: {search.best_params_}')"
   ]
  },
  {
   "cell_type": "code",
   "execution_count": null,
   "metadata": {},
   "outputs": [],
   "source": [
    "# Applying the best parameters to the model\r\n",
    "#\r\n",
    "# Selecting only important features and the y variable\r\n",
    "#\r\n",
    "y = df['donated']\r\n",
    "X = df[['recent_avg_card_gift_amt','months_since_last_gift','number_prom_12','lifetime_card_prom', 'recent_avg_gift_amt',\r\n",
    "'months_since_first_gift', 'lifetime_prom', 'recent_response_prop', 'cluster_code', 'lifetime_gift_amount', 'lifetime_avg_gift_amt', \r\n",
    "'file_avg_gift', 'pct_attribute3', 'pct_attribute2', 'donor_age', 'pct_attribute4', 'pct_owner_occupied', 'median_household_income', \r\n",
    "'per_capita_income', 'median_home_value']]\r\n",
    "\r\n",
    "# Splitting the data into training and testing sets\r\n",
    "#\r\n",
    "X_train, X_test, y_train, y_test = train_test_split(X, y, test_size = 0.3, random_state = 0)\r\n",
    "\r\n",
    "# Instantiating the model\r\n",
    "#\r\n",
    "rf = RandomForestClassifier(n_estimators=10, max_depth=5, random_state = 0)\r\n",
    "rf.fit(X_train, y_train)\r\n",
    "\r\n",
    "# Making predictions\r\n",
    "#\r\n",
    "y_pred = rf.predict(X_test)\r\n",
    "\r\n",
    "# Measuring the accuracy of the model\r\n",
    "#\r\n",
    "print(f'The accuracy score is: {accuracy_score(y_test, y_pred)} and the f1 score is {f1_score(y_test, y_pred)}')\r\n",
    "print('\\n')\r\n",
    "print(f'{classification_report(y_test, y_pred)}')\r\n",
    "confusion_matrix(y_test, y_pred)"
   ]
  },
  {
   "cell_type": "markdown",
   "metadata": {},
   "source": [
    "*Parameter tuning hasn't decreased or increased the f1 score*"
   ]
  },
  {
   "cell_type": "markdown",
   "metadata": {},
   "source": [
    "### Cross Validation to check for the stability of the model"
   ]
  },
  {
   "cell_type": "code",
   "execution_count": null,
   "metadata": {},
   "outputs": [],
   "source": [
    "# Performing cross validation of ten folds\r\n",
    "#\r\n",
    "scores = cross_val_score(rf, X, y, scoring = 'f1', cv = 10)\r\n",
    "\r\n",
    "# Calculating the mean of the cross validation scores\r\n",
    "#\r\n",
    "print(f'Mean of cross validation scores is {scores.mean()}')\r\n",
    "\r\n",
    "# Calculating the variance of the cross validation scores from the mean\r\n",
    "#\r\n",
    "print(f'Standard deviation of the cross validation scores is {scores.std()}')"
   ]
  },
  {
   "cell_type": "markdown",
   "metadata": {},
   "source": [
    "*The true f1 score of the model is approximately 99%, with a variance of 0.000413.*"
   ]
  },
  {
   "cell_type": "markdown",
   "metadata": {},
   "source": [
    "## AdaBoostClassifier"
   ]
  },
  {
   "cell_type": "code",
   "execution_count": null,
   "metadata": {},
   "outputs": [],
   "source": [
    "# Selecting the independent variables and the target variable\r\n",
    "#\r\n",
    "# Selecting the independent variables and the target variable\r\n",
    "#\r\n",
    "y = df['donated']\r\n",
    "X = df.drop('donated', axis = 1)\r\n",
    "\r\n",
    "# Splitting the data into training and testing sets\r\n",
    "#\r\n",
    "X_train, X_test, y_train, y_test = train_test_split(X, y, test_size = 0.3, random_state = 0)\r\n",
    "\r\n",
    "# Instantiating the model\r\n",
    "#\r\n",
    "ada = AdaBoostClassifier(random_state = 0)\r\n",
    "ada.fit(X_train, y_train)\r\n",
    "\r\n",
    "# Making predictions\r\n",
    "#\r\n",
    "y_pred = ada.predict(X_test)\r\n",
    "\r\n",
    "# Measuring the accuracy of the model\r\n",
    "#\r\n",
    "acc_1 = accuracy_score(y_test, y_pred)\r\n",
    "f1_1 = f1_score(y_test, y_pred)\r\n",
    "\r\n",
    "print(f'The accuracy score is: {acc_1} and the f1 score is {f1_1}')\r\n",
    "print('\\n')\r\n",
    "print(f'{classification_report(y_test, y_pred)}')\r\n",
    "confusion_matrix(y_test, y_pred)"
   ]
  },
  {
   "cell_type": "code",
   "execution_count": null,
   "metadata": {},
   "outputs": [],
   "source": [
    "# Checking for the most important features that contribute most in predicting the target\r\n",
    "# Creating a dataframe of features and their respective importances\r\n",
    "#\r\n",
    "impo_df = pd.DataFrame({'feature': X.columns, 'importance': ada.feature_importances_}).set_index('feature').sort_values(by = 'importance', ascending = False)\r\n",
    "impo_df"
   ]
  },
  {
   "cell_type": "markdown",
   "metadata": {},
   "source": [
    "### Visualising the most important features"
   ]
  },
  {
   "cell_type": "code",
   "execution_count": null,
   "metadata": {},
   "outputs": [],
   "source": [
    "# Creating a bar chart of feature importance in descending order\r\n",
    "#\r\n",
    "impo_df = impo_df[:26].sort_values(by = 'importance', ascending = True)\r\n",
    "impo_df.plot(kind = 'barh', figsize = (10, 7), color = 'purple')\r\n",
    "plt.legend(loc = 'center right')\r\n",
    "plt.title('Bar chart showing feature importance', color = 'indigo', fontsize = 14)\r\n",
    "plt.xlabel('Features', fontsize = 12, color = 'indigo')\r\n",
    "plt.show()"
   ]
  },
  {
   "cell_type": "code",
   "execution_count": null,
   "metadata": {},
   "outputs": [],
   "source": [
    "impo_df['importance'].to_list\r\n"
   ]
  },
  {
   "cell_type": "code",
   "execution_count": null,
   "metadata": {},
   "outputs": [],
   "source": [
    "\r\n",
    "[['mor_hit_rate', 'file_card_gift', 'months_since_origin', 'file_avg_gift', 'recent_response_prop', 'recent_avg_gift_amt', \r\n",
    "'recent_card_response_prop', 'months_since_first_gift', 'months_since_last_prom_resp', 'months_since_last_gift', 'lifetime_card_prom',\r\n",
    "'pct_attribute4', 'card_prom_12lifetime_min_gift_amt', 'cluster_code', 'number_prom_12', 'income_group', 'recent_star_status',\r\n",
    "'median_household_income', 'lifetime_max_gift_amt', 'pct_owner_occupied', 'frequency_status_97nk', 'last_gift_amt', 'donor_age', \r\n",
    "'median_home_value', 'recent_avg_card_gift_am']]\r\n"
   ]
  },
  {
   "cell_type": "markdown",
   "metadata": {},
   "source": [
    "*When compairing the most important features between the AdaBoostClassifier and RandomForestClassier; Ada uses fewer features and makes a better prediction. Ada only uses 10 features while RandomForest uses 12 features*"
   ]
  },
  {
   "cell_type": "markdown",
   "metadata": {},
   "source": [
    "### Remodelling with the most important features only"
   ]
  },
  {
   "cell_type": "code",
   "execution_count": null,
   "metadata": {},
   "outputs": [],
   "source": [
    "# Selecting only important features and the y variable\r\n",
    "#\r\n",
    "y = df['donated']\r\n",
    "X = df[['mor_hit_rate', 'file_card_gift', 'months_since_origin', 'file_avg_gift', 'recent_response_prop', 'recent_avg_gift_amt', \r\n",
    "'recent_card_response_prop', 'months_since_first_gift', 'months_since_last_prom_resp', 'months_since_last_gift', 'lifetime_card_prom',\r\n",
    "'pct_attribute4', 'card_prom_12','lifetime_min_gift_amt', 'cluster_code', 'number_prom_12', 'income_group', 'recent_star_status',\r\n",
    "'median_household_income', 'lifetime_max_gift_amt', 'pct_owner_occupied', 'frequency_status_97nk', 'last_gift_amt', 'donor_age', \r\n",
    "'median_home_value', 'recent_avg_card_gift_amt']]\r\n",
    "\r\n",
    "# Splitting the data into training and testing sets\r\n",
    "#\r\n",
    "X_train, X_test, y_train, y_test = train_test_split(X, y, test_size = 0.3, random_state = 0)\r\n",
    "\r\n",
    "# Instantiating the model\r\n",
    "#\r\n",
    "ada = AdaBoostClassifier(random_state = 0)\r\n",
    "ada.fit(X_train, y_train)\r\n",
    "\r\n",
    "# Making predictions\r\n",
    "#\r\n",
    "y_pred = ada.predict(X_test)\r\n",
    "\r\n",
    "# Measuring the accuracy of the model\r\n",
    "#\r\n",
    "print(f'The accuracy score is: {accuracy_score(y_test, y_pred)} and the f1 score is {f1_score(y_test, y_pred)}')\r\n",
    "print('\\n')\r\n",
    "print(f'{classification_report(y_test, y_pred)}')\r\n",
    "confusion_matrix(y_test, y_pred)"
   ]
  },
  {
   "cell_type": "markdown",
   "metadata": {},
   "source": [
    "### Hyperparameter Tuning"
   ]
  },
  {
   "cell_type": "code",
   "execution_count": null,
   "metadata": {},
   "outputs": [],
   "source": [
    "# Previewing the parameters to tune\r\n",
    "#\r\n",
    "AdaBoostClassifier()"
   ]
  },
  {
   "cell_type": "code",
   "execution_count": null,
   "metadata": {},
   "outputs": [],
   "source": [
    "# Creating a dictionary of parameters to tune\r\n",
    "#\r\n",
    "params = {'n_estimators': [10, 20, 30, 50, 100],\r\n",
    "         'learning_rate': [1, 2, 3, 4, 5]}\r\n",
    "\r\n",
    "# Setting the number of folds to 10 and instantiating the model\r\n",
    "# \r\n",
    "kfold = KFold(n_splits=10, shuffle=True)\r\n",
    "model = AdaBoostClassifier()\r\n",
    "\r\n",
    "search = GridSearchCV(model, param_grid=params, scoring = 'f1', cv = kfold)\r\n",
    "\r\n",
    "# Fitting the grid search with the X and the y variables\r\n",
    "#\r\n",
    "search.fit(X, y)\r\n",
    "\r\n",
    "# Checking for the best parameters\r\n",
    "#\r\n",
    "print(f'The best parameters are: {search.best_params_}')"
   ]
  },
  {
   "cell_type": "code",
   "execution_count": null,
   "metadata": {},
   "outputs": [],
   "source": [
    "# Selecting only important features and the y variable\r\n",
    "#\r\n",
    "y = df['donated']\r\n",
    "X = df[['mor_hit_rate', 'file_card_gift', 'months_since_origin', 'file_avg_gift', 'recent_response_prop', 'recent_avg_gift_amt', \r\n",
    "'recent_card_response_prop', 'months_since_first_gift', 'months_since_last_prom_resp', 'months_since_last_gift', 'lifetime_card_prom',\r\n",
    "'pct_attribute4', 'card_prom_12','lifetime_min_gift_amt', 'cluster_code', 'number_prom_12', 'income_group', 'recent_star_status',\r\n",
    "'median_household_income', 'lifetime_max_gift_amt', 'pct_owner_occupied', 'frequency_status_97nk', 'last_gift_amt', 'donor_age', \r\n",
    "'median_home_value', 'recent_avg_card_gift_amt']]\r\n",
    "# Splitting the data into training and testing sets\r\n",
    "#\r\n",
    "X_train, X_test, y_train, y_test = train_test_split(X, y, test_size = 0.3, random_state = 0)\r\n",
    "\r\n",
    "# Instantiating the model\r\n",
    "#\r\n",
    "ada = AdaBoostClassifier(learning_rate=3, n_estimators=10, random_state = 0)\r\n",
    "ada.fit(X_train, y_train)\r\n",
    "\r\n",
    "# Making predictions\r\n",
    "#\r\n",
    "y_pred = ada.predict(X_test)\r\n",
    "\r\n",
    "# Measuring the accuracy of the model\r\n",
    "#\r\n",
    "print(f'The accuracy score is: {accuracy_score(y_test, y_pred)} and the f1 score is {f1_score(y_test, y_pred)}')\r\n",
    "print('\\n')\r\n",
    "print(f'{classification_report(y_test, y_pred)}')\r\n",
    "confusion_matrix(y_test, y_pred)"
   ]
  },
  {
   "cell_type": "code",
   "execution_count": null,
   "metadata": {},
   "outputs": [],
   "source": [
    "dot_data = StringIO()\r\n",
    "# pick a specific tree from the forest\r\n",
    "tree = ada.estimators_[3]\r\n",
    "\r\n",
    "export_graphviz(tree, out_file=dot_data,  \r\n",
    "                filled=True, rounded=True,\r\n",
    "                special_characters=True,feature_names = X.columns)\r\n",
    "graph = pydotplus.graph_from_dot_data(dot_data.getvalue())  \r\n",
    "Image(graph.create_png())"
   ]
  },
  {
   "cell_type": "markdown",
   "metadata": {},
   "source": [
    "### Cross Validation to check for the stability of the model"
   ]
  },
  {
   "cell_type": "code",
   "execution_count": null,
   "metadata": {},
   "outputs": [],
   "source": [
    "# Performing cross validation of ten folds\r\n",
    "#\r\n",
    "scores = cross_val_score(ada, X, y, scoring = 'f1', cv = 10)\r\n",
    "\r\n",
    "# Calculating the mean of the cross validation scores\r\n",
    "#\r\n",
    "print(f'Mean of cross validation scores is {scores.mean()}')\r\n",
    "\r\n",
    "# Calculating the variance of the cross validation scores from the mean\r\n",
    "#\r\n",
    "print(f'Standard deviation of the cross validation scores is {scores.std()}')"
   ]
  },
  {
   "cell_type": "markdown",
   "metadata": {},
   "source": [
    "*When comparing Ada and RandomForest, Ada has a general f1 score of 87% while RandomForest has a general f1 score of 83%. Therefore AdaBoostClassifier is a better predicter than RandomForestClassifier for this dataset*"
   ]
  },
  {
   "cell_type": "markdown",
   "metadata": {},
   "source": [
    "### Comparing svc kernels to find the one with a maximum f1 score - using only two features"
   ]
  },
  {
   "cell_type": "markdown",
   "metadata": {},
   "source": [
    "## Challenging the solution"
   ]
  },
  {
   "cell_type": "markdown",
   "metadata": {},
   "source": [
    "*Using different models to check whether performance can be improved*"
   ]
  },
  {
   "cell_type": "code",
   "execution_count": null,
   "metadata": {},
   "outputs": [],
   "source": [
    "# Importing different classification models\r\n",
    "#\r\n",
    "from sklearn.model_selection import KFold, cross_val_score\r\n",
    "from sklearn.ensemble import GradientBoostingClassifier\r\n",
    "from sklearn.tree import DecisionTreeClassifier\r\n",
    "from sklearn.naive_bayes import GaussianNB\r\n",
    "from sklearn.neighbors import KNeighborsClassifier\r\n",
    "from xgboost import XGBClassifier\r\n",
    "from sklearn.linear_model import LogisticRegression\r\n",
    "import warnings\r\n",
    "warnings.filterwarnings('ignore')\r\n",
    "\r\n",
    "# Creating a list of classifier algorithms to compare with\r\n",
    "#\r\n",
    "models = [GradientBoostingClassifier(), DecisionTreeClassifier(), XGBClassifier(), KNeighborsClassifier(),\\\r\n",
    "          GaussianNB(), LogisticRegression()]\r\n",
    "\r\n",
    "# Creating lists of the algorithms, to store the accuracy scores of each fold\r\n",
    "#\r\n",
    "GradientBoosting, DecisionTree, XGB, KNeighbors, GaussianNB, LogisticRegression = ([] for x in range(6))\r\n",
    "\r\n",
    "# Creating a list containig the list of each algorithm. Created for easy iteration\r\n",
    "#\r\n",
    "model_list = [GradientBoosting, DecisionTree, XGB, KNeighbors, GaussianNB, LogisticRegression]\r\n",
    "\r\n",
    "# Selecting the independent variables and the target variable\r\n",
    "#\r\n",
    "y = df['donated']\r\n",
    "X = df.drop('donated', axis = 1)\r\n",
    "\r\n",
    "# Creating a cross validation of 10 folds\r\n",
    "#\r\n",
    "kfold  = KFold(n_splits=10, shuffle = True, random_state = 0)\r\n",
    "\r\n",
    "# Iterating through each model and appending the scores of each fold to the appriopriate list\r\n",
    "#\r\n",
    "for i, j in zip(models, model_list):\r\n",
    "  j.extend(list(cross_val_score(i, X, y, scoring = 'f1', cv = kfold)))\r\n",
    "  \r\n",
    "# Creating a dataframe of all the scores from the iterations for each model\r\n",
    "#\r\n",
    "scores = pd.DataFrame({'GradientBoosting': GradientBoosting, 'DecisionTree': DecisionTree, 'XGB': XGB,\\\r\n",
    "              'KNeighbors': KNeighbors, 'GaussianNB': GaussianNB, 'LogisticRegression': LogisticRegression}, index = range(1, 11))\r\n",
    "\r\n",
    "# Calculating the mean and standard deviation score of each algorithm\r\n",
    "#\r\n",
    "scores.loc['mean'] = scores.mean()\r\n",
    "scores.loc['std'] = scores.std()\r\n",
    "\r\n",
    "# Previewing the scores dataframe\r\n",
    "#\r\n",
    "scores"
   ]
  },
  {
   "cell_type": "code",
   "execution_count": null,
   "metadata": {},
   "outputs": [],
   "source": [
    "# Finding the model with the highest accuracy\r\n",
    "#\r\n",
    "scores.loc['mean'].idxmax()"
   ]
  },
  {
   "cell_type": "markdown",
   "metadata": {},
   "source": [
    "*An alternative model that can match or outperform the AdaBoostClassifier is the XGBClassifier. More data is needed to increase the predictive power of the model. As the data is highky imbalanced, The f1 score metric of success has been used*"
   ]
  },
  {
   "cell_type": "markdown",
   "metadata": {},
   "source": [
    "## Conclusion"
   ]
  },
  {
   "cell_type": "markdown",
   "metadata": {},
   "source": [
    "* *Out of all the models used to predict whether a person has hypothyroid, the AdaBoostClassifier performs well with an f1 score of approximately 86%*\r\n",
    "\r\n",
    "\r\n",
    "*  *The best performing kernel in the SupportVectorClassifier is Linear with an accuracy score 98.5% of and an f1 score of 86.%*\r\n",
    "\r\n",
    "\r\n"
   ]
  }
 ],
 "metadata": {
  "interpreter": {
   "hash": "8eb07b4d783c51f574b3398e25d662e9253b789236e8fa3b76d1d4089bc7b5f6"
  },
  "kernelspec": {
   "display_name": "Python 3.8.5 64-bit ('base': conda)",
   "name": "python3"
  },
  "language_info": {
   "codemirror_mode": {
    "name": "ipython",
    "version": 3
   },
   "file_extension": ".py",
   "mimetype": "text/x-python",
   "name": "python",
   "nbconvert_exporter": "python",
   "pygments_lexer": "ipython3",
   "version": "3.8.5"
  },
  "orig_nbformat": 4
 },
 "nbformat": 4,
 "nbformat_minor": 2
}