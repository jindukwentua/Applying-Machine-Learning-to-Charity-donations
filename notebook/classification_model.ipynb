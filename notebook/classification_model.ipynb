{
 "cells": [
  {
   "cell_type": "code",
   "execution_count": 1,
   "source": [
    "# Importing python libraries\r\n",
    "#\r\n",
    "import pandas as pd\r\n",
    "import numpy as np\r\n",
    "from scipy.stats import mode\r\n",
    "import matplotlib.pyplot as plt\r\n",
    "%matplotlib inline\r\n",
    "import seaborn as sns; sns.set(style = 'darkgrid')\r\n",
    "import requests\r\n",
    "from io import StringIO\r\n",
    "from sklearn.preprocessing import StandardScaler, LabelEncoder\r\n",
    "from sklearn.model_selection import train_test_split, GridSearchCV, RandomizedSearchCV, KFold, cross_val_score\r\n",
    "from sklearn.ensemble import AdaBoostClassifier, RandomForestClassifier, GradientBoostingClassifier\r\n",
    "from sklearn.svm import SVC\r\n",
    "from catboost import CatBoostClassifier\r\n",
    "from xgboost import XGBClassifier\r\n",
    "from sklearn.tree import DecisionTreeClassifier\r\n",
    "from sklearn.neighbors import KNeighborsClassifier\r\n",
    "from sklearn.linear_model import LogisticRegression\r\n",
    "from sklearn.tree import export_graphviz \r\n",
    "from IPython.display import Image  \r\n",
    "import pydotplus\r\n",
    "from sklearn.metrics import accuracy_score, confusion_matrix, classification_report, f1_score\r\n",
    "import warnings\r\n",
    "warnings.filterwarnings(action = 'ignore')"
   ],
   "outputs": [],
   "metadata": {}
  },
  {
   "cell_type": "code",
   "execution_count": 2,
   "source": [
    "train_data = pd.read_csv('../notebook/cleaned_train_data.csv')\r\n",
    "test_data = pd.read_csv('../notebook/cleaned_test_data.csv')"
   ],
   "outputs": [],
   "metadata": {}
  },
  {
   "cell_type": "markdown",
   "source": [
    "* **control Number is the id of each participant. Therefore control Number will be dropped**\r\n"
   ],
   "metadata": {}
  },
  {
   "cell_type": "code",
   "execution_count": 3,
   "source": [
    "def drop_column(column_name, data):\r\n",
    "    dropped_data = data.drop([column_name], axis = 1) \r\n",
    "    return dropped_data"
   ],
   "outputs": [],
   "metadata": {}
  },
  {
   "cell_type": "markdown",
   "source": [
    "### Dropping the control number column"
   ],
   "metadata": {}
  },
  {
   "cell_type": "code",
   "execution_count": 4,
   "source": [
    "train_control_no = train_data.control_number\r\n",
    "train_data = drop_column('control_number',train_data)\r\n",
    "test_control_no = test_data.control_number\r\n",
    "test_data = drop_column('control_number',test_data)"
   ],
   "outputs": [],
   "metadata": {}
  },
  {
   "cell_type": "code",
   "execution_count": 5,
   "source": [
    "train_data.info()"
   ],
   "outputs": [
    {
     "output_type": "stream",
     "name": "stdout",
     "text": [
      "<class 'pandas.core.frame.DataFrame'>\n",
      "RangeIndex: 19372 entries, 0 to 19371\n",
      "Data columns (total 49 columns):\n",
      " #   Column                       Non-Null Count  Dtype  \n",
      "---  ------                       --------------  -----  \n",
      " 0   Unnamed: 0                   19372 non-null  int64  \n",
      " 1   donated                      19372 non-null  int64  \n",
      " 2   months_since_origin          19372 non-null  int64  \n",
      " 3   donor_age                    19372 non-null  float64\n",
      " 4   in_house                     19372 non-null  int64  \n",
      " 5   urbanicity                   19372 non-null  object \n",
      " 6   ses                          19372 non-null  int64  \n",
      " 7   cluster_code                 19372 non-null  int64  \n",
      " 8   home_owner                   19372 non-null  object \n",
      " 9   donor_gender                 19372 non-null  object \n",
      " 10  income_group                 19372 non-null  float64\n",
      " 11  published_phone              19372 non-null  int64  \n",
      " 12  overlay_source               19372 non-null  object \n",
      " 13  mor_hit_rate                 19372 non-null  int64  \n",
      " 14  wealth_rating                19372 non-null  float64\n",
      " 15  median_home_value            19372 non-null  int64  \n",
      " 16  median_household_income      19372 non-null  int64  \n",
      " 17  pct_owner_occupied           19372 non-null  int64  \n",
      " 18  per_capita_income            19372 non-null  int64  \n",
      " 19  pct_attribute1               19372 non-null  int64  \n",
      " 20  pct_attribute2               19372 non-null  int64  \n",
      " 21  pct_attribute3               19372 non-null  int64  \n",
      " 22  pct_attribute4               19372 non-null  int64  \n",
      " 23  pep_star                     19372 non-null  int64  \n",
      " 24  recent_star_status           19372 non-null  int64  \n",
      " 25  recency_status_96nk          19372 non-null  object \n",
      " 26  frequency_status_97nk        19372 non-null  int64  \n",
      " 27  recent_response_prop         19372 non-null  float64\n",
      " 28  recent_avg_gift_amt          19372 non-null  float64\n",
      " 29  recent_card_response_prop    19372 non-null  float64\n",
      " 30  recent_avg_card_gift_amt     19372 non-null  float64\n",
      " 31  recent_response_count        19372 non-null  int64  \n",
      " 32  recent_card_response_count   19372 non-null  int64  \n",
      " 33  months_since_last_prom_resp  19372 non-null  float64\n",
      " 34  lifetime_card_prom           19372 non-null  int64  \n",
      " 35  lifetime_prom                19372 non-null  int64  \n",
      " 36  lifetime_gift_amount         19372 non-null  float64\n",
      " 37  lifetime_gift_count          19372 non-null  int64  \n",
      " 38  lifetime_avg_gift_amt        19372 non-null  float64\n",
      " 39  lifetime_gift_range          19372 non-null  float64\n",
      " 40  lifetime_max_gift_amt        19372 non-null  float64\n",
      " 41  lifetime_min_gift_amt        19372 non-null  float64\n",
      " 42  last_gift_amt                19372 non-null  float64\n",
      " 43  card_prom_12                 19372 non-null  int64  \n",
      " 44  number_prom_12               19372 non-null  int64  \n",
      " 45  months_since_last_gift       19372 non-null  int64  \n",
      " 46  months_since_first_gift      19372 non-null  int64  \n",
      " 47  file_avg_gift                19372 non-null  float64\n",
      " 48  file_card_gift               19372 non-null  int64  \n",
      "dtypes: float64(15), int64(29), object(5)\n",
      "memory usage: 7.2+ MB\n"
     ]
    }
   ],
   "metadata": {}
  },
  {
   "cell_type": "code",
   "execution_count": 6,
   "source": [
    "test_data.info()"
   ],
   "outputs": [
    {
     "output_type": "stream",
     "name": "stdout",
     "text": [
      "<class 'pandas.core.frame.DataFrame'>\n",
      "RangeIndex: 2148 entries, 0 to 2147\n",
      "Data columns (total 48 columns):\n",
      " #   Column                       Non-Null Count  Dtype  \n",
      "---  ------                       --------------  -----  \n",
      " 0   Unnamed: 0                   2148 non-null   int64  \n",
      " 1   months_since_origin          2148 non-null   int64  \n",
      " 2   donor_age                    2148 non-null   float64\n",
      " 3   in_house                     2148 non-null   int64  \n",
      " 4   urbanicity                   2148 non-null   object \n",
      " 5   ses                          2148 non-null   int64  \n",
      " 6   cluster_code                 2148 non-null   int64  \n",
      " 7   home_owner                   2148 non-null   object \n",
      " 8   donor_gender                 2148 non-null   object \n",
      " 9   income_group                 2148 non-null   float64\n",
      " 10  published_phone              2148 non-null   int64  \n",
      " 11  overlay_source               2148 non-null   object \n",
      " 12  mor_hit_rate                 2148 non-null   int64  \n",
      " 13  wealth_rating                2148 non-null   float64\n",
      " 14  median_home_value            2148 non-null   int64  \n",
      " 15  median_household_income      2148 non-null   int64  \n",
      " 16  pct_owner_occupied           2148 non-null   int64  \n",
      " 17  per_capita_income            2148 non-null   int64  \n",
      " 18  pct_attribute1               2148 non-null   int64  \n",
      " 19  pct_attribute2               2148 non-null   int64  \n",
      " 20  pct_attribute3               2148 non-null   int64  \n",
      " 21  pct_attribute4               2148 non-null   int64  \n",
      " 22  pep_star                     2148 non-null   int64  \n",
      " 23  recent_star_status           2148 non-null   int64  \n",
      " 24  recency_status_96nk          2148 non-null   object \n",
      " 25  frequency_status_97nk        2148 non-null   int64  \n",
      " 26  recent_response_prop         2148 non-null   float64\n",
      " 27  recent_avg_gift_amt          2148 non-null   float64\n",
      " 28  recent_card_response_prop    2148 non-null   float64\n",
      " 29  recent_avg_card_gift_amt     2148 non-null   float64\n",
      " 30  recent_response_count        2148 non-null   int64  \n",
      " 31  recent_card_response_count   2148 non-null   int64  \n",
      " 32  months_since_last_prom_resp  2148 non-null   float64\n",
      " 33  lifetime_card_prom           2148 non-null   int64  \n",
      " 34  lifetime_prom                2148 non-null   int64  \n",
      " 35  lifetime_gift_amount         2148 non-null   float64\n",
      " 36  lifetime_gift_count          2148 non-null   int64  \n",
      " 37  lifetime_avg_gift_amt        2148 non-null   float64\n",
      " 38  lifetime_gift_range          2148 non-null   float64\n",
      " 39  lifetime_max_gift_amt        2148 non-null   float64\n",
      " 40  lifetime_min_gift_amt        2148 non-null   float64\n",
      " 41  last_gift_amt                2148 non-null   float64\n",
      " 42  card_prom_12                 2148 non-null   int64  \n",
      " 43  number_prom_12               2148 non-null   int64  \n",
      " 44  months_since_last_gift       2148 non-null   int64  \n",
      " 45  months_since_first_gift      2148 non-null   int64  \n",
      " 46  file_avg_gift                2148 non-null   float64\n",
      " 47  file_card_gift               2148 non-null   int64  \n",
      "dtypes: float64(15), int64(28), object(5)\n",
      "memory usage: 805.6+ KB\n"
     ]
    }
   ],
   "metadata": {}
  },
  {
   "cell_type": "code",
   "execution_count": 7,
   "source": [
    "train_data.head()"
   ],
   "outputs": [
    {
     "output_type": "execute_result",
     "data": {
      "text/plain": [
       "   Unnamed: 0  donated  months_since_origin  donor_age  in_house urbanicity  \\\n",
       "0           0        0                  101       87.0         0          X   \n",
       "1           1        1                  137       79.0         0          R   \n",
       "2           2        0                  113       75.0         0          S   \n",
       "3           3        0                   92       60.0         0          U   \n",
       "4           4        0                  101       74.0         0          R   \n",
       "\n",
       "   ses  cluster_code home_owner donor_gender  ...  lifetime_gift_range  \\\n",
       "0    5            54          H            M  ...                 15.0   \n",
       "1    2            45          H            M  ...                 20.0   \n",
       "2    1            11          H            F  ...                 23.0   \n",
       "3    2             4          H            F  ...                 14.0   \n",
       "4    2            49          U            F  ...                 20.0   \n",
       "\n",
       "   lifetime_max_gift_amt lifetime_min_gift_amt  last_gift_amt  card_prom_12  \\\n",
       "0                   20.0                   5.0           15.0             5   \n",
       "1                   25.0                   5.0           17.0             7   \n",
       "2                   28.0                   5.0           19.0            11   \n",
       "3                   17.0                   3.0           15.0            11   \n",
       "4                   25.0                   5.0           25.0             6   \n",
       "\n",
       "   number_prom_12  months_since_last_gift  months_since_first_gift  \\\n",
       "0              12                      26                       92   \n",
       "1              21                       7                      122   \n",
       "2              32                       6                      105   \n",
       "3              33                       6                       92   \n",
       "4              19                      18                       92   \n",
       "\n",
       "   file_avg_gift  file_card_gift  \n",
       "0           8.49               7  \n",
       "1          14.72              12  \n",
       "2          16.75              16  \n",
       "3          11.76              12  \n",
       "4           8.83               3  \n",
       "\n",
       "[5 rows x 49 columns]"
      ],
      "text/html": [
       "<div>\n",
       "<style scoped>\n",
       "    .dataframe tbody tr th:only-of-type {\n",
       "        vertical-align: middle;\n",
       "    }\n",
       "\n",
       "    .dataframe tbody tr th {\n",
       "        vertical-align: top;\n",
       "    }\n",
       "\n",
       "    .dataframe thead th {\n",
       "        text-align: right;\n",
       "    }\n",
       "</style>\n",
       "<table border=\"1\" class=\"dataframe\">\n",
       "  <thead>\n",
       "    <tr style=\"text-align: right;\">\n",
       "      <th></th>\n",
       "      <th>Unnamed: 0</th>\n",
       "      <th>donated</th>\n",
       "      <th>months_since_origin</th>\n",
       "      <th>donor_age</th>\n",
       "      <th>in_house</th>\n",
       "      <th>urbanicity</th>\n",
       "      <th>ses</th>\n",
       "      <th>cluster_code</th>\n",
       "      <th>home_owner</th>\n",
       "      <th>donor_gender</th>\n",
       "      <th>...</th>\n",
       "      <th>lifetime_gift_range</th>\n",
       "      <th>lifetime_max_gift_amt</th>\n",
       "      <th>lifetime_min_gift_amt</th>\n",
       "      <th>last_gift_amt</th>\n",
       "      <th>card_prom_12</th>\n",
       "      <th>number_prom_12</th>\n",
       "      <th>months_since_last_gift</th>\n",
       "      <th>months_since_first_gift</th>\n",
       "      <th>file_avg_gift</th>\n",
       "      <th>file_card_gift</th>\n",
       "    </tr>\n",
       "  </thead>\n",
       "  <tbody>\n",
       "    <tr>\n",
       "      <th>0</th>\n",
       "      <td>0</td>\n",
       "      <td>0</td>\n",
       "      <td>101</td>\n",
       "      <td>87.0</td>\n",
       "      <td>0</td>\n",
       "      <td>X</td>\n",
       "      <td>5</td>\n",
       "      <td>54</td>\n",
       "      <td>H</td>\n",
       "      <td>M</td>\n",
       "      <td>...</td>\n",
       "      <td>15.0</td>\n",
       "      <td>20.0</td>\n",
       "      <td>5.0</td>\n",
       "      <td>15.0</td>\n",
       "      <td>5</td>\n",
       "      <td>12</td>\n",
       "      <td>26</td>\n",
       "      <td>92</td>\n",
       "      <td>8.49</td>\n",
       "      <td>7</td>\n",
       "    </tr>\n",
       "    <tr>\n",
       "      <th>1</th>\n",
       "      <td>1</td>\n",
       "      <td>1</td>\n",
       "      <td>137</td>\n",
       "      <td>79.0</td>\n",
       "      <td>0</td>\n",
       "      <td>R</td>\n",
       "      <td>2</td>\n",
       "      <td>45</td>\n",
       "      <td>H</td>\n",
       "      <td>M</td>\n",
       "      <td>...</td>\n",
       "      <td>20.0</td>\n",
       "      <td>25.0</td>\n",
       "      <td>5.0</td>\n",
       "      <td>17.0</td>\n",
       "      <td>7</td>\n",
       "      <td>21</td>\n",
       "      <td>7</td>\n",
       "      <td>122</td>\n",
       "      <td>14.72</td>\n",
       "      <td>12</td>\n",
       "    </tr>\n",
       "    <tr>\n",
       "      <th>2</th>\n",
       "      <td>2</td>\n",
       "      <td>0</td>\n",
       "      <td>113</td>\n",
       "      <td>75.0</td>\n",
       "      <td>0</td>\n",
       "      <td>S</td>\n",
       "      <td>1</td>\n",
       "      <td>11</td>\n",
       "      <td>H</td>\n",
       "      <td>F</td>\n",
       "      <td>...</td>\n",
       "      <td>23.0</td>\n",
       "      <td>28.0</td>\n",
       "      <td>5.0</td>\n",
       "      <td>19.0</td>\n",
       "      <td>11</td>\n",
       "      <td>32</td>\n",
       "      <td>6</td>\n",
       "      <td>105</td>\n",
       "      <td>16.75</td>\n",
       "      <td>16</td>\n",
       "    </tr>\n",
       "    <tr>\n",
       "      <th>3</th>\n",
       "      <td>3</td>\n",
       "      <td>0</td>\n",
       "      <td>92</td>\n",
       "      <td>60.0</td>\n",
       "      <td>0</td>\n",
       "      <td>U</td>\n",
       "      <td>2</td>\n",
       "      <td>4</td>\n",
       "      <td>H</td>\n",
       "      <td>F</td>\n",
       "      <td>...</td>\n",
       "      <td>14.0</td>\n",
       "      <td>17.0</td>\n",
       "      <td>3.0</td>\n",
       "      <td>15.0</td>\n",
       "      <td>11</td>\n",
       "      <td>33</td>\n",
       "      <td>6</td>\n",
       "      <td>92</td>\n",
       "      <td>11.76</td>\n",
       "      <td>12</td>\n",
       "    </tr>\n",
       "    <tr>\n",
       "      <th>4</th>\n",
       "      <td>4</td>\n",
       "      <td>0</td>\n",
       "      <td>101</td>\n",
       "      <td>74.0</td>\n",
       "      <td>0</td>\n",
       "      <td>R</td>\n",
       "      <td>2</td>\n",
       "      <td>49</td>\n",
       "      <td>U</td>\n",
       "      <td>F</td>\n",
       "      <td>...</td>\n",
       "      <td>20.0</td>\n",
       "      <td>25.0</td>\n",
       "      <td>5.0</td>\n",
       "      <td>25.0</td>\n",
       "      <td>6</td>\n",
       "      <td>19</td>\n",
       "      <td>18</td>\n",
       "      <td>92</td>\n",
       "      <td>8.83</td>\n",
       "      <td>3</td>\n",
       "    </tr>\n",
       "  </tbody>\n",
       "</table>\n",
       "<p>5 rows × 49 columns</p>\n",
       "</div>"
      ]
     },
     "metadata": {},
     "execution_count": 7
    }
   ],
   "metadata": {}
  },
  {
   "cell_type": "code",
   "execution_count": 8,
   "source": [
    "train_data.drop(\"Unnamed: 0\", axis=1, inplace=True)\r\n",
    "test_data.drop(\"Unnamed: 0\", axis=1, inplace=True)"
   ],
   "outputs": [],
   "metadata": {}
  },
  {
   "cell_type": "code",
   "execution_count": 9,
   "source": [
    "train_data.head()"
   ],
   "outputs": [
    {
     "output_type": "execute_result",
     "data": {
      "text/plain": [
       "   donated  months_since_origin  donor_age  in_house urbanicity  ses  \\\n",
       "0        0                  101       87.0         0          X    5   \n",
       "1        1                  137       79.0         0          R    2   \n",
       "2        0                  113       75.0         0          S    1   \n",
       "3        0                   92       60.0         0          U    2   \n",
       "4        0                  101       74.0         0          R    2   \n",
       "\n",
       "   cluster_code home_owner donor_gender  income_group  ...  \\\n",
       "0            54          H            M           2.0  ...   \n",
       "1            45          H            M           7.0  ...   \n",
       "2            11          H            F           5.0  ...   \n",
       "3             4          H            F           6.0  ...   \n",
       "4            49          U            F           2.0  ...   \n",
       "\n",
       "   lifetime_gift_range lifetime_max_gift_amt  lifetime_min_gift_amt  \\\n",
       "0                 15.0                  20.0                    5.0   \n",
       "1                 20.0                  25.0                    5.0   \n",
       "2                 23.0                  28.0                    5.0   \n",
       "3                 14.0                  17.0                    3.0   \n",
       "4                 20.0                  25.0                    5.0   \n",
       "\n",
       "   last_gift_amt  card_prom_12  number_prom_12  months_since_last_gift  \\\n",
       "0           15.0             5              12                      26   \n",
       "1           17.0             7              21                       7   \n",
       "2           19.0            11              32                       6   \n",
       "3           15.0            11              33                       6   \n",
       "4           25.0             6              19                      18   \n",
       "\n",
       "   months_since_first_gift  file_avg_gift  file_card_gift  \n",
       "0                       92           8.49               7  \n",
       "1                      122          14.72              12  \n",
       "2                      105          16.75              16  \n",
       "3                       92          11.76              12  \n",
       "4                       92           8.83               3  \n",
       "\n",
       "[5 rows x 48 columns]"
      ],
      "text/html": [
       "<div>\n",
       "<style scoped>\n",
       "    .dataframe tbody tr th:only-of-type {\n",
       "        vertical-align: middle;\n",
       "    }\n",
       "\n",
       "    .dataframe tbody tr th {\n",
       "        vertical-align: top;\n",
       "    }\n",
       "\n",
       "    .dataframe thead th {\n",
       "        text-align: right;\n",
       "    }\n",
       "</style>\n",
       "<table border=\"1\" class=\"dataframe\">\n",
       "  <thead>\n",
       "    <tr style=\"text-align: right;\">\n",
       "      <th></th>\n",
       "      <th>donated</th>\n",
       "      <th>months_since_origin</th>\n",
       "      <th>donor_age</th>\n",
       "      <th>in_house</th>\n",
       "      <th>urbanicity</th>\n",
       "      <th>ses</th>\n",
       "      <th>cluster_code</th>\n",
       "      <th>home_owner</th>\n",
       "      <th>donor_gender</th>\n",
       "      <th>income_group</th>\n",
       "      <th>...</th>\n",
       "      <th>lifetime_gift_range</th>\n",
       "      <th>lifetime_max_gift_amt</th>\n",
       "      <th>lifetime_min_gift_amt</th>\n",
       "      <th>last_gift_amt</th>\n",
       "      <th>card_prom_12</th>\n",
       "      <th>number_prom_12</th>\n",
       "      <th>months_since_last_gift</th>\n",
       "      <th>months_since_first_gift</th>\n",
       "      <th>file_avg_gift</th>\n",
       "      <th>file_card_gift</th>\n",
       "    </tr>\n",
       "  </thead>\n",
       "  <tbody>\n",
       "    <tr>\n",
       "      <th>0</th>\n",
       "      <td>0</td>\n",
       "      <td>101</td>\n",
       "      <td>87.0</td>\n",
       "      <td>0</td>\n",
       "      <td>X</td>\n",
       "      <td>5</td>\n",
       "      <td>54</td>\n",
       "      <td>H</td>\n",
       "      <td>M</td>\n",
       "      <td>2.0</td>\n",
       "      <td>...</td>\n",
       "      <td>15.0</td>\n",
       "      <td>20.0</td>\n",
       "      <td>5.0</td>\n",
       "      <td>15.0</td>\n",
       "      <td>5</td>\n",
       "      <td>12</td>\n",
       "      <td>26</td>\n",
       "      <td>92</td>\n",
       "      <td>8.49</td>\n",
       "      <td>7</td>\n",
       "    </tr>\n",
       "    <tr>\n",
       "      <th>1</th>\n",
       "      <td>1</td>\n",
       "      <td>137</td>\n",
       "      <td>79.0</td>\n",
       "      <td>0</td>\n",
       "      <td>R</td>\n",
       "      <td>2</td>\n",
       "      <td>45</td>\n",
       "      <td>H</td>\n",
       "      <td>M</td>\n",
       "      <td>7.0</td>\n",
       "      <td>...</td>\n",
       "      <td>20.0</td>\n",
       "      <td>25.0</td>\n",
       "      <td>5.0</td>\n",
       "      <td>17.0</td>\n",
       "      <td>7</td>\n",
       "      <td>21</td>\n",
       "      <td>7</td>\n",
       "      <td>122</td>\n",
       "      <td>14.72</td>\n",
       "      <td>12</td>\n",
       "    </tr>\n",
       "    <tr>\n",
       "      <th>2</th>\n",
       "      <td>0</td>\n",
       "      <td>113</td>\n",
       "      <td>75.0</td>\n",
       "      <td>0</td>\n",
       "      <td>S</td>\n",
       "      <td>1</td>\n",
       "      <td>11</td>\n",
       "      <td>H</td>\n",
       "      <td>F</td>\n",
       "      <td>5.0</td>\n",
       "      <td>...</td>\n",
       "      <td>23.0</td>\n",
       "      <td>28.0</td>\n",
       "      <td>5.0</td>\n",
       "      <td>19.0</td>\n",
       "      <td>11</td>\n",
       "      <td>32</td>\n",
       "      <td>6</td>\n",
       "      <td>105</td>\n",
       "      <td>16.75</td>\n",
       "      <td>16</td>\n",
       "    </tr>\n",
       "    <tr>\n",
       "      <th>3</th>\n",
       "      <td>0</td>\n",
       "      <td>92</td>\n",
       "      <td>60.0</td>\n",
       "      <td>0</td>\n",
       "      <td>U</td>\n",
       "      <td>2</td>\n",
       "      <td>4</td>\n",
       "      <td>H</td>\n",
       "      <td>F</td>\n",
       "      <td>6.0</td>\n",
       "      <td>...</td>\n",
       "      <td>14.0</td>\n",
       "      <td>17.0</td>\n",
       "      <td>3.0</td>\n",
       "      <td>15.0</td>\n",
       "      <td>11</td>\n",
       "      <td>33</td>\n",
       "      <td>6</td>\n",
       "      <td>92</td>\n",
       "      <td>11.76</td>\n",
       "      <td>12</td>\n",
       "    </tr>\n",
       "    <tr>\n",
       "      <th>4</th>\n",
       "      <td>0</td>\n",
       "      <td>101</td>\n",
       "      <td>74.0</td>\n",
       "      <td>0</td>\n",
       "      <td>R</td>\n",
       "      <td>2</td>\n",
       "      <td>49</td>\n",
       "      <td>U</td>\n",
       "      <td>F</td>\n",
       "      <td>2.0</td>\n",
       "      <td>...</td>\n",
       "      <td>20.0</td>\n",
       "      <td>25.0</td>\n",
       "      <td>5.0</td>\n",
       "      <td>25.0</td>\n",
       "      <td>6</td>\n",
       "      <td>19</td>\n",
       "      <td>18</td>\n",
       "      <td>92</td>\n",
       "      <td>8.83</td>\n",
       "      <td>3</td>\n",
       "    </tr>\n",
       "  </tbody>\n",
       "</table>\n",
       "<p>5 rows × 48 columns</p>\n",
       "</div>"
      ]
     },
     "metadata": {},
     "execution_count": 9
    }
   ],
   "metadata": {}
  },
  {
   "cell_type": "code",
   "execution_count": 10,
   "source": [
    "test_data.head()"
   ],
   "outputs": [
    {
     "output_type": "execute_result",
     "data": {
      "text/plain": [
       "   months_since_origin  donor_age  in_house urbanicity  ses  cluster_code  \\\n",
       "0                  101       59.0         0          R    2            46   \n",
       "1                  137       59.0         0          R    2            43   \n",
       "2                   17       30.0         0          T    1            35   \n",
       "3                  137       75.0         0          U    1             2   \n",
       "4                    5       59.0         0          T    2            40   \n",
       "\n",
       "  home_owner donor_gender  income_group  published_phone  ...  \\\n",
       "0          U            F           5.0                0  ...   \n",
       "1          U            F           5.0                1  ...   \n",
       "2          H            M           6.0                1  ...   \n",
       "3          H            M           6.0                1  ...   \n",
       "4          U            F           2.0                0  ...   \n",
       "\n",
       "  lifetime_gift_range  lifetime_max_gift_amt  lifetime_min_gift_amt  \\\n",
       "0                16.0                   21.0                    5.0   \n",
       "1                 9.0                   11.0                    2.0   \n",
       "2                15.0                   20.0                    5.0   \n",
       "3                 5.0                   10.0                    5.0   \n",
       "4                 7.0                   10.0                    3.0   \n",
       "\n",
       "   last_gift_amt  card_prom_12  number_prom_12  months_since_last_gift  \\\n",
       "0           21.0             4              10                      26   \n",
       "1           10.0             9              22                      22   \n",
       "2           20.0             5              14                      20   \n",
       "3           10.0            10              24                      19   \n",
       "4            5.0             5              12                      18   \n",
       "\n",
       "   months_since_first_gift  file_avg_gift  file_card_gift  \n",
       "0                       90          14.71               2  \n",
       "1                      129           6.00              14  \n",
       "2                       87           8.44               1  \n",
       "3                      129           6.50              22  \n",
       "4                       85           5.83               2  \n",
       "\n",
       "[5 rows x 47 columns]"
      ],
      "text/html": [
       "<div>\n",
       "<style scoped>\n",
       "    .dataframe tbody tr th:only-of-type {\n",
       "        vertical-align: middle;\n",
       "    }\n",
       "\n",
       "    .dataframe tbody tr th {\n",
       "        vertical-align: top;\n",
       "    }\n",
       "\n",
       "    .dataframe thead th {\n",
       "        text-align: right;\n",
       "    }\n",
       "</style>\n",
       "<table border=\"1\" class=\"dataframe\">\n",
       "  <thead>\n",
       "    <tr style=\"text-align: right;\">\n",
       "      <th></th>\n",
       "      <th>months_since_origin</th>\n",
       "      <th>donor_age</th>\n",
       "      <th>in_house</th>\n",
       "      <th>urbanicity</th>\n",
       "      <th>ses</th>\n",
       "      <th>cluster_code</th>\n",
       "      <th>home_owner</th>\n",
       "      <th>donor_gender</th>\n",
       "      <th>income_group</th>\n",
       "      <th>published_phone</th>\n",
       "      <th>...</th>\n",
       "      <th>lifetime_gift_range</th>\n",
       "      <th>lifetime_max_gift_amt</th>\n",
       "      <th>lifetime_min_gift_amt</th>\n",
       "      <th>last_gift_amt</th>\n",
       "      <th>card_prom_12</th>\n",
       "      <th>number_prom_12</th>\n",
       "      <th>months_since_last_gift</th>\n",
       "      <th>months_since_first_gift</th>\n",
       "      <th>file_avg_gift</th>\n",
       "      <th>file_card_gift</th>\n",
       "    </tr>\n",
       "  </thead>\n",
       "  <tbody>\n",
       "    <tr>\n",
       "      <th>0</th>\n",
       "      <td>101</td>\n",
       "      <td>59.0</td>\n",
       "      <td>0</td>\n",
       "      <td>R</td>\n",
       "      <td>2</td>\n",
       "      <td>46</td>\n",
       "      <td>U</td>\n",
       "      <td>F</td>\n",
       "      <td>5.0</td>\n",
       "      <td>0</td>\n",
       "      <td>...</td>\n",
       "      <td>16.0</td>\n",
       "      <td>21.0</td>\n",
       "      <td>5.0</td>\n",
       "      <td>21.0</td>\n",
       "      <td>4</td>\n",
       "      <td>10</td>\n",
       "      <td>26</td>\n",
       "      <td>90</td>\n",
       "      <td>14.71</td>\n",
       "      <td>2</td>\n",
       "    </tr>\n",
       "    <tr>\n",
       "      <th>1</th>\n",
       "      <td>137</td>\n",
       "      <td>59.0</td>\n",
       "      <td>0</td>\n",
       "      <td>R</td>\n",
       "      <td>2</td>\n",
       "      <td>43</td>\n",
       "      <td>U</td>\n",
       "      <td>F</td>\n",
       "      <td>5.0</td>\n",
       "      <td>1</td>\n",
       "      <td>...</td>\n",
       "      <td>9.0</td>\n",
       "      <td>11.0</td>\n",
       "      <td>2.0</td>\n",
       "      <td>10.0</td>\n",
       "      <td>9</td>\n",
       "      <td>22</td>\n",
       "      <td>22</td>\n",
       "      <td>129</td>\n",
       "      <td>6.00</td>\n",
       "      <td>14</td>\n",
       "    </tr>\n",
       "    <tr>\n",
       "      <th>2</th>\n",
       "      <td>17</td>\n",
       "      <td>30.0</td>\n",
       "      <td>0</td>\n",
       "      <td>T</td>\n",
       "      <td>1</td>\n",
       "      <td>35</td>\n",
       "      <td>H</td>\n",
       "      <td>M</td>\n",
       "      <td>6.0</td>\n",
       "      <td>1</td>\n",
       "      <td>...</td>\n",
       "      <td>15.0</td>\n",
       "      <td>20.0</td>\n",
       "      <td>5.0</td>\n",
       "      <td>20.0</td>\n",
       "      <td>5</td>\n",
       "      <td>14</td>\n",
       "      <td>20</td>\n",
       "      <td>87</td>\n",
       "      <td>8.44</td>\n",
       "      <td>1</td>\n",
       "    </tr>\n",
       "    <tr>\n",
       "      <th>3</th>\n",
       "      <td>137</td>\n",
       "      <td>75.0</td>\n",
       "      <td>0</td>\n",
       "      <td>U</td>\n",
       "      <td>1</td>\n",
       "      <td>2</td>\n",
       "      <td>H</td>\n",
       "      <td>M</td>\n",
       "      <td>6.0</td>\n",
       "      <td>1</td>\n",
       "      <td>...</td>\n",
       "      <td>5.0</td>\n",
       "      <td>10.0</td>\n",
       "      <td>5.0</td>\n",
       "      <td>10.0</td>\n",
       "      <td>10</td>\n",
       "      <td>24</td>\n",
       "      <td>19</td>\n",
       "      <td>129</td>\n",
       "      <td>6.50</td>\n",
       "      <td>22</td>\n",
       "    </tr>\n",
       "    <tr>\n",
       "      <th>4</th>\n",
       "      <td>5</td>\n",
       "      <td>59.0</td>\n",
       "      <td>0</td>\n",
       "      <td>T</td>\n",
       "      <td>2</td>\n",
       "      <td>40</td>\n",
       "      <td>U</td>\n",
       "      <td>F</td>\n",
       "      <td>2.0</td>\n",
       "      <td>0</td>\n",
       "      <td>...</td>\n",
       "      <td>7.0</td>\n",
       "      <td>10.0</td>\n",
       "      <td>3.0</td>\n",
       "      <td>5.0</td>\n",
       "      <td>5</td>\n",
       "      <td>12</td>\n",
       "      <td>18</td>\n",
       "      <td>85</td>\n",
       "      <td>5.83</td>\n",
       "      <td>2</td>\n",
       "    </tr>\n",
       "  </tbody>\n",
       "</table>\n",
       "<p>5 rows × 47 columns</p>\n",
       "</div>"
      ]
     },
     "metadata": {},
     "execution_count": 10
    }
   ],
   "metadata": {}
  },
  {
   "cell_type": "code",
   "execution_count": 11,
   "source": [
    "train_data.shape, test_data.shape"
   ],
   "outputs": [
    {
     "output_type": "execute_result",
     "data": {
      "text/plain": [
       "((19372, 48), (2148, 47))"
      ]
     },
     "metadata": {},
     "execution_count": 11
    }
   ],
   "metadata": {}
  },
  {
   "cell_type": "markdown",
   "source": [
    "### Undersampling the whole dataset sometimes causes information leakage, I will be undersampling only the training data"
   ],
   "metadata": {}
  },
  {
   "cell_type": "code",
   "execution_count": 15,
   "source": [
    "donated = train_data[train_data['donated']==1]\r\n",
    "not_donated = train_data[train_data['donated']==0]\r\n",
    "donor_count = train_data['donated'].value_counts()[1]\r\n",
    "random_selection = not_donated.sample(donor_count)\r\n",
    "train_data_under_sampled = pd.concat([donated, random_selection])"
   ],
   "outputs": [],
   "metadata": {}
  },
  {
   "cell_type": "code",
   "execution_count": 16,
   "source": [
    "train_data_under_sampled.shape"
   ],
   "outputs": [
    {
     "output_type": "execute_result",
     "data": {
      "text/plain": [
       "(9686, 48)"
      ]
     },
     "metadata": {},
     "execution_count": 16
    }
   ],
   "metadata": {}
  },
  {
   "cell_type": "code",
   "execution_count": 17,
   "source": [
    "train_data_under_sampled['donated'].value_counts()"
   ],
   "outputs": [
    {
     "output_type": "execute_result",
     "data": {
      "text/plain": [
       "1    4843\n",
       "0    4843\n",
       "Name: donated, dtype: int64"
      ]
     },
     "metadata": {},
     "execution_count": 17
    }
   ],
   "metadata": {}
  },
  {
   "cell_type": "code",
   "execution_count": null,
   "source": [
    "# Selecting the independent variables and the target variable\r\n",
    "#\r\n",
    "y = train_data['donated']\r\n",
    "X = train_data.drop('donated', axis = 1)\r\n"
   ],
   "outputs": [],
   "metadata": {}
  },
  {
   "cell_type": "markdown",
   "source": [
    "* **Joining the Train and Test data to encode the categorical columns together**"
   ],
   "metadata": {}
  },
  {
   "cell_type": "code",
   "execution_count": null,
   "source": [
    "total_data = pd.concat([X, test_data])"
   ],
   "outputs": [],
   "metadata": {}
  },
  {
   "cell_type": "code",
   "execution_count": null,
   "source": [
    "\r\n",
    "total_data=pd.get_dummies(total_data,drop_first=True)"
   ],
   "outputs": [],
   "metadata": {}
  },
  {
   "cell_type": "code",
   "execution_count": null,
   "source": [
    "total_data.head()"
   ],
   "outputs": [],
   "metadata": {}
  },
  {
   "cell_type": "code",
   "execution_count": null,
   "source": [
    "# categorical_columns = []\r\n",
    "# for col in total_data.columns:\r\n",
    "    # unique_column =total_data[col].nunique()\r\n",
    "    # if unique_column <=60:\r\n",
    "        # categorical_columns.append(col)"
   ],
   "outputs": [],
   "metadata": {}
  },
  {
   "cell_type": "code",
   "execution_count": null,
   "source": [
    "# print(categorical_columns)"
   ],
   "outputs": [],
   "metadata": {}
  },
  {
   "cell_type": "code",
   "execution_count": null,
   "source": [
    "# from sklearn.preprocessing import LabelEncoder\r\n",
    "# le=LabelEncoder()\r\n",
    "# for i in list(categorical_columns):\r\n",
    "        # total_data[i]=le.fit_transform(total_data[i])"
   ],
   "outputs": [],
   "metadata": {}
  },
  {
   "cell_type": "markdown",
   "source": [
    "* **Splitting the Train and Test data to after encoding the categorical columns**"
   ],
   "metadata": {}
  },
  {
   "cell_type": "code",
   "execution_count": null,
   "source": [
    "from sklearn.preprocessing import MinMaxScaler\r\n",
    "scaler = MinMaxScaler()\r\n",
    "train_d1 = scaler.fit_transform(total_data)\r\n",
    "train_d2 = pd.DataFrame(train_d1,columns=total_data.columns)\r\n",
    "total_data = train_d2"
   ],
   "outputs": [],
   "metadata": {}
  },
  {
   "cell_type": "code",
   "execution_count": null,
   "source": [
    "X_train_cat_encoded =  total_data.iloc[:19372]\r\n",
    "X_test_cat_encoded =  total_data.iloc[19372:]\r\n",
    "X_train_cat_encoded.shape, X_test_cat_encoded.shape"
   ],
   "outputs": [],
   "metadata": {}
  },
  {
   "cell_type": "code",
   "execution_count": null,
   "source": [
    "total_data.head()"
   ],
   "outputs": [],
   "metadata": {}
  },
  {
   "cell_type": "code",
   "execution_count": null,
   "source": [
    "# Splitting the data into training and testing sets\r\n",
    "#\r\n",
    "X_train, X_test, y_train, y_test = train_test_split(X_train_cat_encoded, y, test_size = 0.3, random_state = 0)"
   ],
   "outputs": [],
   "metadata": {}
  },
  {
   "cell_type": "code",
   "execution_count": null,
   "source": [
    "\r\n",
    "# define and configure the model\r\n",
    "model = KNeighborsClassifier()\r\n",
    "# fit the model\r\n",
    "model.fit(X_train, y_train)\r\n",
    "# evaluate the model\r\n",
    "preds = model.predict(X_test)\r\n",
    "print('Accuracy : ',accuracy_score(y_test, preds))\r\n",
    "\r\n",
    "# Measuring the accuracy of the model\r\n",
    "#\r\n",
    "print(f'The accuracy score is: {accuracy_score(y_test, preds)} and the f1 score is {f1_score(y_test, preds)}')\r\n",
    "print('\\n')\r\n",
    "print(f'{classification_report(y_test, preds)}')\r\n",
    "confusion_matrix(y_test, preds)\r\n"
   ],
   "outputs": [],
   "metadata": {}
  },
  {
   "cell_type": "code",
   "execution_count": null,
   "source": [
    "\r\n",
    "# define and configure the model\r\n",
    "model = DecisionTreeClassifier()\r\n",
    "# fit the model\r\n",
    "model.fit(X_train, y_train)\r\n",
    "# evaluate the model\r\n",
    "preds = model.predict(X_test)\r\n",
    "print('Accuracy : ',accuracy_score(y_test, preds))\r\n",
    "\r\n",
    "print(f'The accuracy score is: {accuracy_score(y_test, preds)} and the f1 score is {f1_score(y_test, preds)}')\r\n",
    "print('\\n')\r\n",
    "print(f'{classification_report(y_test, preds)}')\r\n",
    "confusion_matrix(y_test, preds)\r\n"
   ],
   "outputs": [],
   "metadata": {}
  },
  {
   "cell_type": "code",
   "execution_count": null,
   "source": [
    "# Checking for the most important features that contribute most in predicting the target\r\n",
    "# Creating a dataframe of features and their respective importances\r\n",
    "#\r\n",
    "impo_df = pd.DataFrame({'feature': X_train_cat_encoded.columns, 'importance': np.round(model.feature_importances_, 4)}).set_index('feature').sort_values(by = 'importance', ascending = False)\r\n",
    "impo_df\r\n"
   ],
   "outputs": [],
   "metadata": {}
  },
  {
   "cell_type": "code",
   "execution_count": null,
   "source": [
    "# Creating a bar chart of feature importance in descending order\r\n",
    "#\r\n",
    "impo_df = impo_df[:10].sort_values(by = 'importance', ascending = False)\r\n",
    "impo_df.plot(kind = 'barh', figsize = (10, 10), color = 'purple')\r\n",
    "plt.legend(loc = 'center right')\r\n",
    "plt.title('Bar chart showing feature importance', color = 'indigo', fontsize = 14)\r\n",
    "plt.xlabel('Features', fontsize = 12, color = 'indigo')\r\n",
    "plt.show()"
   ],
   "outputs": [],
   "metadata": {}
  },
  {
   "cell_type": "code",
   "execution_count": null,
   "source": [
    "\r\n",
    "# define and configure the model\r\n",
    "model = XGBClassifier(random_state=43)\r\n",
    "# fit the model\r\n",
    "model.fit(X_train, y_train)\r\n",
    "# evaluate the model\r\n",
    "preds = model.predict(X_test)\r\n",
    "print('Accuracy : ',accuracy_score(y_test, preds))\r\n",
    "\r\n",
    "print(f'The accuracy score is: {accuracy_score(y_test, preds)} and the f1 score is {f1_score(y_test, preds)}')\r\n",
    "print('\\n')\r\n",
    "print(f'{classification_report(y_test, preds)}')\r\n",
    "confusion_matrix(y_test, preds)"
   ],
   "outputs": [],
   "metadata": {}
  },
  {
   "cell_type": "code",
   "execution_count": null,
   "source": [
    "# Checking for the most important features that contribute most in predicting the target\r\n",
    "# Creating a dataframe of features and their respective importances\r\n",
    "#\r\n",
    "impo_df = pd.DataFrame({'feature': X_train_cat_encoded.columns, 'importance': np.round(model.feature_importances_, 4)}).set_index('feature').sort_values(by = 'importance', ascending = False)\r\n",
    "impo_df\r\n"
   ],
   "outputs": [],
   "metadata": {}
  },
  {
   "cell_type": "code",
   "execution_count": null,
   "source": [
    "# Creating a bar chart of feature importance in descending order\r\n",
    "#\r\n",
    "impo_df = impo_df[:10].sort_values(by = 'importance', ascending = False)\r\n",
    "impo_df.plot(kind = 'barh', figsize = (10, 10), color = 'purple')\r\n",
    "plt.legend(loc = 'center right')\r\n",
    "plt.title('Bar chart showing feature importance', color = 'indigo', fontsize = 14)\r\n",
    "plt.xlabel('Features', fontsize = 12, color = 'indigo')\r\n",
    "plt.show()"
   ],
   "outputs": [],
   "metadata": {}
  },
  {
   "cell_type": "code",
   "execution_count": null,
   "source": [
    "# define and configure the model\r\n",
    "model = CatBoostClassifier(verbose=False)\r\n",
    "\r\n",
    "# fit the model\r\n",
    "model.fit(X_train, y_train)\r\n",
    "\r\n",
    "# evaluate the model\r\n",
    "preds = model.predict(X_test)\r\n",
    "print('Accuracy : ',accuracy_score(y_test, preds))\r\n",
    "\r\n",
    "print(f'The accuracy score is: {accuracy_score(y_test, preds)} and the f1 score is {f1_score(y_test, preds)}')\r\n",
    "print('\\n')\r\n",
    "print(f'{classification_report(y_test, preds)}')\r\n",
    "confusion_matrix(y_test, preds)\r\n"
   ],
   "outputs": [],
   "metadata": {}
  },
  {
   "cell_type": "code",
   "execution_count": null,
   "source": [
    "# Checking for the most important features that contribute most in predicting the target\r\n",
    "# Creating a dataframe of features and their respective importances\r\n",
    "#\r\n",
    "impo_df = pd.DataFrame({'feature': X_train_cat_encoded.columns, 'importance': np.round(model.feature_importances_, 4)}).set_index('feature').sort_values(by = 'importance', ascending = False)\r\n",
    "impo_df\r\n",
    "\r\n"
   ],
   "outputs": [],
   "metadata": {}
  },
  {
   "cell_type": "code",
   "execution_count": null,
   "source": [
    "# Creating a bar chart of feature importance in descending order\r\n",
    "#\r\n",
    "impo_df = impo_df[:10].sort_values(by = 'importance', ascending = False)\r\n",
    "impo_df.plot(kind = 'barh', figsize = (10, 10), color = 'purple')\r\n",
    "plt.legend(loc = 'center right')\r\n",
    "plt.title('Bar chart showing feature importance', color = 'indigo', fontsize = 14)\r\n",
    "plt.xlabel('Features', fontsize = 12, color = 'indigo')\r\n",
    "plt.show()"
   ],
   "outputs": [],
   "metadata": {}
  },
  {
   "cell_type": "code",
   "execution_count": null,
   "source": [
    "\r\n",
    "# define and configure the model\r\n",
    "# l1 regularization gives better results\r\n",
    "model = LogisticRegression(penalty='l1', C=10, random_state = 0)\r\n",
    "# fit the model\r\n",
    "model.fit(X_train, y_train)\r\n",
    "\r\n",
    "# evaluate the model\r\n",
    "preds = model.predict(X_test)\r\n",
    "print('Accuracy : ',accuracy_score(y_test, preds))\r\n",
    "\r\n",
    "print(f'The accuracy score is: {accuracy_score(y_test, preds)} and the f1 score is {f1_score(y_test, preds)}')\r\n",
    "print('\\n')\r\n",
    "print(f'{classification_report(y_test, preds)}')\r\n",
    "confusion_matrix(y_test, preds)"
   ],
   "outputs": [],
   "metadata": {}
  },
  {
   "cell_type": "code",
   "execution_count": null,
   "source": [
    "# define and configure the model\r\n",
    "model = RandomForestClassifier(random_state = 0)\r\n",
    "\r\n",
    "# fit the model\r\n",
    "model.fit(X_train, y_train)\r\n",
    "\r\n",
    "# evaluate the model\r\n",
    "preds = model.predict(X_test)\r\n",
    "print('Accuracy : ',accuracy_score(y_test, preds))\r\n",
    "\r\n",
    "print(f'The accuracy score is: {accuracy_score(y_test, preds)} and the f1 score is {f1_score(y_test, preds)}')\r\n",
    "print('\\n')\r\n",
    "print(f'{classification_report(y_test, preds)}')\r\n",
    "confusion_matrix(y_test, preds)\r\n"
   ],
   "outputs": [],
   "metadata": {}
  },
  {
   "cell_type": "code",
   "execution_count": null,
   "source": [
    "# Checking for the most important features that contribute most in predicting the target\r\n",
    "# Creating a dataframe of features and their respective importances\r\n",
    "#\r\n",
    "impo_df = pd.DataFrame({'feature': X_train_cat_encoded.columns, 'importance': np.round(model.feature_importances_, 4)}).set_index('feature').sort_values(by = 'importance', ascending = False)\r\n",
    "impo_df\r\n"
   ],
   "outputs": [],
   "metadata": {}
  },
  {
   "cell_type": "code",
   "execution_count": null,
   "source": [
    "# Creating a bar chart of feature importance in descending order\r\n",
    "#\r\n",
    "impo_df = impo_df[:10].sort_values(by = 'importance', ascending = False)\r\n",
    "impo_df.plot(kind = 'barh', figsize = (10, 10), color = 'purple')\r\n",
    "plt.legend(loc = 'center right')\r\n",
    "plt.title('Bar chart showing feature importance', color = 'indigo', fontsize = 14)\r\n",
    "plt.xlabel('Features', fontsize = 12, color = 'indigo')\r\n",
    "plt.show()"
   ],
   "outputs": [],
   "metadata": {}
  },
  {
   "cell_type": "code",
   "execution_count": null,
   "source": [
    "# define and configure the model\r\n",
    "model = AdaBoostClassifier(random_state = 0)\r\n",
    "\r\n",
    "# fit the model\r\n",
    "model.fit(X_train, y_train)\r\n",
    "\r\n",
    "# evaluate the model\r\n",
    "preds = model.predict(X_test)\r\n",
    "print('Accuracy : ',accuracy_score(y_test, preds))\r\n",
    "\r\n",
    "print(f'The accuracy score is: {accuracy_score(y_test, preds)} and the f1 score is {f1_score(y_test, preds)}')\r\n",
    "print('\\n')\r\n",
    "print(f'{classification_report(y_test, preds)}')\r\n",
    "confusion_matrix(y_test, preds)\r\n"
   ],
   "outputs": [],
   "metadata": {}
  },
  {
   "cell_type": "code",
   "execution_count": null,
   "source": [
    "# Checking for the most important features that contribute most in predicting the target\r\n",
    "# Creating a dataframe of features and their respective importances\r\n",
    "#\r\n",
    "impo_df = pd.DataFrame({'feature': X_train_cat_encoded.columns, 'importance': np.round(model.feature_importances_, 4)}).set_index('feature').sort_values(by = 'importance', ascending = False)\r\n",
    "impo_df\r\n"
   ],
   "outputs": [],
   "metadata": {}
  },
  {
   "cell_type": "code",
   "execution_count": null,
   "source": [
    "# Creating a bar chart of feature importance in descending order\r\n",
    "#\r\n",
    "impo_df = impo_df[:10].sort_values(by = 'importance', ascending = False)\r\n",
    "impo_df.plot(kind = 'barh', figsize = (10, 10), color = 'purple')\r\n",
    "plt.legend(loc = 'center right')\r\n",
    "plt.title('Bar chart showing feature importance', color = 'indigo', fontsize = 14)\r\n",
    "plt.xlabel('Features', fontsize = 12, color = 'indigo')\r\n",
    "plt.show()"
   ],
   "outputs": [],
   "metadata": {}
  },
  {
   "cell_type": "markdown",
   "source": [
    "# Data Modelling"
   ],
   "metadata": {}
  },
  {
   "cell_type": "markdown",
   "source": [
    "# Data Modelling"
   ],
   "metadata": {}
  },
  {
   "cell_type": "markdown",
   "source": [
    "## RandomForest Classifier"
   ],
   "metadata": {}
  },
  {
   "cell_type": "markdown",
   "source": [
    "### Parameter Tuning"
   ],
   "metadata": {}
  },
  {
   "cell_type": "code",
   "execution_count": null,
   "source": [
    "# Previewing the parameters to tune\r\n",
    "#\r\n",
    "RandomForestClassifier()"
   ],
   "outputs": [],
   "metadata": {}
  },
  {
   "cell_type": "code",
   "execution_count": null,
   "source": [
    "# Creating a dictionary of parameters to tune\r\n",
    "#\r\n",
    "params = {'n_estimators': [10, 20, 30, 50, 100],\r\n",
    "         'max_depth': [1, 2, 3, 4, 5]}\r\n",
    "\r\n",
    "# Setting the number of folds to 10 and instantiating the model\r\n",
    "# \r\n",
    "kfold = KFold(n_splits=10, shuffle=True)\r\n",
    "model = RandomForestClassifier()\r\n",
    "\r\n",
    "search = GridSearchCV(model, param_grid=params, scoring = 'f1', cv = kfold)\r\n",
    "\r\n",
    "# Fitting the grid search with the X and the y variables\r\n",
    "#\r\n",
    "search.fit(X_train_cat_encoded, y)\r\n",
    "\r\n",
    "# Checking for the best parameters\r\n",
    "#\r\n",
    "print(f'The best parameters are: {search.best_params_}')"
   ],
   "outputs": [],
   "metadata": {}
  },
  {
   "cell_type": "code",
   "execution_count": null,
   "source": [
    "# Applying the best parameters to the model\r\n",
    "\r\n",
    "\r\n",
    "# Splitting the data into training and testing sets\r\n",
    "#\r\n",
    "X_train, X_test, y_train, y_test = train_test_split(X_train_cat_encoded, y, test_size = 0.3, random_state = 0)\r\n",
    "\r\n",
    "# Instantiating the model\r\n",
    "#\r\n",
    "rf = RandomForestClassifier(n_estimators=10, max_depth=5, random_state = 0)\r\n",
    "rf.fit(X_train, y_train)\r\n",
    "\r\n",
    "# Making predictions\r\n",
    "#\r\n",
    "y_pred = rf.predict(X_test)\r\n",
    "\r\n",
    "# Measuring the accuracy of the model\r\n",
    "#\r\n",
    "print(f'The accuracy score is: {accuracy_score(y_test, y_pred)} and the f1 score is {f1_score(y_test, y_pred)}')\r\n",
    "print('\\n')\r\n",
    "print(f'{classification_report(y_test, y_pred)}')\r\n",
    "confusion_matrix(y_test, y_pred)"
   ],
   "outputs": [],
   "metadata": {}
  },
  {
   "cell_type": "markdown",
   "source": [
    "*Parameter tuning hasn't decreased or increased the f1 score*"
   ],
   "metadata": {}
  },
  {
   "cell_type": "markdown",
   "source": [
    "### Cross Validation to check for the stability of the model"
   ],
   "metadata": {}
  },
  {
   "cell_type": "code",
   "execution_count": null,
   "source": [
    "# Performing cross validation of ten folds\r\n",
    "#\r\n",
    "scores = cross_val_score(rf, X_train_cat_encoded, y, scoring = 'f1', cv = 10)\r\n",
    "\r\n",
    "# Calculating the mean of the cross validation scores\r\n",
    "#\r\n",
    "print(f'Mean of cross validation scores is {scores.mean()}')\r\n",
    "\r\n",
    "# Calculating the variance of the cross validation scores from the mean\r\n",
    "#\r\n",
    "print(f'Standard deviation of the cross validation scores is {scores.std()}')"
   ],
   "outputs": [],
   "metadata": {}
  },
  {
   "cell_type": "markdown",
   "source": [
    "## Challenging the solution"
   ],
   "metadata": {}
  },
  {
   "cell_type": "markdown",
   "source": [
    "*Using different models to check whether performance can be improved*"
   ],
   "metadata": {}
  },
  {
   "cell_type": "code",
   "execution_count": null,
   "source": [
    "y__ =  y.copy()\r\n",
    "total_test_set_prediction = []\r\n",
    "kf = KFold(n_splits=5, random_state=False, shuffle=False)\r\n",
    "for train_index, test_index in kf.split(X_train_cat_encoded):\r\n",
    "    X_train, X_test = X_train_cat_encoded.iloc[train_index], X_train_cat_encoded.iloc[test_index]\r\n",
    "    y_train, y_test = y.iloc[train_index], y.iloc[test_index]\r\n",
    "    rf_model = RandomForestClassifier(n_estimators=600,random_state=0)\r\n",
    "\r\n",
    "    # fit the model\r\n",
    "    rf_model.fit(X_train, y_train)\r\n",
    "    # evaluate the model\r\n",
    "    preds = rf_model.predict(X_test)\r\n",
    "    test_preds  = rf_model.predict(X_test_cat_encoded)\r\n",
    "    total_test_set_prediction.append(test_preds)\r\n",
    "    #arr = np.stack([arr,test_preds],1)\r\n",
    "    y__.iloc[test_index] = preds\r\n",
    "    print('k-fold Accuracy : ',accuracy_score(y_test, preds))\r\n",
    "print('Cross_validation_Accuracy : ',accuracy_score(y__, y))\r\n",
    "test_pred_array = np.array(total_test_set_prediction)\r\n",
    "test_pred_array_T = test_pred_array.transpose()\r\n",
    "final_test_pred  = mode(test_pred_array_T,1)[0]\r\n",
    "final_test_pred = final_test_pred.reshape((-1))\r\n"
   ],
   "outputs": [],
   "metadata": {}
  },
  {
   "cell_type": "code",
   "execution_count": null,
   "source": [
    "predicted_donors = pd.DataFrame()\r\n",
    "predicted_donors['donated'] = final_test_pred\r\n",
    "predicted_donors['control_no'] = test_control_no\r\n",
    "predicted_donors.head()"
   ],
   "outputs": [],
   "metadata": {}
  },
  {
   "cell_type": "code",
   "execution_count": null,
   "source": [
    "predicted_donors['donated'].value_counts()"
   ],
   "outputs": [],
   "metadata": {}
  },
  {
   "cell_type": "markdown",
   "source": [
    "## Conclusion"
   ],
   "metadata": {}
  },
  {
   "cell_type": "markdown",
   "source": [
    "* *Out of all the models used to predict whether a person has donates or not, the RandomForestClassifier performs well with an accuracy score of approximately 74.6%*\r\n",
    "\r\n",
    "\r\n",
    "\r\n"
   ],
   "metadata": {}
  },
  {
   "cell_type": "markdown",
   "source": [],
   "metadata": {}
  }
 ],
 "metadata": {
  "interpreter": {
   "hash": "8eb07b4d783c51f574b3398e25d662e9253b789236e8fa3b76d1d4089bc7b5f6"
  },
  "kernelspec": {
   "name": "python3",
   "display_name": "Python 3.8.5 64-bit ('base': conda)"
  },
  "language_info": {
   "codemirror_mode": {
    "name": "ipython",
    "version": 3
   },
   "file_extension": ".py",
   "mimetype": "text/x-python",
   "name": "python",
   "nbconvert_exporter": "python",
   "pygments_lexer": "ipython3",
   "version": "3.8.5"
  },
  "orig_nbformat": 4
 },
 "nbformat": 4,
 "nbformat_minor": 2
}