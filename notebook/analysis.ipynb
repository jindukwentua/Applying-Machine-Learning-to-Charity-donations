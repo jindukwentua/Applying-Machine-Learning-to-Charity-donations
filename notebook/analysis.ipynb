{
 "cells": [
  {
   "cell_type": "code",
   "execution_count": 1,
   "metadata": {},
   "outputs": [],
   "source": [
    "import pandas as pd\r\n",
    "import numpy as np\r\n",
    "import seaborn as sns\r\n",
    "import matplotlib.pyplot as plt \r\n",
    "%matplotlib inline"
   ]
  },
  {
   "cell_type": "code",
   "execution_count": 2,
   "metadata": {},
   "outputs": [],
   "source": [
    "df = pd.read_csv('../data/donor_data.csv')"
   ]
  },
  {
   "cell_type": "code",
   "execution_count": 3,
   "metadata": {},
   "outputs": [
    {
     "data": {
      "text/html": [
       "<div>\n",
       "<style scoped>\n",
       "    .dataframe tbody tr th:only-of-type {\n",
       "        vertical-align: middle;\n",
       "    }\n",
       "\n",
       "    .dataframe tbody tr th {\n",
       "        vertical-align: top;\n",
       "    }\n",
       "\n",
       "    .dataframe thead th {\n",
       "        text-align: right;\n",
       "    }\n",
       "</style>\n",
       "<table border=\"1\" class=\"dataframe\">\n",
       "  <thead>\n",
       "    <tr style=\"text-align: right;\">\n",
       "      <th></th>\n",
       "      <th>TARGET_B</th>\n",
       "      <th>TARGET_D</th>\n",
       "      <th>CONTROL_NUMBER</th>\n",
       "      <th>MONTHS_SINCE_ORIGIN</th>\n",
       "      <th>DONOR_AGE</th>\n",
       "      <th>IN_HOUSE</th>\n",
       "      <th>URBANICITY</th>\n",
       "      <th>SES</th>\n",
       "      <th>CLUSTER_CODE</th>\n",
       "      <th>HOME_OWNER</th>\n",
       "      <th>...</th>\n",
       "      <th>LIFETIME_GIFT_RANGE</th>\n",
       "      <th>LIFETIME_MAX_GIFT_AMT</th>\n",
       "      <th>LIFETIME_MIN_GIFT_AMT</th>\n",
       "      <th>LAST_GIFT_AMT</th>\n",
       "      <th>CARD_PROM_12</th>\n",
       "      <th>NUMBER_PROM_12</th>\n",
       "      <th>MONTHS_SINCE_LAST_GIFT</th>\n",
       "      <th>MONTHS_SINCE_FIRST_GIFT</th>\n",
       "      <th>FILE_AVG_GIFT</th>\n",
       "      <th>FILE_CARD_GIFT</th>\n",
       "    </tr>\n",
       "  </thead>\n",
       "  <tbody>\n",
       "    <tr>\n",
       "      <th>0</th>\n",
       "      <td>0</td>\n",
       "      <td>NaN</td>\n",
       "      <td>5</td>\n",
       "      <td>101</td>\n",
       "      <td>87.0</td>\n",
       "      <td>0</td>\n",
       "      <td>?</td>\n",
       "      <td>?</td>\n",
       "      <td>.</td>\n",
       "      <td>H</td>\n",
       "      <td>...</td>\n",
       "      <td>15.0</td>\n",
       "      <td>20.0</td>\n",
       "      <td>5.0</td>\n",
       "      <td>15.0</td>\n",
       "      <td>5</td>\n",
       "      <td>12</td>\n",
       "      <td>26</td>\n",
       "      <td>92</td>\n",
       "      <td>8.49</td>\n",
       "      <td>7</td>\n",
       "    </tr>\n",
       "    <tr>\n",
       "      <th>1</th>\n",
       "      <td>1</td>\n",
       "      <td>10.0</td>\n",
       "      <td>12</td>\n",
       "      <td>137</td>\n",
       "      <td>79.0</td>\n",
       "      <td>0</td>\n",
       "      <td>R</td>\n",
       "      <td>2</td>\n",
       "      <td>45</td>\n",
       "      <td>H</td>\n",
       "      <td>...</td>\n",
       "      <td>20.0</td>\n",
       "      <td>25.0</td>\n",
       "      <td>5.0</td>\n",
       "      <td>17.0</td>\n",
       "      <td>7</td>\n",
       "      <td>21</td>\n",
       "      <td>7</td>\n",
       "      <td>122</td>\n",
       "      <td>14.72</td>\n",
       "      <td>12</td>\n",
       "    </tr>\n",
       "    <tr>\n",
       "      <th>2</th>\n",
       "      <td>0</td>\n",
       "      <td>NaN</td>\n",
       "      <td>37</td>\n",
       "      <td>113</td>\n",
       "      <td>75.0</td>\n",
       "      <td>0</td>\n",
       "      <td>S</td>\n",
       "      <td>1</td>\n",
       "      <td>11</td>\n",
       "      <td>H</td>\n",
       "      <td>...</td>\n",
       "      <td>23.0</td>\n",
       "      <td>28.0</td>\n",
       "      <td>5.0</td>\n",
       "      <td>19.0</td>\n",
       "      <td>11</td>\n",
       "      <td>32</td>\n",
       "      <td>6</td>\n",
       "      <td>105</td>\n",
       "      <td>16.75</td>\n",
       "      <td>16</td>\n",
       "    </tr>\n",
       "    <tr>\n",
       "      <th>3</th>\n",
       "      <td>0</td>\n",
       "      <td>NaN</td>\n",
       "      <td>38</td>\n",
       "      <td>92</td>\n",
       "      <td>NaN</td>\n",
       "      <td>0</td>\n",
       "      <td>U</td>\n",
       "      <td>2</td>\n",
       "      <td>04</td>\n",
       "      <td>H</td>\n",
       "      <td>...</td>\n",
       "      <td>14.0</td>\n",
       "      <td>17.0</td>\n",
       "      <td>3.0</td>\n",
       "      <td>15.0</td>\n",
       "      <td>11</td>\n",
       "      <td>33</td>\n",
       "      <td>6</td>\n",
       "      <td>92</td>\n",
       "      <td>11.76</td>\n",
       "      <td>12</td>\n",
       "    </tr>\n",
       "    <tr>\n",
       "      <th>4</th>\n",
       "      <td>0</td>\n",
       "      <td>NaN</td>\n",
       "      <td>41</td>\n",
       "      <td>101</td>\n",
       "      <td>74.0</td>\n",
       "      <td>0</td>\n",
       "      <td>R</td>\n",
       "      <td>2</td>\n",
       "      <td>49</td>\n",
       "      <td>U</td>\n",
       "      <td>...</td>\n",
       "      <td>20.0</td>\n",
       "      <td>25.0</td>\n",
       "      <td>5.0</td>\n",
       "      <td>25.0</td>\n",
       "      <td>6</td>\n",
       "      <td>19</td>\n",
       "      <td>18</td>\n",
       "      <td>92</td>\n",
       "      <td>8.83</td>\n",
       "      <td>3</td>\n",
       "    </tr>\n",
       "  </tbody>\n",
       "</table>\n",
       "<p>5 rows × 50 columns</p>\n",
       "</div>"
      ],
      "text/plain": [
       "   TARGET_B  TARGET_D  CONTROL_NUMBER  MONTHS_SINCE_ORIGIN  DONOR_AGE  \\\n",
       "0         0       NaN               5                  101       87.0   \n",
       "1         1      10.0              12                  137       79.0   \n",
       "2         0       NaN              37                  113       75.0   \n",
       "3         0       NaN              38                   92        NaN   \n",
       "4         0       NaN              41                  101       74.0   \n",
       "\n",
       "   IN_HOUSE URBANICITY SES CLUSTER_CODE HOME_OWNER  ... LIFETIME_GIFT_RANGE  \\\n",
       "0         0          ?   ?            .          H  ...                15.0   \n",
       "1         0          R   2           45          H  ...                20.0   \n",
       "2         0          S   1           11          H  ...                23.0   \n",
       "3         0          U   2           04          H  ...                14.0   \n",
       "4         0          R   2           49          U  ...                20.0   \n",
       "\n",
       "   LIFETIME_MAX_GIFT_AMT  LIFETIME_MIN_GIFT_AMT LAST_GIFT_AMT  CARD_PROM_12  \\\n",
       "0                   20.0                    5.0          15.0             5   \n",
       "1                   25.0                    5.0          17.0             7   \n",
       "2                   28.0                    5.0          19.0            11   \n",
       "3                   17.0                    3.0          15.0            11   \n",
       "4                   25.0                    5.0          25.0             6   \n",
       "\n",
       "   NUMBER_PROM_12  MONTHS_SINCE_LAST_GIFT  MONTHS_SINCE_FIRST_GIFT  \\\n",
       "0              12                      26                       92   \n",
       "1              21                       7                      122   \n",
       "2              32                       6                      105   \n",
       "3              33                       6                       92   \n",
       "4              19                      18                       92   \n",
       "\n",
       "   FILE_AVG_GIFT  FILE_CARD_GIFT  \n",
       "0           8.49               7  \n",
       "1          14.72              12  \n",
       "2          16.75              16  \n",
       "3          11.76              12  \n",
       "4           8.83               3  \n",
       "\n",
       "[5 rows x 50 columns]"
      ]
     },
     "execution_count": 3,
     "metadata": {},
     "output_type": "execute_result"
    }
   ],
   "source": [
    "df.head()"
   ]
  },
  {
   "cell_type": "code",
   "execution_count": 4,
   "metadata": {},
   "outputs": [],
   "source": [
    "##converting the upper case features to lower class to make my eda easier\r\n",
    "\r\n",
    "df.columns = df.columns.str.lower()"
   ]
  },
  {
   "cell_type": "code",
   "execution_count": 5,
   "metadata": {},
   "outputs": [
    {
     "data": {
      "text/plain": [
       "['target_b',\n",
       " 'target_d',\n",
       " 'control_number',\n",
       " 'months_since_origin',\n",
       " 'donor_age',\n",
       " 'in_house',\n",
       " 'urbanicity',\n",
       " 'ses',\n",
       " 'cluster_code',\n",
       " 'home_owner',\n",
       " 'donor_gender',\n",
       " 'income_group',\n",
       " 'published_phone',\n",
       " 'overlay_source',\n",
       " 'mor_hit_rate',\n",
       " 'wealth_rating',\n",
       " 'median_home_value',\n",
       " 'median_household_income',\n",
       " 'pct_owner_occupied',\n",
       " 'per_capita_income',\n",
       " 'pct_attribute1',\n",
       " 'pct_attribute2',\n",
       " 'pct_attribute3',\n",
       " 'pct_attribute4',\n",
       " 'pep_star',\n",
       " 'recent_star_status',\n",
       " 'recency_status_96nk',\n",
       " 'frequency_status_97nk',\n",
       " 'recent_response_prop',\n",
       " 'recent_avg_gift_amt',\n",
       " 'recent_card_response_prop',\n",
       " 'recent_avg_card_gift_amt',\n",
       " 'recent_response_count',\n",
       " 'recent_card_response_count',\n",
       " 'months_since_last_prom_resp',\n",
       " 'lifetime_card_prom',\n",
       " 'lifetime_prom',\n",
       " 'lifetime_gift_amount',\n",
       " 'lifetime_gift_count',\n",
       " 'lifetime_avg_gift_amt',\n",
       " 'lifetime_gift_range',\n",
       " 'lifetime_max_gift_amt',\n",
       " 'lifetime_min_gift_amt',\n",
       " 'last_gift_amt',\n",
       " 'card_prom_12',\n",
       " 'number_prom_12',\n",
       " 'months_since_last_gift',\n",
       " 'months_since_first_gift',\n",
       " 'file_avg_gift',\n",
       " 'file_card_gift']"
      ]
     },
     "execution_count": 5,
     "metadata": {},
     "output_type": "execute_result"
    }
   ],
   "source": [
    "df.columns.to_list()"
   ]
  },
  {
   "cell_type": "markdown",
   "metadata": {},
   "source": [
    "# Data Cleaning and Exploratory Data Analysis"
   ]
  },
  {
   "cell_type": "code",
   "execution_count": 6,
   "metadata": {},
   "outputs": [
    {
     "name": "stdout",
     "output_type": "stream",
     "text": [
      "<class 'pandas.core.frame.DataFrame'>\n",
      "RangeIndex: 19372 entries, 0 to 19371\n",
      "Data columns (total 50 columns):\n",
      " #   Column                       Non-Null Count  Dtype  \n",
      "---  ------                       --------------  -----  \n",
      " 0   target_b                     19372 non-null  int64  \n",
      " 1   target_d                     4843 non-null   float64\n",
      " 2   control_number               19372 non-null  int64  \n",
      " 3   months_since_origin          19372 non-null  int64  \n",
      " 4   donor_age                    14577 non-null  float64\n",
      " 5   in_house                     19372 non-null  int64  \n",
      " 6   urbanicity                   19372 non-null  object \n",
      " 7   ses                          19372 non-null  object \n",
      " 8   cluster_code                 19372 non-null  object \n",
      " 9   home_owner                   19372 non-null  object \n",
      " 10  donor_gender                 19372 non-null  object \n",
      " 11  income_group                 14980 non-null  float64\n",
      " 12  published_phone              19372 non-null  int64  \n",
      " 13  overlay_source               19372 non-null  object \n",
      " 14  mor_hit_rate                 19372 non-null  int64  \n",
      " 15  wealth_rating                10562 non-null  float64\n",
      " 16  median_home_value            19372 non-null  int64  \n",
      " 17  median_household_income      19372 non-null  int64  \n",
      " 18  pct_owner_occupied           19372 non-null  int64  \n",
      " 19  per_capita_income            19372 non-null  int64  \n",
      " 20  pct_attribute1               19372 non-null  int64  \n",
      " 21  pct_attribute2               19372 non-null  int64  \n",
      " 22  pct_attribute3               19372 non-null  int64  \n",
      " 23  pct_attribute4               19372 non-null  int64  \n",
      " 24  pep_star                     19372 non-null  int64  \n",
      " 25  recent_star_status           19372 non-null  int64  \n",
      " 26  recency_status_96nk          19372 non-null  object \n",
      " 27  frequency_status_97nk        19372 non-null  int64  \n",
      " 28  recent_response_prop         19372 non-null  float64\n",
      " 29  recent_avg_gift_amt          19372 non-null  float64\n",
      " 30  recent_card_response_prop    19372 non-null  float64\n",
      " 31  recent_avg_card_gift_amt     19372 non-null  float64\n",
      " 32  recent_response_count        19372 non-null  int64  \n",
      " 33  recent_card_response_count   19372 non-null  int64  \n",
      " 34  months_since_last_prom_resp  19126 non-null  float64\n",
      " 35  lifetime_card_prom           19372 non-null  int64  \n",
      " 36  lifetime_prom                19372 non-null  int64  \n",
      " 37  lifetime_gift_amount         19372 non-null  float64\n",
      " 38  lifetime_gift_count          19372 non-null  int64  \n",
      " 39  lifetime_avg_gift_amt        19372 non-null  float64\n",
      " 40  lifetime_gift_range          19372 non-null  float64\n",
      " 41  lifetime_max_gift_amt        19372 non-null  float64\n",
      " 42  lifetime_min_gift_amt        19372 non-null  float64\n",
      " 43  last_gift_amt                19372 non-null  float64\n",
      " 44  card_prom_12                 19372 non-null  int64  \n",
      " 45  number_prom_12               19372 non-null  int64  \n",
      " 46  months_since_last_gift       19372 non-null  int64  \n",
      " 47  months_since_first_gift      19372 non-null  int64  \n",
      " 48  file_avg_gift                19372 non-null  float64\n",
      " 49  file_card_gift               19372 non-null  int64  \n",
      "dtypes: float64(16), int64(27), object(7)\n",
      "memory usage: 7.4+ MB\n"
     ]
    }
   ],
   "source": [
    "df.info()"
   ]
  },
  {
   "cell_type": "code",
   "execution_count": 7,
   "metadata": {},
   "outputs": [
    {
     "data": {
      "text/html": [
       "<div>\n",
       "<style scoped>\n",
       "    .dataframe tbody tr th:only-of-type {\n",
       "        vertical-align: middle;\n",
       "    }\n",
       "\n",
       "    .dataframe tbody tr th {\n",
       "        vertical-align: top;\n",
       "    }\n",
       "\n",
       "    .dataframe thead th {\n",
       "        text-align: right;\n",
       "    }\n",
       "</style>\n",
       "<table border=\"1\" class=\"dataframe\">\n",
       "  <thead>\n",
       "    <tr style=\"text-align: right;\">\n",
       "      <th></th>\n",
       "      <th>count</th>\n",
       "      <th>mean</th>\n",
       "      <th>std</th>\n",
       "      <th>min</th>\n",
       "      <th>25%</th>\n",
       "      <th>50%</th>\n",
       "      <th>75%</th>\n",
       "      <th>max</th>\n",
       "    </tr>\n",
       "  </thead>\n",
       "  <tbody>\n",
       "    <tr>\n",
       "      <th>target_b</th>\n",
       "      <td>19372.0</td>\n",
       "      <td>0.250000</td>\n",
       "      <td>0.433024</td>\n",
       "      <td>0.00</td>\n",
       "      <td>0.000</td>\n",
       "      <td>0.000</td>\n",
       "      <td>0.250</td>\n",
       "      <td>1.0</td>\n",
       "    </tr>\n",
       "    <tr>\n",
       "      <th>target_d</th>\n",
       "      <td>4843.0</td>\n",
       "      <td>15.624344</td>\n",
       "      <td>12.445137</td>\n",
       "      <td>1.00</td>\n",
       "      <td>10.000</td>\n",
       "      <td>13.000</td>\n",
       "      <td>20.000</td>\n",
       "      <td>200.0</td>\n",
       "    </tr>\n",
       "    <tr>\n",
       "      <th>control_number</th>\n",
       "      <td>19372.0</td>\n",
       "      <td>96546.225377</td>\n",
       "      <td>55830.643871</td>\n",
       "      <td>5.00</td>\n",
       "      <td>48289.000</td>\n",
       "      <td>96937.000</td>\n",
       "      <td>145429.500</td>\n",
       "      <td>191779.0</td>\n",
       "    </tr>\n",
       "    <tr>\n",
       "      <th>months_since_origin</th>\n",
       "      <td>19372.0</td>\n",
       "      <td>73.409973</td>\n",
       "      <td>41.255574</td>\n",
       "      <td>5.00</td>\n",
       "      <td>29.000</td>\n",
       "      <td>65.000</td>\n",
       "      <td>113.000</td>\n",
       "      <td>137.0</td>\n",
       "    </tr>\n",
       "    <tr>\n",
       "      <th>donor_age</th>\n",
       "      <td>14577.0</td>\n",
       "      <td>58.919051</td>\n",
       "      <td>16.669382</td>\n",
       "      <td>0.00</td>\n",
       "      <td>47.000</td>\n",
       "      <td>60.000</td>\n",
       "      <td>73.000</td>\n",
       "      <td>87.0</td>\n",
       "    </tr>\n",
       "    <tr>\n",
       "      <th>in_house</th>\n",
       "      <td>19372.0</td>\n",
       "      <td>0.073198</td>\n",
       "      <td>0.260469</td>\n",
       "      <td>0.00</td>\n",
       "      <td>0.000</td>\n",
       "      <td>0.000</td>\n",
       "      <td>0.000</td>\n",
       "      <td>1.0</td>\n",
       "    </tr>\n",
       "    <tr>\n",
       "      <th>income_group</th>\n",
       "      <td>14980.0</td>\n",
       "      <td>3.907543</td>\n",
       "      <td>1.864796</td>\n",
       "      <td>1.00</td>\n",
       "      <td>2.000</td>\n",
       "      <td>4.000</td>\n",
       "      <td>5.000</td>\n",
       "      <td>7.0</td>\n",
       "    </tr>\n",
       "    <tr>\n",
       "      <th>published_phone</th>\n",
       "      <td>19372.0</td>\n",
       "      <td>0.497729</td>\n",
       "      <td>0.500008</td>\n",
       "      <td>0.00</td>\n",
       "      <td>0.000</td>\n",
       "      <td>0.000</td>\n",
       "      <td>1.000</td>\n",
       "      <td>1.0</td>\n",
       "    </tr>\n",
       "    <tr>\n",
       "      <th>mor_hit_rate</th>\n",
       "      <td>19372.0</td>\n",
       "      <td>3.361656</td>\n",
       "      <td>9.503481</td>\n",
       "      <td>0.00</td>\n",
       "      <td>0.000</td>\n",
       "      <td>0.000</td>\n",
       "      <td>3.000</td>\n",
       "      <td>241.0</td>\n",
       "    </tr>\n",
       "    <tr>\n",
       "      <th>wealth_rating</th>\n",
       "      <td>10562.0</td>\n",
       "      <td>5.005397</td>\n",
       "      <td>2.815386</td>\n",
       "      <td>0.00</td>\n",
       "      <td>3.000</td>\n",
       "      <td>5.000</td>\n",
       "      <td>7.000</td>\n",
       "      <td>9.0</td>\n",
       "    </tr>\n",
       "    <tr>\n",
       "      <th>median_home_value</th>\n",
       "      <td>19372.0</td>\n",
       "      <td>1079.871929</td>\n",
       "      <td>960.753448</td>\n",
       "      <td>0.00</td>\n",
       "      <td>518.000</td>\n",
       "      <td>747.000</td>\n",
       "      <td>1227.000</td>\n",
       "      <td>6000.0</td>\n",
       "    </tr>\n",
       "    <tr>\n",
       "      <th>median_household_income</th>\n",
       "      <td>19372.0</td>\n",
       "      <td>341.970215</td>\n",
       "      <td>164.207807</td>\n",
       "      <td>0.00</td>\n",
       "      <td>232.000</td>\n",
       "      <td>311.000</td>\n",
       "      <td>417.000</td>\n",
       "      <td>1500.0</td>\n",
       "    </tr>\n",
       "    <tr>\n",
       "      <th>pct_owner_occupied</th>\n",
       "      <td>19372.0</td>\n",
       "      <td>69.698999</td>\n",
       "      <td>21.711019</td>\n",
       "      <td>0.00</td>\n",
       "      <td>60.000</td>\n",
       "      <td>76.000</td>\n",
       "      <td>85.000</td>\n",
       "      <td>99.0</td>\n",
       "    </tr>\n",
       "    <tr>\n",
       "      <th>per_capita_income</th>\n",
       "      <td>19372.0</td>\n",
       "      <td>15857.334452</td>\n",
       "      <td>8710.630390</td>\n",
       "      <td>0.00</td>\n",
       "      <td>10869.000</td>\n",
       "      <td>13816.500</td>\n",
       "      <td>18308.250</td>\n",
       "      <td>174523.0</td>\n",
       "    </tr>\n",
       "    <tr>\n",
       "      <th>pct_attribute1</th>\n",
       "      <td>19372.0</td>\n",
       "      <td>1.029011</td>\n",
       "      <td>4.918297</td>\n",
       "      <td>0.00</td>\n",
       "      <td>0.000</td>\n",
       "      <td>0.000</td>\n",
       "      <td>0.000</td>\n",
       "      <td>97.0</td>\n",
       "    </tr>\n",
       "    <tr>\n",
       "      <th>pct_attribute2</th>\n",
       "      <td>19372.0</td>\n",
       "      <td>30.573921</td>\n",
       "      <td>11.421471</td>\n",
       "      <td>0.00</td>\n",
       "      <td>25.000</td>\n",
       "      <td>31.000</td>\n",
       "      <td>37.000</td>\n",
       "      <td>99.0</td>\n",
       "    </tr>\n",
       "    <tr>\n",
       "      <th>pct_attribute3</th>\n",
       "      <td>19372.0</td>\n",
       "      <td>29.603293</td>\n",
       "      <td>15.120360</td>\n",
       "      <td>0.00</td>\n",
       "      <td>20.000</td>\n",
       "      <td>29.000</td>\n",
       "      <td>39.000</td>\n",
       "      <td>99.0</td>\n",
       "    </tr>\n",
       "    <tr>\n",
       "      <th>pct_attribute4</th>\n",
       "      <td>19372.0</td>\n",
       "      <td>32.852467</td>\n",
       "      <td>17.839765</td>\n",
       "      <td>0.00</td>\n",
       "      <td>21.000</td>\n",
       "      <td>32.000</td>\n",
       "      <td>43.000</td>\n",
       "      <td>99.0</td>\n",
       "    </tr>\n",
       "    <tr>\n",
       "      <th>pep_star</th>\n",
       "      <td>19372.0</td>\n",
       "      <td>0.504439</td>\n",
       "      <td>0.499993</td>\n",
       "      <td>0.00</td>\n",
       "      <td>0.000</td>\n",
       "      <td>1.000</td>\n",
       "      <td>1.000</td>\n",
       "      <td>1.0</td>\n",
       "    </tr>\n",
       "    <tr>\n",
       "      <th>recent_star_status</th>\n",
       "      <td>19372.0</td>\n",
       "      <td>0.931138</td>\n",
       "      <td>2.545585</td>\n",
       "      <td>0.00</td>\n",
       "      <td>0.000</td>\n",
       "      <td>0.000</td>\n",
       "      <td>1.000</td>\n",
       "      <td>22.0</td>\n",
       "    </tr>\n",
       "    <tr>\n",
       "      <th>frequency_status_97nk</th>\n",
       "      <td>19372.0</td>\n",
       "      <td>1.983998</td>\n",
       "      <td>1.099346</td>\n",
       "      <td>1.00</td>\n",
       "      <td>1.000</td>\n",
       "      <td>2.000</td>\n",
       "      <td>3.000</td>\n",
       "      <td>4.0</td>\n",
       "    </tr>\n",
       "    <tr>\n",
       "      <th>recent_response_prop</th>\n",
       "      <td>19372.0</td>\n",
       "      <td>0.190127</td>\n",
       "      <td>0.113947</td>\n",
       "      <td>0.00</td>\n",
       "      <td>0.105</td>\n",
       "      <td>0.167</td>\n",
       "      <td>0.250</td>\n",
       "      <td>1.0</td>\n",
       "    </tr>\n",
       "    <tr>\n",
       "      <th>recent_avg_gift_amt</th>\n",
       "      <td>19372.0</td>\n",
       "      <td>15.365396</td>\n",
       "      <td>10.167485</td>\n",
       "      <td>0.00</td>\n",
       "      <td>10.000</td>\n",
       "      <td>14.000</td>\n",
       "      <td>20.000</td>\n",
       "      <td>260.0</td>\n",
       "    </tr>\n",
       "    <tr>\n",
       "      <th>recent_card_response_prop</th>\n",
       "      <td>19372.0</td>\n",
       "      <td>0.230808</td>\n",
       "      <td>0.186230</td>\n",
       "      <td>0.00</td>\n",
       "      <td>0.100</td>\n",
       "      <td>0.200</td>\n",
       "      <td>0.333</td>\n",
       "      <td>1.0</td>\n",
       "    </tr>\n",
       "    <tr>\n",
       "      <th>recent_avg_card_gift_amt</th>\n",
       "      <td>19372.0</td>\n",
       "      <td>11.685470</td>\n",
       "      <td>10.834120</td>\n",
       "      <td>0.00</td>\n",
       "      <td>5.000</td>\n",
       "      <td>10.140</td>\n",
       "      <td>16.000</td>\n",
       "      <td>300.0</td>\n",
       "    </tr>\n",
       "    <tr>\n",
       "      <th>recent_response_count</th>\n",
       "      <td>19372.0</td>\n",
       "      <td>3.043103</td>\n",
       "      <td>2.046401</td>\n",
       "      <td>0.00</td>\n",
       "      <td>2.000</td>\n",
       "      <td>3.000</td>\n",
       "      <td>4.000</td>\n",
       "      <td>16.0</td>\n",
       "    </tr>\n",
       "    <tr>\n",
       "      <th>recent_card_response_count</th>\n",
       "      <td>19372.0</td>\n",
       "      <td>1.730539</td>\n",
       "      <td>1.535521</td>\n",
       "      <td>0.00</td>\n",
       "      <td>1.000</td>\n",
       "      <td>1.000</td>\n",
       "      <td>2.000</td>\n",
       "      <td>9.0</td>\n",
       "    </tr>\n",
       "    <tr>\n",
       "      <th>months_since_last_prom_resp</th>\n",
       "      <td>19126.0</td>\n",
       "      <td>19.038900</td>\n",
       "      <td>3.415559</td>\n",
       "      <td>-12.00</td>\n",
       "      <td>17.000</td>\n",
       "      <td>18.000</td>\n",
       "      <td>21.000</td>\n",
       "      <td>36.0</td>\n",
       "    </tr>\n",
       "    <tr>\n",
       "      <th>lifetime_card_prom</th>\n",
       "      <td>19372.0</td>\n",
       "      <td>18.668078</td>\n",
       "      <td>8.558778</td>\n",
       "      <td>2.00</td>\n",
       "      <td>11.000</td>\n",
       "      <td>18.000</td>\n",
       "      <td>26.000</td>\n",
       "      <td>56.0</td>\n",
       "    </tr>\n",
       "    <tr>\n",
       "      <th>lifetime_prom</th>\n",
       "      <td>19372.0</td>\n",
       "      <td>47.570514</td>\n",
       "      <td>22.950158</td>\n",
       "      <td>5.00</td>\n",
       "      <td>28.000</td>\n",
       "      <td>47.000</td>\n",
       "      <td>64.000</td>\n",
       "      <td>194.0</td>\n",
       "    </tr>\n",
       "    <tr>\n",
       "      <th>lifetime_gift_amount</th>\n",
       "      <td>19372.0</td>\n",
       "      <td>104.425716</td>\n",
       "      <td>105.722460</td>\n",
       "      <td>15.00</td>\n",
       "      <td>42.000</td>\n",
       "      <td>79.000</td>\n",
       "      <td>132.000</td>\n",
       "      <td>3775.0</td>\n",
       "    </tr>\n",
       "    <tr>\n",
       "      <th>lifetime_gift_count</th>\n",
       "      <td>19372.0</td>\n",
       "      <td>9.979765</td>\n",
       "      <td>8.688163</td>\n",
       "      <td>1.00</td>\n",
       "      <td>4.000</td>\n",
       "      <td>8.000</td>\n",
       "      <td>14.000</td>\n",
       "      <td>95.0</td>\n",
       "    </tr>\n",
       "    <tr>\n",
       "      <th>lifetime_avg_gift_amt</th>\n",
       "      <td>19372.0</td>\n",
       "      <td>12.858338</td>\n",
       "      <td>8.787758</td>\n",
       "      <td>1.36</td>\n",
       "      <td>8.000</td>\n",
       "      <td>11.200</td>\n",
       "      <td>15.000</td>\n",
       "      <td>450.0</td>\n",
       "    </tr>\n",
       "    <tr>\n",
       "      <th>lifetime_gift_range</th>\n",
       "      <td>19372.0</td>\n",
       "      <td>11.587876</td>\n",
       "      <td>15.116893</td>\n",
       "      <td>0.00</td>\n",
       "      <td>5.000</td>\n",
       "      <td>10.000</td>\n",
       "      <td>15.000</td>\n",
       "      <td>997.0</td>\n",
       "    </tr>\n",
       "    <tr>\n",
       "      <th>lifetime_max_gift_amt</th>\n",
       "      <td>19372.0</td>\n",
       "      <td>19.208808</td>\n",
       "      <td>16.101128</td>\n",
       "      <td>5.00</td>\n",
       "      <td>12.000</td>\n",
       "      <td>16.000</td>\n",
       "      <td>21.000</td>\n",
       "      <td>1000.0</td>\n",
       "    </tr>\n",
       "    <tr>\n",
       "      <th>lifetime_min_gift_amt</th>\n",
       "      <td>19372.0</td>\n",
       "      <td>7.620932</td>\n",
       "      <td>7.959786</td>\n",
       "      <td>0.00</td>\n",
       "      <td>3.000</td>\n",
       "      <td>5.000</td>\n",
       "      <td>10.000</td>\n",
       "      <td>450.0</td>\n",
       "    </tr>\n",
       "    <tr>\n",
       "      <th>last_gift_amt</th>\n",
       "      <td>19372.0</td>\n",
       "      <td>16.584199</td>\n",
       "      <td>11.977558</td>\n",
       "      <td>0.00</td>\n",
       "      <td>10.000</td>\n",
       "      <td>15.000</td>\n",
       "      <td>20.000</td>\n",
       "      <td>450.0</td>\n",
       "    </tr>\n",
       "    <tr>\n",
       "      <th>card_prom_12</th>\n",
       "      <td>19372.0</td>\n",
       "      <td>5.367128</td>\n",
       "      <td>1.264205</td>\n",
       "      <td>0.00</td>\n",
       "      <td>5.000</td>\n",
       "      <td>6.000</td>\n",
       "      <td>6.000</td>\n",
       "      <td>17.0</td>\n",
       "    </tr>\n",
       "    <tr>\n",
       "      <th>number_prom_12</th>\n",
       "      <td>19372.0</td>\n",
       "      <td>12.901869</td>\n",
       "      <td>4.642072</td>\n",
       "      <td>2.00</td>\n",
       "      <td>11.000</td>\n",
       "      <td>12.000</td>\n",
       "      <td>13.000</td>\n",
       "      <td>64.0</td>\n",
       "    </tr>\n",
       "    <tr>\n",
       "      <th>months_since_last_gift</th>\n",
       "      <td>19372.0</td>\n",
       "      <td>18.191152</td>\n",
       "      <td>4.033065</td>\n",
       "      <td>4.00</td>\n",
       "      <td>16.000</td>\n",
       "      <td>18.000</td>\n",
       "      <td>20.000</td>\n",
       "      <td>27.0</td>\n",
       "    </tr>\n",
       "    <tr>\n",
       "      <th>months_since_first_gift</th>\n",
       "      <td>19372.0</td>\n",
       "      <td>69.482088</td>\n",
       "      <td>37.568169</td>\n",
       "      <td>15.00</td>\n",
       "      <td>33.000</td>\n",
       "      <td>65.000</td>\n",
       "      <td>105.000</td>\n",
       "      <td>260.0</td>\n",
       "    </tr>\n",
       "    <tr>\n",
       "      <th>file_avg_gift</th>\n",
       "      <td>19372.0</td>\n",
       "      <td>12.858338</td>\n",
       "      <td>8.787758</td>\n",
       "      <td>1.36</td>\n",
       "      <td>8.000</td>\n",
       "      <td>11.200</td>\n",
       "      <td>15.000</td>\n",
       "      <td>450.0</td>\n",
       "    </tr>\n",
       "    <tr>\n",
       "      <th>file_card_gift</th>\n",
       "      <td>19372.0</td>\n",
       "      <td>5.273591</td>\n",
       "      <td>4.607063</td>\n",
       "      <td>0.00</td>\n",
       "      <td>2.000</td>\n",
       "      <td>4.000</td>\n",
       "      <td>8.000</td>\n",
       "      <td>41.0</td>\n",
       "    </tr>\n",
       "  </tbody>\n",
       "</table>\n",
       "</div>"
      ],
      "text/plain": [
       "                               count          mean           std    min  \\\n",
       "target_b                     19372.0      0.250000      0.433024   0.00   \n",
       "target_d                      4843.0     15.624344     12.445137   1.00   \n",
       "control_number               19372.0  96546.225377  55830.643871   5.00   \n",
       "months_since_origin          19372.0     73.409973     41.255574   5.00   \n",
       "donor_age                    14577.0     58.919051     16.669382   0.00   \n",
       "in_house                     19372.0      0.073198      0.260469   0.00   \n",
       "income_group                 14980.0      3.907543      1.864796   1.00   \n",
       "published_phone              19372.0      0.497729      0.500008   0.00   \n",
       "mor_hit_rate                 19372.0      3.361656      9.503481   0.00   \n",
       "wealth_rating                10562.0      5.005397      2.815386   0.00   \n",
       "median_home_value            19372.0   1079.871929    960.753448   0.00   \n",
       "median_household_income      19372.0    341.970215    164.207807   0.00   \n",
       "pct_owner_occupied           19372.0     69.698999     21.711019   0.00   \n",
       "per_capita_income            19372.0  15857.334452   8710.630390   0.00   \n",
       "pct_attribute1               19372.0      1.029011      4.918297   0.00   \n",
       "pct_attribute2               19372.0     30.573921     11.421471   0.00   \n",
       "pct_attribute3               19372.0     29.603293     15.120360   0.00   \n",
       "pct_attribute4               19372.0     32.852467     17.839765   0.00   \n",
       "pep_star                     19372.0      0.504439      0.499993   0.00   \n",
       "recent_star_status           19372.0      0.931138      2.545585   0.00   \n",
       "frequency_status_97nk        19372.0      1.983998      1.099346   1.00   \n",
       "recent_response_prop         19372.0      0.190127      0.113947   0.00   \n",
       "recent_avg_gift_amt          19372.0     15.365396     10.167485   0.00   \n",
       "recent_card_response_prop    19372.0      0.230808      0.186230   0.00   \n",
       "recent_avg_card_gift_amt     19372.0     11.685470     10.834120   0.00   \n",
       "recent_response_count        19372.0      3.043103      2.046401   0.00   \n",
       "recent_card_response_count   19372.0      1.730539      1.535521   0.00   \n",
       "months_since_last_prom_resp  19126.0     19.038900      3.415559 -12.00   \n",
       "lifetime_card_prom           19372.0     18.668078      8.558778   2.00   \n",
       "lifetime_prom                19372.0     47.570514     22.950158   5.00   \n",
       "lifetime_gift_amount         19372.0    104.425716    105.722460  15.00   \n",
       "lifetime_gift_count          19372.0      9.979765      8.688163   1.00   \n",
       "lifetime_avg_gift_amt        19372.0     12.858338      8.787758   1.36   \n",
       "lifetime_gift_range          19372.0     11.587876     15.116893   0.00   \n",
       "lifetime_max_gift_amt        19372.0     19.208808     16.101128   5.00   \n",
       "lifetime_min_gift_amt        19372.0      7.620932      7.959786   0.00   \n",
       "last_gift_amt                19372.0     16.584199     11.977558   0.00   \n",
       "card_prom_12                 19372.0      5.367128      1.264205   0.00   \n",
       "number_prom_12               19372.0     12.901869      4.642072   2.00   \n",
       "months_since_last_gift       19372.0     18.191152      4.033065   4.00   \n",
       "months_since_first_gift      19372.0     69.482088     37.568169  15.00   \n",
       "file_avg_gift                19372.0     12.858338      8.787758   1.36   \n",
       "file_card_gift               19372.0      5.273591      4.607063   0.00   \n",
       "\n",
       "                                   25%        50%         75%       max  \n",
       "target_b                         0.000      0.000       0.250       1.0  \n",
       "target_d                        10.000     13.000      20.000     200.0  \n",
       "control_number               48289.000  96937.000  145429.500  191779.0  \n",
       "months_since_origin             29.000     65.000     113.000     137.0  \n",
       "donor_age                       47.000     60.000      73.000      87.0  \n",
       "in_house                         0.000      0.000       0.000       1.0  \n",
       "income_group                     2.000      4.000       5.000       7.0  \n",
       "published_phone                  0.000      0.000       1.000       1.0  \n",
       "mor_hit_rate                     0.000      0.000       3.000     241.0  \n",
       "wealth_rating                    3.000      5.000       7.000       9.0  \n",
       "median_home_value              518.000    747.000    1227.000    6000.0  \n",
       "median_household_income        232.000    311.000     417.000    1500.0  \n",
       "pct_owner_occupied              60.000     76.000      85.000      99.0  \n",
       "per_capita_income            10869.000  13816.500   18308.250  174523.0  \n",
       "pct_attribute1                   0.000      0.000       0.000      97.0  \n",
       "pct_attribute2                  25.000     31.000      37.000      99.0  \n",
       "pct_attribute3                  20.000     29.000      39.000      99.0  \n",
       "pct_attribute4                  21.000     32.000      43.000      99.0  \n",
       "pep_star                         0.000      1.000       1.000       1.0  \n",
       "recent_star_status               0.000      0.000       1.000      22.0  \n",
       "frequency_status_97nk            1.000      2.000       3.000       4.0  \n",
       "recent_response_prop             0.105      0.167       0.250       1.0  \n",
       "recent_avg_gift_amt             10.000     14.000      20.000     260.0  \n",
       "recent_card_response_prop        0.100      0.200       0.333       1.0  \n",
       "recent_avg_card_gift_amt         5.000     10.140      16.000     300.0  \n",
       "recent_response_count            2.000      3.000       4.000      16.0  \n",
       "recent_card_response_count       1.000      1.000       2.000       9.0  \n",
       "months_since_last_prom_resp     17.000     18.000      21.000      36.0  \n",
       "lifetime_card_prom              11.000     18.000      26.000      56.0  \n",
       "lifetime_prom                   28.000     47.000      64.000     194.0  \n",
       "lifetime_gift_amount            42.000     79.000     132.000    3775.0  \n",
       "lifetime_gift_count              4.000      8.000      14.000      95.0  \n",
       "lifetime_avg_gift_amt            8.000     11.200      15.000     450.0  \n",
       "lifetime_gift_range              5.000     10.000      15.000     997.0  \n",
       "lifetime_max_gift_amt           12.000     16.000      21.000    1000.0  \n",
       "lifetime_min_gift_amt            3.000      5.000      10.000     450.0  \n",
       "last_gift_amt                   10.000     15.000      20.000     450.0  \n",
       "card_prom_12                     5.000      6.000       6.000      17.0  \n",
       "number_prom_12                  11.000     12.000      13.000      64.0  \n",
       "months_since_last_gift          16.000     18.000      20.000      27.0  \n",
       "months_since_first_gift         33.000     65.000     105.000     260.0  \n",
       "file_avg_gift                    8.000     11.200      15.000     450.0  \n",
       "file_card_gift                   2.000      4.000       8.000      41.0  "
      ]
     },
     "execution_count": 7,
     "metadata": {},
     "output_type": "execute_result"
    }
   ],
   "source": [
    "df.describe().T"
   ]
  },
  {
   "cell_type": "code",
   "execution_count": 8,
   "metadata": {},
   "outputs": [
    {
     "data": {
      "text/plain": [
       "target_b                           0\n",
       "target_d                       14529\n",
       "control_number                     0\n",
       "months_since_origin                0\n",
       "donor_age                       4795\n",
       "in_house                           0\n",
       "urbanicity                         0\n",
       "ses                                0\n",
       "cluster_code                       0\n",
       "home_owner                         0\n",
       "donor_gender                       0\n",
       "income_group                    4392\n",
       "published_phone                    0\n",
       "overlay_source                     0\n",
       "mor_hit_rate                       0\n",
       "wealth_rating                   8810\n",
       "median_home_value                  0\n",
       "median_household_income            0\n",
       "pct_owner_occupied                 0\n",
       "per_capita_income                  0\n",
       "pct_attribute1                     0\n",
       "pct_attribute2                     0\n",
       "pct_attribute3                     0\n",
       "pct_attribute4                     0\n",
       "pep_star                           0\n",
       "recent_star_status                 0\n",
       "recency_status_96nk                0\n",
       "frequency_status_97nk              0\n",
       "recent_response_prop               0\n",
       "recent_avg_gift_amt                0\n",
       "recent_card_response_prop          0\n",
       "recent_avg_card_gift_amt           0\n",
       "recent_response_count              0\n",
       "recent_card_response_count         0\n",
       "months_since_last_prom_resp      246\n",
       "lifetime_card_prom                 0\n",
       "lifetime_prom                      0\n",
       "lifetime_gift_amount               0\n",
       "lifetime_gift_count                0\n",
       "lifetime_avg_gift_amt              0\n",
       "lifetime_gift_range                0\n",
       "lifetime_max_gift_amt              0\n",
       "lifetime_min_gift_amt              0\n",
       "last_gift_amt                      0\n",
       "card_prom_12                       0\n",
       "number_prom_12                     0\n",
       "months_since_last_gift             0\n",
       "months_since_first_gift            0\n",
       "file_avg_gift                      0\n",
       "file_card_gift                     0\n",
       "dtype: int64"
      ]
     },
     "execution_count": 8,
     "metadata": {},
     "output_type": "execute_result"
    }
   ],
   "source": [
    "df.isnull().sum()"
   ]
  },
  {
   "cell_type": "code",
   "execution_count": 9,
   "metadata": {},
   "outputs": [
    {
     "data": {
      "text/plain": [
       "10.00     941\n",
       "15.00     591\n",
       "20.00     577\n",
       "5.00      503\n",
       "25.00     392\n",
       "         ... \n",
       "16.87       1\n",
       "101.00      1\n",
       "13.92       1\n",
       "5.25        1\n",
       "55.00       1\n",
       "Name: target_d, Length: 70, dtype: int64"
      ]
     },
     "execution_count": 9,
     "metadata": {},
     "output_type": "execute_result"
    }
   ],
   "source": [
    "df['target_d'].value_counts()"
   ]
  },
  {
   "cell_type": "markdown",
   "metadata": {},
   "source": [
    "#### Looking at the missing values from the target_d column, it is observed that the values with nan are values from people who didn't donate. Rather that using nan, I will be substituing nan as 0 as those who didn't donate also gave $0 "
   ]
  },
  {
   "cell_type": "code",
   "execution_count": 10,
   "metadata": {},
   "outputs": [],
   "source": [
    "df['target_d'] = df['target_d'].replace(np.nan, 0)"
   ]
  },
  {
   "cell_type": "code",
   "execution_count": 11,
   "metadata": {},
   "outputs": [
    {
     "data": {
      "text/plain": [
       "(19372, 50)"
      ]
     },
     "execution_count": 11,
     "metadata": {},
     "output_type": "execute_result"
    }
   ],
   "source": [
    "df.shape"
   ]
  },
  {
   "cell_type": "code",
   "execution_count": 12,
   "metadata": {},
   "outputs": [
    {
     "name": "stdout",
     "output_type": "stream",
     "text": [
      "target_b\n",
      "2\n",
      "[0 1]\n",
      "\n",
      "\n",
      "target_d\n",
      "71\n",
      "[  0.    10.     5.    16.     3.    12.     8.    15.    33.    20.\n",
      "  25.    35.     2.    11.    18.    40.    21.    32.    30.    14.\n",
      "  24.    50.    12.5    7.     9.     4.     6.    28.    13.    17.\n",
      "  27.    36.    22.    23.    31.    19.    48.    75.   100.    47.\n",
      "  44.    95.     1.   102.   101.    34.    10.7   60.    45.    26.\n",
      "  17.5   16.87  38.    41.   200.    37.    18.25  29.    51.    46.\n",
      "  42.     2.5   43.    53.     7.5    5.25  55.     4.5   44.21  13.92\n",
      " 150.  ]\n",
      "\n",
      "\n",
      "control_number\n",
      "19372\n",
      "[     5     12     37 ... 191746 191775 191779]\n",
      "\n",
      "\n",
      "months_since_origin\n",
      "28\n",
      "[101 137 113  92  89 125  77  65  17  53  41   5  29  19  21 122 127 124\n",
      "  57 134  54 130  32 115  67 119  40 129]\n",
      "\n",
      "\n",
      "donor_age\n",
      "80\n",
      "[87. 79. 75. nan 74. 63. 71. 41. 73. 81. 76. 69. 45. 43. 55. 77. 37. 52.\n",
      " 30. 67. 65. 59. 42. 58. 56. 80. 82. 64. 48. 85. 47. 70. 40. 32. 53. 86.\n",
      " 54. 33. 60. 49.  7. 17. 57. 78. 50. 39. 66. 51. 72. 38. 61. 68. 24. 16.\n",
      " 84. 44. 34. 83. 35. 29. 26. 27. 46. 31. 62. 23. 36. 18.  6. 25. 28. 19.\n",
      " 21. 22.  0.  2. 12. 20. 15.  4. 14.]\n",
      "\n",
      "\n",
      "in_house\n",
      "2\n",
      "[0 1]\n",
      "\n",
      "\n",
      "urbanicity\n",
      "6\n",
      "['?' 'R' 'S' 'U' 'C' 'T']\n",
      "\n",
      "\n",
      "ses\n",
      "5\n",
      "['?' '2' '1' '3' '4']\n",
      "\n",
      "\n",
      "cluster_code\n",
      "54\n",
      "[' .' '45' '11' '04' '49' '08' '50' '28' '30' '43' '53' '42' '46' '20'\n",
      " '16' '40' '07' '34' '23' '35' '41' '25' '10' '01' '09' '02' '12' '14'\n",
      " '37' '36' '15' '39' '38' '18' '48' '24' '03' '13' '31' '05' '27' '19'\n",
      " '51' '22' '17' '26' '21' '44' '06' '29' '33' '47' '32' '52']\n",
      "\n",
      "\n",
      "home_owner\n",
      "2\n",
      "['H' 'U']\n",
      "\n",
      "\n",
      "donor_gender\n",
      "4\n",
      "['M' 'F' 'U' 'A']\n",
      "\n",
      "\n",
      "income_group\n",
      "7\n",
      "[ 2.  7.  5.  6.  3.  1.  4. nan]\n",
      "\n",
      "\n",
      "published_phone\n",
      "2\n",
      "[0 1]\n",
      "\n",
      "\n",
      "overlay_source\n",
      "4\n",
      "['P' 'B' 'N' 'M']\n",
      "\n",
      "\n",
      "mor_hit_rate\n",
      "65\n",
      "[  0   8  17  24   7  32   4   6  10  11   1   2  12  15  18   3  13  14\n",
      "  23  38   5  19  20  16  25   9  51  33  30  28  29  27  21 240  26  22\n",
      "  31  47  55  49  42  53  34  61  44  39  50  45  36  43  37  35  48  59\n",
      "  40  75  58  41  56  64  60  65  46  57 241]\n",
      "\n",
      "\n",
      "wealth_rating\n",
      "10\n",
      "[nan  3.  9.  4.  5.  7.  2.  1.  6.  0.  8.]\n",
      "\n",
      "\n",
      "median_home_value\n",
      "3130\n",
      "[ 554  334 2388 ... 3715 2143 2288]\n",
      "\n",
      "\n",
      "median_household_income\n",
      "924\n",
      "[ 294  212  405  153  328  182  122  189  180  307  179  163  256  219\n",
      "  227  299  236  255  240  340  387  450  358  222  152  331  327  297\n",
      "  544  301  117 1375  402  221  133  485  375  162  521  413  594  408\n",
      "  199  318   91  325  218  225  282  525  909  192  436  200  582  564\n",
      "  454  161  223  343  377  281  362  296  337  534  105  665  507  495\n",
      "  369  342  695  578  344  214  550  269  417  232  298  304  539  352\n",
      "  146  404  286  471  178  703  253  392  290  196  483  279  395  354\n",
      "  239  349  233  584  773  207  142  430  315  314  250  197  583  814\n",
      "  333  437  931  198  380  403  613  498  330  423  473  288  426    0\n",
      "  203  462  309  263  397  259  537  599  441  618  504  247  475  759\n",
      "  266  459  190  418  421  466  568  976  632  542  176  509  776 1500\n",
      "  346  114 1386  241  188 1103  265  427  308  648  786  260  131  157\n",
      "  244  517  489  429  363  326  262  186  305  615  370  394  355  558\n",
      "  379  735  591  381  243  258  193  538  217  224  285  274  373  366\n",
      "  411  209  488  332  251  336  412  280  479  611  549  400  230  817\n",
      "  170  175  374  195  406  323  574  302  524  292  319  633  425  278\n",
      "  338  205  257  474  514  422  185  322  103  371  160  451  320  388\n",
      "  321  210  303  306  367   50  234  238  416  245  324  391  108  165\n",
      "  202  491  213  368   76  434  383  216  215  148  432  284  647  552\n",
      "  112  965  169  467  562  360  341  293   74  386  334  228  289  300\n",
      "  277  396  287  546  661  522  276  137  235  144  145  614  484 1068\n",
      "  271  642  668  445  439  610  444   93  555  778  862  766  138  527\n",
      "  310  398  420  273  335  453  267  313  242  345  616  248  291  155\n",
      "  687 1033  125  249  168  173  523  329  655  204  191  493  351  353\n",
      "  551  585  461  159  589  486  801  660  676 1060  807  100  442  440\n",
      "  871  382  226  201  653  171  643  136  272  134  496  295  364  508\n",
      "  424  167  619  772  446  359  365  598  732  511  126  220  575  174\n",
      "  528  264  254  576  208  827 1178  603  311  410  357  510  433  237\n",
      "  147  587  252  520  701  581  637  472  490  983  419  393  770  246\n",
      "  884  460  689  478  779  592  231  384  206  376  468  283  502  158\n",
      "  261  229  515 1330   97  130  183  662  443  811  458  385  166  118\n",
      "  127   55  211  164 1490  953  317  275  547  187  143  177  573   83\n",
      "  516  692  579  316  414  356  723  456  378  110  455  111  499  194\n",
      "  415  407  449  465  181  270  469 1122  556  428  593  645  140  634\n",
      "  503  787  595  500  312  389  541  184  464  752  399  791  565 1200\n",
      "  566  563  559  629  545  268  560  631  348  553  470  750  680  401\n",
      "  463  937 1012  644  749  691  476  156  104  150  339  740  494  601\n",
      "  737  361  721  350  840  677  671  609  540  569  141  628  482  519\n",
      "  535  532  674  480 1036  739  518  121  372  649  753 1144  781  664\n",
      "  457  783  438  149   84  501  667  709  513  715  543  658  390  128\n",
      "   73  755  984  481  347  452   79  409  622  505  580  132  577  123\n",
      "  908  530  608  651  713   70  905  435  512  533  572  625  172   61\n",
      "  431  767  620  497  612  726  670  526  794  717  154  477  722  641\n",
      "  605  506  531 1148 1008   96 1157 1263  982 1121 1090  978  646  487\n",
      "   68  673  630  719  151   89  724  764   57  135  119   95  570  672\n",
      "  780  124  846  602  640  711  675  682   58   99 1022   87  856  716\n",
      "  107  696  607  693  685  115  116  704 1067  448   85   98  729  736\n",
      "   72  529  129 1273  586  744   92   63  447   77  139  627   88 1488\n",
      "  621   90 1236  683   78  588  536   86  567  635  109  881  849  821\n",
      "  853  733   80  788  697  943  606  818  762  738  548  792  914  841\n",
      "  712  557  638   69   67 1275  897  492  624  669  597   52  113  923\n",
      "  652 1351  956 1028  777  920  844  800  623 1376  771  654  785  809\n",
      "  829  988  686 1198  617  742  102  120  571   75  699  561  873  600\n",
      "  596  710  554 1107 1035  761  891  869  636  901  656 1196  815  702\n",
      "  639  964  805  604  679 1159 1024 1151  706  760 1047  768  694  878\n",
      " 1245  913  754   54  688   56 1073   94   71   60  867   81  590  833\n",
      " 1339   62  714   65  907   82  823  933  101   53  911  730 1029  789\n",
      "  705  650  796   64  708  684  992  758 1358 1211  659 1086  681  808\n",
      "  906 1162  806 1085  866  745  751  927  756 1109  925  980 1287  798\n",
      "  626  993  700 1299  774  828 1329 1357  852 1395 1285  816 1184 1120\n",
      "  845  727 1019  810 1006  912  698  769  870  887  981 1054  837  663\n",
      " 1023  813  960  678 1091  830  799  865  842 1092 1289 1130  850  882\n",
      "  952 1062  106  763  666 1013 1096 1083  922 1016 1017  725  720 1040\n",
      " 1106  690  874  824  945  747  820  877  782 1264 1168  892  757  839\n",
      " 1214  748 1066  657 1074  880  987  804 1032 1037 1094  896 1221 1186\n",
      "  784  838  819 1234  847  959 1110  728  741  904  917 1278  832  940]\n",
      "\n",
      "\n",
      "pct_owner_occupied\n",
      "100\n",
      "[76 72 63  3 90 51 68 95 56 86 41 79 80 77 70 81 48 53 83 52 42 87 65  0\n",
      " 97 26 10 28 84 94 47 93 89 75  8 61 92 98 38 67 82 74 66 22 36 88 11 78\n",
      " 62 49  2 60 14 59 69 64 73 96 71 50 57 43 85 40 27 91 16 37 45 58 39 35\n",
      " 55 54 46 30  1 44 33  5 34 29 21 17 99  6 32 24 15 19 23 20  9 13  4 18\n",
      " 31 25  7 12]\n",
      "\n",
      "\n",
      "per_capita_income\n",
      "11418\n",
      "[11855 10385 30855 ... 18431 22294 35544]\n",
      "\n",
      "\n",
      "pct_attribute1\n",
      "72\n",
      "[ 0  3  2  1  7 20 10  4 24 12 19 11  5 34  8 18  6 16 23 32 13 21 37  9\n",
      " 14 82 31 33 17 39 27 38 36 96 30 57 47 53 55 44 43 42 49 59 41 92 26 93\n",
      " 15 22 58 25 52 29 76 60 89 35 64 40 94 88 28 97 54 87 75 86 83 69 73 85]\n",
      "\n",
      "\n",
      "pct_attribute2\n",
      "83\n",
      "[ 0 41 25 33 57 17 44 51 43 32 46 30 34 47 49 42 50 27 24 23 14 29 38 12\n",
      " 20 31 21 39 19 40 22 36 48 58  7 45 10 37 35 18 28 26 60 55 11 16 69 53\n",
      " 13  6 79  8 15 52 63 62 67 85  9 59 66  4  5 54 61  1 56  2 64  3 76 77\n",
      " 70 68 65 71 84 78 75 73 72 99 82]\n",
      "\n",
      "\n",
      "pct_attribute3\n",
      "89\n",
      "[ 0 21 26 32 36 38 11 49 45 33 22 19 24 37 43 53 17 14 20 70 62  7 39 30\n",
      " 55 18 28 27 16  9 40 46 50 29 54  5 34 35 71 65 23 31 48 57 13 75  8 69\n",
      " 15 56 42 51 76 82  4 41 25 52 12  3 66 61 72 99 47 58 79 44  6 10 68 63\n",
      " 60  2 64 77 59 67 73 84 81 89 74 78  1 80 92 87 85]\n",
      "\n",
      "\n",
      "pct_attribute4\n",
      "100\n",
      "[ 0 31 57 42 37 34 51 50 45 29 70 43 39 53 46 23 33 10 60 71 21 26 64 13\n",
      " 25 17 41  7 65 40 19 22 55  8 49 54 86 52 18 11 28 14 63 35 44 59 15 24\n",
      " 56 20 30 12 47 38 27 32  6  5 67  9 16 48  4 75 69 36 58 89 61 62 81 73\n",
      " 66 74 82 83 76 72 94 68 85 80 99 78 87  3 96 98  1  2 88 77 79 84 91 97\n",
      " 90 95 92 93]\n",
      "\n",
      "\n",
      "pep_star\n",
      "2\n",
      "[1 0]\n",
      "\n",
      "\n",
      "recent_star_status\n",
      "23\n",
      "[ 0  1  4 19 10  3 11  8 13  2  7 14  5 12  6 16  9 17 15 21 20 18 22]\n",
      "\n",
      "\n",
      "recency_status_96nk\n",
      "6\n",
      "['A' 'S' 'F' 'E' 'N' 'L']\n",
      "\n",
      "\n",
      "frequency_status_97nk\n",
      "4\n",
      "[1 2 3 4]\n",
      "\n",
      "\n",
      "recent_response_prop\n",
      "115\n",
      "[0.067 0.235 0.409 0.474 0.1   0.2   0.167 0.4   0.357 0.095 0.524 0.071\n",
      " 0.35  0.15  0.5   0.19  0.545 0.389 0.438 0.238 0.364 0.143 0.077 0.063\n",
      " 0.118 0.286 0.333 0.125 0.278 0.444 0.136 0.3   0.188 0.059 0.211 0.579\n",
      " 0.25  0.267 0.182 0.316 0.105 0.526 0.476 0.632 0.368 0.053 0.222 0.111\n",
      " 0.263 0.176 0.529 0.318 0.421 0.048 0.294 0.429 0.056 0.091 0.227 0.231\n",
      " 0.455 0.158 0.381 0.55  0.313 0.533 0.214 0.353 0.375 0.273 0.308 0.45\n",
      " 0.471 0.6   0.8   0.571 0.133 0.154 0.75  0.05  0.    0.083 0.765 0.714\n",
      " 0.045 0.556 0.65  0.591 0.385 0.462 0.412 0.875 0.538 0.467 0.647 0.417\n",
      " 1.    0.684 0.722 0.688 0.563 0.588 0.667 0.625 0.619 0.583 0.682 0.636\n",
      " 0.706 0.611 0.7   0.615 0.692 0.833 0.857]\n",
      "\n",
      "\n",
      "recent_avg_gift_amt\n",
      "814\n",
      "[ 15.    21.67  13.44  17.5    8.33  18.67   5.     8.6    8.67  80.\n",
      "   3.5   21.    10.     9.64  16.25  10.83  11.57   6.14  12.86  19.\n",
      "  14.    25.88  11.33  20.    25.    23.    32.5   17.    13.     8.83\n",
      "  18.    12.5    5.4   16.    11.25  13.33   7.88  33.    11.67  11.27\n",
      "  30.     8.5   29.    15.4   37.5    8.    19.57   9.83  27.5   20.14\n",
      "  18.33  15.5   13.5    5.1    6.18   7.67  26.38  40.67   2.8   11.5\n",
      "  10.45  10.25  40.     6.    13.11  19.4    9.75   5.75   6.8    5.78\n",
      "   5.25   8.2    3.33  15.29   7.75  15.43   9.14  13.29  10.6   22.\n",
      "   7.8    8.57   5.83  14.5   11.43  10.56  14.88  13.6    4.57  11.4\n",
      "  29.2    9.     4.8   19.71   9.43  26.25  10.5   13.9   17.4   11.75\n",
      "   8.38  22.5   10.38  14.29  20.13   6.38  14.33  33.75  19.5   92.5\n",
      "  20.75  50.    13.2   18.55  26.     6.5   12.8   11.38  14.25  11.\n",
      "   7.25  16.67   8.88  10.67  10.75   3.18   4.88  35.     6.17   6.33\n",
      "  12.     6.75  36.25   7.82  19.67   6.44  16.33   9.67  24.17  16.6\n",
      "  12.33  10.14  10.57   4.43  21.5   12.11   5.5    8.75   7.86   6.73\n",
      "   4.4    8.17   4.63  14.2    5.11   7.5   20.2   14.75   8.18   4.18\n",
      "  13.57  13.67   9.29  26.5   17.67   4.78  18.88  23.33  28.33  18.57\n",
      "  12.78   6.11   7.33  10.2   10.8   10.43   3.4    5.57   5.6    5.33\n",
      "   9.25   6.88  16.2   12.75   6.2   17.33   9.86  11.2   13.75   0.\n",
      "  13.25  15.88  21.17  28.    16.13  31.67  19.8   31.    17.25  32.25\n",
      "  25.67   5.8   15.67  14.6   10.4    7.38   5.29  30.5    3.54   6.67\n",
      "  28.6   30.75  22.33 150.    32.    25.2  100.     9.8   12.25  19.25\n",
      "   9.3    8.25  14.67  21.2   12.17  21.25   5.67  15.25  52.5   25.33\n",
      "  18.5   17.44   7.    23.75  34.2   13.83  16.86   7.2   20.67  16.5\n",
      "  17.13  12.67  16.88  11.1   17.75  26.2   20.25   7.4   89.6    9.5\n",
      "  11.13  10.33  21.33 116.67  70.    17.83   7.08  75.    21.6   24.58\n",
      "   5.17 200.    13.38  11.17  15.75  18.75  18.8    4.33   9.6   15.57\n",
      "  60.   125.    36.     4.75  15.38  36.67  47.5   14.8   25.14  27.33\n",
      "  14.4   22.2   38.     4.83  15.2    8.71  48.67 112.88   8.4   27.\n",
      "  20.5   10.31   6.83  46.5   26.57  12.13  19.2   12.43  25.83  44.\n",
      "  16.75   3.    14.17   4.5    5.2   21.29  34.5    9.17  47.4   13.78\n",
      "   4.67  17.88  12.6   38.8    9.78  43.    25.25  46.     4.     8.29\n",
      "  41.67  56.   104.    84.33  67.5   25.5   24.    10.86   9.89  31.25\n",
      "  77.67  79.67  55.    61.5   83.33  42.    17.63  30.27  23.13  16.35\n",
      "  13.14  12.1   99.83  75.5   39.71  10.71  73.4   12.4    7.56   7.14\n",
      "  11.66  29.29  23.5   87.5    3.14   5.86   9.33   6.6   22.25   6.27\n",
      "  12.2   26.67   6.89   5.63  39.33  40.33  13.17  62.5  250.    15.17\n",
      "   5.13   6.25   7.6   33.33   5.09  24.1    4.2    3.67  13.88  14.83\n",
      "  13.8    7.83  28.5   11.8    6.55  15.6   11.6   16.43  20.28  47.67\n",
      "  21.8   16.14  15.8    5.43  36.33  29.33  62.     9.4    6.1    5.88\n",
      "   7.63  39.    22.88  13.71   3.25   5.71  11.71  34.88  24.5    2.73\n",
      "   3.6   22.17  42.5    9.1  201.67  19.29   8.13   7.71   3.36   5.38\n",
      "   3.78  31.33  22.75   7.43   5.14   4.6    3.72   4.17  17.14   6.4\n",
      "   9.13  32.33  20.33  10.13  18.2    3.69   3.75  11.86  36.4   22.67\n",
      "   6.71   5.56  31.2    6.43   8.14   8.08   8.8   23.67  18.25   9.7\n",
      "   9.44   8.11  14.86  24.2    8.22  19.75  28.75  15.33  16.83  11.14\n",
      "   6.29   3.45   7.15   3.44  37.    19.33   6.3    7.17  20.83   5.22\n",
      "  34.    29.25  12.71   7.29  20.71  23.25  82.     2.67  17.17   4.3\n",
      "   9.57   4.25   7.57   9.88  41.    18.4    1.55   3.29  36.2    3.86\n",
      "  66.67  12.83  45.    34.67  48.     4.14  17.45  15.83   3.57  10.17\n",
      "   9.22   9.21  17.11   6.22   2.5   20.8   14.57   4.86  39.83  14.43\n",
      "   9.2   30.6    4.38   4.29  49.67  15.08  10.63  12.29  10.29   4.71\n",
      "  30.25  10.66   9.11  21.13  15.13   6.57   4.58  27.67  38.5   24.33\n",
      "  12.57  31.75   3.83   3.91  13.13   9.63  12.88   3.43  11.63  51.\n",
      "   9.77   3.13  17.8   15.71  53.     8.86   4.91  25.32  23.2    7.13\n",
      "   5.27  11.83  15.63   6.86   4.13   5.44  43.33  14.11   8.43   6.77\n",
      "   2.     4.73   6.13  12.14  38.33   3.2   16.8    3.17  24.25  26.33\n",
      "   9.42  11.3   26.4    9.71  14.05  13.4    5.07  19.17  11.88   2.29\n",
      "  16.17   3.92  10.52  34.33  48.5   26.75   3.8   56.67  27.43   4.56\n",
      "  12.39  12.05   3.88   9.23  10.3    3.63  12.56   3.71  46.67  11.29\n",
      "   9.18  13.43  10.11  13.63   5.64  17.71   2.92  11.55  16.38   3.77\n",
      "   4.55  15.14   3.09   3.22  35.5   11.82  28.4    7.27  29.5    6.36\n",
      "   2.43   8.89   3.89  65.    34.4   45.4   15.11  22.4    8.63  22.69\n",
      "   4.22  30.67  12.7   32.67  24.67  35.63  22.83   2.57   9.38  21.75\n",
      "   3.15   4.44   3.1   25.75  16.4   27.8   24.4   42.17   7.23  18.71\n",
      "  18.6   10.7    2.63   4.23   7.44  18.63  45.33   5.77   9.45  25.71\n",
      "  38.67  37.33   2.83  10.89  27.17  26.6    7.11  35.8   13.26  16.29\n",
      "  33.67  12.38   2.17  12.44  32.2   23.17  37.4   15.36  85.    15.86\n",
      "  22.14  43.75  24.8   24.75  19.63  33.5   21.56  25.6   40.25  17.2\n",
      "   7.7   14.44  49.25   8.44  33.4   26.88  52.    20.89  14.38   3.56\n",
      "   6.64  37.67  39.6    5.18   3.9    5.9   18.17  46.33  16.64   6.42\n",
      "  13.22   4.06   4.36   3.46  21.09   6.63  27.75   8.59  12.69  10.05\n",
      "  35.18  20.29  35.33  20.4   14.14  13.86  19.78  51.67  28.67 133.33\n",
      "  25.57  36.23  34.17  58.33  16.22  90.    21.89  27.71  51.2   30.8\n",
      "  14.69  41.6    6.78  19.6   22.8   12.09  33.01   7.99  63.33  76.5\n",
      "  26.8   28.2   47.     2.38  18.14  28.25   4.89  10.1   13.49  43.5\n",
      "  31.17  50.5   58.     7.09   4.11  10.88  20.6   69.    19.86  43.67\n",
      "  13.08  70.5   23.4   17.54  25.17   7.3   36.75   5.62   9.9   35.67\n",
      "  33.89  30.4    5.82  41.5   15.19   7.89  73.33  45.83   7.22   2.75\n",
      "   8.55  55.34  16.89  22.43   8.78 162.5  175.   260.    42.25  11.89\n",
      "   4.1    7.36  11.9    7.1    9.06  20.43  23.8   19.11 130.     4.7\n",
      "  64.25  38.65  19.38   5.45]\n",
      "\n",
      "\n",
      "recent_card_response_prop\n",
      "41\n",
      "[0.    0.25  0.545 0.4   0.111 0.125 0.273 0.444 0.455 0.571 0.364 0.182\n",
      " 0.7   0.5   0.333 0.2   0.222 0.556 0.1   0.143 0.091 0.6   0.9   0.3\n",
      " 0.8   0.889 0.375 0.75  0.286 0.167 0.636 0.429 0.625 0.857 1.    0.778\n",
      " 0.667 0.818 0.714 0.727 0.833]\n",
      "\n",
      "\n",
      "recent_avg_card_gift_amt\n",
      "484\n",
      "[  0.    15.    22.67  13.5   10.    18.67   5.     8.5    8.    80.\n",
      "   4.5    9.8   17.5   11.    10.67   6.    12.25  12.5   14.    27.\n",
      "  10.5   20.    32.5   13.     8.75  25.    10.4    7.4   16.    10.57\n",
      "  30.    28.25  11.5   37.5    7.6   21.     9.    40.     5.29   5.57\n",
      "   4.33   7.56  26.25  27.5   36.     2.75  11.25  10.33  12.     7.\n",
      "  12.88  18.8    5.75   6.75   5.8    8.83   4.    15.75   7.71  16.6\n",
      "   9.4    5.83  11.67  13.75  14.5    4.4   13.33  18.6   15.67  20.17\n",
      "   5.4   35.    19.5  100.    20.33  50.    19.14  26.    13.25  15.33\n",
      "  18.33  12.33   7.67   8.4   24.    12.67   3.5   16.67   8.25   5.14\n",
      "   5.5    7.5    8.67  20.75  15.5    9.5    9.2   10.25   8.57  21.5\n",
      "  11.71   5.25  14.25   4.29   6.67   4.6   18.    29.5    6.43   3.\n",
      "   3.67   5.67   5.43  16.5    9.86  11.17   9.6   14.33   8.17  21.6\n",
      "  28.5   13.67  16.33  33.75  33.    32.25   7.63  30.5   31.33  28.\n",
      " 150.    28.67  11.43  23.    14.67  15.25  45.    22.5    9.25  18.25\n",
      "   9.83  22.    34.    16.8    6.6   31.    17.    16.43  11.38  24.25\n",
      "  22.33   5.33   9.67  10.6    7.33  18.2   19.   200.    70.    20.67\n",
      "   6.71  24.29   4.89  13.22  17.33   9.33  11.33   9.14  60.    15.4\n",
      "  36.67   6.5   47.5   75.    21.25  10.83  49.5  112.88  31.25   4.67\n",
      "  11.75  46.5    2.33  20.25  12.4   28.33  42.    12.75  14.17  19.6\n",
      "  37.     8.33  21.33  51.     4.25   5.2    6.8    7.75  34.5   46.33\n",
      "   6.4    6.33  21.17  10.75  20.5   56.    11.14  53.     6.25  23.5\n",
      "  24.5   10.8   82.5   76.5   61.5   23.75  17.54  23.4   12.8   99.8\n",
      "  87.5   91.     6.2   15.99   3.2    5.6   38.5   10.2    4.17  11.6\n",
      "   4.83  41.25   3.8   18.5  300.     5.17   3.33  24.33  14.4    8.8\n",
      "   8.2    7.25   4.75   6.29  16.25  26.67 105.    21.8   32.    25.5\n",
      "  31.5   62.    11.8   55.    39.     2.86  22.6    4.2    8.14  19.17\n",
      "   3.57   3.75  23.67  42.5   19.67  44.5   21.67   3.63   6.83  12.6\n",
      "  11.2    9.71   9.57  17.67  14.75   7.83  20.2   17.75   3.86   4.57\n",
      "   3.38   6.14  19.33  18.75   9.75   3.6   19.2    1.5    7.8    9.63\n",
      "  41.    26.5   13.6    1.75  10.38   7.17  13.8   36.5   19.75   7.9\n",
      "   2.5    7.14  44.     7.43  30.6   51.5   15.86   6.17  10.29  13.2\n",
      "  13.17   7.2   21.13  11.4   13.83   8.6   13.4    3.4    4.13  12.71\n",
      "   3.25   2.    52.     9.13   9.29   9.43  17.25   6.86  11.57  12.2\n",
      "   5.13  29.    17.6   36.25  12.14  27.67   2.67  26.33  25.33   6.38\n",
      "  48.    15.15   2.4   23.33  10.65  11.88  45.5   43.    26.75  56.67\n",
      "  28.75  12.13  10.14   7.29   9.17   5.38  30.67  21.4    5.78  14.8\n",
      "   3.29   4.8   63.     4.14   6.88   2.25   3.83   8.29  43.33  67.5\n",
      "  42.33   3.21  14.83   5.88  32.67  33.25   2.6    2.63   4.71   1.\n",
      "  14.2   15.6   33.33  40.67  15.29   6.63   3.88   4.38  10.43  14.6\n",
      "  14.63   4.43   7.39  17.8   22.4    4.86   5.71  38.67  38.    13.26\n",
      "  16.75   1.33   9.44  19.8   32.33  16.2   37.4   12.17   5.63 160.\n",
      "  41.67  19.25  49.    52.5   21.45   3.71   7.13  24.2   10.22  38.75\n",
      "  38.33  47.33   6.13  31.67  23.25  36.75  16.14  37.67   7.57   8.31\n",
      "   3.11  14.13  10.17   8.07  17.4   16.29   7.66  51.67   8.89  36.23\n",
      "  13.29  18.83 125.    27.25   8.71   3.3   24.67  33.01   8.23  15.2\n",
      "   2.8   15.8   10.71  34.67  20.4   18.17  35.5   25.25  11.97  85.\n",
      "  43.67  70.5    7.86  26.2   31.6   25.67   8.13  73.33   6.57  21.75\n",
      "  45.33  55.34   7.88   1.67 212.5  260.     3.13  11.86 130.     4.88\n",
      "  84.67  38.65  34.4    9.38]\n",
      "\n",
      "\n",
      "recent_response_count\n",
      "17\n",
      "[ 1  4  9  2  3  8  5 11  7 12 10  6  0 13 15 14 16]\n",
      "\n",
      "\n",
      "recent_card_response_count\n",
      "10\n",
      "[0 2 6 4 1 3 5 7 9 8]\n",
      "\n",
      "\n",
      "months_since_last_prom_resp\n",
      "37\n",
      "[ 26.  11.  14.  18.  19.  21.  12.  17.  15.  20.  22.  13.  25.  16.\n",
      "   8.  24.  23.   9.  28. -10.   6.  10.  30.  27.  nan  33.  31.   7.\n",
      "  29.   2.   3.  -9.  32. -11. -12.  35.  36.  34.]\n",
      "\n",
      "\n",
      "lifetime_card_prom\n",
      "52\n",
      "[19 32 44 31 30 22 29 33 36 27 45 39 11 38 37 46 16 24 40 13 18 12 26  9\n",
      " 14 42 21 28 15 25 34 23 43 17 41 51 35 47 20 10  6  8  7  5 48 55  4 50\n",
      "  3 56 54  2]\n",
      "\n",
      "\n",
      "lifetime_prom\n",
      "143\n",
      "[ 45  90 119  96  83  59  72  89  91  62 123  94  98  25 110  99 131  79\n",
      "  44  68  49 107  88  39  82  35  58 106  29  70 114  51  43  60  52 120\n",
      "  76  36  54  38  97  78  56  48  95 108  71 104  93 116  92  75  87 101\n",
      " 129 124 103  46  86  64  80  67  63 105  33  85 115 100  65  24  40 111\n",
      "  66 102  50  81  69  74  55  73  61  47  41  77  42  30  21  27  28  26\n",
      "  23  16  18  32  31 117  34  37  84 109 122 133 126 113 127 118 128 134\n",
      " 174 130 112  57 121 140 142 125 136 194 141 157 132 135 147  53 170 137\n",
      "  17  20  14  13  15  19  12  22  10  11   8   9   7   6 144 139   5]\n",
      "\n",
      "\n",
      "lifetime_gift_amount\n",
      "898\n",
      "[ 297.    368.    603.    435.    106.    128.    220.    101.    171.\n",
      "  150.    273.    516.    100.5   103.    186.    201.    270.    277.\n",
      "  670.    255.    122.     90.    200.    261.    164.    470.    134.\n",
      "   76.    109.    380.     87.    209.     59.    284.    247.     89.\n",
      "   85.    163.     70.    111.    335.    356.    105.    159.    154.\n",
      "  145.    321.    100.    133.    110.    173.     44.    142.    152.\n",
      "  328.    210.    141.     96.    144.    315.    165.    224.    107.\n",
      "   60.    235.    419.    180.    237.    239.    331.    148.    205.08\n",
      "  104.    197.    323.    645.    175.     97.    453.    361.     52.\n",
      "  360.    192.    140.     92.    214.    114.     93.    580.     42.\n",
      "   51.    155.    194.     79.    153.     73.     63.     91.    530.\n",
      "  276.    342.    269.    271.    147.    202.    126.    234.    265.\n",
      "   81.    278.    374.     35.     82.     65.     75.     99.     20.\n",
      "  282.     38.     74.    311.    193.    174.     45.    120.     77.\n",
      "  112.    259.    352.    157.    119.    135.    350.     98.    330.\n",
      "   78.46  170.    595.     47.     49.    227.    306.     62.    121.\n",
      "  162.    310.     56.     40.    348.    130.     67.     84.    225.\n",
      "   50.    118.    196.    113.    198.    214.5    55.     80.     68.\n",
      "   95.    132.     48.     36.    341.    161.    294.    492.     94.\n",
      "  384.    251.    178.    156.    832.    291.    139.    213.     61.\n",
      "  160.    117.    204.    181.     71.     64.     25.    185.    146.\n",
      "  245.    136.    266.    104.01  217.     41.    189.    116.     23.\n",
      "  110.5   167.     37.    141.5   172.     18.     30.     15.     32.\n",
      "  218.    125.    152.5   304.    205.    131.    115.    158.    188.\n",
      "   72.    123.    787.    100.07  168.    108.    507.     69.    253.\n",
      "  228.     46.    477.    137.    206.    176.    775.    446.    825.\n",
      "  169.    289.    555.    386.    721.    345.    166.    333.    452.\n",
      " 1551.    418.    207.5   265.9   219.    363.    153.5   375.    129.\n",
      "  203.    179.    707.    510.    230.    454.    316.    379.    539.\n",
      " 1000.   1505.    337.    233.    183.    212.    649.    425.    177.\n",
      "   66.    390.    398.    682.    246.    295.    182.    407.    131.5\n",
      "  256.    233.5   138.    240.    626.    528.    238.    184.    750.\n",
      "  285.    377.    250.    355.    241.5   410.    490.    827.    207.\n",
      "  498.    344.    429.    314.    593.    527.    646.    489.    124.\n",
      "  432.    370.    601.    267.     86.    588.    275.    389.    132.5\n",
      "  332.    591.    191.    502.    324.    242.    254.    921.   1244.\n",
      "  824.    488.    232.    605.    392.    451.    288.    376.    347.25\n",
      " 1196.    449.    620.    257.    292.    725.    236.    575.    475.\n",
      "  243.07  443.    532.   1116.   1190.    606.    600.    322.    584.\n",
      "   83.    946.    307.    187.    287.    261.9   461.    387.    263.\n",
      "  308.    127.    313.    327.    505.    146.5   190.    600.5   195.\n",
      "  405.    346.   1034.    970.    628.   1150.    464.   1012.    280.\n",
      "  215.    631.    416.5   170.89  303.    367.7   383.    260.    226.\n",
      "  309.     78.    835.    300.    567.    252.    698.    347.    312.\n",
      "  221.    143.    317.    325.    894.    524.    402.    918.75  627.\n",
      "  216.    286.    151.    545.    118.59  566.   2200.    430.    447.\n",
      "  434.    353.    133.07   53.    102.    378.    329.    249.    290.\n",
      "  241.    268.    248.    638.    838.    274.    104.5   223.    302.\n",
      "  222.     88.    504.    455.    570.    281.    404.    538.    496.\n",
      "  149.    296.    244.    305.9   557.    191.5   326.    897.    415.\n",
      "  262.    160.5   142.07  420.    161.7   424.    354.    602.    161.99\n",
      "  684.    208.    561.    319.    543.    733.    574.    445.    450.\n",
      "  356.3   493.     69.05 1765.    394.    788.    372.   1079.     43.\n",
      "  619.     59.97  583.    621.    172.2   519.     33.    400.95 1405.\n",
      "  514.    211.    190.5    34.   1094.    187.53  362.    717.    520.\n",
      "  339.    484.    272.    217.01  264.    406.    439.     22.     58.\n",
      "  366.     87.25   28.     65.75   26.     31.    728.     29.     57.\n",
      "  635.     54.     21.    334.    211.75  243.     39.    231.    686.\n",
      "  103.07  115.84  226.25  480.    140.25  269.5   491.    199.    131.75\n",
      "  305.     24.    189.08  201.67  126.08   38.5    50.25   27.    534.\n",
      "  440.     29.6   184.5  1058.    556.    486.    113.03  244.01   42.01\n",
      "  229.    367.    258.    406.5   365.     91.07  135.01  349.    313.68\n",
      "  318.    298.    535.    476.     58.88   19.    501.    478.   1261.\n",
      "   67.52  395.     54.25  347.01  351.     66.5   167.08  347.8   608.\n",
      "  388.    106.75   16.    369.    135.59  237.7   129.25  302.08  704.\n",
      "   69.5   456.     78.25  320.    128.5   107.5   168.06  121.5   885.\n",
      "  171.06  145.54  373.    301.     41.97   42.25  293.    103.5    28.4\n",
      "   44.19  145.32  102.5   454.05  437.    426.     85.25   59.5    68.5\n",
      "   41.5   116.5   120.65  220.5   130.25  271.95  142.25  458.    194.01\n",
      "  731.    109.07  563.    341.1   285.07  185.07  140.5   106.5    37.67\n",
      "   64.04  427.    137.15  457.    160.85  381.    713.    431.     57.5\n",
      "   83.5   623.     17.    188.9    48.21  279.     73.25  135.5   413.\n",
      "  400.    172.25   94.5   391.     87.5   309.5   177.07   54.5   101.25\n",
      "   84.25  187.08  683.    196.96  113.04   88.5   178.25   72.5   336.\n",
      "  180.5    51.25  149.01   82.5    70.5   157.06   75.25   93.5    37.5\n",
      "  343.    195.67  120.3    51.5   472.     77.55  403.    358.     99.3\n",
      "  471.     47.98  151.08  117.25  234.25  100.75  226.01  360.03  540.\n",
      "  185.5   425.6    80.25   42.5   264.01  612.     96.5    49.28  841.\n",
      "  489.01  116.07   59.25   84.5    43.5    63.5    96.25  215.5    85.54\n",
      "  119.66   90.5    88.25  483.     77.25  260.5   112.5    76.5    95.5\n",
      "  236.07   75.77  287.5   651.    256.5   581.    442.    359.    120.5\n",
      "  114.5   433.    382.    144.6   135.07  139.25  416.    417.    248.5\n",
      "   64.68  687.     43.25   68.04   49.4   110.25  227.01   99.97  103.19\n",
      "   39.5   659.     81.76   84.08  137.5    32.5   336.34  147.5    77.5\n",
      "  128.02  140.01  412.    673.    533.    167.06   81.5   119.25  203.06\n",
      "  275.5   120.28  385.    522.    103.25  136.8    97.51  842.    423.\n",
      "   65.25   98.5   421.    131.87  126.5   194.5   193.25  223.03  320.06\n",
      " 1174.     90.34   79.2   299.36  428.     50.32  231.25  371.    101.07\n",
      "  100.88  396.     78.5   536.     36.23  444.    340.    270.02  526.\n",
      "  136.5   311.07  340.05  560.    121.07  279.07  490.5   409.    354.07\n",
      "  973.    499.    235.72  105.5    69.25  515.    127.5   238.07  511.\n",
      "  544.     51.36   65.92  399.    481.    618.    156.07  262.01  124.25\n",
      "  173.06  125.5   494.    127.03   60.5    44.5   272.03  283.    414.\n",
      "  114.06   33.97  169.5   641.     21.26  191.1   110.07  108.25  113.5\n",
      "  462.    338.5   769.    531.    494.5   151.5   299.    258.2    92.5\n",
      "  116.75   97.65  134.5   127.05  585.    222.21  111.5   207.07  224.5\n",
      "   49.5   422.    227.5    55.34   55.25  265.01 1622.    710.5  1610.\n",
      "  677.   1383.   3775.    642.   2604.5    40.5   671.    681.    448.\n",
      "  162.84   74.5    51.11  260.07  166.45  408.     75.5   155.01  466.\n",
      "  632.    833.    330.25   77.3   719.    465.    441.  ]\n",
      "\n",
      "\n",
      "lifetime_gift_count\n",
      "74\n",
      "[35 25 36 37 12 22 20 34 14 33  7 31 29 24 76 26 21 16  9 23  5 10 27 38\n",
      " 32 11 28 15 42  6 13  8 47 48 30 17 52 18 50 19 46 43  3  2  4 40 49  1\n",
      " 44 60 63 61 80 55 41 39 69 67 56 89 91 45 95 57 82 53 62 77 54 51 64 59\n",
      " 58 68]\n",
      "\n",
      "\n",
      "lifetime_avg_gift_amt\n",
      "1966\n",
      "[ 8.49 14.72 16.75 ... 18.64 21.85  7.02]\n",
      "\n",
      "\n",
      "lifetime_gift_range\n",
      "226\n",
      "[ 15.    20.    23.    14.     7.     4.     8.    80.    16.     9.\n",
      "  10.    17.     5.    12.    25.    28.    30.    11.    13.    45.\n",
      "   0.     6.    35.    14.92  40.    18.     1.    19.    22.    75.\n",
      "   3.    22.5   55.     4.99   2.     7.5   21.    12.5   38.     9.93\n",
      "  34.    95.    27.    85.   165.    31.    47.    36.    50.    48.\n",
      "  90.    29.    99.    24.     6.5  195.   160.    33.    43.    97.\n",
      " 175.   125.    11.93 185.    51.    74.    98.   130.    72.5   86.\n",
      "  26.    32.   122.87  21.41  81.   215.    41.    46.    37.    57.\n",
      "  44.    60.     7.93 101.   145.    39.   225.    70.    29.7    8.05\n",
      " 128.   100.   123.    23.97 200.    16.95  49.    10.99 295.     8.75\n",
      "  14.5   10.84  13.5   52.     4.75  10.08  24.92   8.5   14.75   3.6\n",
      "  14.97  42.    19.99   6.93  15.99   6.88   4.52  77.    14.99  64.\n",
      "   9.5   11.92   5.75  11.59   3.75  17.75  12.94  10.5    4.5   65.\n",
      "  19.94  30.54   1.97   1.6   12.93  13.75  40.95  11.99   9.75  15.93\n",
      "  10.67  12.96  10.15  11.35   5.25  72.    34.93  23.5  245.     4.96\n",
      "  17.5    6.99   3.5   26.67  10.7  198.     7.95  19.92  35.75  11.97\n",
      "  69.    62.     7.75  29.99  15.97  23.99  10.93  23.75   6.75  59.\n",
      "   8.93  12.77  27.5   15.5    5.6   16.93 150.    10.32  16.25   1.76\n",
      "   1.5   31.98  18.75   5.94  28.28  18.7    9.99  12.97  25.94   5.5\n",
      "  45.36  11.25  14.93  15.88  29.98  59.93 110.    19.93 137.    14.66\n",
      "  20.94   9.97  87.    17.94  28.9   71.    37.5   22.8   10.75   2.35\n",
      "   7.47  20.5   21.99 997.    48.5  115.   297.   191.   595.5  490.\n",
      "  10.11  18.93   7.55  13.99 240.   248.  ]\n",
      "\n",
      "\n",
      "lifetime_max_gift_amt\n",
      "125\n",
      "[  20.     25.     28.     17.     10.      7.     11.     85.     15.\n",
      "   21.      8.     35.     13.     23.     19.     33.     50.     16.\n",
      "   40.      5.     30.     12.     18.     31.      6.     26.     22.\n",
      "    9.     27.    100.     14.     75.     24.     38.    175.     39.\n",
      "   51.     12.5    41.    150.     36.    200.     48.     54.     77.\n",
      "  140.     90.     45.     44.     52.    137.87   42.    220.     46.\n",
      "   37.     60.     29.     56.     47.    104.    198.    250.    450.\n",
      "   70.     18.05  133.    128.     26.97  205.     19.95   32.    300.\n",
      "   20.84   34.     62.     43.     15.08  201.67    5.6   225.     55.\n",
      "    7.88    7.52   82.     65.     58.     16.59   53.     33.54   11.97\n",
      "   45.95   15.67   15.15   12.6    17.5    63.     80.     36.67   72.\n",
      "   42.5    49.     15.77   15.6   160.     26.25   21.76   33.28   50.36\n",
      "   18.88   36.23  125.    142.     33.01   95.     74.     15.75   17.47\n",
      "   55.34 1000.     53.5   201.    600.    500.     13.11   38.65]\n",
      "\n",
      "\n",
      "lifetime_min_gift_amt\n",
      "88\n",
      "[5.0000e+00 3.0000e+00 1.0000e+00 2.0000e+00 1.0000e+01 1.5000e+01\n",
      " 1.2000e+01 2.0000e+01 2.5000e+01 1.3000e+01 8.0000e-02 4.0000e+00\n",
      " 4.0000e+01 3.0000e+01 5.0000e+01 6.0000e+00 2.5000e+00 1.0000e-02\n",
      " 0.0000e+00 7.0000e-02 1.0000e+02 8.0000e+00 1.5000e+00 7.0000e+00\n",
      " 1.2500e+01 7.5000e+01 3.5900e+00 1.8000e+01 5.3000e+01 4.5000e+02\n",
      " 3.0000e-01 2.0000e+02 1.0100e+00 2.3000e+01 1.2500e+00 7.5000e+00\n",
      " 1.1000e+01 9.0000e+00 2.0167e+02 3.0000e-02 3.5000e+01 1.4000e+01\n",
      " 1.6000e+01 6.2500e+00 3.2500e+00 6.0000e-02 5.0000e-01 6.0000e+01\n",
      " 1.8250e+01 4.5000e+00 1.3400e+01 3.3000e+01 2.8000e+01 4.0000e-02\n",
      " 4.8000e+01 9.7500e+00 2.1000e+01 3.5000e+00 7.3000e+00 2.0500e+00\n",
      " 4.2500e+01 2.0100e+00 1.7000e+01 4.6800e+00 2.4000e+01 1.5500e+01\n",
      " 3.0200e+00 2.6000e+01 4.3000e+01 1.3000e+00 1.0600e+00 3.7500e+00\n",
      " 8.0000e+01 3.6230e+01 2.0200e+00 7.0000e+01 3.6000e+01 2.7000e+01\n",
      " 1.8350e+01 1.9200e+00 6.1000e+00 5.0700e+00 5.6000e+01 2.2000e+00\n",
      " 7.6500e+00 5.5340e+01 3.4500e+00 3.8650e+01]\n",
      "\n",
      "\n",
      "last_gift_amt\n",
      "106\n",
      "[ 15.    17.    19.    25.    10.    20.     5.     8.    85.     2.\n",
      "  21.    11.     7.    12.    14.    35.    23.    16.    33.    18.\n",
      "   9.    40.    50.    38.    36.    31.     4.    13.    22.    30.\n",
      " 100.    27.    26.     3.     6.    20.5    0.    24.    12.5    1.\n",
      " 150.    32.    28.    91.    54.   200.    45.    90.    75.    52.\n",
      " 137.    39.   220.    42.    60.    29.    47.    56.   104.   198.\n",
      " 219.   450.    44.   133.    34.    26.97 205.    41.   300.    20.84\n",
      "  46.    62.   201.67 225.    37.     7.52  82.     6.25  53.    11.97\n",
      "  48.    17.5   55.    80.    42.5    2.5   70.     5.4   21.76  43.\n",
      "   3.5    8.75   5.32  36.23 125.    14.06  33.01  95.    74.     4.5\n",
      "  15.75  55.34 110.    13.11 250.    38.65]\n",
      "\n",
      "\n",
      "card_prom_12\n",
      "17\n",
      "[ 5  7 11  6  9  4 10  8  2  3 12 13 17  1 15 14  0]\n",
      "\n",
      "\n",
      "number_prom_12\n",
      "50\n",
      "[12 21 32 33 19 20 18 24 25 27 35 10 22 15 29 28 26 23 14 30 13 17 11 16\n",
      "  7 31  8 34 44 46 36 39 37 45 38  9 40 42 59 64 49 47  6 41 48 58  5  4\n",
      "  3  2]\n",
      "\n",
      "\n",
      "months_since_last_gift\n",
      "24\n",
      "[26  7  6 18 19 21  9 17  4 20 15 22 12  5 25  8 13 24 16 10 11 23 14 27]\n",
      "\n",
      "\n",
      "months_since_first_gift\n",
      "139\n",
      "[ 92 122 105  91 110  90 129 124  89 125  87  88  86  85  84  83  81  80\n",
      " 130  78  77 111 119  79  76 109  75 123  73 100 118  68  69 121 113  67\n",
      "  66  64  65  61  63  82 127 131 126  60  59  57  56  55  54  53 112  52\n",
      "  49 128  45  44 103  40  33 120  32 101  29 102  38 106  93  97  21  24\n",
      "  41  62  20  19  23  18  17  28 104  74  16  15  98  50 139 185 138  94\n",
      " 107  95 117 114 115 108  99  96 230 116  70 159  27 260 198  72 134 133\n",
      " 192  43  39  26  37  36  51  31  25 164  30 170  42 160 162 154 155  22\n",
      " 158 147  35 145 144 143  34  71  47  58  48  46 187]\n",
      "\n",
      "\n",
      "file_avg_gift\n",
      "1966\n",
      "[ 8.49 14.72 16.75 ... 18.64 21.85  7.02]\n",
      "\n",
      "\n",
      "file_card_gift\n",
      "32\n",
      "[ 7 12 16  3  6  8 14 13  2 10  4 23 11  1  9  5 22 20 24 26 17 25 15 18\n",
      "  0 21 19 29 41 32 28 27]\n",
      "\n",
      "\n"
     ]
    }
   ],
   "source": [
    "# Checking for the number of unique values in each column\r\n",
    "# This is to check for consistency, uniformity and accuracy\r\n",
    "# A for loop has been used to print unique values for each column\r\n",
    "#\r\n",
    "for column in df.columns:\r\n",
    "  print(column)\r\n",
    "  print(df[column].nunique())\r\n",
    "  print(df[column].unique())\r\n",
    "  print('\\n')"
   ]
  },
  {
   "cell_type": "markdown",
   "metadata": {},
   "source": [
    "### Observations\r\n",
    "* Age has a value with zero(0) which isn't right\r\n",
    "* The Overlay column is meant to take 3 values; M=Metromail; P=Polk; B=Both. But it takes 4 values with the fourth value (4th) value being \"n\". I am going to assume this was a mistake and replace n with the value n\r\n",
    "* Cluster code has a value with \".\". This will be replaced with the most apporopriate method\r\n",
    "* Donor Gender takes 4 values. Male, Female, Unknown and A. I am assuming the A value is a mistake as it takes one (1) value. It will be replaced appropriately\r\n",
    "* \"?\" represents unknown wherever found\r\n"
   ]
  },
  {
   "cell_type": "code",
   "execution_count": 13,
   "metadata": {},
   "outputs": [
    {
     "name": "stdout",
     "output_type": "stream",
     "text": [
      "<class 'pandas.core.frame.DataFrame'>\n",
      "RangeIndex: 19372 entries, 0 to 19371\n",
      "Data columns (total 50 columns):\n",
      " #   Column                       Non-Null Count  Dtype  \n",
      "---  ------                       --------------  -----  \n",
      " 0   target_b                     19372 non-null  int64  \n",
      " 1   target_d                     19372 non-null  float64\n",
      " 2   control_number               19372 non-null  int64  \n",
      " 3   months_since_origin          19372 non-null  int64  \n",
      " 4   donor_age                    14577 non-null  float64\n",
      " 5   in_house                     19372 non-null  int64  \n",
      " 6   urbanicity                   19372 non-null  object \n",
      " 7   ses                          19372 non-null  object \n",
      " 8   cluster_code                 19372 non-null  object \n",
      " 9   home_owner                   19372 non-null  object \n",
      " 10  donor_gender                 19372 non-null  object \n",
      " 11  income_group                 14980 non-null  float64\n",
      " 12  published_phone              19372 non-null  int64  \n",
      " 13  overlay_source               19372 non-null  object \n",
      " 14  mor_hit_rate                 19372 non-null  int64  \n",
      " 15  wealth_rating                10562 non-null  float64\n",
      " 16  median_home_value            19372 non-null  int64  \n",
      " 17  median_household_income      19372 non-null  int64  \n",
      " 18  pct_owner_occupied           19372 non-null  int64  \n",
      " 19  per_capita_income            19372 non-null  int64  \n",
      " 20  pct_attribute1               19372 non-null  int64  \n",
      " 21  pct_attribute2               19372 non-null  int64  \n",
      " 22  pct_attribute3               19372 non-null  int64  \n",
      " 23  pct_attribute4               19372 non-null  int64  \n",
      " 24  pep_star                     19372 non-null  int64  \n",
      " 25  recent_star_status           19372 non-null  int64  \n",
      " 26  recency_status_96nk          19372 non-null  object \n",
      " 27  frequency_status_97nk        19372 non-null  int64  \n",
      " 28  recent_response_prop         19372 non-null  float64\n",
      " 29  recent_avg_gift_amt          19372 non-null  float64\n",
      " 30  recent_card_response_prop    19372 non-null  float64\n",
      " 31  recent_avg_card_gift_amt     19372 non-null  float64\n",
      " 32  recent_response_count        19372 non-null  int64  \n",
      " 33  recent_card_response_count   19372 non-null  int64  \n",
      " 34  months_since_last_prom_resp  19126 non-null  float64\n",
      " 35  lifetime_card_prom           19372 non-null  int64  \n",
      " 36  lifetime_prom                19372 non-null  int64  \n",
      " 37  lifetime_gift_amount         19372 non-null  float64\n",
      " 38  lifetime_gift_count          19372 non-null  int64  \n",
      " 39  lifetime_avg_gift_amt        19372 non-null  float64\n",
      " 40  lifetime_gift_range          19372 non-null  float64\n",
      " 41  lifetime_max_gift_amt        19372 non-null  float64\n",
      " 42  lifetime_min_gift_amt        19372 non-null  float64\n",
      " 43  last_gift_amt                19372 non-null  float64\n",
      " 44  card_prom_12                 19372 non-null  int64  \n",
      " 45  number_prom_12               19372 non-null  int64  \n",
      " 46  months_since_last_gift       19372 non-null  int64  \n",
      " 47  months_since_first_gift      19372 non-null  int64  \n",
      " 48  file_avg_gift                19372 non-null  float64\n",
      " 49  file_card_gift               19372 non-null  int64  \n",
      "dtypes: float64(16), int64(27), object(7)\n",
      "memory usage: 7.4+ MB\n",
      "\n",
      "----------\n",
      "Categorical variables values:\n",
      "urbanicity: ['?' 'R' 'S' 'U' 'C' 'T']\n",
      "\n",
      "ses: ['?' '2' '1' '3' '4']\n",
      "\n",
      "cluster_code: [' .' '45' '11' '04' '49' '08' '50' '28' '30' '43' '53' '42' '46' '20'\n",
      " '16' '40' '07' '34' '23' '35' '41' '25' '10' '01' '09' '02' '12' '14'\n",
      " '37' '36' '15' '39' '38' '18' '48' '24' '03' '13' '31' '05' '27' '19'\n",
      " '51' '22' '17' '26' '21' '44' '06' '29' '33' '47' '32' '52']\n",
      "\n",
      "home_owner: ['H' 'U']\n",
      "\n",
      "donor_gender: ['M' 'F' 'U' 'A']\n",
      "\n",
      "overlay_source: ['P' 'B' 'N' 'M']\n",
      "\n",
      "recency_status_96nk: ['A' 'S' 'F' 'E' 'N' 'L']\n",
      "\n"
     ]
    }
   ],
   "source": [
    "#Checking out the datatypes of the features\r\n",
    "df.info()\r\n",
    "\r\n",
    "print(\"\\n----------\\nCategorical variables values:\")\r\n",
    "#List values for categorical variables\r\n",
    "for name, values in df.iteritems():\r\n",
    "    if(values.dtype != np.float64 and values.dtype != np.int64):\r\n",
    "        print('{name}: {value}\\n'.format(name=name, value=values.unique()))"
   ]
  },
  {
   "cell_type": "code",
   "execution_count": 14,
   "metadata": {},
   "outputs": [],
   "source": [
    "#rename TARGET_B AS Donated\r\n",
    "df.rename(columns={'target_b':'donated', 'target_d': 'amount_donated'}, inplace=True)"
   ]
  },
  {
   "cell_type": "code",
   "execution_count": 15,
   "metadata": {},
   "outputs": [
    {
     "data": {
      "text/plain": [
       "0    14529\n",
       "1     4843\n",
       "Name: donated, dtype: int64"
      ]
     },
     "execution_count": 15,
     "metadata": {},
     "output_type": "execute_result"
    },
    {
     "data": {
      "image/png": "[encoded data removed]",
      "text/plain": [
       "<Figure size 432x432 with 1 Axes>"
      ]
     },
     "metadata": {
      "needs_background": "light"
     },
     "output_type": "display_data"
    }
   ],
   "source": [
    "plt.figure(figsize=(6,6))\r\n",
    "sns.countplot(x='donated', data=df)\r\n",
    "\r\n",
    "df['donated'].value_counts()\r\n",
    "# From the data, we can see that non-donors outnumber actual donors at almost 3 to 1\r\n",
    "# From here we can see the amount of non-donors to donors in our dataset"
   ]
  },
  {
   "cell_type": "code",
   "execution_count": 16,
   "metadata": {},
   "outputs": [
    {
     "data": {
      "image/png": "[encoded data removed]",
      "text/plain": [
       "<Figure size 432x432 with 1 Axes>"
      ]
     },
     "metadata": {},
     "output_type": "display_data"
    },
    {
     "data": {
      "text/plain": [
       "F    10401\n",
       "M     7953\n",
       "U     1017\n",
       "A        1\n",
       "Name: donor_gender, dtype: int64"
      ]
     },
     "execution_count": 16,
     "metadata": {},
     "output_type": "execute_result"
    }
   ],
   "source": [
    "sns.set(style=\"darkgrid\")\r\n",
    "plt.figure(figsize=(6,6))\r\n",
    "sns.countplot(x='donor_gender',\r\n",
    "              hue='donated',\r\n",
    "              data=df,\r\n",
    "             palette='Set1')\r\n",
    "plt.show()\r\n",
    "\r\n",
    "df['donor_gender'].value_counts()\r\n",
    "# This graph shows us that a significant portion of the male and females fall as non-donors"
   ]
  },
  {
   "cell_type": "code",
   "execution_count": 17,
   "metadata": {},
   "outputs": [
    {
     "data": {
      "image/png": "[encoded data removed]",
      "text/plain": [
       "<Figure size 432x432 with 1 Axes>"
      ]
     },
     "metadata": {},
     "output_type": "display_data"
    },
    {
     "data": {
      "text/plain": [
       "H    10606\n",
       "U     8766\n",
       "Name: home_owner, dtype: int64"
      ]
     },
     "execution_count": 17,
     "metadata": {},
     "output_type": "execute_result"
    }
   ],
   "source": [
    "sns.set(style=\"darkgrid\")\r\n",
    "plt.figure(figsize=(6,6))\r\n",
    "sns.countplot(x='home_owner',\r\n",
    "              hue='donated',\r\n",
    "              data=df,\r\n",
    "             palette='Set1')\r\n",
    "plt.show()\r\n",
    "\r\n",
    "df['home_owner'].value_counts()\r\n",
    "# This graph shows us that home ownership is a strong indicator tthat someone will donate"
   ]
  },
  {
   "cell_type": "code",
   "execution_count": 18,
   "metadata": {},
   "outputs": [
    {
     "data": {
      "text/plain": [
       "<AxesSubplot:ylabel='Frequency'>"
      ]
     },
     "execution_count": 18,
     "metadata": {},
     "output_type": "execute_result"
    },
    {
     "data": {
      "image/png": "[encoded data removed]",
      "text/plain": [
       "<Figure size 720x360 with 1 Axes>"
      ]
     },
     "metadata": {},
     "output_type": "display_data"
    }
   ],
   "source": [
    "df['donor_age'].plot.hist(figsize=(10,5))\r\n",
    "# This shows us that most of the donors fall betweeen the ages of 30 - 80 \r\n",
    "# This gives us valuable information o who to target based on age"
   ]
  },
  {
   "cell_type": "code",
   "execution_count": 19,
   "metadata": {},
   "outputs": [
    {
     "data": {
      "image/png": "[encoded data removed]",
      "text/plain": [
       "<Figure size 720x432 with 1 Axes>"
      ]
     },
     "metadata": {},
     "output_type": "display_data"
    }
   ],
   "source": [
    "sns.set(style=\"darkgrid\")\r\n",
    "plt.figure(figsize=(10,6))\r\n",
    "sns.countplot(x='income_group',\r\n",
    "              hue='donor_gender',\r\n",
    "              data=df,\r\n",
    "             palette='Set1')\r\n",
    "plt.show()\r\n",
    "# This graph shows us that across all income groups,females out earn the men. They will also make for a group to target"
   ]
  },
  {
   "cell_type": "code",
   "execution_count": 20,
   "metadata": {},
   "outputs": [
    {
     "data": {
      "image/png": "[encoded data removed]",
      "text/plain": [
       "<Figure size 720x432 with 1 Axes>"
      ]
     },
     "metadata": {},
     "output_type": "display_data"
    },
    {
     "data": {
      "text/plain": [
       "5.0    3149\n",
       "2.0    2626\n",
       "4.0    2526\n",
       "1.0    1822\n",
       "3.0    1699\n",
       "6.0    1591\n",
       "7.0    1567\n",
       "Name: income_group, dtype: int64"
      ]
     },
     "execution_count": 20,
     "metadata": {},
     "output_type": "execute_result"
    }
   ],
   "source": [
    "sns.set(style=\"darkgrid\")\r\n",
    "plt.figure(figsize=(10,6))\r\n",
    "sns.countplot(x='income_group',\r\n",
    "              hue='donated',\r\n",
    "              data=df,\r\n",
    "             palette='Set1')\r\n",
    "plt.show()\r\n",
    "df['income_group'].value_counts()"
   ]
  },
  {
   "cell_type": "markdown",
   "metadata": {},
   "source": [
    "#### It is interesting to see that the on the income group column, users with the income group of level 5 donate more than any other income group. Also level 5 income group users do not donate as much as other income groups. This could as a result of most users falling into income group of level 5"
   ]
  },
  {
   "cell_type": "code",
   "execution_count": 21,
   "metadata": {},
   "outputs": [
    {
     "data": {
      "image/png": "[encoded data removed]",
      "text/plain": [
       "<Figure size 432x432 with 1 Axes>"
      ]
     },
     "metadata": {},
     "output_type": "display_data"
    },
    {
     "data": {
      "text/plain": [
       "H    10606\n",
       "U     8766\n",
       "Name: home_owner, dtype: int64"
      ]
     },
     "execution_count": 21,
     "metadata": {},
     "output_type": "execute_result"
    }
   ],
   "source": [
    "sns.set(style=\"darkgrid\")\r\n",
    "plt.figure(figsize=(6,6))\r\n",
    "sns.countplot(x='home_owner',\r\n",
    "              hue='donor_gender',\r\n",
    "              data=df,\r\n",
    "             palette='Set1')\r\n",
    "plt.show()\r\n",
    "df['home_owner'].value_counts()\r\n",
    "# We also observe that on average females own more homes than men"
   ]
  },
  {
   "cell_type": "code",
   "execution_count": 22,
   "metadata": {},
   "outputs": [
    {
     "data": {
      "image/png": "[encoded data removed]",
      "text/plain": [
       "<Figure size 432x432 with 1 Axes>"
      ]
     },
     "metadata": {},
     "output_type": "display_data"
    },
    {
     "data": {
      "text/plain": [
       "S    4491\n",
       "C    4022\n",
       "R    4005\n",
       "T    3944\n",
       "U    2456\n",
       "?     454\n",
       "Name: urbanicity, dtype: int64"
      ]
     },
     "execution_count": 22,
     "metadata": {},
     "output_type": "execute_result"
    }
   ],
   "source": [
    "sns.set(style=\"darkgrid\")\r\n",
    "plt.figure(figsize=(6,6))\r\n",
    "sns.countplot(x='urbanicity',\r\n",
    "              hue='donated',\r\n",
    "              data=df,\r\n",
    "             palette='Set1')\r\n",
    "plt.show()\r\n",
    "\r\n",
    "df['urbanicity'].value_counts()\r\n",
    "# We observe that the users most likely to donate live in suburban areas. \r\n",
    "# This makes sense as most of this demographic fall between the older age brackets as seen before when we checked age of donors"
   ]
  },
  {
   "cell_type": "code",
   "execution_count": 23,
   "metadata": {},
   "outputs": [
    {
     "data": {
      "image/png": "[encoded data removed]",
      "text/plain": [
       "<Figure size 432x432 with 1 Axes>"
      ]
     },
     "metadata": {},
     "output_type": "display_data"
    },
    {
     "data": {
      "text/plain": [
       "2    9284\n",
       "1    5924\n",
       "3    3323\n",
       "?     454\n",
       "4     387\n",
       "Name: ses, dtype: int64"
      ]
     },
     "execution_count": 23,
     "metadata": {},
     "output_type": "execute_result"
    }
   ],
   "source": [
    "sns.set(style=\"darkgrid\")\r\n",
    "plt.figure(figsize=(6,6))\r\n",
    "sns.countplot(x='ses',\r\n",
    "              hue='donated',\r\n",
    "              data=df,\r\n",
    "             palette='Set1')\r\n",
    "plt.show()\r\n",
    "\r\n",
    "df['ses'].value_counts()\r\n",
    "# This shows that most of the people likely to donate fall into the second social economic status bracket"
   ]
  },
  {
   "cell_type": "code",
   "execution_count": 24,
   "metadata": {},
   "outputs": [
    {
     "data": {
      "text/plain": [
       "<AxesSubplot:ylabel='Frequency'>"
      ]
     },
     "execution_count": 24,
     "metadata": {},
     "output_type": "execute_result"
    },
    {
     "data": {
      "image/png": "[encoded data removed]",
      "text/plain": [
       "<Figure size 720x360 with 1 Axes>"
      ]
     },
     "metadata": {},
     "output_type": "display_data"
    }
   ],
   "source": [
    "df['lifetime_avg_gift_amt'].plot.hist(bins=5, figsize=(10,5))\r\n",
    "# This metric is to show us the average gift amount from donors. From the graph we can see the that this amount is close to a 100"
   ]
  },
  {
   "cell_type": "code",
   "execution_count": 25,
   "metadata": {},
   "outputs": [
    {
     "data": {
      "text/plain": [
       "<AxesSubplot:ylabel='Frequency'>"
      ]
     },
     "execution_count": 25,
     "metadata": {},
     "output_type": "execute_result"
    },
    {
     "data": {
      "image/png": "[encoded data removed]",
      "text/plain": [
       "<Figure size 720x360 with 1 Axes>"
      ]
     },
     "metadata": {},
     "output_type": "display_data"
    }
   ],
   "source": [
    "df['lifetime_gift_amount'].plot.hist(bins=5, figsize=(10,5))\r\n",
    "# This metric is to show us the overall gift amount from donors. From the graph we can see the that this amount is close to a 100"
   ]
  },
  {
   "cell_type": "markdown",
   "metadata": {},
   "source": [
    "## Dealing with Missing Data and Miscellenous Data"
   ]
  },
  {
   "cell_type": "code",
   "execution_count": 26,
   "metadata": {},
   "outputs": [
    {
     "data": {
      "text/plain": [
       "donated                           0\n",
       "amount_donated                    0\n",
       "control_number                    0\n",
       "months_since_origin               0\n",
       "donor_age                      4795\n",
       "in_house                          0\n",
       "urbanicity                        0\n",
       "ses                               0\n",
       "cluster_code                      0\n",
       "home_owner                        0\n",
       "donor_gender                      0\n",
       "income_group                   4392\n",
       "published_phone                   0\n",
       "overlay_source                    0\n",
       "mor_hit_rate                      0\n",
       "wealth_rating                  8810\n",
       "median_home_value                 0\n",
       "median_household_income           0\n",
       "pct_owner_occupied                0\n",
       "per_capita_income                 0\n",
       "pct_attribute1                    0\n",
       "pct_attribute2                    0\n",
       "pct_attribute3                    0\n",
       "pct_attribute4                    0\n",
       "pep_star                          0\n",
       "recent_star_status                0\n",
       "recency_status_96nk               0\n",
       "frequency_status_97nk             0\n",
       "recent_response_prop              0\n",
       "recent_avg_gift_amt               0\n",
       "recent_card_response_prop         0\n",
       "recent_avg_card_gift_amt          0\n",
       "recent_response_count             0\n",
       "recent_card_response_count        0\n",
       "months_since_last_prom_resp     246\n",
       "lifetime_card_prom                0\n",
       "lifetime_prom                     0\n",
       "lifetime_gift_amount              0\n",
       "lifetime_gift_count               0\n",
       "lifetime_avg_gift_amt             0\n",
       "lifetime_gift_range               0\n",
       "lifetime_max_gift_amt             0\n",
       "lifetime_min_gift_amt             0\n",
       "last_gift_amt                     0\n",
       "card_prom_12                      0\n",
       "number_prom_12                    0\n",
       "months_since_last_gift            0\n",
       "months_since_first_gift           0\n",
       "file_avg_gift                     0\n",
       "file_card_gift                    0\n",
       "dtype: int64"
      ]
     },
     "execution_count": 26,
     "metadata": {},
     "output_type": "execute_result"
    }
   ],
   "source": [
    "df.isnull().sum()"
   ]
  },
  {
   "cell_type": "markdown",
   "metadata": {},
   "source": [
    "### The columns with missing data are\r\n",
    "* Donor Age\r\n",
    "* Income Group\r\n",
    "* Wealth Rating\r\n",
    "* Months since last prom Resp"
   ]
  },
  {
   "cell_type": "code",
   "execution_count": 27,
   "metadata": {},
   "outputs": [
    {
     "data": {
      "text/plain": [
       "donated                          int64\n",
       "amount_donated                 float64\n",
       "control_number                   int64\n",
       "months_since_origin              int64\n",
       "donor_age                      float64\n",
       "in_house                         int64\n",
       "urbanicity                      object\n",
       "ses                             object\n",
       "cluster_code                    object\n",
       "home_owner                      object\n",
       "donor_gender                    object\n",
       "income_group                   float64\n",
       "published_phone                  int64\n",
       "overlay_source                  object\n",
       "mor_hit_rate                     int64\n",
       "wealth_rating                  float64\n",
       "median_home_value                int64\n",
       "median_household_income          int64\n",
       "pct_owner_occupied               int64\n",
       "per_capita_income                int64\n",
       "pct_attribute1                   int64\n",
       "pct_attribute2                   int64\n",
       "pct_attribute3                   int64\n",
       "pct_attribute4                   int64\n",
       "pep_star                         int64\n",
       "recent_star_status               int64\n",
       "recency_status_96nk             object\n",
       "frequency_status_97nk            int64\n",
       "recent_response_prop           float64\n",
       "recent_avg_gift_amt            float64\n",
       "recent_card_response_prop      float64\n",
       "recent_avg_card_gift_amt       float64\n",
       "recent_response_count            int64\n",
       "recent_card_response_count       int64\n",
       "months_since_last_prom_resp    float64\n",
       "lifetime_card_prom               int64\n",
       "lifetime_prom                    int64\n",
       "lifetime_gift_amount           float64\n",
       "lifetime_gift_count              int64\n",
       "lifetime_avg_gift_amt          float64\n",
       "lifetime_gift_range            float64\n",
       "lifetime_max_gift_amt          float64\n",
       "lifetime_min_gift_amt          float64\n",
       "last_gift_amt                  float64\n",
       "card_prom_12                     int64\n",
       "number_prom_12                   int64\n",
       "months_since_last_gift           int64\n",
       "months_since_first_gift          int64\n",
       "file_avg_gift                  float64\n",
       "file_card_gift                   int64\n",
       "dtype: object"
      ]
     },
     "execution_count": 27,
     "metadata": {},
     "output_type": "execute_result"
    }
   ],
   "source": [
    "# Checking the datatype of each column\r\n",
    "# Before filling missing values, the column dtypes should first be changed to their appriopriate datatype\r\n",
    "#\r\n",
    "df.dtypes"
   ]
  },
  {
   "cell_type": "code",
   "execution_count": 28,
   "metadata": {},
   "outputs": [
    {
     "data": {
      "text/plain": [
       "(19372, 50)"
      ]
     },
     "execution_count": 28,
     "metadata": {},
     "output_type": "execute_result"
    }
   ],
   "source": [
    "df.shape"
   ]
  },
  {
   "cell_type": "code",
   "execution_count": 29,
   "metadata": {},
   "outputs": [],
   "source": [
    "df['donor_age'] = df['donor_age'].replace(0, np.nan)"
   ]
  },
  {
   "cell_type": "code",
   "execution_count": 30,
   "metadata": {},
   "outputs": [
    {
     "data": {
      "text/plain": [
       "(19372, 50)"
      ]
     },
     "execution_count": 30,
     "metadata": {},
     "output_type": "execute_result"
    }
   ],
   "source": [
    "df.shape"
   ]
  },
  {
   "cell_type": "code",
   "execution_count": 31,
   "metadata": {},
   "outputs": [
    {
     "data": {
      "text/plain": [
       "donated                           0\n",
       "amount_donated                    0\n",
       "control_number                    0\n",
       "months_since_origin               0\n",
       "donor_age                      4797\n",
       "in_house                          0\n",
       "urbanicity                        0\n",
       "ses                               0\n",
       "cluster_code                      0\n",
       "home_owner                        0\n",
       "donor_gender                      0\n",
       "income_group                   4392\n",
       "published_phone                   0\n",
       "overlay_source                    0\n",
       "mor_hit_rate                      0\n",
       "wealth_rating                  8810\n",
       "median_home_value                 0\n",
       "median_household_income           0\n",
       "pct_owner_occupied                0\n",
       "per_capita_income                 0\n",
       "pct_attribute1                    0\n",
       "pct_attribute2                    0\n",
       "pct_attribute3                    0\n",
       "pct_attribute4                    0\n",
       "pep_star                          0\n",
       "recent_star_status                0\n",
       "recency_status_96nk               0\n",
       "frequency_status_97nk             0\n",
       "recent_response_prop              0\n",
       "recent_avg_gift_amt               0\n",
       "recent_card_response_prop         0\n",
       "recent_avg_card_gift_amt          0\n",
       "recent_response_count             0\n",
       "recent_card_response_count        0\n",
       "months_since_last_prom_resp     246\n",
       "lifetime_card_prom                0\n",
       "lifetime_prom                     0\n",
       "lifetime_gift_amount              0\n",
       "lifetime_gift_count               0\n",
       "lifetime_avg_gift_amt             0\n",
       "lifetime_gift_range               0\n",
       "lifetime_max_gift_amt             0\n",
       "lifetime_min_gift_amt             0\n",
       "last_gift_amt                     0\n",
       "card_prom_12                      0\n",
       "number_prom_12                    0\n",
       "months_since_last_gift            0\n",
       "months_since_first_gift           0\n",
       "file_avg_gift                     0\n",
       "file_card_gift                    0\n",
       "dtype: int64"
      ]
     },
     "execution_count": 31,
     "metadata": {},
     "output_type": "execute_result"
    }
   ],
   "source": [
    "df.isnull().sum()"
   ]
  },
  {
   "cell_type": "code",
   "execution_count": 32,
   "metadata": {},
   "outputs": [
    {
     "data": {
      "text/plain": [
       "<AxesSubplot:ylabel='Frequency'>"
      ]
     },
     "execution_count": 32,
     "metadata": {},
     "output_type": "execute_result"
    },
    {
     "data": {
      "image/png": "[encoded data removed]",
      "text/plain": [
       "<Figure size 720x360 with 1 Axes>"
      ]
     },
     "metadata": {},
     "output_type": "display_data"
    }
   ],
   "source": [
    "df['donor_age'].plot.hist(figsize=(10,5))"
   ]
  },
  {
   "cell_type": "markdown",
   "metadata": {},
   "source": [
    "- the data is left-skewed.\r\n",
    "- employ median to fill in missing data"
   ]
  },
  {
   "cell_type": "code",
   "execution_count": 33,
   "metadata": {},
   "outputs": [
    {
     "data": {
      "text/plain": [
       "<AxesSubplot:xlabel='urbanicity', ylabel='donor_age'>"
      ]
     },
     "execution_count": 33,
     "metadata": {},
     "output_type": "execute_result"
    },
    {
     "data": {
      "image/png": "[encoded data removed]",
      "text/plain": [
       "<Figure size 432x288 with 1 Axes>"
      ]
     },
     "metadata": {},
     "output_type": "display_data"
    }
   ],
   "source": [
    "#Plot the variation of urbanicity with age\r\n",
    "sns.boxplot(data = df, x = 'urbanicity', y = 'donor_age')"
   ]
  },
  {
   "cell_type": "code",
   "execution_count": 34,
   "metadata": {},
   "outputs": [
    {
     "data": {
      "text/plain": [
       "<AxesSubplot:xlabel='donor_gender', ylabel='donor_age'>"
      ]
     },
     "execution_count": 34,
     "metadata": {},
     "output_type": "execute_result"
    },
    {
     "data": {
      "image/png": "[encoded data removed]",
      "text/plain": [
       "<Figure size 432x288 with 1 Axes>"
      ]
     },
     "metadata": {},
     "output_type": "display_data"
    }
   ],
   "source": [
    "#Plot the variation of urbanicity with age\r\n",
    "sns.boxplot(data = df, x = 'donor_gender', y = 'donor_age')"
   ]
  },
  {
   "cell_type": "code",
   "execution_count": 35,
   "metadata": {},
   "outputs": [
    {
     "data": {
      "text/plain": [
       "<AxesSubplot:xlabel='home_owner', ylabel='donor_age'>"
      ]
     },
     "execution_count": 35,
     "metadata": {},
     "output_type": "execute_result"
    },
    {
     "data": {
      "image/png": "[encoded data removed]",
      "text/plain": [
       "<Figure size 432x288 with 1 Axes>"
      ]
     },
     "metadata": {},
     "output_type": "display_data"
    }
   ],
   "source": [
    "#Plot the variation of urbanicity with age\r\n",
    "sns.boxplot(data = df, x = 'home_owner', y = 'donor_age')"
   ]
  },
  {
   "cell_type": "code",
   "execution_count": 36,
   "metadata": {},
   "outputs": [
    {
     "data": {
      "text/plain": [
       "urbanicity\n",
       "?    63.0\n",
       "C    64.0\n",
       "R    59.0\n",
       "S    57.0\n",
       "T    59.0\n",
       "U    60.0\n",
       "Name: donor_age, dtype: float64"
      ]
     },
     "execution_count": 36,
     "metadata": {},
     "output_type": "execute_result"
    }
   ],
   "source": [
    "#Obtain the median age per location\r\n",
    "urbanicity_median = df.groupby('urbanicity')['donor_age'].median()\r\n",
    "urbanicity_median"
   ]
  },
  {
   "cell_type": "code",
   "execution_count": 37,
   "metadata": {},
   "outputs": [],
   "source": [
    "#fill in the missing age values in each location with the median age\r\n",
    "for i in df.index:\r\n",
    "    if pd.isnull(df.loc[i,'donor_age']):\r\n",
    "        if df.loc[i, 'urbanicity'] == '?':\r\n",
    "            df.loc[i,'donor_age'] = 63.0\r\n",
    "        elif df.loc[i, 'urbanicity'] == 'C':\r\n",
    "            df.loc[i,'donor_age'] = 64.0\r\n",
    "        elif df.loc[i, 'urbanicity'] == 'R':\r\n",
    "            df.loc[i,'donor_age'] = 59.0\r\n",
    "        elif df.loc[i, 'urbanicity'] == 'S':\r\n",
    "            df.loc[i,'donor_age'] = 57.0\r\n",
    "        elif df.loc[i, 'urbanicity'] == 'T':\r\n",
    "            df.loc[i,'donor_age'] = 59.0\r\n",
    "        elif df.loc[i, 'urbanicity'] == 'U':\r\n",
    "            df.loc[i,'donor_age'] = 60.0\r\n"
   ]
  },
  {
   "cell_type": "code",
   "execution_count": 38,
   "metadata": {},
   "outputs": [
    {
     "data": {
      "text/plain": [
       "<AxesSubplot:ylabel='Frequency'>"
      ]
     },
     "execution_count": 38,
     "metadata": {},
     "output_type": "execute_result"
    },
    {
     "data": {
      "image/png": "[encoded data removed]",
      "text/plain": [
       "<Figure size 720x360 with 1 Axes>"
      ]
     },
     "metadata": {},
     "output_type": "display_data"
    }
   ],
   "source": [
    "df['donor_age'].plot.hist(figsize=(10,5))"
   ]
  },
  {
   "cell_type": "code",
   "execution_count": 39,
   "metadata": {},
   "outputs": [
    {
     "data": {
      "text/plain": [
       "<AxesSubplot:xlabel='urbanicity', ylabel='income_group'>"
      ]
     },
     "execution_count": 39,
     "metadata": {},
     "output_type": "execute_result"
    },
    {
     "data": {
      "image/png": "[encoded data removed]",
      "text/plain": [
       "<Figure size 432x288 with 1 Axes>"
      ]
     },
     "metadata": {},
     "output_type": "display_data"
    }
   ],
   "source": [
    "#Plot the variation of urbanicity with income group\r\n",
    "sns.boxplot(data = df, x = 'urbanicity', y = 'income_group')"
   ]
  },
  {
   "cell_type": "code",
   "execution_count": 40,
   "metadata": {},
   "outputs": [
    {
     "data": {
      "text/plain": [
       "<AxesSubplot:xlabel='donor_gender', ylabel='income_group'>"
      ]
     },
     "execution_count": 40,
     "metadata": {},
     "output_type": "execute_result"
    },
    {
     "data": {
      "image/png": "[encoded data removed]",
      "text/plain": [
       "<Figure size 432x288 with 1 Axes>"
      ]
     },
     "metadata": {},
     "output_type": "display_data"
    }
   ],
   "source": [
    "#Plot the variation of donor gender with income group\r\n",
    "sns.boxplot(data = df, x = 'donor_gender', y = 'income_group')"
   ]
  },
  {
   "cell_type": "code",
   "execution_count": 41,
   "metadata": {},
   "outputs": [
    {
     "data": {
      "text/plain": [
       "<AxesSubplot:xlabel='home_owner', ylabel='income_group'>"
      ]
     },
     "execution_count": 41,
     "metadata": {},
     "output_type": "execute_result"
    },
    {
     "data": {
      "image/png": "[encoded data removed]",
      "text/plain": [
       "<Figure size 432x288 with 1 Axes>"
      ]
     },
     "metadata": {},
     "output_type": "display_data"
    }
   ],
   "source": [
    "#Plot the variation of home owner with income group\r\n",
    "sns.boxplot(data = df, x = 'home_owner', y = 'income_group')"
   ]
  },
  {
   "cell_type": "code",
   "execution_count": 42,
   "metadata": {},
   "outputs": [
    {
     "data": {
      "text/plain": [
       "urbanicity  income_group\n",
       "?           1.0              30\n",
       "            2.0              55\n",
       "            3.0              33\n",
       "            4.0              66\n",
       "            5.0              74\n",
       "            6.0              35\n",
       "            7.0              30\n",
       "C           1.0             452\n",
       "            2.0             647\n",
       "            3.0             335\n",
       "            4.0             529\n",
       "            5.0             640\n",
       "            6.0             278\n",
       "            7.0             281\n",
       "R           1.0             507\n",
       "            2.0             713\n",
       "            3.0             472\n",
       "            4.0             452\n",
       "            5.0             539\n",
       "            6.0             180\n",
       "            7.0             203\n",
       "S           1.0             243\n",
       "            2.0             333\n",
       "            3.0             324\n",
       "            4.0             634\n",
       "            5.0             788\n",
       "            6.0             577\n",
       "            7.0             566\n",
       "T           1.0             318\n",
       "            2.0             590\n",
       "            3.0             382\n",
       "            4.0             540\n",
       "            5.0             707\n",
       "            6.0             318\n",
       "            7.0             320\n",
       "U           1.0             272\n",
       "            2.0             288\n",
       "            3.0             153\n",
       "            4.0             305\n",
       "            5.0             401\n",
       "            6.0             203\n",
       "            7.0             167\n",
       "Name: income_group, dtype: int64"
      ]
     },
     "execution_count": 42,
     "metadata": {},
     "output_type": "execute_result"
    }
   ],
   "source": [
    "#Check the income group by location \r\n",
    "df.groupby(['urbanicity','income_group'])['income_group'].count()"
   ]
  },
  {
   "cell_type": "code",
   "execution_count": 43,
   "metadata": {},
   "outputs": [],
   "source": [
    "for i in df.index:\r\n",
    "    if pd.isnull(df.loc[i,'income_group']):\r\n",
    "        if df.loc[i, 'urbanicity'] == '?':\r\n",
    "            df.loc[i,'income_group'] = 5\r\n",
    "        elif df.loc[i, 'urbanicity'] == 'C':\r\n",
    "            df.loc[i,'income_group'] = 2\r\n",
    "        elif df.loc[i, 'urbanicity'] == 'R':\r\n",
    "            df.loc[i,'income_group'] = 2\r\n",
    "        elif df.loc[i, 'urbanicity'] == 'S':\r\n",
    "            df.loc[i,'income_group'] = 5\r\n",
    "        elif df.loc[i, 'urbanicity'] == 'T':\r\n",
    "            df.loc[i,'income_group'] = 5\r\n",
    "        elif df.loc[i, 'urbanicity'] == 'U':\r\n",
    "            df.loc[i,'income_group'] = 5  \r\n",
    "    "
   ]
  },
  {
   "cell_type": "code",
   "execution_count": 44,
   "metadata": {},
   "outputs": [
    {
     "data": {
      "text/plain": [
       "<AxesSubplot:ylabel='Frequency'>"
      ]
     },
     "execution_count": 44,
     "metadata": {},
     "output_type": "execute_result"
    },
    {
     "data": {
      "image/png": "[encoded data removed]",
      "text/plain": [
       "<Figure size 720x360 with 1 Axes>"
      ]
     },
     "metadata": {},
     "output_type": "display_data"
    }
   ],
   "source": [
    "df['income_group'].plot.hist(figsize=(10,5))"
   ]
  },
  {
   "cell_type": "code",
   "execution_count": 45,
   "metadata": {},
   "outputs": [
    {
     "data": {
      "text/plain": [
       "donated                           0\n",
       "amount_donated                    0\n",
       "control_number                    0\n",
       "months_since_origin               0\n",
       "donor_age                         0\n",
       "in_house                          0\n",
       "urbanicity                        0\n",
       "ses                               0\n",
       "cluster_code                      0\n",
       "home_owner                        0\n",
       "donor_gender                      0\n",
       "income_group                      0\n",
       "published_phone                   0\n",
       "overlay_source                    0\n",
       "mor_hit_rate                      0\n",
       "wealth_rating                  8810\n",
       "median_home_value                 0\n",
       "median_household_income           0\n",
       "pct_owner_occupied                0\n",
       "per_capita_income                 0\n",
       "pct_attribute1                    0\n",
       "pct_attribute2                    0\n",
       "pct_attribute3                    0\n",
       "pct_attribute4                    0\n",
       "pep_star                          0\n",
       "recent_star_status                0\n",
       "recency_status_96nk               0\n",
       "frequency_status_97nk             0\n",
       "recent_response_prop              0\n",
       "recent_avg_gift_amt               0\n",
       "recent_card_response_prop         0\n",
       "recent_avg_card_gift_amt          0\n",
       "recent_response_count             0\n",
       "recent_card_response_count        0\n",
       "months_since_last_prom_resp     246\n",
       "lifetime_card_prom                0\n",
       "lifetime_prom                     0\n",
       "lifetime_gift_amount              0\n",
       "lifetime_gift_count               0\n",
       "lifetime_avg_gift_amt             0\n",
       "lifetime_gift_range               0\n",
       "lifetime_max_gift_amt             0\n",
       "lifetime_min_gift_amt             0\n",
       "last_gift_amt                     0\n",
       "card_prom_12                      0\n",
       "number_prom_12                    0\n",
       "months_since_last_gift            0\n",
       "months_since_first_gift           0\n",
       "file_avg_gift                     0\n",
       "file_card_gift                    0\n",
       "dtype: int64"
      ]
     },
     "execution_count": 45,
     "metadata": {},
     "output_type": "execute_result"
    }
   ],
   "source": [
    "df.isnull().sum()"
   ]
  },
  {
   "cell_type": "code",
   "execution_count": 46,
   "metadata": {},
   "outputs": [
    {
     "data": {
      "text/plain": [
       "9.0    1390\n",
       "8.0    1248\n",
       "7.0    1199\n",
       "6.0    1117\n",
       "5.0    1078\n",
       "3.0    1046\n",
       "4.0     987\n",
       "2.0     974\n",
       "1.0     854\n",
       "0.0     669\n",
       "Name: wealth_rating, dtype: int64"
      ]
     },
     "execution_count": 46,
     "metadata": {},
     "output_type": "execute_result"
    },
    {
     "data": {
      "image/png": "[encoded data removed]",
      "text/plain": [
       "<Figure size 432x432 with 1 Axes>"
      ]
     },
     "metadata": {},
     "output_type": "display_data"
    }
   ],
   "source": [
    "plt.figure(figsize=(6,6))\r\n",
    "sns.countplot(x='wealth_rating', data=df)\r\n",
    "\r\n",
    "df['wealth_rating'].value_counts()\r\n",
    "# From the data, we can see that non-donors outnumber actual donors at almost 3 to 1\r\n",
    "# From here we can see the amount of non-donors to donors in our dataset"
   ]
  },
  {
   "cell_type": "code",
   "execution_count": 47,
   "metadata": {},
   "outputs": [
    {
     "data": {
      "text/plain": [
       "<AxesSubplot:xlabel='urbanicity', ylabel='wealth_rating'>"
      ]
     },
     "execution_count": 47,
     "metadata": {},
     "output_type": "execute_result"
    },
    {
     "data": {
      "image/png": "[encoded data removed]",
      "text/plain": [
       "<Figure size 432x288 with 1 Axes>"
      ]
     },
     "metadata": {},
     "output_type": "display_data"
    }
   ],
   "source": [
    "#Plot the variation of urbanicity with wealth rating\r\n",
    "sns.boxplot(data = df, x = 'urbanicity', y = 'wealth_rating')"
   ]
  },
  {
   "cell_type": "code",
   "execution_count": 48,
   "metadata": {},
   "outputs": [
    {
     "data": {
      "text/plain": [
       "<AxesSubplot:xlabel='donor_gender', ylabel='wealth_rating'>"
      ]
     },
     "execution_count": 48,
     "metadata": {},
     "output_type": "execute_result"
    },
    {
     "data": {
      "image/png": "[encoded data removed]",
      "text/plain": [
       "<Figure size 432x288 with 1 Axes>"
      ]
     },
     "metadata": {},
     "output_type": "display_data"
    }
   ],
   "source": [
    "#Plot the variation of donor gender with wealth rating\r\n",
    "sns.boxplot(data = df, x = 'donor_gender', y = 'wealth_rating')"
   ]
  },
  {
   "cell_type": "code",
   "execution_count": 49,
   "metadata": {},
   "outputs": [
    {
     "data": {
      "text/plain": [
       "<AxesSubplot:xlabel='home_owner', ylabel='wealth_rating'>"
      ]
     },
     "execution_count": 49,
     "metadata": {},
     "output_type": "execute_result"
    },
    {
     "data": {
      "image/png": "[encoded data removed]",
      "text/plain": [
       "<Figure size 432x288 with 1 Axes>"
      ]
     },
     "metadata": {},
     "output_type": "display_data"
    }
   ],
   "source": [
    "#Plot the variation of home ownership with wealth rating\r\n",
    "sns.boxplot(data = df, x = 'home_owner', y = 'wealth_rating')"
   ]
  },
  {
   "cell_type": "code",
   "execution_count": 50,
   "metadata": {},
   "outputs": [
    {
     "data": {
      "text/plain": [
       "urbanicity  wealth_rating\n",
       "?           0.0               12\n",
       "            1.0               15\n",
       "            2.0               29\n",
       "            3.0               26\n",
       "            4.0               20\n",
       "            5.0               17\n",
       "            6.0               24\n",
       "            7.0               26\n",
       "            8.0               31\n",
       "            9.0               33\n",
       "C           0.0              182\n",
       "            1.0              174\n",
       "            2.0              167\n",
       "            3.0              190\n",
       "            4.0              199\n",
       "            5.0              218\n",
       "            6.0              217\n",
       "            7.0              265\n",
       "            8.0              253\n",
       "            9.0              295\n",
       "R           0.0              240\n",
       "            1.0              367\n",
       "            2.0              414\n",
       "            3.0              335\n",
       "            4.0              278\n",
       "            5.0              237\n",
       "            6.0              178\n",
       "            7.0              129\n",
       "            8.0               80\n",
       "            9.0               39\n",
       "S           0.0               22\n",
       "            1.0               37\n",
       "            2.0               68\n",
       "            3.0              137\n",
       "            4.0              148\n",
       "            5.0              212\n",
       "            6.0              284\n",
       "            7.0              377\n",
       "            8.0              460\n",
       "            9.0              656\n",
       "T           0.0              110\n",
       "            1.0              161\n",
       "            2.0              192\n",
       "            3.0              222\n",
       "            4.0              216\n",
       "            5.0              250\n",
       "            6.0              248\n",
       "            7.0              272\n",
       "            8.0              277\n",
       "            9.0              240\n",
       "U           0.0              103\n",
       "            1.0              100\n",
       "            2.0              104\n",
       "            3.0              136\n",
       "            4.0              126\n",
       "            5.0              144\n",
       "            6.0              166\n",
       "            7.0              130\n",
       "            8.0              147\n",
       "            9.0              127\n",
       "Name: wealth_rating, dtype: int64"
      ]
     },
     "execution_count": 50,
     "metadata": {},
     "output_type": "execute_result"
    }
   ],
   "source": [
    "#Check the wealth rating by location \r\n",
    "df.groupby(['urbanicity','wealth_rating'])['wealth_rating'].count()"
   ]
  },
  {
   "cell_type": "code",
   "execution_count": 51,
   "metadata": {},
   "outputs": [],
   "source": [
    "for i in df.index:\r\n",
    "    if pd.isnull(df.loc[i,'wealth_rating']):\r\n",
    "        if df.loc[i, 'urbanicity'] == '?':\r\n",
    "            df.loc[i,'wealth_rating'] = 9\r\n",
    "        elif df.loc[i, 'urbanicity'] == 'C':\r\n",
    "            df.loc[i,'wealth_rating'] = 9\r\n",
    "        elif df.loc[i, 'urbanicity'] == 'R':\r\n",
    "            df.loc[i,'wealth_rating'] = 2\r\n",
    "        elif df.loc[i, 'urbanicity'] == 'S':\r\n",
    "            df.loc[i,'wealth_rating'] = 9\r\n",
    "        elif df.loc[i, 'urbanicity'] == 'T':\r\n",
    "            df.loc[i,'wealth_rating'] = 8\r\n",
    "        elif df.loc[i, 'urbanicity'] == 'U':\r\n",
    "            df.loc[i,'wealth_rating'] = 6  \r\n",
    "    "
   ]
  },
  {
   "cell_type": "code",
   "execution_count": 52,
   "metadata": {},
   "outputs": [
    {
     "data": {
      "text/plain": [
       "donated                          0\n",
       "amount_donated                   0\n",
       "control_number                   0\n",
       "months_since_origin              0\n",
       "donor_age                        0\n",
       "in_house                         0\n",
       "urbanicity                       0\n",
       "ses                              0\n",
       "cluster_code                     0\n",
       "home_owner                       0\n",
       "donor_gender                     0\n",
       "income_group                     0\n",
       "published_phone                  0\n",
       "overlay_source                   0\n",
       "mor_hit_rate                     0\n",
       "wealth_rating                    0\n",
       "median_home_value                0\n",
       "median_household_income          0\n",
       "pct_owner_occupied               0\n",
       "per_capita_income                0\n",
       "pct_attribute1                   0\n",
       "pct_attribute2                   0\n",
       "pct_attribute3                   0\n",
       "pct_attribute4                   0\n",
       "pep_star                         0\n",
       "recent_star_status               0\n",
       "recency_status_96nk              0\n",
       "frequency_status_97nk            0\n",
       "recent_response_prop             0\n",
       "recent_avg_gift_amt              0\n",
       "recent_card_response_prop        0\n",
       "recent_avg_card_gift_amt         0\n",
       "recent_response_count            0\n",
       "recent_card_response_count       0\n",
       "months_since_last_prom_resp    246\n",
       "lifetime_card_prom               0\n",
       "lifetime_prom                    0\n",
       "lifetime_gift_amount             0\n",
       "lifetime_gift_count              0\n",
       "lifetime_avg_gift_amt            0\n",
       "lifetime_gift_range              0\n",
       "lifetime_max_gift_amt            0\n",
       "lifetime_min_gift_amt            0\n",
       "last_gift_amt                    0\n",
       "card_prom_12                     0\n",
       "number_prom_12                   0\n",
       "months_since_last_gift           0\n",
       "months_since_first_gift          0\n",
       "file_avg_gift                    0\n",
       "file_card_gift                   0\n",
       "dtype: int64"
      ]
     },
     "execution_count": 52,
     "metadata": {},
     "output_type": "execute_result"
    }
   ],
   "source": [
    "df.isnull().sum()"
   ]
  },
  {
   "cell_type": "code",
   "execution_count": 53,
   "metadata": {},
   "outputs": [
    {
     "data": {
      "text/plain": [
       "<AxesSubplot:ylabel='Frequency'>"
      ]
     },
     "execution_count": 53,
     "metadata": {},
     "output_type": "execute_result"
    },
    {
     "data": {
      "image/png": "[encoded data removed]",
      "text/plain": [
       "<Figure size 720x360 with 1 Axes>"
      ]
     },
     "metadata": {},
     "output_type": "display_data"
    }
   ],
   "source": [
    "df['wealth_rating'].plot.hist(figsize=(10,5))"
   ]
  },
  {
   "cell_type": "code",
   "execution_count": 54,
   "metadata": {},
   "outputs": [
    {
     "data": {
      "text/plain": [
       "donated                          int64\n",
       "amount_donated                 float64\n",
       "control_number                   int64\n",
       "months_since_origin              int64\n",
       "donor_age                      float64\n",
       "in_house                         int64\n",
       "urbanicity                      object\n",
       "ses                             object\n",
       "cluster_code                    object\n",
       "home_owner                      object\n",
       "donor_gender                    object\n",
       "income_group                   float64\n",
       "published_phone                  int64\n",
       "overlay_source                  object\n",
       "mor_hit_rate                     int64\n",
       "wealth_rating                  float64\n",
       "median_home_value                int64\n",
       "median_household_income          int64\n",
       "pct_owner_occupied               int64\n",
       "per_capita_income                int64\n",
       "pct_attribute1                   int64\n",
       "pct_attribute2                   int64\n",
       "pct_attribute3                   int64\n",
       "pct_attribute4                   int64\n",
       "pep_star                         int64\n",
       "recent_star_status               int64\n",
       "recency_status_96nk             object\n",
       "frequency_status_97nk            int64\n",
       "recent_response_prop           float64\n",
       "recent_avg_gift_amt            float64\n",
       "recent_card_response_prop      float64\n",
       "recent_avg_card_gift_amt       float64\n",
       "recent_response_count            int64\n",
       "recent_card_response_count       int64\n",
       "months_since_last_prom_resp    float64\n",
       "lifetime_card_prom               int64\n",
       "lifetime_prom                    int64\n",
       "lifetime_gift_amount           float64\n",
       "lifetime_gift_count              int64\n",
       "lifetime_avg_gift_amt          float64\n",
       "lifetime_gift_range            float64\n",
       "lifetime_max_gift_amt          float64\n",
       "lifetime_min_gift_amt          float64\n",
       "last_gift_amt                  float64\n",
       "card_prom_12                     int64\n",
       "number_prom_12                   int64\n",
       "months_since_last_gift           int64\n",
       "months_since_first_gift          int64\n",
       "file_avg_gift                  float64\n",
       "file_card_gift                   int64\n",
       "dtype: object"
      ]
     },
     "execution_count": 54,
     "metadata": {},
     "output_type": "execute_result"
    }
   ],
   "source": [
    "df.dtypes"
   ]
  },
  {
   "cell_type": "code",
   "execution_count": 55,
   "metadata": {},
   "outputs": [
    {
     "data": {
      "text/plain": [
       "<AxesSubplot:ylabel='Frequency'>"
      ]
     },
     "execution_count": 55,
     "metadata": {},
     "output_type": "execute_result"
    },
    {
     "data": {
      "image/png": "[encoded data removed]",
      "text/plain": [
       "<Figure size 720x360 with 1 Axes>"
      ]
     },
     "metadata": {},
     "output_type": "display_data"
    }
   ],
   "source": [
    "df['months_since_last_prom_resp'].plot.hist(figsize=(10,5))"
   ]
  },
  {
   "cell_type": "code",
   "execution_count": 56,
   "metadata": {},
   "outputs": [
    {
     "data": {
      "text/plain": [
       "<AxesSubplot:xlabel='urbanicity', ylabel='months_since_last_prom_resp'>"
      ]
     },
     "execution_count": 56,
     "metadata": {},
     "output_type": "execute_result"
    },
    {
     "data": {
      "image/png": "[encoded data removed]",
      "text/plain": [
       "<Figure size 432x288 with 1 Axes>"
      ]
     },
     "metadata": {},
     "output_type": "display_data"
    }
   ],
   "source": [
    "#Plot the variation of urbanicity with Month since last promotion response\r\n",
    "sns.boxplot(data = df, x = 'urbanicity', y = 'months_since_last_prom_resp')"
   ]
  },
  {
   "cell_type": "code",
   "execution_count": 57,
   "metadata": {},
   "outputs": [
    {
     "data": {
      "text/plain": [
       "<AxesSubplot:xlabel='donor_gender', ylabel='months_since_last_prom_resp'>"
      ]
     },
     "execution_count": 57,
     "metadata": {},
     "output_type": "execute_result"
    },
    {
     "data": {
      "image/png": "[encoded data removed]",
      "text/plain": [
       "<Figure size 432x288 with 1 Axes>"
      ]
     },
     "metadata": {},
     "output_type": "display_data"
    }
   ],
   "source": [
    "#Plot the variation of donor gender with Month since last promotion response\r\n",
    "sns.boxplot(data = df, x = 'donor_gender', y = 'months_since_last_prom_resp')"
   ]
  },
  {
   "cell_type": "code",
   "execution_count": 58,
   "metadata": {},
   "outputs": [
    {
     "data": {
      "text/plain": [
       "<AxesSubplot:xlabel='home_owner', ylabel='months_since_last_prom_resp'>"
      ]
     },
     "execution_count": 58,
     "metadata": {},
     "output_type": "execute_result"
    },
    {
     "data": {
      "image/png": "[encoded data removed]",
      "text/plain": [
       "<Figure size 432x288 with 1 Axes>"
      ]
     },
     "metadata": {},
     "output_type": "display_data"
    }
   ],
   "source": [
    "#Plot the variation of home owner with Month since last promotion response\r\n",
    "sns.boxplot(data = df, x = 'home_owner', y = 'months_since_last_prom_resp')"
   ]
  },
  {
   "cell_type": "code",
   "execution_count": 59,
   "metadata": {},
   "outputs": [
    {
     "data": {
      "text/plain": [
       "urbanicity\n",
       "?    18.0\n",
       "C    18.0\n",
       "R    18.0\n",
       "S    18.0\n",
       "T    18.0\n",
       "U    18.0\n",
       "Name: months_since_last_prom_resp, dtype: float64"
      ]
     },
     "execution_count": 59,
     "metadata": {},
     "output_type": "execute_result"
    }
   ],
   "source": [
    "#Obtain the median Month since last promotion response per location\r\n",
    "months_since_last_prom_resp_urbanicity_median = df.groupby('urbanicity')['months_since_last_prom_resp'].median()\r\n",
    "months_since_last_prom_resp_urbanicity_median"
   ]
  },
  {
   "cell_type": "code",
   "execution_count": 60,
   "metadata": {},
   "outputs": [],
   "source": [
    "#fill in the missing age values in each location with the median age\r\n",
    "for i in df.index:\r\n",
    "    if pd.isnull(df.loc[i,'months_since_last_prom_resp']):\r\n",
    "        if df.loc[i, 'urbanicity'] == '?':\r\n",
    "            df.loc[i,'months_since_last_prom_resp'] = 18\r\n",
    "        elif df.loc[i, 'urbanicity'] == 'C':\r\n",
    "            df.loc[i,'months_since_last_prom_resp'] = 18\r\n",
    "        elif df.loc[i, 'urbanicity'] == 'R':\r\n",
    "            df.loc[i,'months_since_last_prom_resp'] = 18\r\n",
    "        elif df.loc[i, 'urbanicity'] == 'S':\r\n",
    "            df.loc[i,'months_since_last_prom_resp'] = 18\r\n",
    "        elif df.loc[i, 'urbanicity'] == 'T':\r\n",
    "            df.loc[i,'months_since_last_prom_resp'] = 18\r\n",
    "        elif df.loc[i, 'urbanicity'] == 'U':\r\n",
    "            df.loc[i,'months_since_last_prom_resp'] = 18\r\n"
   ]
  },
  {
   "cell_type": "code",
   "execution_count": 61,
   "metadata": {},
   "outputs": [
    {
     "data": {
      "text/plain": [
       "<AxesSubplot:ylabel='Frequency'>"
      ]
     },
     "execution_count": 61,
     "metadata": {},
     "output_type": "execute_result"
    },
    {
     "data": {
      "image/png": "[encoded data removed]",
      "text/plain": [
       "<Figure size 720x360 with 1 Axes>"
      ]
     },
     "metadata": {},
     "output_type": "display_data"
    }
   ],
   "source": [
    "df['months_since_last_prom_resp'].plot.hist(figsize=(10,5))"
   ]
  },
  {
   "cell_type": "code",
   "execution_count": 62,
   "metadata": {},
   "outputs": [
    {
     "data": {
      "text/plain": [
       "donated                        0\n",
       "amount_donated                 0\n",
       "control_number                 0\n",
       "months_since_origin            0\n",
       "donor_age                      0\n",
       "in_house                       0\n",
       "urbanicity                     0\n",
       "ses                            0\n",
       "cluster_code                   0\n",
       "home_owner                     0\n",
       "donor_gender                   0\n",
       "income_group                   0\n",
       "published_phone                0\n",
       "overlay_source                 0\n",
       "mor_hit_rate                   0\n",
       "wealth_rating                  0\n",
       "median_home_value              0\n",
       "median_household_income        0\n",
       "pct_owner_occupied             0\n",
       "per_capita_income              0\n",
       "pct_attribute1                 0\n",
       "pct_attribute2                 0\n",
       "pct_attribute3                 0\n",
       "pct_attribute4                 0\n",
       "pep_star                       0\n",
       "recent_star_status             0\n",
       "recency_status_96nk            0\n",
       "frequency_status_97nk          0\n",
       "recent_response_prop           0\n",
       "recent_avg_gift_amt            0\n",
       "recent_card_response_prop      0\n",
       "recent_avg_card_gift_amt       0\n",
       "recent_response_count          0\n",
       "recent_card_response_count     0\n",
       "months_since_last_prom_resp    0\n",
       "lifetime_card_prom             0\n",
       "lifetime_prom                  0\n",
       "lifetime_gift_amount           0\n",
       "lifetime_gift_count            0\n",
       "lifetime_avg_gift_amt          0\n",
       "lifetime_gift_range            0\n",
       "lifetime_max_gift_amt          0\n",
       "lifetime_min_gift_amt          0\n",
       "last_gift_amt                  0\n",
       "card_prom_12                   0\n",
       "number_prom_12                 0\n",
       "months_since_last_gift         0\n",
       "months_since_first_gift        0\n",
       "file_avg_gift                  0\n",
       "file_card_gift                 0\n",
       "dtype: int64"
      ]
     },
     "execution_count": 62,
     "metadata": {},
     "output_type": "execute_result"
    }
   ],
   "source": [
    "df.isnull().sum()"
   ]
  },
  {
   "cell_type": "markdown",
   "metadata": {},
   "source": [
    "## Dealing with miscellaneous data"
   ]
  },
  {
   "cell_type": "markdown",
   "metadata": {},
   "source": [
    "#### Despite the fact that there are no \"missing\" values, there are some misellaneous values in the data set like '?' and   ' .'\r\n",
    "#### We will deal with them now"
   ]
  },
  {
   "cell_type": "code",
   "execution_count": 63,
   "metadata": {},
   "outputs": [
    {
     "name": "stdout",
     "output_type": "stream",
     "text": [
      "donated\n",
      "2\n",
      "[0 1]\n",
      "\n",
      "\n",
      "amount_donated\n",
      "71\n",
      "[  0.    10.     5.    16.     3.    12.     8.    15.    33.    20.\n",
      "  25.    35.     2.    11.    18.    40.    21.    32.    30.    14.\n",
      "  24.    50.    12.5    7.     9.     4.     6.    28.    13.    17.\n",
      "  27.    36.    22.    23.    31.    19.    48.    75.   100.    47.\n",
      "  44.    95.     1.   102.   101.    34.    10.7   60.    45.    26.\n",
      "  17.5   16.87  38.    41.   200.    37.    18.25  29.    51.    46.\n",
      "  42.     2.5   43.    53.     7.5    5.25  55.     4.5   44.21  13.92\n",
      " 150.  ]\n",
      "\n",
      "\n",
      "control_number\n",
      "19372\n",
      "[     5     12     37 ... 191746 191775 191779]\n",
      "\n",
      "\n",
      "months_since_origin\n",
      "28\n",
      "[101 137 113  92  89 125  77  65  17  53  41   5  29  19  21 122 127 124\n",
      "  57 134  54 130  32 115  67 119  40 129]\n",
      "\n",
      "\n",
      "donor_age\n",
      "79\n",
      "[87. 79. 75. 60. 74. 63. 71. 41. 59. 73. 81. 76. 69. 45. 43. 55. 77. 37.\n",
      " 52. 30. 64. 67. 65. 42. 57. 58. 56. 80. 82. 48. 85. 47. 70. 40. 32. 53.\n",
      " 86. 54. 33. 49.  7. 17. 78. 50. 39. 66. 51. 72. 38. 61. 68. 24. 16. 84.\n",
      " 44. 34. 83. 35. 29. 26. 27. 46. 31. 62. 23. 36. 18.  6. 25. 28. 19. 21.\n",
      " 22.  2. 12. 20. 15.  4. 14.]\n",
      "\n",
      "\n",
      "in_house\n",
      "2\n",
      "[0 1]\n",
      "\n",
      "\n",
      "urbanicity\n",
      "6\n",
      "['?' 'R' 'S' 'U' 'C' 'T']\n",
      "\n",
      "\n",
      "ses\n",
      "5\n",
      "['?' '2' '1' '3' '4']\n",
      "\n",
      "\n",
      "cluster_code\n",
      "54\n",
      "[' .' '45' '11' '04' '49' '08' '50' '28' '30' '43' '53' '42' '46' '20'\n",
      " '16' '40' '07' '34' '23' '35' '41' '25' '10' '01' '09' '02' '12' '14'\n",
      " '37' '36' '15' '39' '38' '18' '48' '24' '03' '13' '31' '05' '27' '19'\n",
      " '51' '22' '17' '26' '21' '44' '06' '29' '33' '47' '32' '52']\n",
      "\n",
      "\n",
      "home_owner\n",
      "2\n",
      "['H' 'U']\n",
      "\n",
      "\n",
      "donor_gender\n",
      "4\n",
      "['M' 'F' 'U' 'A']\n",
      "\n",
      "\n",
      "income_group\n",
      "7\n",
      "[2. 7. 5. 6. 3. 1. 4.]\n",
      "\n",
      "\n",
      "published_phone\n",
      "2\n",
      "[0 1]\n",
      "\n",
      "\n",
      "overlay_source\n",
      "4\n",
      "['P' 'B' 'N' 'M']\n",
      "\n",
      "\n",
      "mor_hit_rate\n",
      "65\n",
      "[  0   8  17  24   7  32   4   6  10  11   1   2  12  15  18   3  13  14\n",
      "  23  38   5  19  20  16  25   9  51  33  30  28  29  27  21 240  26  22\n",
      "  31  47  55  49  42  53  34  61  44  39  50  45  36  43  37  35  48  59\n",
      "  40  75  58  41  56  64  60  65  46  57 241]\n",
      "\n",
      "\n",
      "wealth_rating\n",
      "10\n",
      "[9. 3. 4. 5. 6. 7. 2. 1. 8. 0.]\n",
      "\n",
      "\n",
      "median_home_value\n",
      "3130\n",
      "[ 554  334 2388 ... 3715 2143 2288]\n",
      "\n",
      "\n",
      "median_household_income\n",
      "924\n",
      "[ 294  212  405  153  328  182  122  189  180  307  179  163  256  219\n",
      "  227  299  236  255  240  340  387  450  358  222  152  331  327  297\n",
      "  544  301  117 1375  402  221  133  485  375  162  521  413  594  408\n",
      "  199  318   91  325  218  225  282  525  909  192  436  200  582  564\n",
      "  454  161  223  343  377  281  362  296  337  534  105  665  507  495\n",
      "  369  342  695  578  344  214  550  269  417  232  298  304  539  352\n",
      "  146  404  286  471  178  703  253  392  290  196  483  279  395  354\n",
      "  239  349  233  584  773  207  142  430  315  314  250  197  583  814\n",
      "  333  437  931  198  380  403  613  498  330  423  473  288  426    0\n",
      "  203  462  309  263  397  259  537  599  441  618  504  247  475  759\n",
      "  266  459  190  418  421  466  568  976  632  542  176  509  776 1500\n",
      "  346  114 1386  241  188 1103  265  427  308  648  786  260  131  157\n",
      "  244  517  489  429  363  326  262  186  305  615  370  394  355  558\n",
      "  379  735  591  381  243  258  193  538  217  224  285  274  373  366\n",
      "  411  209  488  332  251  336  412  280  479  611  549  400  230  817\n",
      "  170  175  374  195  406  323  574  302  524  292  319  633  425  278\n",
      "  338  205  257  474  514  422  185  322  103  371  160  451  320  388\n",
      "  321  210  303  306  367   50  234  238  416  245  324  391  108  165\n",
      "  202  491  213  368   76  434  383  216  215  148  432  284  647  552\n",
      "  112  965  169  467  562  360  341  293   74  386  334  228  289  300\n",
      "  277  396  287  546  661  522  276  137  235  144  145  614  484 1068\n",
      "  271  642  668  445  439  610  444   93  555  778  862  766  138  527\n",
      "  310  398  420  273  335  453  267  313  242  345  616  248  291  155\n",
      "  687 1033  125  249  168  173  523  329  655  204  191  493  351  353\n",
      "  551  585  461  159  589  486  801  660  676 1060  807  100  442  440\n",
      "  871  382  226  201  653  171  643  136  272  134  496  295  364  508\n",
      "  424  167  619  772  446  359  365  598  732  511  126  220  575  174\n",
      "  528  264  254  576  208  827 1178  603  311  410  357  510  433  237\n",
      "  147  587  252  520  701  581  637  472  490  983  419  393  770  246\n",
      "  884  460  689  478  779  592  231  384  206  376  468  283  502  158\n",
      "  261  229  515 1330   97  130  183  662  443  811  458  385  166  118\n",
      "  127   55  211  164 1490  953  317  275  547  187  143  177  573   83\n",
      "  516  692  579  316  414  356  723  456  378  110  455  111  499  194\n",
      "  415  407  449  465  181  270  469 1122  556  428  593  645  140  634\n",
      "  503  787  595  500  312  389  541  184  464  752  399  791  565 1200\n",
      "  566  563  559  629  545  268  560  631  348  553  470  750  680  401\n",
      "  463  937 1012  644  749  691  476  156  104  150  339  740  494  601\n",
      "  737  361  721  350  840  677  671  609  540  569  141  628  482  519\n",
      "  535  532  674  480 1036  739  518  121  372  649  753 1144  781  664\n",
      "  457  783  438  149   84  501  667  709  513  715  543  658  390  128\n",
      "   73  755  984  481  347  452   79  409  622  505  580  132  577  123\n",
      "  908  530  608  651  713   70  905  435  512  533  572  625  172   61\n",
      "  431  767  620  497  612  726  670  526  794  717  154  477  722  641\n",
      "  605  506  531 1148 1008   96 1157 1263  982 1121 1090  978  646  487\n",
      "   68  673  630  719  151   89  724  764   57  135  119   95  570  672\n",
      "  780  124  846  602  640  711  675  682   58   99 1022   87  856  716\n",
      "  107  696  607  693  685  115  116  704 1067  448   85   98  729  736\n",
      "   72  529  129 1273  586  744   92   63  447   77  139  627   88 1488\n",
      "  621   90 1236  683   78  588  536   86  567  635  109  881  849  821\n",
      "  853  733   80  788  697  943  606  818  762  738  548  792  914  841\n",
      "  712  557  638   69   67 1275  897  492  624  669  597   52  113  923\n",
      "  652 1351  956 1028  777  920  844  800  623 1376  771  654  785  809\n",
      "  829  988  686 1198  617  742  102  120  571   75  699  561  873  600\n",
      "  596  710  554 1107 1035  761  891  869  636  901  656 1196  815  702\n",
      "  639  964  805  604  679 1159 1024 1151  706  760 1047  768  694  878\n",
      " 1245  913  754   54  688   56 1073   94   71   60  867   81  590  833\n",
      " 1339   62  714   65  907   82  823  933  101   53  911  730 1029  789\n",
      "  705  650  796   64  708  684  992  758 1358 1211  659 1086  681  808\n",
      "  906 1162  806 1085  866  745  751  927  756 1109  925  980 1287  798\n",
      "  626  993  700 1299  774  828 1329 1357  852 1395 1285  816 1184 1120\n",
      "  845  727 1019  810 1006  912  698  769  870  887  981 1054  837  663\n",
      " 1023  813  960  678 1091  830  799  865  842 1092 1289 1130  850  882\n",
      "  952 1062  106  763  666 1013 1096 1083  922 1016 1017  725  720 1040\n",
      " 1106  690  874  824  945  747  820  877  782 1264 1168  892  757  839\n",
      " 1214  748 1066  657 1074  880  987  804 1032 1037 1094  896 1221 1186\n",
      "  784  838  819 1234  847  959 1110  728  741  904  917 1278  832  940]\n",
      "\n",
      "\n",
      "pct_owner_occupied\n",
      "100\n",
      "[76 72 63  3 90 51 68 95 56 86 41 79 80 77 70 81 48 53 83 52 42 87 65  0\n",
      " 97 26 10 28 84 94 47 93 89 75  8 61 92 98 38 67 82 74 66 22 36 88 11 78\n",
      " 62 49  2 60 14 59 69 64 73 96 71 50 57 43 85 40 27 91 16 37 45 58 39 35\n",
      " 55 54 46 30  1 44 33  5 34 29 21 17 99  6 32 24 15 19 23 20  9 13  4 18\n",
      " 31 25  7 12]\n",
      "\n",
      "\n",
      "per_capita_income\n",
      "11418\n",
      "[11855 10385 30855 ... 18431 22294 35544]\n",
      "\n",
      "\n",
      "pct_attribute1\n",
      "72\n",
      "[ 0  3  2  1  7 20 10  4 24 12 19 11  5 34  8 18  6 16 23 32 13 21 37  9\n",
      " 14 82 31 33 17 39 27 38 36 96 30 57 47 53 55 44 43 42 49 59 41 92 26 93\n",
      " 15 22 58 25 52 29 76 60 89 35 64 40 94 88 28 97 54 87 75 86 83 69 73 85]\n",
      "\n",
      "\n",
      "pct_attribute2\n",
      "83\n",
      "[ 0 41 25 33 57 17 44 51 43 32 46 30 34 47 49 42 50 27 24 23 14 29 38 12\n",
      " 20 31 21 39 19 40 22 36 48 58  7 45 10 37 35 18 28 26 60 55 11 16 69 53\n",
      " 13  6 79  8 15 52 63 62 67 85  9 59 66  4  5 54 61  1 56  2 64  3 76 77\n",
      " 70 68 65 71 84 78 75 73 72 99 82]\n",
      "\n",
      "\n",
      "pct_attribute3\n",
      "89\n",
      "[ 0 21 26 32 36 38 11 49 45 33 22 19 24 37 43 53 17 14 20 70 62  7 39 30\n",
      " 55 18 28 27 16  9 40 46 50 29 54  5 34 35 71 65 23 31 48 57 13 75  8 69\n",
      " 15 56 42 51 76 82  4 41 25 52 12  3 66 61 72 99 47 58 79 44  6 10 68 63\n",
      " 60  2 64 77 59 67 73 84 81 89 74 78  1 80 92 87 85]\n",
      "\n",
      "\n",
      "pct_attribute4\n",
      "100\n",
      "[ 0 31 57 42 37 34 51 50 45 29 70 43 39 53 46 23 33 10 60 71 21 26 64 13\n",
      " 25 17 41  7 65 40 19 22 55  8 49 54 86 52 18 11 28 14 63 35 44 59 15 24\n",
      " 56 20 30 12 47 38 27 32  6  5 67  9 16 48  4 75 69 36 58 89 61 62 81 73\n",
      " 66 74 82 83 76 72 94 68 85 80 99 78 87  3 96 98  1  2 88 77 79 84 91 97\n",
      " 90 95 92 93]\n",
      "\n",
      "\n",
      "pep_star\n",
      "2\n",
      "[1 0]\n",
      "\n",
      "\n",
      "recent_star_status\n",
      "23\n",
      "[ 0  1  4 19 10  3 11  8 13  2  7 14  5 12  6 16  9 17 15 21 20 18 22]\n",
      "\n",
      "\n",
      "recency_status_96nk\n",
      "6\n",
      "['A' 'S' 'F' 'E' 'N' 'L']\n",
      "\n",
      "\n",
      "frequency_status_97nk\n",
      "4\n",
      "[1 2 3 4]\n",
      "\n",
      "\n",
      "recent_response_prop\n",
      "115\n",
      "[0.067 0.235 0.409 0.474 0.1   0.2   0.167 0.4   0.357 0.095 0.524 0.071\n",
      " 0.35  0.15  0.5   0.19  0.545 0.389 0.438 0.238 0.364 0.143 0.077 0.063\n",
      " 0.118 0.286 0.333 0.125 0.278 0.444 0.136 0.3   0.188 0.059 0.211 0.579\n",
      " 0.25  0.267 0.182 0.316 0.105 0.526 0.476 0.632 0.368 0.053 0.222 0.111\n",
      " 0.263 0.176 0.529 0.318 0.421 0.048 0.294 0.429 0.056 0.091 0.227 0.231\n",
      " 0.455 0.158 0.381 0.55  0.313 0.533 0.214 0.353 0.375 0.273 0.308 0.45\n",
      " 0.471 0.6   0.8   0.571 0.133 0.154 0.75  0.05  0.    0.083 0.765 0.714\n",
      " 0.045 0.556 0.65  0.591 0.385 0.462 0.412 0.875 0.538 0.467 0.647 0.417\n",
      " 1.    0.684 0.722 0.688 0.563 0.588 0.667 0.625 0.619 0.583 0.682 0.636\n",
      " 0.706 0.611 0.7   0.615 0.692 0.833 0.857]\n",
      "\n",
      "\n",
      "recent_avg_gift_amt\n",
      "814\n",
      "[ 15.    21.67  13.44  17.5    8.33  18.67   5.     8.6    8.67  80.\n",
      "   3.5   21.    10.     9.64  16.25  10.83  11.57   6.14  12.86  19.\n",
      "  14.    25.88  11.33  20.    25.    23.    32.5   17.    13.     8.83\n",
      "  18.    12.5    5.4   16.    11.25  13.33   7.88  33.    11.67  11.27\n",
      "  30.     8.5   29.    15.4   37.5    8.    19.57   9.83  27.5   20.14\n",
      "  18.33  15.5   13.5    5.1    6.18   7.67  26.38  40.67   2.8   11.5\n",
      "  10.45  10.25  40.     6.    13.11  19.4    9.75   5.75   6.8    5.78\n",
      "   5.25   8.2    3.33  15.29   7.75  15.43   9.14  13.29  10.6   22.\n",
      "   7.8    8.57   5.83  14.5   11.43  10.56  14.88  13.6    4.57  11.4\n",
      "  29.2    9.     4.8   19.71   9.43  26.25  10.5   13.9   17.4   11.75\n",
      "   8.38  22.5   10.38  14.29  20.13   6.38  14.33  33.75  19.5   92.5\n",
      "  20.75  50.    13.2   18.55  26.     6.5   12.8   11.38  14.25  11.\n",
      "   7.25  16.67   8.88  10.67  10.75   3.18   4.88  35.     6.17   6.33\n",
      "  12.     6.75  36.25   7.82  19.67   6.44  16.33   9.67  24.17  16.6\n",
      "  12.33  10.14  10.57   4.43  21.5   12.11   5.5    8.75   7.86   6.73\n",
      "   4.4    8.17   4.63  14.2    5.11   7.5   20.2   14.75   8.18   4.18\n",
      "  13.57  13.67   9.29  26.5   17.67   4.78  18.88  23.33  28.33  18.57\n",
      "  12.78   6.11   7.33  10.2   10.8   10.43   3.4    5.57   5.6    5.33\n",
      "   9.25   6.88  16.2   12.75   6.2   17.33   9.86  11.2   13.75   0.\n",
      "  13.25  15.88  21.17  28.    16.13  31.67  19.8   31.    17.25  32.25\n",
      "  25.67   5.8   15.67  14.6   10.4    7.38   5.29  30.5    3.54   6.67\n",
      "  28.6   30.75  22.33 150.    32.    25.2  100.     9.8   12.25  19.25\n",
      "   9.3    8.25  14.67  21.2   12.17  21.25   5.67  15.25  52.5   25.33\n",
      "  18.5   17.44   7.    23.75  34.2   13.83  16.86   7.2   20.67  16.5\n",
      "  17.13  12.67  16.88  11.1   17.75  26.2   20.25   7.4   89.6    9.5\n",
      "  11.13  10.33  21.33 116.67  70.    17.83   7.08  75.    21.6   24.58\n",
      "   5.17 200.    13.38  11.17  15.75  18.75  18.8    4.33   9.6   15.57\n",
      "  60.   125.    36.     4.75  15.38  36.67  47.5   14.8   25.14  27.33\n",
      "  14.4   22.2   38.     4.83  15.2    8.71  48.67 112.88   8.4   27.\n",
      "  20.5   10.31   6.83  46.5   26.57  12.13  19.2   12.43  25.83  44.\n",
      "  16.75   3.    14.17   4.5    5.2   21.29  34.5    9.17  47.4   13.78\n",
      "   4.67  17.88  12.6   38.8    9.78  43.    25.25  46.     4.     8.29\n",
      "  41.67  56.   104.    84.33  67.5   25.5   24.    10.86   9.89  31.25\n",
      "  77.67  79.67  55.    61.5   83.33  42.    17.63  30.27  23.13  16.35\n",
      "  13.14  12.1   99.83  75.5   39.71  10.71  73.4   12.4    7.56   7.14\n",
      "  11.66  29.29  23.5   87.5    3.14   5.86   9.33   6.6   22.25   6.27\n",
      "  12.2   26.67   6.89   5.63  39.33  40.33  13.17  62.5  250.    15.17\n",
      "   5.13   6.25   7.6   33.33   5.09  24.1    4.2    3.67  13.88  14.83\n",
      "  13.8    7.83  28.5   11.8    6.55  15.6   11.6   16.43  20.28  47.67\n",
      "  21.8   16.14  15.8    5.43  36.33  29.33  62.     9.4    6.1    5.88\n",
      "   7.63  39.    22.88  13.71   3.25   5.71  11.71  34.88  24.5    2.73\n",
      "   3.6   22.17  42.5    9.1  201.67  19.29   8.13   7.71   3.36   5.38\n",
      "   3.78  31.33  22.75   7.43   5.14   4.6    3.72   4.17  17.14   6.4\n",
      "   9.13  32.33  20.33  10.13  18.2    3.69   3.75  11.86  36.4   22.67\n",
      "   6.71   5.56  31.2    6.43   8.14   8.08   8.8   23.67  18.25   9.7\n",
      "   9.44   8.11  14.86  24.2    8.22  19.75  28.75  15.33  16.83  11.14\n",
      "   6.29   3.45   7.15   3.44  37.    19.33   6.3    7.17  20.83   5.22\n",
      "  34.    29.25  12.71   7.29  20.71  23.25  82.     2.67  17.17   4.3\n",
      "   9.57   4.25   7.57   9.88  41.    18.4    1.55   3.29  36.2    3.86\n",
      "  66.67  12.83  45.    34.67  48.     4.14  17.45  15.83   3.57  10.17\n",
      "   9.22   9.21  17.11   6.22   2.5   20.8   14.57   4.86  39.83  14.43\n",
      "   9.2   30.6    4.38   4.29  49.67  15.08  10.63  12.29  10.29   4.71\n",
      "  30.25  10.66   9.11  21.13  15.13   6.57   4.58  27.67  38.5   24.33\n",
      "  12.57  31.75   3.83   3.91  13.13   9.63  12.88   3.43  11.63  51.\n",
      "   9.77   3.13  17.8   15.71  53.     8.86   4.91  25.32  23.2    7.13\n",
      "   5.27  11.83  15.63   6.86   4.13   5.44  43.33  14.11   8.43   6.77\n",
      "   2.     4.73   6.13  12.14  38.33   3.2   16.8    3.17  24.25  26.33\n",
      "   9.42  11.3   26.4    9.71  14.05  13.4    5.07  19.17  11.88   2.29\n",
      "  16.17   3.92  10.52  34.33  48.5   26.75   3.8   56.67  27.43   4.56\n",
      "  12.39  12.05   3.88   9.23  10.3    3.63  12.56   3.71  46.67  11.29\n",
      "   9.18  13.43  10.11  13.63   5.64  17.71   2.92  11.55  16.38   3.77\n",
      "   4.55  15.14   3.09   3.22  35.5   11.82  28.4    7.27  29.5    6.36\n",
      "   2.43   8.89   3.89  65.    34.4   45.4   15.11  22.4    8.63  22.69\n",
      "   4.22  30.67  12.7   32.67  24.67  35.63  22.83   2.57   9.38  21.75\n",
      "   3.15   4.44   3.1   25.75  16.4   27.8   24.4   42.17   7.23  18.71\n",
      "  18.6   10.7    2.63   4.23   7.44  18.63  45.33   5.77   9.45  25.71\n",
      "  38.67  37.33   2.83  10.89  27.17  26.6    7.11  35.8   13.26  16.29\n",
      "  33.67  12.38   2.17  12.44  32.2   23.17  37.4   15.36  85.    15.86\n",
      "  22.14  43.75  24.8   24.75  19.63  33.5   21.56  25.6   40.25  17.2\n",
      "   7.7   14.44  49.25   8.44  33.4   26.88  52.    20.89  14.38   3.56\n",
      "   6.64  37.67  39.6    5.18   3.9    5.9   18.17  46.33  16.64   6.42\n",
      "  13.22   4.06   4.36   3.46  21.09   6.63  27.75   8.59  12.69  10.05\n",
      "  35.18  20.29  35.33  20.4   14.14  13.86  19.78  51.67  28.67 133.33\n",
      "  25.57  36.23  34.17  58.33  16.22  90.    21.89  27.71  51.2   30.8\n",
      "  14.69  41.6    6.78  19.6   22.8   12.09  33.01   7.99  63.33  76.5\n",
      "  26.8   28.2   47.     2.38  18.14  28.25   4.89  10.1   13.49  43.5\n",
      "  31.17  50.5   58.     7.09   4.11  10.88  20.6   69.    19.86  43.67\n",
      "  13.08  70.5   23.4   17.54  25.17   7.3   36.75   5.62   9.9   35.67\n",
      "  33.89  30.4    5.82  41.5   15.19   7.89  73.33  45.83   7.22   2.75\n",
      "   8.55  55.34  16.89  22.43   8.78 162.5  175.   260.    42.25  11.89\n",
      "   4.1    7.36  11.9    7.1    9.06  20.43  23.8   19.11 130.     4.7\n",
      "  64.25  38.65  19.38   5.45]\n",
      "\n",
      "\n",
      "recent_card_response_prop\n",
      "41\n",
      "[0.    0.25  0.545 0.4   0.111 0.125 0.273 0.444 0.455 0.571 0.364 0.182\n",
      " 0.7   0.5   0.333 0.2   0.222 0.556 0.1   0.143 0.091 0.6   0.9   0.3\n",
      " 0.8   0.889 0.375 0.75  0.286 0.167 0.636 0.429 0.625 0.857 1.    0.778\n",
      " 0.667 0.818 0.714 0.727 0.833]\n",
      "\n",
      "\n",
      "recent_avg_card_gift_amt\n",
      "484\n",
      "[  0.    15.    22.67  13.5   10.    18.67   5.     8.5    8.    80.\n",
      "   4.5    9.8   17.5   11.    10.67   6.    12.25  12.5   14.    27.\n",
      "  10.5   20.    32.5   13.     8.75  25.    10.4    7.4   16.    10.57\n",
      "  30.    28.25  11.5   37.5    7.6   21.     9.    40.     5.29   5.57\n",
      "   4.33   7.56  26.25  27.5   36.     2.75  11.25  10.33  12.     7.\n",
      "  12.88  18.8    5.75   6.75   5.8    8.83   4.    15.75   7.71  16.6\n",
      "   9.4    5.83  11.67  13.75  14.5    4.4   13.33  18.6   15.67  20.17\n",
      "   5.4   35.    19.5  100.    20.33  50.    19.14  26.    13.25  15.33\n",
      "  18.33  12.33   7.67   8.4   24.    12.67   3.5   16.67   8.25   5.14\n",
      "   5.5    7.5    8.67  20.75  15.5    9.5    9.2   10.25   8.57  21.5\n",
      "  11.71   5.25  14.25   4.29   6.67   4.6   18.    29.5    6.43   3.\n",
      "   3.67   5.67   5.43  16.5    9.86  11.17   9.6   14.33   8.17  21.6\n",
      "  28.5   13.67  16.33  33.75  33.    32.25   7.63  30.5   31.33  28.\n",
      " 150.    28.67  11.43  23.    14.67  15.25  45.    22.5    9.25  18.25\n",
      "   9.83  22.    34.    16.8    6.6   31.    17.    16.43  11.38  24.25\n",
      "  22.33   5.33   9.67  10.6    7.33  18.2   19.   200.    70.    20.67\n",
      "   6.71  24.29   4.89  13.22  17.33   9.33  11.33   9.14  60.    15.4\n",
      "  36.67   6.5   47.5   75.    21.25  10.83  49.5  112.88  31.25   4.67\n",
      "  11.75  46.5    2.33  20.25  12.4   28.33  42.    12.75  14.17  19.6\n",
      "  37.     8.33  21.33  51.     4.25   5.2    6.8    7.75  34.5   46.33\n",
      "   6.4    6.33  21.17  10.75  20.5   56.    11.14  53.     6.25  23.5\n",
      "  24.5   10.8   82.5   76.5   61.5   23.75  17.54  23.4   12.8   99.8\n",
      "  87.5   91.     6.2   15.99   3.2    5.6   38.5   10.2    4.17  11.6\n",
      "   4.83  41.25   3.8   18.5  300.     5.17   3.33  24.33  14.4    8.8\n",
      "   8.2    7.25   4.75   6.29  16.25  26.67 105.    21.8   32.    25.5\n",
      "  31.5   62.    11.8   55.    39.     2.86  22.6    4.2    8.14  19.17\n",
      "   3.57   3.75  23.67  42.5   19.67  44.5   21.67   3.63   6.83  12.6\n",
      "  11.2    9.71   9.57  17.67  14.75   7.83  20.2   17.75   3.86   4.57\n",
      "   3.38   6.14  19.33  18.75   9.75   3.6   19.2    1.5    7.8    9.63\n",
      "  41.    26.5   13.6    1.75  10.38   7.17  13.8   36.5   19.75   7.9\n",
      "   2.5    7.14  44.     7.43  30.6   51.5   15.86   6.17  10.29  13.2\n",
      "  13.17   7.2   21.13  11.4   13.83   8.6   13.4    3.4    4.13  12.71\n",
      "   3.25   2.    52.     9.13   9.29   9.43  17.25   6.86  11.57  12.2\n",
      "   5.13  29.    17.6   36.25  12.14  27.67   2.67  26.33  25.33   6.38\n",
      "  48.    15.15   2.4   23.33  10.65  11.88  45.5   43.    26.75  56.67\n",
      "  28.75  12.13  10.14   7.29   9.17   5.38  30.67  21.4    5.78  14.8\n",
      "   3.29   4.8   63.     4.14   6.88   2.25   3.83   8.29  43.33  67.5\n",
      "  42.33   3.21  14.83   5.88  32.67  33.25   2.6    2.63   4.71   1.\n",
      "  14.2   15.6   33.33  40.67  15.29   6.63   3.88   4.38  10.43  14.6\n",
      "  14.63   4.43   7.39  17.8   22.4    4.86   5.71  38.67  38.    13.26\n",
      "  16.75   1.33   9.44  19.8   32.33  16.2   37.4   12.17   5.63 160.\n",
      "  41.67  19.25  49.    52.5   21.45   3.71   7.13  24.2   10.22  38.75\n",
      "  38.33  47.33   6.13  31.67  23.25  36.75  16.14  37.67   7.57   8.31\n",
      "   3.11  14.13  10.17   8.07  17.4   16.29   7.66  51.67   8.89  36.23\n",
      "  13.29  18.83 125.    27.25   8.71   3.3   24.67  33.01   8.23  15.2\n",
      "   2.8   15.8   10.71  34.67  20.4   18.17  35.5   25.25  11.97  85.\n",
      "  43.67  70.5    7.86  26.2   31.6   25.67   8.13  73.33   6.57  21.75\n",
      "  45.33  55.34   7.88   1.67 212.5  260.     3.13  11.86 130.     4.88\n",
      "  84.67  38.65  34.4    9.38]\n",
      "\n",
      "\n",
      "recent_response_count\n",
      "17\n",
      "[ 1  4  9  2  3  8  5 11  7 12 10  6  0 13 15 14 16]\n",
      "\n",
      "\n",
      "recent_card_response_count\n",
      "10\n",
      "[0 2 6 4 1 3 5 7 9 8]\n",
      "\n",
      "\n",
      "months_since_last_prom_resp\n",
      "37\n",
      "[ 26.  11.  14.  18.  19.  21.  12.  17.  15.  20.  22.  13.  25.  16.\n",
      "   8.  24.  23.   9.  28. -10.   6.  10.  30.  27.  33.  31.   7.  29.\n",
      "   2.   3.  -9.  32. -11. -12.  35.  36.  34.]\n",
      "\n",
      "\n",
      "lifetime_card_prom\n",
      "52\n",
      "[19 32 44 31 30 22 29 33 36 27 45 39 11 38 37 46 16 24 40 13 18 12 26  9\n",
      " 14 42 21 28 15 25 34 23 43 17 41 51 35 47 20 10  6  8  7  5 48 55  4 50\n",
      "  3 56 54  2]\n",
      "\n",
      "\n",
      "lifetime_prom\n",
      "143\n",
      "[ 45  90 119  96  83  59  72  89  91  62 123  94  98  25 110  99 131  79\n",
      "  44  68  49 107  88  39  82  35  58 106  29  70 114  51  43  60  52 120\n",
      "  76  36  54  38  97  78  56  48  95 108  71 104  93 116  92  75  87 101\n",
      " 129 124 103  46  86  64  80  67  63 105  33  85 115 100  65  24  40 111\n",
      "  66 102  50  81  69  74  55  73  61  47  41  77  42  30  21  27  28  26\n",
      "  23  16  18  32  31 117  34  37  84 109 122 133 126 113 127 118 128 134\n",
      " 174 130 112  57 121 140 142 125 136 194 141 157 132 135 147  53 170 137\n",
      "  17  20  14  13  15  19  12  22  10  11   8   9   7   6 144 139   5]\n",
      "\n",
      "\n",
      "lifetime_gift_amount\n",
      "898\n",
      "[ 297.    368.    603.    435.    106.    128.    220.    101.    171.\n",
      "  150.    273.    516.    100.5   103.    186.    201.    270.    277.\n",
      "  670.    255.    122.     90.    200.    261.    164.    470.    134.\n",
      "   76.    109.    380.     87.    209.     59.    284.    247.     89.\n",
      "   85.    163.     70.    111.    335.    356.    105.    159.    154.\n",
      "  145.    321.    100.    133.    110.    173.     44.    142.    152.\n",
      "  328.    210.    141.     96.    144.    315.    165.    224.    107.\n",
      "   60.    235.    419.    180.    237.    239.    331.    148.    205.08\n",
      "  104.    197.    323.    645.    175.     97.    453.    361.     52.\n",
      "  360.    192.    140.     92.    214.    114.     93.    580.     42.\n",
      "   51.    155.    194.     79.    153.     73.     63.     91.    530.\n",
      "  276.    342.    269.    271.    147.    202.    126.    234.    265.\n",
      "   81.    278.    374.     35.     82.     65.     75.     99.     20.\n",
      "  282.     38.     74.    311.    193.    174.     45.    120.     77.\n",
      "  112.    259.    352.    157.    119.    135.    350.     98.    330.\n",
      "   78.46  170.    595.     47.     49.    227.    306.     62.    121.\n",
      "  162.    310.     56.     40.    348.    130.     67.     84.    225.\n",
      "   50.    118.    196.    113.    198.    214.5    55.     80.     68.\n",
      "   95.    132.     48.     36.    341.    161.    294.    492.     94.\n",
      "  384.    251.    178.    156.    832.    291.    139.    213.     61.\n",
      "  160.    117.    204.    181.     71.     64.     25.    185.    146.\n",
      "  245.    136.    266.    104.01  217.     41.    189.    116.     23.\n",
      "  110.5   167.     37.    141.5   172.     18.     30.     15.     32.\n",
      "  218.    125.    152.5   304.    205.    131.    115.    158.    188.\n",
      "   72.    123.    787.    100.07  168.    108.    507.     69.    253.\n",
      "  228.     46.    477.    137.    206.    176.    775.    446.    825.\n",
      "  169.    289.    555.    386.    721.    345.    166.    333.    452.\n",
      " 1551.    418.    207.5   265.9   219.    363.    153.5   375.    129.\n",
      "  203.    179.    707.    510.    230.    454.    316.    379.    539.\n",
      " 1000.   1505.    337.    233.    183.    212.    649.    425.    177.\n",
      "   66.    390.    398.    682.    246.    295.    182.    407.    131.5\n",
      "  256.    233.5   138.    240.    626.    528.    238.    184.    750.\n",
      "  285.    377.    250.    355.    241.5   410.    490.    827.    207.\n",
      "  498.    344.    429.    314.    593.    527.    646.    489.    124.\n",
      "  432.    370.    601.    267.     86.    588.    275.    389.    132.5\n",
      "  332.    591.    191.    502.    324.    242.    254.    921.   1244.\n",
      "  824.    488.    232.    605.    392.    451.    288.    376.    347.25\n",
      " 1196.    449.    620.    257.    292.    725.    236.    575.    475.\n",
      "  243.07  443.    532.   1116.   1190.    606.    600.    322.    584.\n",
      "   83.    946.    307.    187.    287.    261.9   461.    387.    263.\n",
      "  308.    127.    313.    327.    505.    146.5   190.    600.5   195.\n",
      "  405.    346.   1034.    970.    628.   1150.    464.   1012.    280.\n",
      "  215.    631.    416.5   170.89  303.    367.7   383.    260.    226.\n",
      "  309.     78.    835.    300.    567.    252.    698.    347.    312.\n",
      "  221.    143.    317.    325.    894.    524.    402.    918.75  627.\n",
      "  216.    286.    151.    545.    118.59  566.   2200.    430.    447.\n",
      "  434.    353.    133.07   53.    102.    378.    329.    249.    290.\n",
      "  241.    268.    248.    638.    838.    274.    104.5   223.    302.\n",
      "  222.     88.    504.    455.    570.    281.    404.    538.    496.\n",
      "  149.    296.    244.    305.9   557.    191.5   326.    897.    415.\n",
      "  262.    160.5   142.07  420.    161.7   424.    354.    602.    161.99\n",
      "  684.    208.    561.    319.    543.    733.    574.    445.    450.\n",
      "  356.3   493.     69.05 1765.    394.    788.    372.   1079.     43.\n",
      "  619.     59.97  583.    621.    172.2   519.     33.    400.95 1405.\n",
      "  514.    211.    190.5    34.   1094.    187.53  362.    717.    520.\n",
      "  339.    484.    272.    217.01  264.    406.    439.     22.     58.\n",
      "  366.     87.25   28.     65.75   26.     31.    728.     29.     57.\n",
      "  635.     54.     21.    334.    211.75  243.     39.    231.    686.\n",
      "  103.07  115.84  226.25  480.    140.25  269.5   491.    199.    131.75\n",
      "  305.     24.    189.08  201.67  126.08   38.5    50.25   27.    534.\n",
      "  440.     29.6   184.5  1058.    556.    486.    113.03  244.01   42.01\n",
      "  229.    367.    258.    406.5   365.     91.07  135.01  349.    313.68\n",
      "  318.    298.    535.    476.     58.88   19.    501.    478.   1261.\n",
      "   67.52  395.     54.25  347.01  351.     66.5   167.08  347.8   608.\n",
      "  388.    106.75   16.    369.    135.59  237.7   129.25  302.08  704.\n",
      "   69.5   456.     78.25  320.    128.5   107.5   168.06  121.5   885.\n",
      "  171.06  145.54  373.    301.     41.97   42.25  293.    103.5    28.4\n",
      "   44.19  145.32  102.5   454.05  437.    426.     85.25   59.5    68.5\n",
      "   41.5   116.5   120.65  220.5   130.25  271.95  142.25  458.    194.01\n",
      "  731.    109.07  563.    341.1   285.07  185.07  140.5   106.5    37.67\n",
      "   64.04  427.    137.15  457.    160.85  381.    713.    431.     57.5\n",
      "   83.5   623.     17.    188.9    48.21  279.     73.25  135.5   413.\n",
      "  400.    172.25   94.5   391.     87.5   309.5   177.07   54.5   101.25\n",
      "   84.25  187.08  683.    196.96  113.04   88.5   178.25   72.5   336.\n",
      "  180.5    51.25  149.01   82.5    70.5   157.06   75.25   93.5    37.5\n",
      "  343.    195.67  120.3    51.5   472.     77.55  403.    358.     99.3\n",
      "  471.     47.98  151.08  117.25  234.25  100.75  226.01  360.03  540.\n",
      "  185.5   425.6    80.25   42.5   264.01  612.     96.5    49.28  841.\n",
      "  489.01  116.07   59.25   84.5    43.5    63.5    96.25  215.5    85.54\n",
      "  119.66   90.5    88.25  483.     77.25  260.5   112.5    76.5    95.5\n",
      "  236.07   75.77  287.5   651.    256.5   581.    442.    359.    120.5\n",
      "  114.5   433.    382.    144.6   135.07  139.25  416.    417.    248.5\n",
      "   64.68  687.     43.25   68.04   49.4   110.25  227.01   99.97  103.19\n",
      "   39.5   659.     81.76   84.08  137.5    32.5   336.34  147.5    77.5\n",
      "  128.02  140.01  412.    673.    533.    167.06   81.5   119.25  203.06\n",
      "  275.5   120.28  385.    522.    103.25  136.8    97.51  842.    423.\n",
      "   65.25   98.5   421.    131.87  126.5   194.5   193.25  223.03  320.06\n",
      " 1174.     90.34   79.2   299.36  428.     50.32  231.25  371.    101.07\n",
      "  100.88  396.     78.5   536.     36.23  444.    340.    270.02  526.\n",
      "  136.5   311.07  340.05  560.    121.07  279.07  490.5   409.    354.07\n",
      "  973.    499.    235.72  105.5    69.25  515.    127.5   238.07  511.\n",
      "  544.     51.36   65.92  399.    481.    618.    156.07  262.01  124.25\n",
      "  173.06  125.5   494.    127.03   60.5    44.5   272.03  283.    414.\n",
      "  114.06   33.97  169.5   641.     21.26  191.1   110.07  108.25  113.5\n",
      "  462.    338.5   769.    531.    494.5   151.5   299.    258.2    92.5\n",
      "  116.75   97.65  134.5   127.05  585.    222.21  111.5   207.07  224.5\n",
      "   49.5   422.    227.5    55.34   55.25  265.01 1622.    710.5  1610.\n",
      "  677.   1383.   3775.    642.   2604.5    40.5   671.    681.    448.\n",
      "  162.84   74.5    51.11  260.07  166.45  408.     75.5   155.01  466.\n",
      "  632.    833.    330.25   77.3   719.    465.    441.  ]\n",
      "\n",
      "\n",
      "lifetime_gift_count\n",
      "74\n",
      "[35 25 36 37 12 22 20 34 14 33  7 31 29 24 76 26 21 16  9 23  5 10 27 38\n",
      " 32 11 28 15 42  6 13  8 47 48 30 17 52 18 50 19 46 43  3  2  4 40 49  1\n",
      " 44 60 63 61 80 55 41 39 69 67 56 89 91 45 95 57 82 53 62 77 54 51 64 59\n",
      " 58 68]\n",
      "\n",
      "\n",
      "lifetime_avg_gift_amt\n",
      "1966\n",
      "[ 8.49 14.72 16.75 ... 18.64 21.85  7.02]\n",
      "\n",
      "\n",
      "lifetime_gift_range\n",
      "226\n",
      "[ 15.    20.    23.    14.     7.     4.     8.    80.    16.     9.\n",
      "  10.    17.     5.    12.    25.    28.    30.    11.    13.    45.\n",
      "   0.     6.    35.    14.92  40.    18.     1.    19.    22.    75.\n",
      "   3.    22.5   55.     4.99   2.     7.5   21.    12.5   38.     9.93\n",
      "  34.    95.    27.    85.   165.    31.    47.    36.    50.    48.\n",
      "  90.    29.    99.    24.     6.5  195.   160.    33.    43.    97.\n",
      " 175.   125.    11.93 185.    51.    74.    98.   130.    72.5   86.\n",
      "  26.    32.   122.87  21.41  81.   215.    41.    46.    37.    57.\n",
      "  44.    60.     7.93 101.   145.    39.   225.    70.    29.7    8.05\n",
      " 128.   100.   123.    23.97 200.    16.95  49.    10.99 295.     8.75\n",
      "  14.5   10.84  13.5   52.     4.75  10.08  24.92   8.5   14.75   3.6\n",
      "  14.97  42.    19.99   6.93  15.99   6.88   4.52  77.    14.99  64.\n",
      "   9.5   11.92   5.75  11.59   3.75  17.75  12.94  10.5    4.5   65.\n",
      "  19.94  30.54   1.97   1.6   12.93  13.75  40.95  11.99   9.75  15.93\n",
      "  10.67  12.96  10.15  11.35   5.25  72.    34.93  23.5  245.     4.96\n",
      "  17.5    6.99   3.5   26.67  10.7  198.     7.95  19.92  35.75  11.97\n",
      "  69.    62.     7.75  29.99  15.97  23.99  10.93  23.75   6.75  59.\n",
      "   8.93  12.77  27.5   15.5    5.6   16.93 150.    10.32  16.25   1.76\n",
      "   1.5   31.98  18.75   5.94  28.28  18.7    9.99  12.97  25.94   5.5\n",
      "  45.36  11.25  14.93  15.88  29.98  59.93 110.    19.93 137.    14.66\n",
      "  20.94   9.97  87.    17.94  28.9   71.    37.5   22.8   10.75   2.35\n",
      "   7.47  20.5   21.99 997.    48.5  115.   297.   191.   595.5  490.\n",
      "  10.11  18.93   7.55  13.99 240.   248.  ]\n",
      "\n",
      "\n",
      "lifetime_max_gift_amt\n",
      "125\n",
      "[  20.     25.     28.     17.     10.      7.     11.     85.     15.\n",
      "   21.      8.     35.     13.     23.     19.     33.     50.     16.\n",
      "   40.      5.     30.     12.     18.     31.      6.     26.     22.\n",
      "    9.     27.    100.     14.     75.     24.     38.    175.     39.\n",
      "   51.     12.5    41.    150.     36.    200.     48.     54.     77.\n",
      "  140.     90.     45.     44.     52.    137.87   42.    220.     46.\n",
      "   37.     60.     29.     56.     47.    104.    198.    250.    450.\n",
      "   70.     18.05  133.    128.     26.97  205.     19.95   32.    300.\n",
      "   20.84   34.     62.     43.     15.08  201.67    5.6   225.     55.\n",
      "    7.88    7.52   82.     65.     58.     16.59   53.     33.54   11.97\n",
      "   45.95   15.67   15.15   12.6    17.5    63.     80.     36.67   72.\n",
      "   42.5    49.     15.77   15.6   160.     26.25   21.76   33.28   50.36\n",
      "   18.88   36.23  125.    142.     33.01   95.     74.     15.75   17.47\n",
      "   55.34 1000.     53.5   201.    600.    500.     13.11   38.65]\n",
      "\n",
      "\n",
      "lifetime_min_gift_amt\n",
      "88\n",
      "[5.0000e+00 3.0000e+00 1.0000e+00 2.0000e+00 1.0000e+01 1.5000e+01\n",
      " 1.2000e+01 2.0000e+01 2.5000e+01 1.3000e+01 8.0000e-02 4.0000e+00\n",
      " 4.0000e+01 3.0000e+01 5.0000e+01 6.0000e+00 2.5000e+00 1.0000e-02\n",
      " 0.0000e+00 7.0000e-02 1.0000e+02 8.0000e+00 1.5000e+00 7.0000e+00\n",
      " 1.2500e+01 7.5000e+01 3.5900e+00 1.8000e+01 5.3000e+01 4.5000e+02\n",
      " 3.0000e-01 2.0000e+02 1.0100e+00 2.3000e+01 1.2500e+00 7.5000e+00\n",
      " 1.1000e+01 9.0000e+00 2.0167e+02 3.0000e-02 3.5000e+01 1.4000e+01\n",
      " 1.6000e+01 6.2500e+00 3.2500e+00 6.0000e-02 5.0000e-01 6.0000e+01\n",
      " 1.8250e+01 4.5000e+00 1.3400e+01 3.3000e+01 2.8000e+01 4.0000e-02\n",
      " 4.8000e+01 9.7500e+00 2.1000e+01 3.5000e+00 7.3000e+00 2.0500e+00\n",
      " 4.2500e+01 2.0100e+00 1.7000e+01 4.6800e+00 2.4000e+01 1.5500e+01\n",
      " 3.0200e+00 2.6000e+01 4.3000e+01 1.3000e+00 1.0600e+00 3.7500e+00\n",
      " 8.0000e+01 3.6230e+01 2.0200e+00 7.0000e+01 3.6000e+01 2.7000e+01\n",
      " 1.8350e+01 1.9200e+00 6.1000e+00 5.0700e+00 5.6000e+01 2.2000e+00\n",
      " 7.6500e+00 5.5340e+01 3.4500e+00 3.8650e+01]\n",
      "\n",
      "\n",
      "last_gift_amt\n",
      "106\n",
      "[ 15.    17.    19.    25.    10.    20.     5.     8.    85.     2.\n",
      "  21.    11.     7.    12.    14.    35.    23.    16.    33.    18.\n",
      "   9.    40.    50.    38.    36.    31.     4.    13.    22.    30.\n",
      " 100.    27.    26.     3.     6.    20.5    0.    24.    12.5    1.\n",
      " 150.    32.    28.    91.    54.   200.    45.    90.    75.    52.\n",
      " 137.    39.   220.    42.    60.    29.    47.    56.   104.   198.\n",
      " 219.   450.    44.   133.    34.    26.97 205.    41.   300.    20.84\n",
      "  46.    62.   201.67 225.    37.     7.52  82.     6.25  53.    11.97\n",
      "  48.    17.5   55.    80.    42.5    2.5   70.     5.4   21.76  43.\n",
      "   3.5    8.75   5.32  36.23 125.    14.06  33.01  95.    74.     4.5\n",
      "  15.75  55.34 110.    13.11 250.    38.65]\n",
      "\n",
      "\n",
      "card_prom_12\n",
      "17\n",
      "[ 5  7 11  6  9  4 10  8  2  3 12 13 17  1 15 14  0]\n",
      "\n",
      "\n",
      "number_prom_12\n",
      "50\n",
      "[12 21 32 33 19 20 18 24 25 27 35 10 22 15 29 28 26 23 14 30 13 17 11 16\n",
      "  7 31  8 34 44 46 36 39 37 45 38  9 40 42 59 64 49 47  6 41 48 58  5  4\n",
      "  3  2]\n",
      "\n",
      "\n",
      "months_since_last_gift\n",
      "24\n",
      "[26  7  6 18 19 21  9 17  4 20 15 22 12  5 25  8 13 24 16 10 11 23 14 27]\n",
      "\n",
      "\n",
      "months_since_first_gift\n",
      "139\n",
      "[ 92 122 105  91 110  90 129 124  89 125  87  88  86  85  84  83  81  80\n",
      " 130  78  77 111 119  79  76 109  75 123  73 100 118  68  69 121 113  67\n",
      "  66  64  65  61  63  82 127 131 126  60  59  57  56  55  54  53 112  52\n",
      "  49 128  45  44 103  40  33 120  32 101  29 102  38 106  93  97  21  24\n",
      "  41  62  20  19  23  18  17  28 104  74  16  15  98  50 139 185 138  94\n",
      " 107  95 117 114 115 108  99  96 230 116  70 159  27 260 198  72 134 133\n",
      " 192  43  39  26  37  36  51  31  25 164  30 170  42 160 162 154 155  22\n",
      " 158 147  35 145 144 143  34  71  47  58  48  46 187]\n",
      "\n",
      "\n",
      "file_avg_gift\n",
      "1966\n",
      "[ 8.49 14.72 16.75 ... 18.64 21.85  7.02]\n",
      "\n",
      "\n",
      "file_card_gift\n",
      "32\n",
      "[ 7 12 16  3  6  8 14 13  2 10  4 23 11  1  9  5 22 20 24 26 17 25 15 18\n",
      "  0 21 19 29 41 32 28 27]\n",
      "\n",
      "\n"
     ]
    }
   ],
   "source": [
    "# Checking for the number of unique values in each column\r\n",
    "# This is to check for consistency, uniformity and accuracy\r\n",
    "# A for loop has been used to print unique values for each column\r\n",
    "#\r\n",
    "for column in df.columns:\r\n",
    "  print(column)\r\n",
    "  print(df[column].nunique())\r\n",
    "  print(df[column].unique())\r\n",
    "  print('\\n')"
   ]
  },
  {
   "cell_type": "code",
   "execution_count": 64,
   "metadata": {},
   "outputs": [
    {
     "data": {
      "text/plain": [
       "S    4491\n",
       "C    4022\n",
       "R    4005\n",
       "T    3944\n",
       "U    2456\n",
       "?     454\n",
       "Name: urbanicity, dtype: int64"
      ]
     },
     "execution_count": 64,
     "metadata": {},
     "output_type": "execute_result"
    }
   ],
   "source": [
    "df['urbanicity'].value_counts()"
   ]
  },
  {
   "cell_type": "markdown",
   "metadata": {},
   "source": [
    "### I will be replacing \"?\" with \"X\" in the urbanicity column"
   ]
  },
  {
   "cell_type": "code",
   "execution_count": 65,
   "metadata": {},
   "outputs": [],
   "source": [
    "df['urbanicity'] = df['urbanicity'].replace(\"?\", \"X\")"
   ]
  },
  {
   "cell_type": "code",
   "execution_count": 66,
   "metadata": {},
   "outputs": [
    {
     "data": {
      "text/plain": [
       "S    4491\n",
       "C    4022\n",
       "R    4005\n",
       "T    3944\n",
       "U    2456\n",
       "X     454\n",
       "Name: urbanicity, dtype: int64"
      ]
     },
     "execution_count": 66,
     "metadata": {},
     "output_type": "execute_result"
    }
   ],
   "source": [
    "df['urbanicity'].value_counts()"
   ]
  },
  {
   "cell_type": "code",
   "execution_count": 67,
   "metadata": {},
   "outputs": [
    {
     "data": {
      "text/plain": [
       "2    9284\n",
       "1    5924\n",
       "3    3323\n",
       "?     454\n",
       "4     387\n",
       "Name: ses, dtype: int64"
      ]
     },
     "execution_count": 67,
     "metadata": {},
     "output_type": "execute_result"
    }
   ],
   "source": [
    "df['ses'].value_counts()"
   ]
  },
  {
   "cell_type": "markdown",
   "metadata": {},
   "source": [
    "### I will be replacing \"?\" with \"5\" in the ses column"
   ]
  },
  {
   "cell_type": "code",
   "execution_count": 68,
   "metadata": {},
   "outputs": [],
   "source": [
    "df['ses'] = df['ses'].replace(\"?\", 5)"
   ]
  },
  {
   "cell_type": "code",
   "execution_count": 69,
   "metadata": {},
   "outputs": [
    {
     "data": {
      "text/plain": [
       "2    9284\n",
       "1    5924\n",
       "3    3323\n",
       "5     454\n",
       "4     387\n",
       "Name: ses, dtype: int64"
      ]
     },
     "execution_count": 69,
     "metadata": {},
     "output_type": "execute_result"
    }
   ],
   "source": [
    "df['ses'].value_counts()"
   ]
  },
  {
   "cell_type": "code",
   "execution_count": 70,
   "metadata": {},
   "outputs": [
    {
     "data": {
      "text/plain": [
       "F    10401\n",
       "M     7953\n",
       "U     1017\n",
       "A        1\n",
       "Name: donor_gender, dtype: int64"
      ]
     },
     "execution_count": 70,
     "metadata": {},
     "output_type": "execute_result"
    }
   ],
   "source": [
    "df['donor_gender'].value_counts()"
   ]
  },
  {
   "cell_type": "markdown",
   "metadata": {},
   "source": [
    "#### I will be replacing the \"A\" column with Unknown \"U\" column as there are only 3 values in the donor gender"
   ]
  },
  {
   "cell_type": "code",
   "execution_count": 71,
   "metadata": {},
   "outputs": [],
   "source": [
    "df['donor_gender'] = df['donor_gender'].replace(\"A\", \"U\")"
   ]
  },
  {
   "cell_type": "code",
   "execution_count": 72,
   "metadata": {},
   "outputs": [
    {
     "data": {
      "text/plain": [
       "F    10401\n",
       "M     7953\n",
       "U     1018\n",
       "Name: donor_gender, dtype: int64"
      ]
     },
     "execution_count": 72,
     "metadata": {},
     "output_type": "execute_result"
    }
   ],
   "source": [
    "df['donor_gender'].value_counts()"
   ]
  },
  {
   "cell_type": "code",
   "execution_count": 73,
   "metadata": {},
   "outputs": [
    {
     "data": {
      "text/plain": [
       "B    8732\n",
       "P    4768\n",
       "N    4392\n",
       "M    1480\n",
       "Name: overlay_source, dtype: int64"
      ]
     },
     "execution_count": 73,
     "metadata": {},
     "output_type": "execute_result"
    }
   ],
   "source": [
    "df['overlay_source'].value_counts()"
   ]
  },
  {
   "cell_type": "markdown",
   "metadata": {},
   "source": [
    "#### I will be replacing the \"N\" column with Metromail \"M\" column as there are only 3 values in the overlay Source column and \"N\" isn't in the data dictionary. I am assuming that users mistakenly filled \"N\" as against \"M\" as they as close to each other on the keyboard"
   ]
  },
  {
   "cell_type": "code",
   "execution_count": 74,
   "metadata": {},
   "outputs": [],
   "source": [
    "df['overlay_source'] = df['overlay_source'].replace(\"N\", \"M\")"
   ]
  },
  {
   "cell_type": "code",
   "execution_count": 75,
   "metadata": {},
   "outputs": [
    {
     "data": {
      "text/plain": [
       "B    8732\n",
       "M    5872\n",
       "P    4768\n",
       "Name: overlay_source, dtype: int64"
      ]
     },
     "execution_count": 75,
     "metadata": {},
     "output_type": "execute_result"
    }
   ],
   "source": [
    "df['overlay_source'].value_counts()"
   ]
  },
  {
   "cell_type": "code",
   "execution_count": 76,
   "metadata": {},
   "outputs": [
    {
     "data": {
      "text/plain": [
       "40    830\n",
       "24    795\n",
       "35    727\n",
       "36    716\n",
       "49    675\n",
       "27    666\n",
       "12    631\n",
       "18    619\n",
       "13    579\n",
       "30    519\n",
       "39    512\n",
       "11    484\n",
       "45    482\n",
       "43    468\n",
       "51    460\n",
       "14    454\n",
       " .    454\n",
       "41    431\n",
       "10    387\n",
       "16    384\n",
       "44    383\n",
       "02    380\n",
       "08    378\n",
       "46    369\n",
       "21    353\n",
       "17    349\n",
       "28    343\n",
       "20    317\n",
       "53    303\n",
       "03    300\n",
       "23    293\n",
       "42    284\n",
       "34    284\n",
       "25    273\n",
       "22    251\n",
       "31    249\n",
       "38    240\n",
       "01    239\n",
       "15    223\n",
       "37    204\n",
       "26    202\n",
       "05    199\n",
       "47    185\n",
       "07    184\n",
       "48    180\n",
       "29    170\n",
       "50    156\n",
       "09    153\n",
       "32    152\n",
       "06    123\n",
       "04    113\n",
       "33    109\n",
       "19     98\n",
       "52     60\n",
       "Name: cluster_code, dtype: int64"
      ]
     },
     "execution_count": 76,
     "metadata": {},
     "output_type": "execute_result"
    }
   ],
   "source": [
    "df['cluster_code'].value_counts()"
   ]
  },
  {
   "cell_type": "code",
   "execution_count": 77,
   "metadata": {},
   "outputs": [],
   "source": [
    "df['cluster_code'] = df.cluster_code.replace(' .',np.nan)"
   ]
  },
  {
   "cell_type": "code",
   "execution_count": 78,
   "metadata": {},
   "outputs": [
    {
     "data": {
      "text/plain": [
       "donated                          0\n",
       "amount_donated                   0\n",
       "control_number                   0\n",
       "months_since_origin              0\n",
       "donor_age                        0\n",
       "in_house                         0\n",
       "urbanicity                       0\n",
       "ses                              0\n",
       "cluster_code                   454\n",
       "home_owner                       0\n",
       "donor_gender                     0\n",
       "income_group                     0\n",
       "published_phone                  0\n",
       "overlay_source                   0\n",
       "mor_hit_rate                     0\n",
       "wealth_rating                    0\n",
       "median_home_value                0\n",
       "median_household_income          0\n",
       "pct_owner_occupied               0\n",
       "per_capita_income                0\n",
       "pct_attribute1                   0\n",
       "pct_attribute2                   0\n",
       "pct_attribute3                   0\n",
       "pct_attribute4                   0\n",
       "pep_star                         0\n",
       "recent_star_status               0\n",
       "recency_status_96nk              0\n",
       "frequency_status_97nk            0\n",
       "recent_response_prop             0\n",
       "recent_avg_gift_amt              0\n",
       "recent_card_response_prop        0\n",
       "recent_avg_card_gift_amt         0\n",
       "recent_response_count            0\n",
       "recent_card_response_count       0\n",
       "months_since_last_prom_resp      0\n",
       "lifetime_card_prom               0\n",
       "lifetime_prom                    0\n",
       "lifetime_gift_amount             0\n",
       "lifetime_gift_count              0\n",
       "lifetime_avg_gift_amt            0\n",
       "lifetime_gift_range              0\n",
       "lifetime_max_gift_amt            0\n",
       "lifetime_min_gift_amt            0\n",
       "last_gift_amt                    0\n",
       "card_prom_12                     0\n",
       "number_prom_12                   0\n",
       "months_since_last_gift           0\n",
       "months_since_first_gift          0\n",
       "file_avg_gift                    0\n",
       "file_card_gift                   0\n",
       "dtype: int64"
      ]
     },
     "execution_count": 78,
     "metadata": {},
     "output_type": "execute_result"
    }
   ],
   "source": [
    "df.isnull().sum()"
   ]
  },
  {
   "cell_type": "code",
   "execution_count": 79,
   "metadata": {},
   "outputs": [
    {
     "data": {
      "text/plain": [
       "donated                          int64\n",
       "amount_donated                 float64\n",
       "control_number                   int64\n",
       "months_since_origin              int64\n",
       "donor_age                      float64\n",
       "in_house                         int64\n",
       "urbanicity                      object\n",
       "ses                             object\n",
       "cluster_code                    object\n",
       "home_owner                      object\n",
       "donor_gender                    object\n",
       "income_group                   float64\n",
       "published_phone                  int64\n",
       "overlay_source                  object\n",
       "mor_hit_rate                     int64\n",
       "wealth_rating                  float64\n",
       "median_home_value                int64\n",
       "median_household_income          int64\n",
       "pct_owner_occupied               int64\n",
       "per_capita_income                int64\n",
       "pct_attribute1                   int64\n",
       "pct_attribute2                   int64\n",
       "pct_attribute3                   int64\n",
       "pct_attribute4                   int64\n",
       "pep_star                         int64\n",
       "recent_star_status               int64\n",
       "recency_status_96nk             object\n",
       "frequency_status_97nk            int64\n",
       "recent_response_prop           float64\n",
       "recent_avg_gift_amt            float64\n",
       "recent_card_response_prop      float64\n",
       "recent_avg_card_gift_amt       float64\n",
       "recent_response_count            int64\n",
       "recent_card_response_count       int64\n",
       "months_since_last_prom_resp    float64\n",
       "lifetime_card_prom               int64\n",
       "lifetime_prom                    int64\n",
       "lifetime_gift_amount           float64\n",
       "lifetime_gift_count              int64\n",
       "lifetime_avg_gift_amt          float64\n",
       "lifetime_gift_range            float64\n",
       "lifetime_max_gift_amt          float64\n",
       "lifetime_min_gift_amt          float64\n",
       "last_gift_amt                  float64\n",
       "card_prom_12                     int64\n",
       "number_prom_12                   int64\n",
       "months_since_last_gift           int64\n",
       "months_since_first_gift          int64\n",
       "file_avg_gift                  float64\n",
       "file_card_gift                   int64\n",
       "dtype: object"
      ]
     },
     "execution_count": 79,
     "metadata": {},
     "output_type": "execute_result"
    }
   ],
   "source": [
    "df.dtypes"
   ]
  },
  {
   "cell_type": "code",
   "execution_count": 83,
   "metadata": {},
   "outputs": [
    {
     "data": {
      "text/plain": [
       "S    4491\n",
       "C    4022\n",
       "R    4005\n",
       "T    3944\n",
       "U    2456\n",
       "X     454\n",
       "Name: urbanicity, dtype: int64"
      ]
     },
     "execution_count": 83,
     "metadata": {},
     "output_type": "execute_result"
    }
   ],
   "source": [
    "df['urbanicity'].value_counts()"
   ]
  },
  {
   "cell_type": "code",
   "execution_count": 85,
   "metadata": {},
   "outputs": [],
   "source": [
    "df['cluster_code']= df['cluster_code'].fillna(df['cluster_code'].median())"
   ]
  },
  {
   "cell_type": "code",
   "execution_count": 86,
   "metadata": {},
   "outputs": [
    {
     "data": {
      "text/plain": [
       "40      830\n",
       "24      795\n",
       "35      727\n",
       "36      716\n",
       "49      675\n",
       "27      666\n",
       "12      631\n",
       "18      619\n",
       "13      579\n",
       "30      519\n",
       "39      512\n",
       "11      484\n",
       "45      482\n",
       "43      468\n",
       "51      460\n",
       "14      454\n",
       "28.0    454\n",
       "41      431\n",
       "10      387\n",
       "16      384\n",
       "44      383\n",
       "02      380\n",
       "08      378\n",
       "46      369\n",
       "21      353\n",
       "17      349\n",
       "28      343\n",
       "20      317\n",
       "53      303\n",
       "03      300\n",
       "23      293\n",
       "34      284\n",
       "42      284\n",
       "25      273\n",
       "22      251\n",
       "31      249\n",
       "38      240\n",
       "01      239\n",
       "15      223\n",
       "37      204\n",
       "26      202\n",
       "05      199\n",
       "47      185\n",
       "07      184\n",
       "48      180\n",
       "29      170\n",
       "50      156\n",
       "09      153\n",
       "32      152\n",
       "06      123\n",
       "04      113\n",
       "33      109\n",
       "19       98\n",
       "52       60\n",
       "Name: cluster_code, dtype: int64"
      ]
     },
     "execution_count": 86,
     "metadata": {},
     "output_type": "execute_result"
    }
   ],
   "source": [
    "df['cluster_code'].value_counts()"
   ]
  },
  {
   "cell_type": "code",
   "execution_count": 87,
   "metadata": {},
   "outputs": [
    {
     "data": {
      "text/plain": [
       "donated                          int64\n",
       "amount_donated                 float64\n",
       "control_number                   int64\n",
       "months_since_origin              int64\n",
       "donor_age                      float64\n",
       "in_house                         int64\n",
       "urbanicity                      object\n",
       "ses                             object\n",
       "cluster_code                    object\n",
       "home_owner                      object\n",
       "donor_gender                    object\n",
       "income_group                   float64\n",
       "published_phone                  int64\n",
       "overlay_source                  object\n",
       "mor_hit_rate                     int64\n",
       "wealth_rating                  float64\n",
       "median_home_value                int64\n",
       "median_household_income          int64\n",
       "pct_owner_occupied               int64\n",
       "per_capita_income                int64\n",
       "pct_attribute1                   int64\n",
       "pct_attribute2                   int64\n",
       "pct_attribute3                   int64\n",
       "pct_attribute4                   int64\n",
       "pep_star                         int64\n",
       "recent_star_status               int64\n",
       "recency_status_96nk             object\n",
       "frequency_status_97nk            int64\n",
       "recent_response_prop           float64\n",
       "recent_avg_gift_amt            float64\n",
       "recent_card_response_prop      float64\n",
       "recent_avg_card_gift_amt       float64\n",
       "recent_response_count            int64\n",
       "recent_card_response_count       int64\n",
       "months_since_last_prom_resp    float64\n",
       "lifetime_card_prom               int64\n",
       "lifetime_prom                    int64\n",
       "lifetime_gift_amount           float64\n",
       "lifetime_gift_count              int64\n",
       "lifetime_avg_gift_amt          float64\n",
       "lifetime_gift_range            float64\n",
       "lifetime_max_gift_amt          float64\n",
       "lifetime_min_gift_amt          float64\n",
       "last_gift_amt                  float64\n",
       "card_prom_12                     int64\n",
       "number_prom_12                   int64\n",
       "months_since_last_gift           int64\n",
       "months_since_first_gift          int64\n",
       "file_avg_gift                  float64\n",
       "file_card_gift                   int64\n",
       "dtype: object"
      ]
     },
     "execution_count": 87,
     "metadata": {},
     "output_type": "execute_result"
    }
   ],
   "source": [
    "df.dtypes"
   ]
  },
  {
   "cell_type": "code",
   "execution_count": 96,
   "metadata": {},
   "outputs": [],
   "source": [
    "df['donor_age'] = df['donor_age'].apply(int)\r\n",
    "df['income_group'] = df['income_group'].apply(int)\r\n",
    "df['cluster_code'] = df['cluster_code'].apply(int)\r\n",
    "df['wealth_rating'] = df['wealth_rating'].apply(int)\r\n",
    "df['ses'] = df['ses'].apply(int)\r\n",
    "df['months_since_last_prom_resp'] = df['months_since_last_prom_resp'].apply(int)"
   ]
  },
  {
   "cell_type": "code",
   "execution_count": 97,
   "metadata": {},
   "outputs": [
    {
     "data": {
      "text/plain": [
       "donated                          int64\n",
       "amount_donated                 float64\n",
       "control_number                   int64\n",
       "months_since_origin              int64\n",
       "donor_age                        int64\n",
       "in_house                         int64\n",
       "urbanicity                      object\n",
       "ses                              int64\n",
       "cluster_code                     int64\n",
       "home_owner                      object\n",
       "donor_gender                    object\n",
       "income_group                     int64\n",
       "published_phone                  int64\n",
       "overlay_source                  object\n",
       "mor_hit_rate                     int64\n",
       "wealth_rating                    int64\n",
       "median_home_value                int64\n",
       "median_household_income          int64\n",
       "pct_owner_occupied               int64\n",
       "per_capita_income                int64\n",
       "pct_attribute1                   int64\n",
       "pct_attribute2                   int64\n",
       "pct_attribute3                   int64\n",
       "pct_attribute4                   int64\n",
       "pep_star                         int64\n",
       "recent_star_status               int64\n",
       "recency_status_96nk             object\n",
       "frequency_status_97nk            int64\n",
       "recent_response_prop           float64\n",
       "recent_avg_gift_amt            float64\n",
       "recent_card_response_prop      float64\n",
       "recent_avg_card_gift_amt       float64\n",
       "recent_response_count            int64\n",
       "recent_card_response_count       int64\n",
       "months_since_last_prom_resp      int64\n",
       "lifetime_card_prom               int64\n",
       "lifetime_prom                    int64\n",
       "lifetime_gift_amount           float64\n",
       "lifetime_gift_count              int64\n",
       "lifetime_avg_gift_amt          float64\n",
       "lifetime_gift_range            float64\n",
       "lifetime_max_gift_amt          float64\n",
       "lifetime_min_gift_amt          float64\n",
       "last_gift_amt                  float64\n",
       "card_prom_12                     int64\n",
       "number_prom_12                   int64\n",
       "months_since_last_gift           int64\n",
       "months_since_first_gift          int64\n",
       "file_avg_gift                  float64\n",
       "file_card_gift                   int64\n",
       "dtype: object"
      ]
     },
     "execution_count": 97,
     "metadata": {},
     "output_type": "execute_result"
    }
   ],
   "source": [
    "df.dtypes"
   ]
  },
  {
   "cell_type": "code",
   "execution_count": 98,
   "metadata": {},
   "outputs": [
    {
     "data": {
      "text/html": [
       "<div>\n",
       "<style scoped>\n",
       "    .dataframe tbody tr th:only-of-type {\n",
       "        vertical-align: middle;\n",
       "    }\n",
       "\n",
       "    .dataframe tbody tr th {\n",
       "        vertical-align: top;\n",
       "    }\n",
       "\n",
       "    .dataframe thead th {\n",
       "        text-align: right;\n",
       "    }\n",
       "</style>\n",
       "<table border=\"1\" class=\"dataframe\">\n",
       "  <thead>\n",
       "    <tr style=\"text-align: right;\">\n",
       "      <th></th>\n",
       "      <th>donated</th>\n",
       "      <th>amount_donated</th>\n",
       "      <th>control_number</th>\n",
       "      <th>months_since_origin</th>\n",
       "      <th>donor_age</th>\n",
       "      <th>in_house</th>\n",
       "      <th>urbanicity</th>\n",
       "      <th>ses</th>\n",
       "      <th>cluster_code</th>\n",
       "      <th>home_owner</th>\n",
       "      <th>...</th>\n",
       "      <th>lifetime_gift_range</th>\n",
       "      <th>lifetime_max_gift_amt</th>\n",
       "      <th>lifetime_min_gift_amt</th>\n",
       "      <th>last_gift_amt</th>\n",
       "      <th>card_prom_12</th>\n",
       "      <th>number_prom_12</th>\n",
       "      <th>months_since_last_gift</th>\n",
       "      <th>months_since_first_gift</th>\n",
       "      <th>file_avg_gift</th>\n",
       "      <th>file_card_gift</th>\n",
       "    </tr>\n",
       "  </thead>\n",
       "  <tbody>\n",
       "    <tr>\n",
       "      <th>0</th>\n",
       "      <td>0</td>\n",
       "      <td>0.0</td>\n",
       "      <td>5</td>\n",
       "      <td>101</td>\n",
       "      <td>87</td>\n",
       "      <td>0</td>\n",
       "      <td>X</td>\n",
       "      <td>5</td>\n",
       "      <td>28</td>\n",
       "      <td>H</td>\n",
       "      <td>...</td>\n",
       "      <td>15.0</td>\n",
       "      <td>20.0</td>\n",
       "      <td>5.0</td>\n",
       "      <td>15.0</td>\n",
       "      <td>5</td>\n",
       "      <td>12</td>\n",
       "      <td>26</td>\n",
       "      <td>92</td>\n",
       "      <td>8.49</td>\n",
       "      <td>7</td>\n",
       "    </tr>\n",
       "    <tr>\n",
       "      <th>1</th>\n",
       "      <td>1</td>\n",
       "      <td>10.0</td>\n",
       "      <td>12</td>\n",
       "      <td>137</td>\n",
       "      <td>79</td>\n",
       "      <td>0</td>\n",
       "      <td>R</td>\n",
       "      <td>2</td>\n",
       "      <td>45</td>\n",
       "      <td>H</td>\n",
       "      <td>...</td>\n",
       "      <td>20.0</td>\n",
       "      <td>25.0</td>\n",
       "      <td>5.0</td>\n",
       "      <td>17.0</td>\n",
       "      <td>7</td>\n",
       "      <td>21</td>\n",
       "      <td>7</td>\n",
       "      <td>122</td>\n",
       "      <td>14.72</td>\n",
       "      <td>12</td>\n",
       "    </tr>\n",
       "    <tr>\n",
       "      <th>2</th>\n",
       "      <td>0</td>\n",
       "      <td>0.0</td>\n",
       "      <td>37</td>\n",
       "      <td>113</td>\n",
       "      <td>75</td>\n",
       "      <td>0</td>\n",
       "      <td>S</td>\n",
       "      <td>1</td>\n",
       "      <td>11</td>\n",
       "      <td>H</td>\n",
       "      <td>...</td>\n",
       "      <td>23.0</td>\n",
       "      <td>28.0</td>\n",
       "      <td>5.0</td>\n",
       "      <td>19.0</td>\n",
       "      <td>11</td>\n",
       "      <td>32</td>\n",
       "      <td>6</td>\n",
       "      <td>105</td>\n",
       "      <td>16.75</td>\n",
       "      <td>16</td>\n",
       "    </tr>\n",
       "    <tr>\n",
       "      <th>3</th>\n",
       "      <td>0</td>\n",
       "      <td>0.0</td>\n",
       "      <td>38</td>\n",
       "      <td>92</td>\n",
       "      <td>60</td>\n",
       "      <td>0</td>\n",
       "      <td>U</td>\n",
       "      <td>2</td>\n",
       "      <td>4</td>\n",
       "      <td>H</td>\n",
       "      <td>...</td>\n",
       "      <td>14.0</td>\n",
       "      <td>17.0</td>\n",
       "      <td>3.0</td>\n",
       "      <td>15.0</td>\n",
       "      <td>11</td>\n",
       "      <td>33</td>\n",
       "      <td>6</td>\n",
       "      <td>92</td>\n",
       "      <td>11.76</td>\n",
       "      <td>12</td>\n",
       "    </tr>\n",
       "    <tr>\n",
       "      <th>4</th>\n",
       "      <td>0</td>\n",
       "      <td>0.0</td>\n",
       "      <td>41</td>\n",
       "      <td>101</td>\n",
       "      <td>74</td>\n",
       "      <td>0</td>\n",
       "      <td>R</td>\n",
       "      <td>2</td>\n",
       "      <td>49</td>\n",
       "      <td>U</td>\n",
       "      <td>...</td>\n",
       "      <td>20.0</td>\n",
       "      <td>25.0</td>\n",
       "      <td>5.0</td>\n",
       "      <td>25.0</td>\n",
       "      <td>6</td>\n",
       "      <td>19</td>\n",
       "      <td>18</td>\n",
       "      <td>92</td>\n",
       "      <td>8.83</td>\n",
       "      <td>3</td>\n",
       "    </tr>\n",
       "  </tbody>\n",
       "</table>\n",
       "<p>5 rows × 50 columns</p>\n",
       "</div>"
      ],
      "text/plain": [
       "   donated  amount_donated  control_number  months_since_origin  donor_age  \\\n",
       "0        0             0.0               5                  101         87   \n",
       "1        1            10.0              12                  137         79   \n",
       "2        0             0.0              37                  113         75   \n",
       "3        0             0.0              38                   92         60   \n",
       "4        0             0.0              41                  101         74   \n",
       "\n",
       "   in_house urbanicity  ses  cluster_code home_owner  ... lifetime_gift_range  \\\n",
       "0         0          X    5            28          H  ...                15.0   \n",
       "1         0          R    2            45          H  ...                20.0   \n",
       "2         0          S    1            11          H  ...                23.0   \n",
       "3         0          U    2             4          H  ...                14.0   \n",
       "4         0          R    2            49          U  ...                20.0   \n",
       "\n",
       "   lifetime_max_gift_amt  lifetime_min_gift_amt last_gift_amt  card_prom_12  \\\n",
       "0                   20.0                    5.0          15.0             5   \n",
       "1                   25.0                    5.0          17.0             7   \n",
       "2                   28.0                    5.0          19.0            11   \n",
       "3                   17.0                    3.0          15.0            11   \n",
       "4                   25.0                    5.0          25.0             6   \n",
       "\n",
       "   number_prom_12  months_since_last_gift  months_since_first_gift  \\\n",
       "0              12                      26                       92   \n",
       "1              21                       7                      122   \n",
       "2              32                       6                      105   \n",
       "3              33                       6                       92   \n",
       "4              19                      18                       92   \n",
       "\n",
       "   file_avg_gift  file_card_gift  \n",
       "0           8.49               7  \n",
       "1          14.72              12  \n",
       "2          16.75              16  \n",
       "3          11.76              12  \n",
       "4           8.83               3  \n",
       "\n",
       "[5 rows x 50 columns]"
      ]
     },
     "execution_count": 98,
     "metadata": {},
     "output_type": "execute_result"
    }
   ],
   "source": [
    "df.head()"
   ]
  },
  {
   "cell_type": "code",
   "execution_count": 99,
   "metadata": {},
   "outputs": [
    {
     "data": {
      "text/plain": [
       "donated                        0\n",
       "amount_donated                 0\n",
       "control_number                 0\n",
       "months_since_origin            0\n",
       "donor_age                      0\n",
       "in_house                       0\n",
       "urbanicity                     0\n",
       "ses                            0\n",
       "cluster_code                   0\n",
       "home_owner                     0\n",
       "donor_gender                   0\n",
       "income_group                   0\n",
       "published_phone                0\n",
       "overlay_source                 0\n",
       "mor_hit_rate                   0\n",
       "wealth_rating                  0\n",
       "median_home_value              0\n",
       "median_household_income        0\n",
       "pct_owner_occupied             0\n",
       "per_capita_income              0\n",
       "pct_attribute1                 0\n",
       "pct_attribute2                 0\n",
       "pct_attribute3                 0\n",
       "pct_attribute4                 0\n",
       "pep_star                       0\n",
       "recent_star_status             0\n",
       "recency_status_96nk            0\n",
       "frequency_status_97nk          0\n",
       "recent_response_prop           0\n",
       "recent_avg_gift_amt            0\n",
       "recent_card_response_prop      0\n",
       "recent_avg_card_gift_amt       0\n",
       "recent_response_count          0\n",
       "recent_card_response_count     0\n",
       "months_since_last_prom_resp    0\n",
       "lifetime_card_prom             0\n",
       "lifetime_prom                  0\n",
       "lifetime_gift_amount           0\n",
       "lifetime_gift_count            0\n",
       "lifetime_avg_gift_amt          0\n",
       "lifetime_gift_range            0\n",
       "lifetime_max_gift_amt          0\n",
       "lifetime_min_gift_amt          0\n",
       "last_gift_amt                  0\n",
       "card_prom_12                   0\n",
       "number_prom_12                 0\n",
       "months_since_last_gift         0\n",
       "months_since_first_gift        0\n",
       "file_avg_gift                  0\n",
       "file_card_gift                 0\n",
       "dtype: int64"
      ]
     },
     "execution_count": 99,
     "metadata": {},
     "output_type": "execute_result"
    }
   ],
   "source": [
    "df.isnull().sum()"
   ]
  },
  {
   "cell_type": "code",
   "execution_count": 100,
   "metadata": {},
   "outputs": [],
   "source": [
    "df_categorical = df.select_dtypes(include='object')"
   ]
  },
  {
   "cell_type": "code",
   "execution_count": 101,
   "metadata": {},
   "outputs": [
    {
     "data": {
      "text/html": [
       "<div>\n",
       "<style scoped>\n",
       "    .dataframe tbody tr th:only-of-type {\n",
       "        vertical-align: middle;\n",
       "    }\n",
       "\n",
       "    .dataframe tbody tr th {\n",
       "        vertical-align: top;\n",
       "    }\n",
       "\n",
       "    .dataframe thead th {\n",
       "        text-align: right;\n",
       "    }\n",
       "</style>\n",
       "<table border=\"1\" class=\"dataframe\">\n",
       "  <thead>\n",
       "    <tr style=\"text-align: right;\">\n",
       "      <th></th>\n",
       "      <th>urbanicity</th>\n",
       "      <th>home_owner</th>\n",
       "      <th>donor_gender</th>\n",
       "      <th>overlay_source</th>\n",
       "      <th>recency_status_96nk</th>\n",
       "    </tr>\n",
       "  </thead>\n",
       "  <tbody>\n",
       "    <tr>\n",
       "      <th>0</th>\n",
       "      <td>X</td>\n",
       "      <td>H</td>\n",
       "      <td>M</td>\n",
       "      <td>P</td>\n",
       "      <td>A</td>\n",
       "    </tr>\n",
       "    <tr>\n",
       "      <th>1</th>\n",
       "      <td>R</td>\n",
       "      <td>H</td>\n",
       "      <td>M</td>\n",
       "      <td>P</td>\n",
       "      <td>S</td>\n",
       "    </tr>\n",
       "    <tr>\n",
       "      <th>2</th>\n",
       "      <td>S</td>\n",
       "      <td>H</td>\n",
       "      <td>F</td>\n",
       "      <td>P</td>\n",
       "      <td>S</td>\n",
       "    </tr>\n",
       "    <tr>\n",
       "      <th>3</th>\n",
       "      <td>U</td>\n",
       "      <td>H</td>\n",
       "      <td>F</td>\n",
       "      <td>B</td>\n",
       "      <td>A</td>\n",
       "    </tr>\n",
       "    <tr>\n",
       "      <th>4</th>\n",
       "      <td>R</td>\n",
       "      <td>U</td>\n",
       "      <td>F</td>\n",
       "      <td>B</td>\n",
       "      <td>A</td>\n",
       "    </tr>\n",
       "  </tbody>\n",
       "</table>\n",
       "</div>"
      ],
      "text/plain": [
       "  urbanicity home_owner donor_gender overlay_source recency_status_96nk\n",
       "0          X          H            M              P                   A\n",
       "1          R          H            M              P                   S\n",
       "2          S          H            F              P                   S\n",
       "3          U          H            F              B                   A\n",
       "4          R          U            F              B                   A"
      ]
     },
     "execution_count": 101,
     "metadata": {},
     "output_type": "execute_result"
    }
   ],
   "source": [
    "df_categorical.head()"
   ]
  },
  {
   "cell_type": "code",
   "execution_count": 102,
   "metadata": {},
   "outputs": [],
   "source": [
    "df_numerical = df.select_dtypes(exclude='object')"
   ]
  },
  {
   "cell_type": "code",
   "execution_count": null,
   "metadata": {},
   "outputs": [],
   "source": [
    "df_numerical.head()"
   ]
  },
  {
   "cell_type": "code",
   "execution_count": null,
   "metadata": {},
   "outputs": [],
   "source": []
  }
 ],
 "metadata": {
  "interpreter": {
   "hash": "63fd5069d213b44bf678585dea6b12cceca9941eaf7f819626cde1f2670de90d"
  },
  "kernelspec": {
   "display_name": "Python 3.9.2 64-bit",
   "name": "python3"
  },
  "language_info": {
   "name": "python",
   "version": ""
  },
  "orig_nbformat": 4
 },
 "nbformat": 4,
 "nbformat_minor": 2
}