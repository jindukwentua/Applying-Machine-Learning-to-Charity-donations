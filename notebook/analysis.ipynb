{
 "cells": [
  {
   "cell_type": "code",
   "execution_count": null,
   "metadata": {},
   "outputs": [],
   "source": [
    "import pandas as pd\r\n",
    "import numpy as np\r\n",
    "import seaborn as sns\r\n",
    "import matplotlib.pyplot as plt \r\n",
    "%matplotlib inline"
   ]
  },
  {
   "cell_type": "code",
   "execution_count": null,
   "metadata": {},
   "outputs": [],
   "source": [
    "df = pd.read_csv('../data/donor_data.csv')"
   ]
  },
  {
   "cell_type": "code",
   "execution_count": null,
   "metadata": {},
   "outputs": [],
   "source": [
    "df.head()"
   ]
  },
  {
   "cell_type": "code",
   "execution_count": null,
   "metadata": {},
   "outputs": [],
   "source": [
    "##converting the upper case features to lower class to make my eda easier\r\n",
    "\r\n",
    "df.columns = df.columns.str.lower()"
   ]
  },
  {
   "cell_type": "code",
   "execution_count": null,
   "metadata": {},
   "outputs": [],
   "source": [
    "df.columns.to_list()"
   ]
  },
  {
   "cell_type": "markdown",
   "metadata": {},
   "source": [
    "# Data Cleaning and Exploratory Data Analysis"
   ]
  },
  {
   "cell_type": "code",
   "execution_count": null,
   "metadata": {},
   "outputs": [],
   "source": [
    "df.info()"
   ]
  },
  {
   "cell_type": "code",
   "execution_count": null,
   "metadata": {},
   "outputs": [],
   "source": [
    "df.describe().T"
   ]
  },
  {
   "cell_type": "code",
   "execution_count": null,
   "metadata": {},
   "outputs": [],
   "source": [
    "df.isnull().sum()"
   ]
  },
  {
   "cell_type": "code",
   "execution_count": null,
   "metadata": {},
   "outputs": [],
   "source": [
    "df['target_d'].value_counts()"
   ]
  },
  {
   "cell_type": "markdown",
   "metadata": {},
   "source": [
    "#### Looking at the missing values from the target_d column, it is observed that the values with nan are values from people who didn't donate. Rather that using nan, I will be substituing nan as 0 as those who didn't donate also gave $0 "
   ]
  },
  {
   "cell_type": "code",
   "execution_count": null,
   "metadata": {},
   "outputs": [],
   "source": [
    "df['target_d'] = df['target_d'].replace(np.nan, 0)"
   ]
  },
  {
   "cell_type": "code",
   "execution_count": null,
   "metadata": {},
   "outputs": [],
   "source": [
    "df.shape"
   ]
  },
  {
   "cell_type": "code",
   "execution_count": null,
   "metadata": {},
   "outputs": [],
   "source": [
    "# Checking for the number of unique values in each column\r\n",
    "# This is to check for consistency, uniformity and accuracy\r\n",
    "# A for loop has been used to print unique values for each column\r\n",
    "#\r\n",
    "for column in df.columns:\r\n",
    "  print(column)\r\n",
    "  print(df[column].nunique())\r\n",
    "  print(df[column].unique())\r\n",
    "  print('\\n')"
   ]
  },
  {
   "cell_type": "markdown",
   "metadata": {},
   "source": [
    "### Observations\r\n",
    "* Age has a value with zero(0) which isn't right\r\n",
    "* The Overlay column is meant to take 3 values; M=Metromail; P=Polk; B=Both. But it takes 4 values with the fourth value (4th) value being \"n\". I am going to assume this was a mistake and replace n with the value n\r\n",
    "* Cluster code has a value with \".\". This will be replaced with the most apporopriate method\r\n",
    "* Donor Gender takes 4 values. Male, Female, Unknown and A. I am assuming the A value is a mistake as it takes one (1) value. It will be replaced appropriately\r\n",
    "* \"?\" represents unknown wherever found\r\n"
   ]
  },
  {
   "cell_type": "code",
   "execution_count": null,
   "metadata": {},
   "outputs": [],
   "source": [
    "#Checking out the datatypes of the features\r\n",
    "df.info()\r\n",
    "\r\n",
    "print(\"\\n----------\\nCategorical variables values:\")\r\n",
    "#List values for categorical variables\r\n",
    "for name, values in df.iteritems():\r\n",
    "    if(values.dtype != np.float64 and values.dtype != np.int64):\r\n",
    "        print('{name}: {value}\\n'.format(name=name, value=values.unique()))"
   ]
  },
  {
   "cell_type": "code",
   "execution_count": null,
   "metadata": {},
   "outputs": [],
   "source": [
    "#rename TARGET_B AS Donated\r\n",
    "df.rename(columns={'target_b':'donated', 'target_d': 'amount_donated'}, inplace=True)"
   ]
  },
  {
   "cell_type": "code",
   "execution_count": null,
   "metadata": {},
   "outputs": [],
   "source": [
    "plt.figure(figsize=(6,6))\r\n",
    "sns.countplot(x='donated', data=df)\r\n",
    "\r\n",
    "df['donated'].value_counts()\r\n",
    "# From the data, we can see that non-donors outnumber actual donors at almost 3 to 1\r\n",
    "# From here we can see the amount of non-donors to donors in our dataset"
   ]
  },
  {
   "cell_type": "code",
   "execution_count": null,
   "metadata": {},
   "outputs": [],
   "source": [
    "sns.set(style=\"darkgrid\")\r\n",
    "plt.figure(figsize=(6,6))\r\n",
    "sns.countplot(x='donor_gender',\r\n",
    "              hue='donated',\r\n",
    "              data=df,\r\n",
    "             palette='Set1')\r\n",
    "plt.show()\r\n",
    "\r\n",
    "df['donor_gender'].value_counts()\r\n",
    "# This graph shows us that a significant portion of the male and females fall as non-donors"
   ]
  },
  {
   "cell_type": "code",
   "execution_count": null,
   "metadata": {},
   "outputs": [],
   "source": [
    "sns.set(style=\"darkgrid\")\r\n",
    "plt.figure(figsize=(6,6))\r\n",
    "sns.countplot(x='home_owner',\r\n",
    "              hue='donated',\r\n",
    "              data=df,\r\n",
    "             palette='Set1')\r\n",
    "plt.show()\r\n",
    "\r\n",
    "df['home_owner'].value_counts()\r\n",
    "# This graph shows us that home ownership is a strong indicator tthat someone will donate"
   ]
  },
  {
   "cell_type": "code",
   "execution_count": null,
   "metadata": {},
   "outputs": [],
   "source": [
    "df['donor_age'].plot.hist(figsize=(10,5))\r\n",
    "# This shows us that most of the donors fall betweeen the ages of 30 - 80 \r\n",
    "# This gives us valuable information o who to target based on age"
   ]
  },
  {
   "cell_type": "code",
   "execution_count": null,
   "metadata": {},
   "outputs": [],
   "source": [
    "sns.set(style=\"darkgrid\")\r\n",
    "plt.figure(figsize=(10,6))\r\n",
    "sns.countplot(x='income_group',\r\n",
    "              hue='donor_gender',\r\n",
    "              data=df,\r\n",
    "             palette='Set1')\r\n",
    "plt.show()\r\n",
    "# This graph shows us that across all income groups,females out earn the men. They will also make for a group to target"
   ]
  },
  {
   "cell_type": "code",
   "execution_count": null,
   "metadata": {},
   "outputs": [],
   "source": [
    "sns.set(style=\"darkgrid\")\r\n",
    "plt.figure(figsize=(10,6))\r\n",
    "sns.countplot(x='income_group',\r\n",
    "              hue='donated',\r\n",
    "              data=df,\r\n",
    "             palette='Set1')\r\n",
    "plt.show()\r\n",
    "df['income_group'].value_counts()"
   ]
  },
  {
   "cell_type": "markdown",
   "metadata": {},
   "source": [
    "#### It is interesting to see that the on the income group column, users with the income group of level 5 donate more than any other income group. Also level 5 income group users do not donate as much as other income groups. This could as a result of most users falling into income group of level 5"
   ]
  },
  {
   "cell_type": "code",
   "execution_count": null,
   "metadata": {},
   "outputs": [],
   "source": [
    "sns.set(style=\"darkgrid\")\r\n",
    "plt.figure(figsize=(6,6))\r\n",
    "sns.countplot(x='home_owner',\r\n",
    "              hue='donor_gender',\r\n",
    "              data=df,\r\n",
    "             palette='Set1')\r\n",
    "plt.show()\r\n",
    "df['home_owner'].value_counts()\r\n",
    "# We also observe that on average females own more homes than men"
   ]
  },
  {
   "cell_type": "code",
   "execution_count": null,
   "metadata": {},
   "outputs": [],
   "source": [
    "sns.set(style=\"darkgrid\")\r\n",
    "plt.figure(figsize=(6,6))\r\n",
    "sns.countplot(x='urbanicity',\r\n",
    "              hue='donated',\r\n",
    "              data=df,\r\n",
    "             palette='Set1')\r\n",
    "plt.show()\r\n",
    "\r\n",
    "df['urbanicity'].value_counts()\r\n",
    "# We observe that the users most likely to donate live in suburban areas. \r\n",
    "# This makes sense as most of this demographic fall between the older age brackets as seen before when we checked age of donors"
   ]
  },
  {
   "cell_type": "code",
   "execution_count": null,
   "metadata": {},
   "outputs": [],
   "source": [
    "sns.set(style=\"darkgrid\")\r\n",
    "plt.figure(figsize=(6,6))\r\n",
    "sns.countplot(x='ses',\r\n",
    "              hue='donated',\r\n",
    "              data=df,\r\n",
    "             palette='Set1')\r\n",
    "plt.show()\r\n",
    "\r\n",
    "df['ses'].value_counts()\r\n",
    "# This shows that most of the people likely to donate fall into the second social economic status bracket"
   ]
  },
  {
   "cell_type": "code",
   "execution_count": null,
   "metadata": {},
   "outputs": [],
   "source": [
    "df['lifetime_avg_gift_amt'].plot.hist(bins=5, figsize=(10,5))\r\n",
    "# This metric is to show us the average gift amount from donors. From the graph we can see the that this amount is close to a 100"
   ]
  },
  {
   "cell_type": "code",
   "execution_count": null,
   "metadata": {},
   "outputs": [],
   "source": [
    "df['lifetime_gift_amount'].plot.hist(bins=5, figsize=(10,5))\r\n",
    "# This metric is to show us the overall gift amount from donors. From the graph we can see the that this amount is close to a 100"
   ]
  },
  {
   "cell_type": "markdown",
   "metadata": {},
   "source": [
    "## Dealing with Missing Data and Miscellenous Data"
   ]
  },
  {
   "cell_type": "code",
   "execution_count": null,
   "metadata": {},
   "outputs": [],
   "source": [
    "df.isnull().sum()"
   ]
  },
  {
   "cell_type": "markdown",
   "metadata": {},
   "source": [
    "### The columns with missing data are\r\n",
    "* Donor Age\r\n",
    "* Income Group\r\n",
    "* Wealth Rating\r\n",
    "* Months since last prom Resp"
   ]
  },
  {
   "cell_type": "code",
   "execution_count": null,
   "metadata": {},
   "outputs": [],
   "source": [
    "# Checking the datatype of each column\r\n",
    "# Before filling missing values, the column dtypes should first be changed to their appriopriate datatype\r\n",
    "#\r\n",
    "df.dtypes"
   ]
  },
  {
   "cell_type": "code",
   "execution_count": null,
   "metadata": {},
   "outputs": [],
   "source": [
    "df.shape"
   ]
  },
  {
   "cell_type": "code",
   "execution_count": null,
   "metadata": {},
   "outputs": [],
   "source": [
    "df['donor_age'] = df['donor_age'].replace(0, np.nan)"
   ]
  },
  {
   "cell_type": "code",
   "execution_count": null,
   "metadata": {},
   "outputs": [],
   "source": [
    "df = df[df['donor_age']!=0] \r\n",
    "\r\n",
    "#removing the observations with zero (0) age values"
   ]
  },
  {
   "cell_type": "code",
   "execution_count": null,
   "metadata": {},
   "outputs": [],
   "source": [
    "# Checking for the number of unique values in each column\r\n",
    "# This is to check for consistency, uniformity and accuracy\r\n",
    "# A for loop has been used to print unique values for each column\r\n",
    "#\r\n",
    "for column in df.columns:\r\n",
    "  print(column)\r\n",
    "  print(df[column].nunique())\r\n",
    "  print(df[column].unique())\r\n",
    "  print('\\n')"
   ]
  },
  {
   "cell_type": "code",
   "execution_count": null,
   "metadata": {},
   "outputs": [],
   "source": [
    "df.shape"
   ]
  },
  {
   "cell_type": "code",
   "execution_count": null,
   "metadata": {},
   "outputs": [],
   "source": [
    "df.isnull().sum()"
   ]
  },
  {
   "cell_type": "code",
   "execution_count": null,
   "metadata": {},
   "outputs": [],
   "source": [
    "df['donor_age'].plot.hist(figsize=(10,5))"
   ]
  },
  {
   "cell_type": "markdown",
   "metadata": {},
   "source": [
    "- the data is left-skewed.\r\n",
    "- employ median to fill in missing data"
   ]
  },
  {
   "cell_type": "code",
   "execution_count": null,
   "metadata": {},
   "outputs": [],
   "source": [
    "# Replace using median\r\n",
    "median = df['donor_age'].median()"
   ]
  },
  {
   "cell_type": "code",
   "execution_count": null,
   "metadata": {},
   "outputs": [],
   "source": [
    "df['donor_age'].fillna(median, inplace=True)"
   ]
  },
  {
   "cell_type": "code",
   "execution_count": null,
   "metadata": {},
   "outputs": [],
   "source": [
    "df['donor_age'].plot.hist(figsize=(10,5))"
   ]
  },
  {
   "cell_type": "code",
   "execution_count": null,
   "metadata": {},
   "outputs": [],
   "source": [
    "df['income_group'].plot.hist(figsize=(10,5))"
   ]
  },
  {
   "cell_type": "code",
   "execution_count": null,
   "metadata": {},
   "outputs": [],
   "source": []
  }
 ],
 "metadata": {
  "interpreter": {
   "hash": "63fd5069d213b44bf678585dea6b12cceca9941eaf7f819626cde1f2670de90d"
  },
  "kernelspec": {
   "display_name": "Python 3.9.2 64-bit",
   "name": "python3"
  },
  "language_info": {
   "codemirror_mode": {
    "name": "ipython",
    "version": 3
   },
   "file_extension": ".py",
   "mimetype": "text/x-python",
   "name": "python",
   "nbconvert_exporter": "python",
   "pygments_lexer": "ipython3",
   "version": "3.8.5"
  },
  "orig_nbformat": 4
 },
 "nbformat": 4,
 "nbformat_minor": 2
}