{
 "cells": [
  {
   "cell_type": "code",
   "execution_count": null,
   "source": [
    "import pandas as pd\r\n",
    "import numpy as np\r\n",
    "import seaborn as sns\r\n",
    "import matplotlib.pyplot as plt\r\n",
    "%matplotlib inline"
   ],
   "outputs": [],
   "metadata": {}
  },
  {
   "cell_type": "code",
   "execution_count": null,
   "source": [
    "train_data = pd.read_csv('../data/donor_data.csv')\r\n",
    "test_data = pd.read_csv('../data/prospective_data.csv')"
   ],
   "outputs": [],
   "metadata": {}
  },
  {
   "cell_type": "code",
   "execution_count": null,
   "source": [
    "train_data.head()"
   ],
   "outputs": [],
   "metadata": {}
  },
  {
   "cell_type": "code",
   "execution_count": null,
   "source": [
    "test_data.head()"
   ],
   "outputs": [],
   "metadata": {}
  },
  {
   "cell_type": "code",
   "execution_count": null,
   "source": [
    "##converting the upper case features to lower class to make my eda easier\r\n",
    "\r\n",
    "train_data.columns = train_data.columns.str.lower()\r\n",
    "test_data.columns = test_data.columns.str.lower()"
   ],
   "outputs": [],
   "metadata": {}
  },
  {
   "cell_type": "code",
   "execution_count": null,
   "source": [
    "train_data.columns.to_list()\r\n"
   ],
   "outputs": [],
   "metadata": {}
  },
  {
   "cell_type": "code",
   "execution_count": null,
   "source": [
    "test_data.columns.to_list()"
   ],
   "outputs": [],
   "metadata": {}
  },
  {
   "cell_type": "markdown",
   "source": [
    "# Data Cleaning and Exploratory Data Analysis"
   ],
   "metadata": {}
  },
  {
   "cell_type": "code",
   "execution_count": null,
   "source": [
    "train_data.info()"
   ],
   "outputs": [],
   "metadata": {}
  },
  {
   "cell_type": "code",
   "execution_count": null,
   "source": [
    "test_data.info()"
   ],
   "outputs": [],
   "metadata": {}
  },
  {
   "cell_type": "code",
   "execution_count": null,
   "source": [
    "train_data.describe().T"
   ],
   "outputs": [],
   "metadata": {}
  },
  {
   "cell_type": "code",
   "execution_count": null,
   "source": [
    "test_data.describe().T"
   ],
   "outputs": [],
   "metadata": {}
  },
  {
   "cell_type": "code",
   "execution_count": null,
   "source": [
    "train_data.isnull().sum()"
   ],
   "outputs": [],
   "metadata": {}
  },
  {
   "cell_type": "code",
   "execution_count": null,
   "source": [
    "test_data.isnull().sum()"
   ],
   "outputs": [],
   "metadata": {}
  },
  {
   "cell_type": "code",
   "execution_count": null,
   "source": [
    "train_data['target_d'].value_counts()"
   ],
   "outputs": [],
   "metadata": {}
  },
  {
   "cell_type": "markdown",
   "source": [
    "#### Looking at the missing values from the target_d column, it is observed that the values with nan are values from people who didn't donate. Rather that using nan, I will be substituing nan as 0 as those who didn't donate also gave $0 "
   ],
   "metadata": {}
  },
  {
   "cell_type": "code",
   "execution_count": null,
   "source": [
    "train_data['target_d'] = train_data['target_d'].replace(np.nan, 0.00)"
   ],
   "outputs": [],
   "metadata": {}
  },
  {
   "cell_type": "code",
   "execution_count": null,
   "source": [
    "train_data.shape"
   ],
   "outputs": [],
   "metadata": {}
  },
  {
   "cell_type": "code",
   "execution_count": null,
   "source": [
    "test_data.shape"
   ],
   "outputs": [],
   "metadata": {}
  },
  {
   "cell_type": "code",
   "execution_count": null,
   "source": [
    "# Checking for the number of unique values in each column\r\n",
    "# This is to check for consistency, uniformity and accuracy\r\n",
    "# A for loop has been used to print unique values for each column\r\n",
    "#\r\n",
    "for column in train_data.columns:\r\n",
    "  print(column)\r\n",
    "  print(train_data[column].nunique())\r\n",
    "  print(train_data[column].unique())\r\n",
    "  print('\\n')"
   ],
   "outputs": [],
   "metadata": {}
  },
  {
   "cell_type": "code",
   "execution_count": null,
   "source": [
    "# Checking for the number of unique values in each column\r\n",
    "# This is to check for consistency, uniformity and accuracy\r\n",
    "# A for loop has been used to print unique values for each column\r\n",
    "#\r\n",
    "for column in test_data.columns:\r\n",
    "  print(column)\r\n",
    "  print(test_data[column].nunique())\r\n",
    "  print(test_data[column].unique())\r\n",
    "  print('\\n')"
   ],
   "outputs": [],
   "metadata": {}
  },
  {
   "cell_type": "markdown",
   "source": [
    "### Observations\r\n",
    "* Age has a value with zero(0) which isn't right\r\n",
    "* The Overlay column is meant to take 3 values; M=Metromail; P=Polk; B=Both. But it takes 4 values with the fourth value (4th) value being \"n\". I am going to assume this was a mistake and replace n with the value n\r\n",
    "* Cluster code has a value with \".\". This will be replaced with the most apporopriate method\r\n",
    "* Donor Gender takes 4 values. Male, Female, Unknown and A. I am assuming the A value is a mistake as it takes one (1) value. It will be replaced appropriately\r\n",
    "* \"?\" represents unknown wherever found\r\n"
   ],
   "metadata": {}
  },
  {
   "cell_type": "markdown",
   "source": [
    "#### It is interesting to see that the on the income group column, users with the income group of level 5 donate more than any other income group. Also level 5 income group users do not donate as much as other income groups. This could as a result of most users falling into income group of level 5"
   ],
   "metadata": {}
  },
  {
   "cell_type": "code",
   "execution_count": null,
   "source": [
    "#rename TARGET_B AS Donated\r\n",
    "train_data.rename(columns={'target_b':'donated', 'target_d': 'amount_donated'}, inplace=True)"
   ],
   "outputs": [],
   "metadata": {}
  },
  {
   "cell_type": "markdown",
   "source": [
    "## Dealing with Missing Data and Miscellenous Data"
   ],
   "metadata": {}
  },
  {
   "cell_type": "code",
   "execution_count": null,
   "source": [
    "train_data.isnull().sum()"
   ],
   "outputs": [],
   "metadata": {}
  },
  {
   "cell_type": "code",
   "execution_count": null,
   "source": [
    "test_data.isnull().sum()"
   ],
   "outputs": [],
   "metadata": {}
  },
  {
   "cell_type": "markdown",
   "source": [
    "### The columns with missing data are\r\n",
    "* Donor Age\r\n",
    "* Income Group\r\n",
    "* Wealth Rating\r\n",
    "* Months since last prom Resp"
   ],
   "metadata": {}
  },
  {
   "cell_type": "code",
   "execution_count": null,
   "source": [
    "# Checking the datatype of each column\r\n",
    "# Before filling missing values, the column dtypes should first be changed to their appriopriate datatype\r\n",
    "#\r\n",
    "train_data.dtypes"
   ],
   "outputs": [],
   "metadata": {}
  },
  {
   "cell_type": "code",
   "execution_count": null,
   "source": [
    "# Checking the datatype of each column\r\n",
    "# Before filling missing values, the column dtypes should first be changed to their appriopriate datatype\r\n",
    "#\r\n",
    "test_data.dtypes"
   ],
   "outputs": [],
   "metadata": {}
  },
  {
   "cell_type": "code",
   "execution_count": null,
   "source": [
    "## Counting the number of unique ages of the donors, the minumum, maximum and mean age as well\r\n",
    "\r\n",
    "print('For the Train dataset')\r\n",
    "print('The number of unique age is :',train_data.donor_age.nunique())\r\n",
    "print('The minimum age is :',train_data.donor_age.min())\r\n",
    "print('The maximum age is :',train_data.donor_age.max())\r\n",
    "print('The mean age is :',train_data.donor_age.mean())"
   ],
   "outputs": [],
   "metadata": {}
  },
  {
   "cell_type": "markdown",
   "source": [
    "#### There is a minimum age of 0 which makes no sense as there can't be anyone aged 0."
   ],
   "metadata": {}
  },
  {
   "cell_type": "code",
   "execution_count": null,
   "source": [
    "## Counting the number of unique ages of the donors, the minumum, maximum and mean age as well\r\n",
    "\r\n",
    "print('For the Test dataset')\r\n",
    "print('The number of unique age is :',test_data.donor_age.nunique())\r\n",
    "print('The minimum age is :',test_data.donor_age.min())\r\n",
    "print('The maximum age is :',test_data.donor_age.max())\r\n",
    "print('The mean age is :',test_data.donor_age.mean())"
   ],
   "outputs": [],
   "metadata": {}
  },
  {
   "cell_type": "markdown",
   "source": [
    "#### Replacing the age of 0 with NAN"
   ],
   "metadata": {}
  },
  {
   "cell_type": "code",
   "execution_count": null,
   "source": [
    "train_data['donor_age'] = train_data['donor_age'].replace(0, np.nan)"
   ],
   "outputs": [],
   "metadata": {}
  },
  {
   "cell_type": "code",
   "execution_count": null,
   "source": [
    "train_data.isnull().sum()"
   ],
   "outputs": [],
   "metadata": {}
  },
  {
   "cell_type": "markdown",
   "source": [
    "#### Visializing the donor age column"
   ],
   "metadata": {}
  },
  {
   "cell_type": "code",
   "execution_count": null,
   "source": [
    "train_data['donor_age'].plot.hist(figsize=(10,5))\r\n",
    "plt.xlabel(\"Donor's Age\")"
   ],
   "outputs": [],
   "metadata": {}
  },
  {
   "cell_type": "markdown",
   "source": [
    "- the data is left-skewed.\r\n",
    "- employ median to fill in missing data"
   ],
   "metadata": {}
  },
  {
   "cell_type": "markdown",
   "source": [
    "### Distribution Plot"
   ],
   "metadata": {}
  },
  {
   "cell_type": "markdown",
   "source": [
    "* We can visualize the distribution of the donor age"
   ],
   "metadata": {}
  },
  {
   "cell_type": "code",
   "execution_count": null,
   "source": [
    "fig = plt.figure(figsize=(10,10))\r\n",
    "sns.kdeplot(x = train_data.donor_age,shade = True)"
   ],
   "outputs": [],
   "metadata": {}
  },
  {
   "cell_type": "code",
   "execution_count": null,
   "source": [
    "test_data['donor_age'].plot.hist(figsize=(10,5))"
   ],
   "outputs": [],
   "metadata": {}
  },
  {
   "cell_type": "code",
   "execution_count": null,
   "source": [
    "fig = plt.figure(figsize=(20,10))\r\n",
    "sns.kdeplot(x = test_data.donor_age, shade = True)"
   ],
   "outputs": [],
   "metadata": {}
  },
  {
   "cell_type": "code",
   "execution_count": null,
   "source": [
    "train_donor_median_age = train_data.donor_age.median()\r\n",
    "test_donor_median_age = test_data.donor_age.median()\r\n",
    "\r\n",
    "print('The train median age is : ',train_donor_median_age)\r\n",
    "print('The test median age is : ',test_donor_median_age)\r\n",
    "\r\n",
    "# filling the missing values in train set with that of the train data\r\n",
    "train_data.donor_age = train_data.donor_age.fillna(value = train_donor_median_age)\r\n",
    "\r\n",
    "# filling the missing values in test set with that of the test data\r\n",
    "test_data.donor_age = test_data.donor_age.fillna(value = test_donor_median_age)"
   ],
   "outputs": [],
   "metadata": {}
  },
  {
   "cell_type": "markdown",
   "source": [
    "## Working on the missing values in the income group column"
   ],
   "metadata": {}
  },
  {
   "cell_type": "code",
   "execution_count": null,
   "source": [
    "fig = plt.figure(figsize=(10,10))\r\n",
    "sns.countplot(x = train_data.income_group)\r\n",
    "train_data.income_group.value_counts()"
   ],
   "outputs": [],
   "metadata": {}
  },
  {
   "cell_type": "code",
   "execution_count": null,
   "source": [
    "fig = plt.figure(figsize=(20,10))\r\n",
    "train_data.income_group.value_counts().plot(kind = 'pie', explode = [0.05]*7, cmap = 'Accent', autopct =  '%0.1f%%')\r\n",
    "plt.xlabel(\"Income group pie chart\")\r\n"
   ],
   "outputs": [],
   "metadata": {}
  },
  {
   "cell_type": "markdown",
   "source": [
    "* **filling the income_group values with the mode**"
   ],
   "metadata": {}
  },
  {
   "cell_type": "code",
   "execution_count": null,
   "source": [
    "train_income_group_mode = train_data.income_group.mode()[0]\r\n",
    "print('The mode for income_group  is : ',train_income_group_mode)\r\n",
    "train_data.income_group = train_data.income_group.fillna(value = train_income_group_mode)\r\n",
    "\r\n",
    "# filling the missing values in test set with that of the training data\r\n",
    "test_income_group_mode = test_data.income_group.mode()[0]\r\n",
    "print('The mode for income_group is : ',test_income_group_mode)\r\n",
    "test_data.income_group = test_data.income_group.fillna(value = test_income_group_mode)"
   ],
   "outputs": [],
   "metadata": {}
  },
  {
   "cell_type": "markdown",
   "source": [
    "## Working on the missing values in the Wealth Rating column"
   ],
   "metadata": {}
  },
  {
   "cell_type": "code",
   "execution_count": null,
   "source": [
    "fig = plt.figure(figsize=(20,10))\r\n",
    "sns.countplot(x = train_data.wealth_rating)\r\n",
    "train_data.wealth_rating.value_counts()\r\n",
    "plt.xlabel(\"Wealth Rating\")"
   ],
   "outputs": [],
   "metadata": {}
  },
  {
   "cell_type": "code",
   "execution_count": null,
   "source": [
    "fig = plt.figure(figsize=(20,10))\r\n",
    "train_data.wealth_rating.value_counts().plot(kind = 'pie',explode = [0.035]*10, cmap = 'Accent', autopct =  '%0.1f%%')\r\n",
    "plt.xlabel(\"Wealth Rating\")"
   ],
   "outputs": [],
   "metadata": {}
  },
  {
   "cell_type": "markdown",
   "source": [
    "* **filling the wealth rating column values with the median as the data is skewwed to the left**"
   ],
   "metadata": {}
  },
  {
   "cell_type": "code",
   "execution_count": null,
   "source": [
    "train_wealth_rating_median = train_data.wealth_rating.median()\r\n",
    "print('The median for wealth_rating  is : ',train_wealth_rating_median)\r\n",
    "train_data.wealth_rating = train_data.wealth_rating.fillna(value = train_wealth_rating_median)\r\n",
    "\r\n",
    "# filling the missing values in test set with that of the training data\r\n",
    "test_wealth_rating_median = test_data.wealth_rating.median()\r\n",
    "print('The median for wealth_rating is : ',test_wealth_rating_median)\r\n",
    "test_data.wealth_rating = test_data.wealth_rating.fillna(value = test_wealth_rating_median)"
   ],
   "outputs": [],
   "metadata": {}
  },
  {
   "cell_type": "markdown",
   "source": [
    "## Working on the missing values in the Month Since Last Prom Resp column"
   ],
   "metadata": {}
  },
  {
   "cell_type": "code",
   "execution_count": null,
   "source": [
    "train_data['months_since_last_prom_resp'].plot.hist(figsize=(10,5))"
   ],
   "outputs": [],
   "metadata": {}
  },
  {
   "cell_type": "code",
   "execution_count": null,
   "source": [
    "fig = plt.figure(figsize=(10,8))\r\n",
    "sns.kdeplot(x = train_data.months_since_last_prom_resp,shade = True)\r\n",
    "plt.xlabel(\"Months since last response\")"
   ],
   "outputs": [],
   "metadata": {}
  },
  {
   "cell_type": "markdown",
   "source": [
    "### it can be observed that the months since last prom response is left skewwed. This shall be filled using the median"
   ],
   "metadata": {}
  },
  {
   "cell_type": "code",
   "execution_count": null,
   "source": [
    "train_months_since_last_prom_resp_median = train_data.months_since_last_prom_resp.median()\r\n",
    "print('For the train data, the median for months_since_last_prom_resp  is : ',train_months_since_last_prom_resp_median)\r\n",
    "train_data.months_since_last_prom_resp = train_data.months_since_last_prom_resp.fillna(value = train_months_since_last_prom_resp_median)\r\n",
    "\r\n",
    "# filling the missing values in test set with that of the training data\r\n",
    "test_months_since_last_prom_resp_median = test_data.months_since_last_prom_resp.median()\r\n",
    "print('For the test data, the median for months_since_last_prom_resp is : ',test_months_since_last_prom_resp_median)\r\n",
    "test_data.months_since_last_prom_resp = test_data.months_since_last_prom_resp.fillna(value = test_months_since_last_prom_resp_median)"
   ],
   "outputs": [],
   "metadata": {}
  },
  {
   "cell_type": "markdown",
   "source": [
    "### Checking if there are still null values in the data set"
   ],
   "metadata": {}
  },
  {
   "cell_type": "code",
   "execution_count": null,
   "source": [
    "train_data.isnull().sum()"
   ],
   "outputs": [],
   "metadata": {}
  },
  {
   "cell_type": "code",
   "execution_count": null,
   "source": [
    "test_data.isnull().sum()"
   ],
   "outputs": [],
   "metadata": {}
  },
  {
   "cell_type": "markdown",
   "source": [
    "## Dealing with miscellaneous data"
   ],
   "metadata": {}
  },
  {
   "cell_type": "markdown",
   "source": [
    "#### Despite the fact that there are no \"missing\" values, there are some misellaneous values in the data set like '?' and   ' .'\r\n",
    "#### We will deal with them now"
   ],
   "metadata": {}
  },
  {
   "cell_type": "code",
   "execution_count": null,
   "source": [
    "# Checking for the number of unique values in each column\r\n",
    "# This is to check for consistency, uniformity and accuracy\r\n",
    "# A for loop has been used to print unique values for each column\r\n",
    "#\r\n",
    "for column in train_data.columns:\r\n",
    "  print(column)\r\n",
    "  print(train_data[column].nunique())\r\n",
    "  print(train_data[column].unique())\r\n",
    "  print('\\n')"
   ],
   "outputs": [],
   "metadata": {}
  },
  {
   "cell_type": "code",
   "execution_count": null,
   "source": [
    "# Checking for the number of unique values in each column\r\n",
    "# This is to check for consistency, uniformity and accuracy\r\n",
    "# A for loop has been used to print unique values for each column\r\n",
    "#\r\n",
    "for column in test_data.columns:\r\n",
    "  print(column)\r\n",
    "  print(test_data[column].nunique())\r\n",
    "  print(test_data[column].unique())\r\n",
    "  print('\\n')"
   ],
   "outputs": [],
   "metadata": {}
  },
  {
   "cell_type": "code",
   "execution_count": null,
   "source": [
    "train_data['urbanicity'].value_counts()"
   ],
   "outputs": [],
   "metadata": {}
  },
  {
   "cell_type": "code",
   "execution_count": null,
   "source": [
    "test_data['urbanicity'].value_counts()"
   ],
   "outputs": [],
   "metadata": {}
  },
  {
   "cell_type": "markdown",
   "source": [
    "### I will be replacing \"?\" with \"X\" in the urbanicity column. X denotes unknown here"
   ],
   "metadata": {}
  },
  {
   "cell_type": "code",
   "execution_count": null,
   "source": [
    "train_data[\"urbanicity\"] = train_data[\"urbanicity\"].replace(\"?\", \"X\")\r\n",
    "test_data[\"urbanicity\"] = test_data[\"urbanicity\"].replace(\"?\", \"X\")"
   ],
   "outputs": [],
   "metadata": {}
  },
  {
   "cell_type": "code",
   "execution_count": null,
   "source": [
    "train_data['urbanicity'].value_counts()"
   ],
   "outputs": [],
   "metadata": {}
  },
  {
   "cell_type": "code",
   "execution_count": null,
   "source": [
    "test_data['urbanicity'].value_counts()"
   ],
   "outputs": [],
   "metadata": {}
  },
  {
   "cell_type": "code",
   "execution_count": null,
   "source": [
    "train_data['ses'].value_counts()"
   ],
   "outputs": [],
   "metadata": {}
  },
  {
   "cell_type": "code",
   "execution_count": null,
   "source": [
    "test_data['ses'].value_counts()"
   ],
   "outputs": [],
   "metadata": {}
  },
  {
   "cell_type": "markdown",
   "source": [
    "### I will be replacing \"?\" with \"5\" in the ses column"
   ],
   "metadata": {}
  },
  {
   "cell_type": "code",
   "execution_count": null,
   "source": [
    "train_data['ses'] = train_data['ses'].replace(\"?\", 5)\r\n",
    "test_data['ses'] = test_data['ses'].replace(\"?\", 5)"
   ],
   "outputs": [],
   "metadata": {}
  },
  {
   "cell_type": "code",
   "execution_count": null,
   "source": [
    "train_data['ses'].value_counts()\r\n"
   ],
   "outputs": [],
   "metadata": {}
  },
  {
   "cell_type": "code",
   "execution_count": null,
   "source": [
    "test_data['ses'].value_counts()"
   ],
   "outputs": [],
   "metadata": {}
  },
  {
   "cell_type": "code",
   "execution_count": null,
   "source": [
    "train_data['donor_gender'].value_counts()"
   ],
   "outputs": [],
   "metadata": {}
  },
  {
   "cell_type": "code",
   "execution_count": null,
   "source": [
    "test_data['donor_gender'].value_counts()"
   ],
   "outputs": [],
   "metadata": {}
  },
  {
   "cell_type": "markdown",
   "source": [
    "#### I will be replacing the \"A\" column with Unknown \"U\" column as there are only 3 values in the donor gender"
   ],
   "metadata": {}
  },
  {
   "cell_type": "code",
   "execution_count": null,
   "source": [
    "train_data['donor_gender'] = train_data['donor_gender'].replace(\"A\", \"U\")"
   ],
   "outputs": [],
   "metadata": {}
  },
  {
   "cell_type": "code",
   "execution_count": null,
   "source": [
    "train_data['donor_gender'].value_counts()"
   ],
   "outputs": [],
   "metadata": {}
  },
  {
   "cell_type": "code",
   "execution_count": null,
   "source": [
    "train_data['overlay_source'].value_counts()"
   ],
   "outputs": [],
   "metadata": {}
  },
  {
   "cell_type": "code",
   "execution_count": null,
   "source": [
    "test_data['overlay_source'].value_counts()"
   ],
   "outputs": [],
   "metadata": {}
  },
  {
   "cell_type": "markdown",
   "source": [
    "#### I will be replacing the \"N\" column with Metromail; \"M\" column as there are only 3 values in the overlay Source column and \"N\" isn't in the data dictionary. I am assuming that users mistakenly filled \"N\" as against \"M\" as they as close to each other on the keyboard"
   ],
   "metadata": {}
  },
  {
   "cell_type": "code",
   "execution_count": null,
   "source": [
    "train_data['overlay_source'] = train_data['overlay_source'].replace(\"N\", \"M\")\r\n",
    "test_data['overlay_source'] = test_data['overlay_source'].replace(\"N\", \"M\")"
   ],
   "outputs": [],
   "metadata": {}
  },
  {
   "cell_type": "code",
   "execution_count": null,
   "source": [
    "train_data['overlay_source'].value_counts()"
   ],
   "outputs": [],
   "metadata": {}
  },
  {
   "cell_type": "code",
   "execution_count": null,
   "source": [
    "test_data['overlay_source'].value_counts()"
   ],
   "outputs": [],
   "metadata": {}
  },
  {
   "cell_type": "code",
   "execution_count": null,
   "source": [
    "train_data['cluster_code'].value_counts(ascending = False)"
   ],
   "outputs": [],
   "metadata": {}
  },
  {
   "cell_type": "code",
   "execution_count": null,
   "source": [
    "test_data['cluster_code'].value_counts(ascending = True)"
   ],
   "outputs": [],
   "metadata": {}
  },
  {
   "cell_type": "code",
   "execution_count": null,
   "source": [
    "train_data['cluster_code'] = train_data.cluster_code.replace(' .', 54)\r\n",
    "test_data['cluster_code'] = test_data.cluster_code.replace(' .', 54)"
   ],
   "outputs": [],
   "metadata": {}
  },
  {
   "cell_type": "code",
   "execution_count": null,
   "source": [
    "train_data.isnull().sum()"
   ],
   "outputs": [],
   "metadata": {}
  },
  {
   "cell_type": "code",
   "execution_count": null,
   "source": [
    "test_data.isnull().sum()"
   ],
   "outputs": [],
   "metadata": {}
  },
  {
   "cell_type": "code",
   "execution_count": null,
   "source": [
    "train_data.dtypes"
   ],
   "outputs": [],
   "metadata": {}
  },
  {
   "cell_type": "code",
   "execution_count": null,
   "source": [
    "test_data.dtypes"
   ],
   "outputs": [],
   "metadata": {}
  },
  {
   "cell_type": "markdown",
   "source": [
    "### Creating a function to handle dropped columns so I can call the function later on"
   ],
   "metadata": {}
  },
  {
   "cell_type": "markdown",
   "source": [
    " * **Donated is the target column for classification.**\r\n",
    "\r\n",
    " * **Amount Donated is the target column for regression**\r\n",
    " \r\n",
    " * **Amount Donated will be dropped for the classification task**\r\n",
    " * **Donated will be dropped for the regression task**\r\n",
    "\r\n",
    " "
   ],
   "metadata": {}
  },
  {
   "cell_type": "code",
   "execution_count": null,
   "source": [
    "def drop_column(column_name, data):\r\n",
    "    dropped_data = data.drop([column_name], axis = 1) \r\n",
    "    return dropped_data"
   ],
   "outputs": [],
   "metadata": {}
  },
  {
   "cell_type": "code",
   "execution_count": null,
   "source": [
    "reg_train_data = drop_column('donated',train_data)"
   ],
   "outputs": [],
   "metadata": {}
  },
  {
   "cell_type": "code",
   "execution_count": null,
   "source": [
    "reg_train_data.head()"
   ],
   "outputs": [],
   "metadata": {}
  },
  {
   "cell_type": "code",
   "execution_count": null,
   "source": [
    "train_data = drop_column('amount_donated',train_data)\r\n"
   ],
   "outputs": [],
   "metadata": {}
  },
  {
   "cell_type": "code",
   "execution_count": null,
   "source": [
    "train_data.head()"
   ],
   "outputs": [],
   "metadata": {}
  },
  {
   "cell_type": "markdown",
   "source": [
    "## Splitting the dataset to numerical and categorical columns for better analysis and visualization"
   ],
   "metadata": {}
  },
  {
   "cell_type": "code",
   "execution_count": null,
   "source": [
    "categorical_columns = []\r\n",
    "for col in train_data.columns:\r\n",
    "    unique_column =train_data[col].nunique()\r\n",
    "    if unique_column <=60 and col != 'donated':\r\n",
    "        categorical_columns.append(col)"
   ],
   "outputs": [],
   "metadata": {}
  },
  {
   "cell_type": "code",
   "execution_count": null,
   "source": [
    "print(categorical_columns)"
   ],
   "outputs": [],
   "metadata": {}
  },
  {
   "cell_type": "code",
   "execution_count": null,
   "source": [
    "numerical_columns = [x for x in train_data.columns if x not in categorical_columns ][1:]\r\n"
   ],
   "outputs": [],
   "metadata": {}
  },
  {
   "cell_type": "code",
   "execution_count": null,
   "source": [
    "print(numerical_columns)"
   ],
   "outputs": [],
   "metadata": {}
  },
  {
   "cell_type": "code",
   "execution_count": null,
   "source": [
    "print('There are %d categorical columns' %(len(categorical_columns)))\r\n",
    "print('There are %d numerical columns' %(len(numerical_columns)))"
   ],
   "outputs": [],
   "metadata": {}
  },
  {
   "cell_type": "code",
   "execution_count": null,
   "source": [
    "cat_data = train_data[categorical_columns]\r\n",
    "cat_data.head(10)"
   ],
   "outputs": [],
   "metadata": {}
  },
  {
   "cell_type": "markdown",
   "source": [
    "## Visualizations and Analysis"
   ],
   "metadata": {}
  },
  {
   "cell_type": "code",
   "execution_count": null,
   "source": [
    "plt.figure(figsize=(6,6))\r\n",
    "sns.countplot(x='donated', data=train_data)\r\n",
    "\r\n",
    "train_data['donated'].value_counts()\r\n",
    "plt.xlabel(\"Donations\")\r\n",
    "# From the data, we can see that non-donors outnumber actual donors at almost 3 to 1\r\n",
    "# From here we can see the amount of non-donors to donors in our dataset"
   ],
   "outputs": [],
   "metadata": {}
  },
  {
   "cell_type": "code",
   "execution_count": null,
   "source": [
    "fig = plt.figure(figsize=(7,7))\r\n",
    "ax = fig.subplots()\r\n",
    "pie_chart = train_data.donated.value_counts().plot(kind = 'pie',explode = [0.035]*2, cmap = 'icefire',autopct =  '%0.1f%%')\r\n",
    "plt.xlabel(\"Donations\")"
   ],
   "outputs": [],
   "metadata": {}
  },
  {
   "cell_type": "markdown",
   "source": [
    "### How does gender affect Donations?"
   ],
   "metadata": {}
  },
  {
   "cell_type": "code",
   "execution_count": null,
   "source": [
    "sns.set(style=\"darkgrid\")\r\n",
    "plt.figure(figsize=(6,6))\r\n",
    "sns.countplot(x='donor_gender',\r\n",
    "              hue='donated',\r\n",
    "              data=train_data,\r\n",
    "             palette='Set1')\r\n",
    "plt.show()\r\n",
    "\r\n",
    "train_data['donor_gender'].value_counts()\r\n",
    "plt.xlabel(\"Gender vs Donations\")\r\n",
    "# This graph shows us that a significant portion of the male and females fall as non-donors"
   ],
   "outputs": [],
   "metadata": {}
  },
  {
   "cell_type": "code",
   "execution_count": null,
   "source": [
    "fig = plt.figure(figsize=(20,10))\r\n",
    "ax = fig.subplots()\r\n",
    "pie_chart = train_data[train_data.donated == 1].donor_gender.value_counts().plot(kind = 'pie',explode = [0.035]*3,ax = ax,cmap = 'rainbow',autopct =  '%0.1f%%')\r\n",
    "plt.xlabel(\"Gender vs Donations\")"
   ],
   "outputs": [],
   "metadata": {}
  },
  {
   "cell_type": "markdown",
   "source": [
    "### It is observed that females donate more than other gender classes"
   ],
   "metadata": {}
  },
  {
   "cell_type": "code",
   "execution_count": null,
   "source": [],
   "outputs": [],
   "metadata": {}
  },
  {
   "cell_type": "markdown",
   "source": [
    "## How does having a home affect donations?"
   ],
   "metadata": {}
  },
  {
   "cell_type": "code",
   "execution_count": null,
   "source": [
    "sns.set(style=\"darkgrid\")\r\n",
    "plt.figure(figsize=(6,6))\r\n",
    "sns.countplot(x='home_owner',\r\n",
    "              hue='donated',\r\n",
    "              data=train_data,\r\n",
    "             palette='Set1')\r\n",
    "plt.show()\r\n",
    "\r\n",
    "train_data['home_owner'].value_counts()\r\n",
    "plt.xlabel(\"Home Ownership vs Donations\")\r\n",
    "# This graph shows us that home ownership is a strong indicator tthat someone will donate"
   ],
   "outputs": [],
   "metadata": {}
  },
  {
   "cell_type": "code",
   "execution_count": null,
   "source": [
    "fig = plt.figure(figsize=(20,10))\r\n",
    "ax = fig.subplots()\r\n",
    "pie_chart = train_data[train_data.donated == 1].home_owner.value_counts().plot(kind = 'pie',explode = [0.035]*2,ax = ax,cmap = 'rainbow',autopct =  '%0.1f%%')\r\n",
    "plt.xlabel(\"Home Ownership vs Donations\")"
   ],
   "outputs": [],
   "metadata": {}
  },
  {
   "cell_type": "markdown",
   "source": [
    "### It is observed that home owners donate more than non home owners"
   ],
   "metadata": {}
  },
  {
   "cell_type": "markdown",
   "source": [
    "### How does the in-house program affect people who donate?"
   ],
   "metadata": {}
  },
  {
   "cell_type": "code",
   "execution_count": null,
   "source": [
    "sns.set(style=\"darkgrid\")\r\n",
    "plt.figure(figsize=(6,6))\r\n",
    "sns.countplot(x='in_house',\r\n",
    "              hue='donated',\r\n",
    "              data=train_data,\r\n",
    "             palette='Set1')\r\n",
    "plt.show()\r\n",
    "\r\n",
    "train_data['in_house'].value_counts()\r\n",
    "plt.xlabel(\"In-house Program vs Donations\")\r\n",
    "# This graph shows us that home ownership is a strong indicator tthat someone will donate"
   ],
   "outputs": [],
   "metadata": {}
  },
  {
   "cell_type": "code",
   "execution_count": null,
   "source": [
    "fig = plt.figure(figsize=(20,10))\r\n",
    "ax = fig.subplots()\r\n",
    "pie_chart = train_data[train_data.donated == 1].in_house.value_counts().plot(kind = 'pie',explode = [0.035]*2,ax = ax,cmap = 'rainbow',autopct =  '%0.1f%%')\r\n",
    "plt.xlabel(\"In-house Program vs Donations\")"
   ],
   "outputs": [],
   "metadata": {}
  },
  {
   "cell_type": "markdown",
   "source": [
    "### Users who did not participate in the in-house program donated more"
   ],
   "metadata": {}
  },
  {
   "cell_type": "markdown",
   "source": [
    "## How does Urbanicity affect donations?"
   ],
   "metadata": {}
  },
  {
   "cell_type": "code",
   "execution_count": null,
   "source": [
    "sns.set(style=\"darkgrid\")\r\n",
    "plt.figure(figsize=(6,6))\r\n",
    "sns.countplot(x='urbanicity',\r\n",
    "              hue='donated',\r\n",
    "              data=train_data,\r\n",
    "             palette='Set1')\r\n",
    "plt.show()\r\n",
    "\r\n",
    "train_data['urbanicity'].value_counts()\r\n",
    "plt.xlabel(\"Urbanicity vs Donations\")\r\n",
    "# This graph shows us that home ownership is a strong indicator tthat someone will donate"
   ],
   "outputs": [],
   "metadata": {}
  },
  {
   "cell_type": "code",
   "execution_count": null,
   "source": [
    "fig = plt.figure(figsize=(20,10))\r\n",
    "ax = fig.subplots()\r\n",
    "pie_chart = train_data[train_data.donated == 1].urbanicity.value_counts().plot(kind = 'pie',explode = [0.035]*6,ax = ax,cmap = 'rainbow',autopct =  '%0.1f%%')\r\n",
    "plt.xlabel(\"Urbanicity vs Donations\")"
   ],
   "outputs": [],
   "metadata": {}
  },
  {
   "cell_type": "markdown",
   "source": [
    "### Users in surburban areas donate more than users in other classes"
   ],
   "metadata": {}
  },
  {
   "cell_type": "markdown",
   "source": [
    "## How does Social Economic Status affect donations?"
   ],
   "metadata": {}
  },
  {
   "cell_type": "code",
   "execution_count": null,
   "source": [
    "sns.set(style=\"darkgrid\")\r\n",
    "plt.figure(figsize=(6,6))\r\n",
    "sns.countplot(x='ses',\r\n",
    "              hue='donated',\r\n",
    "              data=train_data,\r\n",
    "             palette='Set1')\r\n",
    "plt.show()\r\n",
    "plt.xlabel(\"Social economic status vs Donations\")\r\n",
    "train_data['ses'].value_counts()\r\n",
    "# This graph shows us that home ownership is a strong indicator tthat someone will donate"
   ],
   "outputs": [],
   "metadata": {}
  },
  {
   "cell_type": "code",
   "execution_count": null,
   "source": [
    "fig = plt.figure(figsize=(20,10))\r\n",
    "ax = fig.subplots()\r\n",
    "pie_chart = train_data[train_data.donated == 1].ses.value_counts().plot(kind = 'pie',explode = [0.035]*5,ax = ax,cmap = 'rainbow',autopct =  '%0.1f%%')\r\n",
    "plt.xlabel(\"Social economic status vs Donations\")"
   ],
   "outputs": [],
   "metadata": {}
  },
  {
   "cell_type": "markdown",
   "source": [
    "### Users in the 2nd SES class donate more than other SES classes"
   ],
   "metadata": {}
  },
  {
   "cell_type": "markdown",
   "source": [
    "## Does income group affect donations?"
   ],
   "metadata": {}
  },
  {
   "cell_type": "code",
   "execution_count": null,
   "source": [
    "sns.set(style=\"darkgrid\")\r\n",
    "plt.figure(figsize=(10, 10))\r\n",
    "sns.countplot(x='income_group',\r\n",
    "              hue='donated',\r\n",
    "              data=train_data,\r\n",
    "             palette='Set1')\r\n",
    "plt.show()\r\n",
    "plt.xlabel(\"Income group vs Donations\")\r\n",
    "\r\n",
    "train_data['income_group'].value_counts()\r\n",
    "# This graph shows us that home ownership is a strong indicator tthat someone will donate"
   ],
   "outputs": [],
   "metadata": {}
  },
  {
   "cell_type": "code",
   "execution_count": null,
   "source": [
    "fig = plt.figure(figsize=(20,10))\r\n",
    "ax = fig.subplots()\r\n",
    "pie_chart = train_data[train_data.donated == 1].income_group.value_counts().plot(kind = 'pie',explode = [0.035]*7,ax = ax,cmap = 'rainbow',autopct =  '%0.1f%%')\r\n",
    "plt.xlabel(\"Income group vs Donations\")"
   ],
   "outputs": [],
   "metadata": {}
  },
  {
   "cell_type": "markdown",
   "source": [
    "### Users who belong to the 5th income group donate more than users in other income groups"
   ],
   "metadata": {}
  },
  {
   "cell_type": "markdown",
   "source": [
    "## Does publishing number affect donations?"
   ],
   "metadata": {}
  },
  {
   "cell_type": "code",
   "execution_count": null,
   "source": [
    "sns.set(style=\"darkgrid\")\r\n",
    "plt.figure(figsize=(10, 10))\r\n",
    "sns.countplot(x='published_phone',\r\n",
    "              hue='donated',\r\n",
    "              data=train_data,\r\n",
    "             palette='Set1')\r\n",
    "plt.show()\r\n",
    "plt.xlabel(\"Published phone vs Donations\")\r\n",
    "train_data['published_phone'].value_counts()\r\n",
    "# This graph shows us that home ownership is a strong indicator tthat someone will donate"
   ],
   "outputs": [],
   "metadata": {}
  },
  {
   "cell_type": "code",
   "execution_count": null,
   "source": [
    "fig = plt.figure(figsize=(20,10))\r\n",
    "ax = fig.subplots()\r\n",
    "pie_chart = train_data[train_data.donated == 1].published_phone.value_counts().plot(kind = 'pie',explode = [0.035]*2,ax = ax,cmap = 'rainbow',autopct =  '%0.1f%%')\r\n",
    "plt.xlabel(\"Published phone vs Donations\")"
   ],
   "outputs": [],
   "metadata": {}
  },
  {
   "cell_type": "markdown",
   "source": [
    "### There is litle difference on how publishing number affects donations"
   ],
   "metadata": {}
  },
  {
   "cell_type": "markdown",
   "source": [
    "### Does Overlay source affect donations?"
   ],
   "metadata": {}
  },
  {
   "cell_type": "code",
   "execution_count": null,
   "source": [
    "sns.set(style=\"darkgrid\")\r\n",
    "plt.figure(figsize=(10, 10))\r\n",
    "sns.countplot(x='overlay_source',\r\n",
    "              hue='donated',\r\n",
    "              data=train_data,\r\n",
    "             palette='Set1')\r\n",
    "plt.show()\r\n",
    "plt.xlabel(\"Overlay Source vs Donations\")\r\n",
    "train_data['overlay_source'].value_counts()\r\n",
    "# This graph shows us that home ownership is a strong indicator tthat someone will donate"
   ],
   "outputs": [],
   "metadata": {}
  },
  {
   "cell_type": "code",
   "execution_count": null,
   "source": [
    "fig = plt.figure(figsize=(20,10))\r\n",
    "ax = fig.subplots()\r\n",
    "pie_chart = train_data[train_data.donated == 1].overlay_source.value_counts().plot(kind = 'pie',explode = [0.035]*3,ax = ax,cmap = 'rainbow',autopct =  '%0.1f%%')\r\n",
    "plt.xlabel(\"Overlay Source vs Donations\")"
   ],
   "outputs": [],
   "metadata": {}
  },
  {
   "cell_type": "markdown",
   "source": [
    "### Users who use both Metromail and Polk donate more than other users"
   ],
   "metadata": {}
  },
  {
   "cell_type": "markdown",
   "source": [
    "## How does wealth rating affect donations?"
   ],
   "metadata": {}
  },
  {
   "cell_type": "code",
   "execution_count": null,
   "source": [
    "sns.set(style=\"darkgrid\")\r\n",
    "plt.figure(figsize=(10, 10))\r\n",
    "sns.countplot(x='wealth_rating',\r\n",
    "              hue='donated',\r\n",
    "              data=train_data,\r\n",
    "             palette='Set1')\r\n",
    "plt.show()\r\n",
    "plt.xlabel(\"Wealth Rating vs Donations\")\r\n",
    "train_data['wealth_rating'].value_counts()\r\n",
    "# This graph shows us that home ownership is a strong indicator tthat someone will donate"
   ],
   "outputs": [],
   "metadata": {}
  },
  {
   "cell_type": "code",
   "execution_count": null,
   "source": [
    "fig = plt.figure(figsize=(20,10))\r\n",
    "ax = fig.subplots()\r\n",
    "pie_chart = train_data[train_data.donated == 1].wealth_rating.value_counts().plot(kind = 'pie',explode = [0.035]*10,ax = ax,cmap = 'rainbow',autopct =  '%0.1f%%')\r\n",
    "plt.xlabel(\"Wealth Rating vs Donations\")"
   ],
   "outputs": [],
   "metadata": {}
  },
  {
   "cell_type": "markdown",
   "source": [
    "###"
   ],
   "metadata": {}
  },
  {
   "cell_type": "markdown",
   "source": [
    "### Users who belong to the 5th Wealth rating class donate more than other wealth rating class"
   ],
   "metadata": {}
  },
  {
   "cell_type": "markdown",
   "source": [
    "## How does Pep start affect donations?"
   ],
   "metadata": {}
  },
  {
   "cell_type": "code",
   "execution_count": null,
   "source": [
    "sns.set(style=\"darkgrid\")\r\n",
    "plt.figure(figsize=(10, 10))\r\n",
    "sns.countplot(x='pep_star',\r\n",
    "              hue='donated',\r\n",
    "              data=train_data,\r\n",
    "             palette='Set1')\r\n",
    "plt.show()\r\n",
    "plt.xlabel(\"Pep star vs Donations\")\r\n",
    "\r\n",
    "train_data['pep_star'].value_counts()\r\n",
    "# This graph shows us that home ownership is a strong indicator tthat someone will donate"
   ],
   "outputs": [],
   "metadata": {}
  },
  {
   "cell_type": "code",
   "execution_count": null,
   "source": [
    "fig = plt.figure(figsize=(20,10))\r\n",
    "ax = fig.subplots()\r\n",
    "pie_chart = train_data[train_data.donated == 1].pep_star.value_counts().plot(kind = 'pie',explode = [0.035]*2,ax = ax,cmap = 'rainbow',autopct =  '%0.1f%%')\r\n",
    "plt.xlabel(\"Pep star vs Donations\")"
   ],
   "outputs": [],
   "metadata": {}
  },
  {
   "cell_type": "markdown",
   "source": [
    "### Users who are part of the pep star class 1 donate more than the other pep star class"
   ],
   "metadata": {}
  },
  {
   "cell_type": "markdown",
   "source": [
    "## How does the recency status 96k affect donations?"
   ],
   "metadata": {}
  },
  {
   "cell_type": "code",
   "execution_count": null,
   "source": [
    "sns.set(style=\"darkgrid\")\r\n",
    "plt.figure(figsize=(10, 10))\r\n",
    "sns.countplot(x='recency_status_96nk',\r\n",
    "              hue='donated',\r\n",
    "              data=train_data,\r\n",
    "             palette='Set1')\r\n",
    "plt.show()\r\n",
    "plt.xlabel(\"Recency status vs Donations\")\r\n",
    "train_data['recency_status_96nk'].value_counts()\r\n",
    "# This graph shows us that home ownership is a strong indicator tthat someone will donate"
   ],
   "outputs": [],
   "metadata": {}
  },
  {
   "cell_type": "code",
   "execution_count": null,
   "source": [
    "fig = plt.figure(figsize=(20,10))\r\n",
    "ax = fig.subplots()\r\n",
    "pie_chart = train_data[train_data.donated == 1].recency_status_96nk.value_counts().plot(kind = 'pie',explode = [0.035]*6,ax = ax,cmap = 'rainbow',autopct =  '%0.1f%%')\r\n",
    "plt.xlabel(\"Recency status vs Donations\")"
   ],
   "outputs": [],
   "metadata": {}
  },
  {
   "cell_type": "markdown",
   "source": [
    "### Users who belong to the Class A of Recency Status 96k donate more than other users"
   ],
   "metadata": {}
  },
  {
   "cell_type": "markdown",
   "source": [
    "## How does Frequency status 97nk affect donations?"
   ],
   "metadata": {}
  },
  {
   "cell_type": "code",
   "execution_count": null,
   "source": [
    "sns.set(style=\"darkgrid\")\r\n",
    "plt.figure(figsize=(10, 10))\r\n",
    "sns.countplot(x='frequency_status_97nk',\r\n",
    "              hue='donated',\r\n",
    "              data=train_data,\r\n",
    "             palette='Set1')\r\n",
    "plt.show()\r\n",
    "plt.xlabel(\"Frequency status vs Donations\")\r\n",
    "train_data['frequency_status_97nk'].value_counts()\r\n",
    "# This graph shows us that home ownership is a strong indicator tthat someone will donate"
   ],
   "outputs": [],
   "metadata": {}
  },
  {
   "cell_type": "code",
   "execution_count": null,
   "source": [
    "fig = plt.figure(figsize=(20,10))\r\n",
    "ax = fig.subplots()\r\n",
    "pie_chart = train_data[train_data.donated == 1].frequency_status_97nk.value_counts().plot(kind = 'pie',explode = [0.035]*4,ax = ax,cmap = 'rainbow',autopct =  '%0.1f%%')\r\n",
    "plt.xlabel(\"Frequency status vs Donations\")"
   ],
   "outputs": [],
   "metadata": {}
  },
  {
   "cell_type": "markdown",
   "source": [
    "### Users who belong to class 1 of frequency_status_97nk donate more than other classes "
   ],
   "metadata": {}
  },
  {
   "cell_type": "markdown",
   "source": [
    "## How does Recent card response count affect donations?"
   ],
   "metadata": {}
  },
  {
   "cell_type": "code",
   "execution_count": null,
   "source": [
    "sns.set(style=\"darkgrid\")\r\n",
    "plt.figure(figsize=(10, 10))\r\n",
    "sns.countplot(x='recent_card_response_count',\r\n",
    "              hue='donated',\r\n",
    "              data=train_data,\r\n",
    "             palette='Set1')\r\n",
    "plt.show()\r\n",
    "plt.xlabel(\"Recent card response vs Donations\")\r\n",
    "train_data['recent_card_response_count'].value_counts()\r\n",
    "# This graph shows us that home ownership is a strong indicator tthat someone will donate"
   ],
   "outputs": [],
   "metadata": {}
  },
  {
   "cell_type": "code",
   "execution_count": null,
   "source": [
    "fig = plt.figure(figsize=(20,10))\r\n",
    "ax = fig.subplots()\r\n",
    "pie_chart = train_data[train_data.donated == 1].recent_card_response_count.value_counts().plot(kind = 'pie',explode = [0.035]*10,ax = ax,cmap = 'rainbow',autopct =  '%0.1f%%')\r\n",
    "plt.xlabel(\"Recent card response vs Donations\")"
   ],
   "outputs": [],
   "metadata": {}
  },
  {
   "cell_type": "markdown",
   "source": [
    "### Users who belong to class 1 of recent card response count donate more than other classes"
   ],
   "metadata": {}
  },
  {
   "cell_type": "markdown",
   "source": [
    "## How does Months since origin affect donations?"
   ],
   "metadata": {}
  },
  {
   "cell_type": "code",
   "execution_count": null,
   "source": [
    "sns.set(style=\"darkgrid\")\r\n",
    "plt.figure(figsize=(10, 10))\r\n",
    "sns.countplot(x='months_since_origin',\r\n",
    "              hue='donated',\r\n",
    "              data=train_data,\r\n",
    "             palette='Set1')\r\n",
    "plt.show()\r\n",
    "plt.xlabel(\"Month since origin vs Donations\")\r\n",
    "train_data['months_since_origin'].value_counts()\r\n",
    "# This graph shows us that home ownership is a strong indicator tthat someone will donate"
   ],
   "outputs": [],
   "metadata": {}
  },
  {
   "cell_type": "markdown",
   "source": [
    "## How does Cluster code affect donations?"
   ],
   "metadata": {}
  },
  {
   "cell_type": "code",
   "execution_count": null,
   "source": [
    "sns.set(style=\"darkgrid\")\r\n",
    "plt.figure(figsize=(10, 10))\r\n",
    "sns.countplot(x='cluster_code',\r\n",
    "              hue='donated',\r\n",
    "              data=train_data,\r\n",
    "             palette='Set1')\r\n",
    "plt.show()\r\n",
    "plt.xlabel(\"Cluster code vs Donations\")\r\n",
    "train_data['cluster_code'].value_counts()\r\n",
    "# This graph shows us that home ownership is a strong indicator tthat someone will donate"
   ],
   "outputs": [],
   "metadata": {}
  },
  {
   "cell_type": "code",
   "execution_count": null,
   "source": [
    "fig = plt.figure(figsize=(20,10))\r\n",
    "sns.histplot(x = train_data.cluster_code.astype(int), hue = train_data.donated, palette='rainbow')\r\n",
    "plt.xlabel(\"Cluster code vs Donations\")"
   ],
   "outputs": [],
   "metadata": {}
  },
  {
   "cell_type": "markdown",
   "source": [
    "## How does Recent star status affect donations?"
   ],
   "metadata": {}
  },
  {
   "cell_type": "code",
   "execution_count": null,
   "source": [
    "sns.set(style=\"darkgrid\")\r\n",
    "plt.figure(figsize=(10, 10))\r\n",
    "sns.countplot(x='recent_star_status',\r\n",
    "              hue='donated',\r\n",
    "              data=train_data,\r\n",
    "             palette='Set1')\r\n",
    "plt.show()\r\n",
    "plt.xlabel(\"Recent star status vs Donations\")\r\n",
    "train_data['recent_star_status'].value_counts()\r\n",
    "# This graph shows us that home ownership is a strong indicator tthat someone will donate"
   ],
   "outputs": [],
   "metadata": {}
  },
  {
   "cell_type": "markdown",
   "source": [
    "# Exploring Numerical variables"
   ],
   "metadata": {}
  },
  {
   "cell_type": "code",
   "execution_count": null,
   "source": [
    "train_data['donor_age'].plot.hist(figsize=(10,5))\r\n",
    "plt.xlabel(\"Donor Age\")\r\n",
    "# This shows us that most of the donors fall betweeen the ages of 30 - 80 \r\n",
    "# This gives us valuable information o who to target based on age\r\n"
   ],
   "outputs": [],
   "metadata": {}
  },
  {
   "cell_type": "code",
   "execution_count": null,
   "source": [
    "train_data['lifetime_avg_gift_amt'].plot.hist(bins=5, figsize=(10,5))\r\n",
    "plt.xlabel(\"Lifetime average gift amount\")\r\n",
    "# This metric is to show us the average gift amount from donors. From the graph we can see the that this amount is close to a 100"
   ],
   "outputs": [],
   "metadata": {}
  },
  {
   "cell_type": "code",
   "execution_count": null,
   "source": [
    "train_data['lifetime_gift_amount'].plot.hist(bins=5, figsize=(10,5))\r\n",
    "plt.xlabel(\"Lifetime gift amount\")\r\n",
    "# This metric is to show us the overall gift amount from donors. From the graph we can see the that this amount is close to a 100"
   ],
   "outputs": [],
   "metadata": {}
  },
  {
   "cell_type": "markdown",
   "source": [
    "## Violin plots"
   ],
   "metadata": {}
  },
  {
   "cell_type": "code",
   "execution_count": null,
   "source": [
    "# Plotting violin plots\r\n",
    "  #\r\n",
    "sns.catplot(x=\"donor_age\", y=\"donor_gender\",hue=\"donated\",col = 'home_owner', data=train_data,orient=\"h\", height=5, aspect=1, palette=\"rainbow\", kind=\"violin\", dodge=True, cut=0, bw=.2)\r\n",
    "plt.show()"
   ],
   "outputs": [],
   "metadata": {}
  },
  {
   "cell_type": "markdown",
   "source": [
    "## Bar charts"
   ],
   "metadata": {}
  },
  {
   "cell_type": "markdown",
   "source": [
    "*From the above chart we can make these observations;*\r\n",
    "\r\n",
    "\r\n",
    "*   The dataset is imbalanced, it has more users who didnt donate cases than users who donated\r\n",
    "*   More females donated than any other gender"
   ],
   "metadata": {}
  },
  {
   "cell_type": "markdown",
   "source": [
    "## Distribution of age per gender - Histograms"
   ],
   "metadata": {}
  },
  {
   "cell_type": "code",
   "execution_count": null,
   "source": [
    "# Plotting histogram to show distribution of age per gender\r\n",
    "# \r\n",
    "male = train_data.loc[train_data.donor_gender=='M', 'donor_age']    # Selecting only male datapoints in the donor age column\r\n",
    "female = train_data.loc[train_data.donor_gender=='F', 'donor_age']  # Selecting only female datapoints in the donor age column\r\n",
    "unknown = train_data.loc[train_data.donor_gender=='U', 'donor_age']  # Selecting only unknown datapoints in the donor age column\r\n",
    "\r\n",
    "# Creating a dictionary containing opacaticy and line width in a dictionary for efficiency\r\n",
    "#\r\n",
    "kwargs = dict(hist_kws={'alpha':.6}, kde_kws={'linewidth':2})\r\n",
    "\r\n",
    "# Plotting the histograms\r\n",
    "#\r\n",
    "plt.figure(figsize=(12,7), dpi= 80)\r\n",
    "sns.distplot(male, color=\"darkgreen\", label=\"Male\", **kwargs)\r\n",
    "sns.distplot(female, color=\"fuchsia\", label=\"Female\", **kwargs)\r\n",
    "sns.distplot(unknown, color=\"orange\", label=\"Unknown\", **kwargs)\r\n",
    "plt.title('Distribution of age per gender', fontsize = 14, color = 'purple')\r\n",
    "plt.xlabel('Age', fontsize = 13, color = 'purple')\r\n",
    "plt.ylabel('Frequency', fontsize = 13, color = 'purple')\r\n",
    "plt.legend()\r\n",
    "plt.show()"
   ],
   "outputs": [],
   "metadata": {}
  },
  {
   "cell_type": "markdown",
   "source": [
    "*From the above histogram, it can be deduced that both the ages of male, female and unknown are skewed to the left. This means that the median and mode are greater than the mean*"
   ],
   "metadata": {}
  },
  {
   "cell_type": "markdown",
   "source": [
    "## Distribution of amount donated per gender - Histograms"
   ],
   "metadata": {}
  },
  {
   "cell_type": "code",
   "execution_count": null,
   "source": [
    "# Plotting histogram to show distribution of age per gender\r\n",
    "# \r\n",
    "male = train_data.loc[train_data.donor_gender=='M', 'donated']    # Selecting only male datapoints in the amount donated column\r\n",
    "female = train_data.loc[train_data.donor_gender=='F', 'donated']  # Selecting only female datapoints in the amount donated column\r\n",
    "unknown = train_data.loc[train_data.donor_gender=='U', 'donated']  # Selecting only unknown datapoints in the amount donated column\r\n",
    "\r\n",
    "# Creating a dictionary containing opacaticy and line width in a dictionary for efficiency\r\n",
    "#\r\n",
    "kwargs = dict(hist_kws={'alpha':.6}, kde_kws={'linewidth':2})\r\n",
    "\r\n",
    "# Plotting the histograms\r\n",
    "#\r\n",
    "plt.figure(figsize=(12,7), dpi= 80)\r\n",
    "sns.distplot(male, color=\"darkgreen\", label=\"Male\", **kwargs)\r\n",
    "sns.distplot(female, color=\"red\", label=\"Female\", **kwargs)\r\n",
    "sns.distplot(unknown, color=\"yellow\", label=\"Unknown\", **kwargs)\r\n",
    "plt.title('Distribution of users who donated per gender', fontsize = 14, color = 'purple')\r\n",
    "plt.xlabel('Donated', fontsize = 13, color = 'purple')\r\n",
    "plt.ylabel('Frequency', fontsize = 13, color = 'purple')\r\n",
    "plt.legend()\r\n",
    "plt.show()"
   ],
   "outputs": [],
   "metadata": {}
  },
  {
   "cell_type": "code",
   "execution_count": null,
   "source": [
    "# Plotting histogram to show distribution of age per gender\r\n",
    "# \r\n",
    "male = train_data.loc[train_data.donor_gender=='M', 'amount_donated']    # Selecting only male datapoints in the amount donated column\r\n",
    "female = train_data.loc[train_data.donor_gender=='F', 'amount_donated']  # Selecting only female datapoints in the amount donated column\r\n",
    "unknown = train_data.loc[train_data.donor_gender=='U', 'amount_donated']  # Selecting only unknown datapoints in the amount donated column\r\n",
    "\r\n",
    "# Creating a dictionary containing opacaticy and line width in a dictionary for efficiency\r\n",
    "#\r\n",
    "kwargs = dict(hist_kws={'alpha':.6}, kde_kws={'linewidth':2})\r\n",
    "\r\n",
    "# Plotting the histograms\r\n",
    "#\r\n",
    "plt.figure(figsize=(12,7), dpi= 80)\r\n",
    "sns.distplot(male, color=\"darkgreen\", label=\"Male\", **kwargs)\r\n",
    "sns.distplot(female, color=\"red\", label=\"Female\", **kwargs)\r\n",
    "sns.distplot(unknown, color=\"yellow\", label=\"Unknown\", **kwargs)\r\n",
    "plt.title('Distribution of users who amount donated per gender', fontsize = 14, color = 'purple')\r\n",
    "plt.xlabel('amount donated', fontsize = 13, color = 'purple')\r\n",
    "plt.ylabel('Frequency', fontsize = 13, color = 'purple')\r\n",
    "plt.legend()\r\n",
    "plt.show()"
   ],
   "outputs": [],
   "metadata": {}
  },
  {
   "cell_type": "markdown",
   "source": [
    "*From the above histogram, it can be deduced that the amount donated by male, female and unknown are skewed to the right. This means that the median and mode are less than the mean*"
   ],
   "metadata": {}
  },
  {
   "cell_type": "markdown",
   "source": [
    "## Distribution of the months since origin per gender - Histograms"
   ],
   "metadata": {}
  },
  {
   "cell_type": "code",
   "execution_count": null,
   "source": [
    "# Plotting histogram to show distribution of age per gender\r\n",
    "# \r\n",
    "male = train_data.loc[train_data.donor_gender=='M', 'months_since_origin']    # Selecting only male datapoints in the months since origin column\r\n",
    "female = train_data.loc[train_data.donor_gender=='F', 'months_since_origin']  # Selecting only female datapoints in the months since origin column\r\n",
    "unknown = train_data.loc[train_data.donor_gender=='U', 'months_since_origin']  # Selecting only unknown datapoints in the months since origin column\r\n",
    "\r\n",
    "# Creating a dictionary containing opacaticy and line width in a dictionary for efficiency\r\n",
    "#\r\n",
    "kwargs = dict(hist_kws={'alpha':.6}, kde_kws={'linewidth':2})\r\n",
    "\r\n",
    "# Plotting the histograms\r\n",
    "#\r\n",
    "plt.figure(figsize=(12,7), dpi= 80)\r\n",
    "sns.distplot(male, color=\"darkgreen\", label=\"Male\", **kwargs)\r\n",
    "sns.distplot(female, color=\"red\", label=\"Female\", **kwargs)\r\n",
    "sns.distplot(unknown, color=\"yellow\", label=\"Unknown\", **kwargs)\r\n",
    "plt.title('Distribution of months since origin per gender', fontsize = 14, color = 'purple')\r\n",
    "plt.xlabel('Months since origin', fontsize = 13, color = 'purple')\r\n",
    "plt.ylabel('Frequency', fontsize = 13, color = 'purple')\r\n",
    "plt.legend()\r\n",
    "plt.show()"
   ],
   "outputs": [],
   "metadata": {}
  },
  {
   "cell_type": "markdown",
   "source": [
    "## Distribution of the median home value per gender - Histograms"
   ],
   "metadata": {}
  },
  {
   "cell_type": "code",
   "execution_count": null,
   "source": [
    "# Plotting histogram to show distribution of age per gender\r\n",
    "# \r\n",
    "male = train_data.loc[train_data.donor_gender=='M', 'median_home_value']    # Selecting only male datapoints in the Median Home Value column\r\n",
    "female = train_data.loc[train_data.donor_gender=='F', 'median_home_value']  # Selecting only female datapoints in the Median Home Value column\r\n",
    "unknown = train_data.loc[train_data.donor_gender=='U', 'median_home_value']  # Selecting only unknown datapoints in the Median Home Value column\r\n",
    "\r\n",
    "# Creating a dictionary containing opacaticy and line width in a dictionary for efficiency\r\n",
    "#\r\n",
    "kwargs = dict(hist_kws={'alpha':.6}, kde_kws={'linewidth':2})\r\n",
    "\r\n",
    "# Plotting the histograms\r\n",
    "#\r\n",
    "plt.figure(figsize=(12,7), dpi= 80)\r\n",
    "sns.distplot(male, color=\"darkgreen\", label=\"Male\", **kwargs)\r\n",
    "sns.distplot(female, color=\"red\", label=\"Female\", **kwargs)\r\n",
    "sns.distplot(unknown, color=\"yellow\", label=\"Unknown\", **kwargs)\r\n",
    "plt.title('Distribution of Median Home Value per gender', fontsize = 14, color = 'purple')\r\n",
    "plt.xlabel('Median Home Value', fontsize = 13, color = 'purple')\r\n",
    "plt.ylabel('Frequency', fontsize = 13, color = 'purple')\r\n",
    "plt.legend()\r\n",
    "plt.show()"
   ],
   "outputs": [],
   "metadata": {}
  },
  {
   "cell_type": "markdown",
   "source": [
    "*From the above histogram, it can be deduced that the median home value by male, female and unknown are skewed to the right. This means that the median and mode are less than the mean*"
   ],
   "metadata": {}
  },
  {
   "cell_type": "markdown",
   "source": [
    "## Distribution of the lifetime gift amount per gender - Histograms"
   ],
   "metadata": {}
  },
  {
   "cell_type": "code",
   "execution_count": null,
   "source": [
    "# Plotting histogram to show distribution of lifetime gift amount per gender\r\n",
    "# \r\n",
    "male = train_data.loc[train_data.donor_gender=='M', 'lifetime_gift_amount']    # Selecting only male datapoints in the lifetime gift amount column\r\n",
    "female = train_data.loc[train_data.donor_gender=='F', 'lifetime_gift_amount']  # Selecting only female datapoints in the lifetime gift amount column\r\n",
    "unknown = train_data.loc[train_data.donor_gender=='U', 'lifetime_gift_amount']  # Selecting only unknown datapoints in the lifetime gift amount column\r\n",
    "\r\n",
    "# Creating a dictionary containing opacaticy and line width in a dictionary for efficiency\r\n",
    "#\r\n",
    "kwargs = dict(hist_kws={'alpha':.6}, kde_kws={'linewidth':2})\r\n",
    "\r\n",
    "# Plotting the histograms\r\n",
    "#\r\n",
    "plt.figure(figsize=(12,7), dpi= 80)\r\n",
    "sns.distplot(male, color=\"darkgreen\", label=\"Male\", **kwargs)\r\n",
    "sns.distplot(female, color=\"red\", label=\"Female\", **kwargs)\r\n",
    "sns.distplot(unknown, color=\"yellow\", label=\"Unknown\", **kwargs)\r\n",
    "plt.title('Distribution of lifetime gift amount per gender', fontsize = 14, color = 'purple')\r\n",
    "plt.xlabel('lifetime gift amount', fontsize = 13, color = 'purple')\r\n",
    "plt.ylabel('Frequency', fontsize = 13, color = 'purple')\r\n",
    "plt.legend()\r\n",
    "plt.show()"
   ],
   "outputs": [],
   "metadata": {}
  },
  {
   "cell_type": "markdown",
   "source": [
    "*From the above histogram, it can be deduced that the lifetime gift amount by male, female and unknown are skewed to the right. This means that the median and mode are less than the mean*"
   ],
   "metadata": {}
  },
  {
   "cell_type": "markdown",
   "source": [
    "## Distribution of the last gift amount per gender - Histograms"
   ],
   "metadata": {}
  },
  {
   "cell_type": "code",
   "execution_count": null,
   "source": [
    "# Plotting histogram to show distribution of lifetime gift amount per gender\r\n",
    "# \r\n",
    "male = train_data.loc[train_data.donor_gender=='M', 'last_gift_amt']    # Selecting only male datapoints in the last gift amount column\r\n",
    "female = train_data.loc[train_data.donor_gender=='F', 'last_gift_amt']  # Selecting only female datapoints in the last gift amount column\r\n",
    "unknown = train_data.loc[train_data.donor_gender=='U', 'last_gift_amt']  # Selecting only unknown datapoints in the last gift amount column\r\n",
    "\r\n",
    "# Creating a dictionary containing opacaticy and line width in a dictionary for efficiency\r\n",
    "#\r\n",
    "kwargs = dict(hist_kws={'alpha':.6}, kde_kws={'linewidth':2})\r\n",
    "\r\n",
    "# Plotting the histograms\r\n",
    "#\r\n",
    "plt.figure(figsize=(12,7), dpi= 80)\r\n",
    "sns.distplot(male, color=\"darkgreen\", label=\"Male\", **kwargs)\r\n",
    "sns.distplot(female, color=\"red\", label=\"Female\", **kwargs)\r\n",
    "sns.distplot(unknown, color=\"yellow\", label=\"Unknown\", **kwargs)\r\n",
    "plt.title('Distribution of last gift amount per gender', fontsize = 14, color = 'purple')\r\n",
    "plt.xlabel('last gift amount', fontsize = 13, color = 'purple')\r\n",
    "plt.ylabel('Frequency', fontsize = 13, color = 'purple')\r\n",
    "plt.legend()\r\n",
    "plt.show()"
   ],
   "outputs": [],
   "metadata": {}
  },
  {
   "cell_type": "markdown",
   "source": [
    "*From the above histogram, it can be deduced that the median household income by male, female and unknown are skewed to the right. This means that the median and mode are less than the mean*"
   ],
   "metadata": {}
  },
  {
   "cell_type": "code",
   "execution_count": null,
   "source": [
    "# Plotting a heatmap to show correlations between variables\r\n",
    "#\r\n",
    "corr = train_data[['median_home_value', 'median_household_income', 'per_capita_income', 'recent_avg_gift_amt', 'lifetime_gift_amount', 'last_gift_amt']].corr()\r\n",
    "plt.figure(figsize = (13, 8))\r\n",
    "sns.heatmap(corr, cmap='RdYlGn', annot = True, center = 0)\r\n",
    "plt.title('Correlogram', fontsize = 15, color = 'darkgreen')\r\n",
    "plt.show()"
   ],
   "outputs": [],
   "metadata": {}
  },
  {
   "cell_type": "code",
   "execution_count": null,
   "source": [
    "train_data.head()"
   ],
   "outputs": [],
   "metadata": {}
  },
  {
   "cell_type": "code",
   "execution_count": null,
   "source": [
    "test_data.head(10)"
   ],
   "outputs": [],
   "metadata": {}
  },
  {
   "cell_type": "code",
   "execution_count": null,
   "source": [
    "train_data.describe().T"
   ],
   "outputs": [],
   "metadata": {}
  },
  {
   "cell_type": "code",
   "execution_count": null,
   "source": [
    "test_data.describe().T"
   ],
   "outputs": [],
   "metadata": {}
  },
  {
   "cell_type": "code",
   "execution_count": null,
   "source": [
    "train_data.to_csv('cleaned_train_data.csv', encoding = 'utf-8', index = True)\r\n",
    "test_data.to_csv('cleaned_test_data.csv', encoding = 'utf-8', index = True)\r\n",
    "reg_train_data.to_csv('cleaned_data_for_regression.csv', encoding = 'utf-8', index = True)"
   ],
   "outputs": [],
   "metadata": {}
  },
  {
   "cell_type": "code",
   "execution_count": null,
   "source": [],
   "outputs": [],
   "metadata": {}
  },
  {
   "cell_type": "code",
   "execution_count": null,
   "source": [],
   "outputs": [],
   "metadata": {}
  },
  {
   "cell_type": "code",
   "execution_count": null,
   "source": [],
   "outputs": [],
   "metadata": {}
  }
 ],
 "metadata": {
  "interpreter": {
   "hash": "8eb07b4d783c51f574b3398e25d662e9253b789236e8fa3b76d1d4089bc7b5f6"
  },
  "kernelspec": {
   "name": "python3",
   "display_name": "Python 3.8.5 64-bit ('base': conda)"
  },
  "language_info": {
   "codemirror_mode": {
    "name": "ipython",
    "version": 3
   },
   "file_extension": ".py",
   "mimetype": "text/x-python",
   "name": "python",
   "nbconvert_exporter": "python",
   "pygments_lexer": "ipython3",
   "version": "3.8.5"
  },
  "orig_nbformat": 4
 },
 "nbformat": 4,
 "nbformat_minor": 2
}